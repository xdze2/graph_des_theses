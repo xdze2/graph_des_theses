{
 "cells": [
  {
   "cell_type": "code",
   "execution_count": 44,
   "metadata": {},
   "outputs": [],
   "source": [
    "import(Plots)"
   ]
  },
  {
   "cell_type": "code",
   "execution_count": 45,
   "metadata": {},
   "outputs": [],
   "source": [
    "# Graph the graph\n",
    "function graphplot(graph, chains)\n",
    "    fig = Plots.plot(legend=false, aspect_ratio=:equal)\n",
    "    #scatter!(coords[:, 1], coords[:, 2], linewidth=2)\n",
    "    for chain in chains\n",
    "        chain_xy = map(x -> graph[x].position, chain);\n",
    "        x = getindex.(chain_xy, 1)\n",
    "        y = getindex.(chain_xy, 2)\n",
    "        Plots.plot!(x, y, linewidth=3)\n",
    "        #println(coords[idx, 1])\n",
    "        end;\n",
    "    fig\n",
    "    end;"
   ]
  },
  {
   "cell_type": "code",
   "execution_count": 12,
   "metadata": {},
   "outputs": [
    {
     "data": {
      "text/plain": [
       "repulsive_Coulomb_gradient (generic function with 1 method)"
      ]
     },
     "execution_count": 12,
     "metadata": {},
     "output_type": "execute_result"
    }
   ],
   "source": [
    "## Force Layout \n",
    "const EPSILON = 1e-7\n",
    "\n",
    "# Spring (+2 power)\n",
    "function spring_energy(u, v)\n",
    "    return (u^2 + v^2)\n",
    "    end;\n",
    "function spring_gradient(u, v)\n",
    "    return (2*u, 2*v)\n",
    "    end;\n",
    "\n",
    "# Electric  (-2 power)\n",
    "function repulsive_Coulomb_energy(u, v)\n",
    "    return 1/(u^2 + v^2 + EPSILON)\n",
    "    end;\n",
    "function repulsive_Coulomb_gradient(u, v)\n",
    "    d4 = (u^2 + v^2 + EPSILON)^2\n",
    "    return (-2*u/d4, -2*v/d4)\n",
    "    end;\n",
    "\n",
    "# Inverse distance (-1 power)\n",
    "function inverse_dist_energy(u, v)\n",
    "    return 1/sqrt(u^2 + v^2 + EPSILON)\n",
    "    end;\n",
    "\n",
    "function inverse_dist_gradient(u, v)\n",
    "    d3 = sqrt(u^2 + v^2 + EPSILON)^3\n",
    "    return (-u/d3, -4*v/d3)\n",
    "    end;\n",
    "\n",
    "# The (attraction,repulsion)-model of ForceAtlas (1,-1)\n",
    "# has an intermediate position between Noack’s LinLog (0,-1)\n",
    "# and the algorithm of Fruchterman and Rheingold (2,-1),\n",
    "# https://journals.plos.org/plosone/article/file?id=10.1371/journal.pone.0098679&type=printable\n",
    "\n",
    "attractive_energy = spring_energy\n",
    "attractive_gradient = spring_gradient\n",
    "repulsive_energy = repulsive_Coulomb_energy\n",
    "repulsive_gradient = repulsive_Coulomb_gradient"
   ]
  },
  {
   "cell_type": "code",
   "execution_count": 13,
   "metadata": {},
   "outputs": [],
   "source": [
    "using(BenchmarkTools)"
   ]
  },
  {
   "cell_type": "code",
   "execution_count": 14,
   "metadata": {},
   "outputs": [
    {
     "data": {
      "text/plain": [
       "Node"
      ]
     },
     "execution_count": 14,
     "metadata": {},
     "output_type": "execute_result"
    }
   ],
   "source": [
    "mutable struct Node\n",
    "    neighbors\n",
    "    position #::Union{Nothing, Tuple{Float64, Float64}}\n",
    "    velocity\n",
    "    force\n",
    "    energy\n",
    "    previous_position\n",
    "    previous_velocity\n",
    "    previous_force\n",
    "    previous_energy\n",
    "    end;\n",
    "\n",
    "Node() = Node([], nothing, nothing, nothing, nothing,\n",
    "                  nothing, nothing, nothing, nothing)"
   ]
  },
  {
   "cell_type": "code",
   "execution_count": 40,
   "metadata": {},
   "outputs": [],
   "source": [
    "function compute_force!(graph, node_name)\n",
    "    node = graph[node_name]\n",
    "    node.force = (.0, .0)\n",
    "    # Pairs and triplet\n",
    "    for (left, right) in node.neighbors\n",
    "        if ~isnothing(left) # and coords is not nothing (?) for partial graph\n",
    "            u_left = node.position .- graph[left].position\n",
    "            node.force = node.force .- attractive_gradient(u_left...)\n",
    "            end;\n",
    "        if ~isnothing(right)\n",
    "            u_right = node.position .- graph[right].position\n",
    "            node.force = node.force .- attractive_gradient(u_right...)\n",
    "            end;\n",
    "        if ~isnothing(left) && ~isnothing(right)\n",
    "            # moment \n",
    "            end;\n",
    "        end;\n",
    "\n",
    "    # All\n",
    "    for (name, other_node) in pairs(graph)\n",
    "        if name == node_name\n",
    "            continue\n",
    "        else\n",
    "            u = node.position .- other_node.position\n",
    "            node.force = node.force .- repulsive_Coulomb_gradient(u...)\n",
    "            end;\n",
    "        end;\n",
    "    end;"
   ]
  },
  {
   "cell_type": "code",
   "execution_count": 41,
   "metadata": {},
   "outputs": [],
   "source": [
    "function compute_all_force!(graph)\n",
    "    for node_name in keys(graph)\n",
    "        compute_force!(graph, node_name)\n",
    "        end;\n",
    "    end;"
   ]
  },
  {
   "cell_type": "code",
   "execution_count": 92,
   "metadata": {},
   "outputs": [],
   "source": [
    "# init graph data structure\n",
    "function create_graph(chains)\n",
    "    graph = Dict()\n",
    "    for chain in chains\n",
    "        node = get!(graph, chain[1], Node())\n",
    "        push!(node.neighbors, (nothing, chain[2]))\n",
    "\n",
    "        for k in 2:length(chain)-1\n",
    "            node = get!(graph, chain[k], Node())\n",
    "            push!(node.neighbors, (chain[k-1], chain[k+1]))\n",
    "            end;\n",
    "\n",
    "        node = get!(graph, chain[end], Node())\n",
    "        push!(node.neighbors, (chain[end-1], nothing))\n",
    "        end;\n",
    "\n",
    "    # init coordinates (on a circle)\n",
    "    N = length(graph)\n",
    "    radius = N/(2*pi)\n",
    "    delta_theta = 2*pi/N\n",
    "    for (k, node) in enumerate(values(graph))\n",
    "        theta = k*delta_theta\n",
    "        node.position = (radius*cos(theta), radius*sin(theta))\n",
    "        node.previous_position = node.position\n",
    "        node.velocity = (0.0, 0.0)\n",
    "        node.previous_velocity = (0.0, 0.0)\n",
    "        end;\n",
    "\n",
    "    compute_all_force!(graph)\n",
    "    \n",
    "    # init previous forces\n",
    "    for node in values(graph)\n",
    "        node.previous_force = node.force\n",
    "        end;\n",
    "    \n",
    "    return graph\n",
    "    end;"
   ]
  },
  {
   "cell_type": "code",
   "execution_count": 134,
   "metadata": {},
   "outputs": [],
   "source": [
    "# Velocity Verlet\n",
    "# http://students.iitk.ac.in/projects/wiki/lib/exe/fetch.php?media=2014as:verlet.pdf\n",
    "function velocity_verlet!(graph, dt)\n",
    "    dt2_2 = dt^2 / 2\n",
    "    \n",
    "    # positions\n",
    "    for node in values(graph)\n",
    "        node.position = node.position .+ (dt2_2).*node.force\n",
    "        node.previous_force = node.force\n",
    "        end;\n",
    "    \n",
    "    # forces\n",
    "    compute_all_force!(graph)\n",
    "\n",
    "    # velocities\n",
    "    for node in values(graph)\n",
    "        node.velocity = node.velocity .+ (node.force .+ node.previous_force).*(0.5dt)    \n",
    "        end;\n",
    "    \n",
    "    end;"
   ]
  },
  {
   "cell_type": "code",
   "execution_count": 129,
   "metadata": {},
   "outputs": [
    {
     "data": {
      "text/plain": [
       "unit_vector (generic function with 1 method)"
      ]
     },
     "execution_count": 129,
     "metadata": {},
     "output_type": "execute_result"
    }
   ],
   "source": [
    "dot(a, b) = sum(a .* b)\n",
    "norm(a) = sqrt(dot(a, a))\n",
    "unit_vector(a) = a./norm(a)"
   ]
  },
  {
   "cell_type": "code",
   "execution_count": 147,
   "metadata": {},
   "outputs": [],
   "source": [
    "# https://github.com/mauro3/Parameters.jl\n",
    "# import Pkg; Pkg.add(\"Parameters\")\n",
    "using Parameters"
   ]
  },
  {
   "cell_type": "code",
   "execution_count": 277,
   "metadata": {},
   "outputs": [
    {
     "data": {
      "text/plain": [
       "Fire"
      ]
     },
     "execution_count": 277,
     "metadata": {},
     "output_type": "execute_result"
    }
   ],
   "source": [
    "@with_kw mutable struct Fire\n",
    "    N_min = 5\n",
    "    f_inc = 1.1\n",
    "    f_dec = 0.5\n",
    "    alpha_start = 0.1\n",
    "    f_alpha = 0.99\n",
    "    dt_max = .5\n",
    "    # variable\n",
    "    dt = dt_max / 5.0\n",
    "    N = 0\n",
    "    alpha = alpha_start\n",
    "end"
   ]
  },
  {
   "cell_type": "code",
   "execution_count": 306,
   "metadata": {},
   "outputs": [],
   "source": [
    "# Fire minimization\n",
    "# Bitzek, Erik, et al. \"Structural relaxation made simple.\"\n",
    "# Physical review letters 97.17 (2006): 170201.\n",
    "\n",
    "function step!(graph, fire)\n",
    "    \n",
    "    # loop\n",
    "    velocity_verlet!(graph, fire.dt)\n",
    "\n",
    "    P = sum( dot(node.force, node.velocity) for node in values(graph) )\n",
    "\n",
    "    for node in values(graph)\n",
    "        hat_F = unit_vector(node.force)\n",
    "        v = node.velocity\n",
    "        node.velocity = (1 - fire.alpha).*v .+ (fire.alpha * norm(v)).*hat_F  \n",
    "        end;\n",
    "\n",
    "    if P > 0 && fire.N > fire.N_min\n",
    "        fire.dt = min(fire.f_inc*fire.dt, fire.dt_max)\n",
    "        fire.alpha = fire.alpha * fire.f_alpha\n",
    "        fire.N = 0\n",
    "    elseif P > 0\n",
    "        fire.N += 1\n",
    "        end;\n",
    "    \n",
    "    if P <= 0\n",
    "        fire.dt = fire.f_dec * fire.dt\n",
    "        fire.alpha = fire.alpha_start\n",
    "        foreach(node -> node.velocity = (0.0, 0.0), values(graph))\n",
    "        fire.N = 0\n",
    "        end;\n",
    "\n",
    "    end;"
   ]
  },
  {
   "cell_type": "code",
   "execution_count": 317,
   "metadata": {},
   "outputs": [
    {
     "data": {
      "text/plain": [
       "Dict{Any,Any} with 12 entries:\n",
       "  \"T\"   => Node(Any[(\"E\", \"ER\")], (1.65399, 0.95493), (0.0, 0.0), (-6.53263, -4…\n",
       "  \"C\"   => Node(Any[(\"B\", \"D\"), (nothing, \"re\")], (0.95493, 1.65399), (0.0, 0.0…\n",
       "  \"erz\" => Node(Any[(\"ER\", \"ZE\")], (1.16945e-16, 1.90986), (0.0, 0.0), (2.16493…\n",
       "  \"B\"   => Node(Any[(\"A\", \"C\")], (-0.95493, 1.65399), (0.0, 0.0), (2.96441, -5.…\n",
       "  \"ER\"  => Node(Any[(\"T\", \"erz\")], (-1.65399, 0.95493), (0.0, 0.0), (8.44249, 2…\n",
       "  \"re\"  => Node(Any[(\"C\", \"eze\")], (-1.90986, 2.3389e-16), (0.0, 0.0), (4.53071…\n",
       "  \"eze\" => Node(Any[(\"re\", nothing)], (-1.65399, -0.95493), (0.0, 0.0), (-1.993…\n",
       "  \"A\"   => Node(Any[(nothing, \"B\")], (-0.95493, -1.65399), (0.0, 0.0), (-0.8553…\n",
       "  \"D\"   => Node(Any[(\"C\", \"E\")], (-3.50835e-16, -1.90986), (0.0, 0.0), (3.81972…\n",
       "  \"E\"   => Node(Any[(\"D\", nothing), (\"R\", \"T\")], (0.95493, -1.65399), (0.0, 0.0…\n",
       "  \"ZE\"  => Node(Any[(\"erz\", nothing)], (1.65399, -0.95493), (0.0, 0.0), (-1.826…\n",
       "  \"R\"   => Node(Any[(nothing, \"E\")], (1.90986, -4.67781e-16), (0.0, 0.0), (-0.1…"
      ]
     },
     "execution_count": 317,
     "metadata": {},
     "output_type": "execute_result"
    }
   ],
   "source": [
    "# test graph\n",
    "chains = [[\"A\", \"B\", \"C\", \"D\", \"E\"],\n",
    "          [\"R\", \"E\", \"T\", \"ER\", \"erz\", \"ZE\"],\n",
    "          [\"C\", \"re\", \"eze\"]]\n",
    "\n",
    "graph = create_graph(chains)"
   ]
  },
  {
   "cell_type": "code",
   "execution_count": 318,
   "metadata": {},
   "outputs": [
    {
     "name": "stdout",
     "output_type": "stream",
     "text": [
      "dt 0.06\n",
      "alpha 0.1\n"
     ]
    }
   ],
   "source": [
    "# init\n",
    "fire = Fire(dt_max=.3)\n",
    "\n",
    "step!(graph, fire)\n",
    "println(\"dt \", fire.dt)\n",
    "println(\"alpha \", fire.alpha)"
   ]
  },
  {
   "cell_type": "code",
   "execution_count": 319,
   "metadata": {},
   "outputs": [],
   "source": [
    "step!(graph, fire)"
   ]
  },
  {
   "cell_type": "code",
   "execution_count": 320,
   "metadata": {},
   "outputs": [],
   "source": [
    "for k in 1:500\n",
    "    step!(graph, fire)\n",
    "end"
   ]
  },
  {
   "cell_type": "code",
   "execution_count": 321,
   "metadata": {},
   "outputs": [
    {
     "data": {
      "image/svg+xml": [
       "<?xml version=\"1.0\" encoding=\"utf-8\"?>\n",
       "<svg xmlns=\"http://www.w3.org/2000/svg\" xmlns:xlink=\"http://www.w3.org/1999/xlink\" width=\"600\" height=\"400\" viewBox=\"0 0 2400 1600\">\n",
       "<defs>\n",
       "  <clipPath id=\"clip5100\">\n",
       "    <rect x=\"0\" y=\"0\" width=\"2400\" height=\"1600\"/>\n",
       "  </clipPath>\n",
       "</defs>\n",
       "<path clip-path=\"url(#clip5100)\" d=\"\n",
       "M0 1600 L2400 1600 L2400 0 L0 0  Z\n",
       "  \" fill=\"#ffffff\" fill-rule=\"evenodd\" fill-opacity=\"1\"/>\n",
       "<defs>\n",
       "  <clipPath id=\"clip5101\">\n",
       "    <rect x=\"480\" y=\"0\" width=\"1681\" height=\"1600\"/>\n",
       "  </clipPath>\n",
       "</defs>\n",
       "<path clip-path=\"url(#clip5100)\" d=\"\n",
       "M141.865 1487.47 L2352.76 1487.47 L2352.76 47.2441 L141.865 47.2441  Z\n",
       "  \" fill=\"#ffffff\" fill-rule=\"evenodd\" fill-opacity=\"1\"/>\n",
       "<defs>\n",
       "  <clipPath id=\"clip5102\">\n",
       "    <rect x=\"141\" y=\"47\" width=\"2212\" height=\"1441\"/>\n",
       "  </clipPath>\n",
       "</defs>\n",
       "<polyline clip-path=\"url(#clip5102)\" style=\"stroke:#000000; stroke-width:2; stroke-opacity:0.1; fill:none\" points=\"\n",
       "  371.279,1487.47 371.279,47.2441 \n",
       "  \"/>\n",
       "<polyline clip-path=\"url(#clip5102)\" style=\"stroke:#000000; stroke-width:2; stroke-opacity:0.1; fill:none\" points=\"\n",
       "  840.756,1487.47 840.756,47.2441 \n",
       "  \"/>\n",
       "<polyline clip-path=\"url(#clip5102)\" style=\"stroke:#000000; stroke-width:2; stroke-opacity:0.1; fill:none\" points=\"\n",
       "  1310.23,1487.47 1310.23,47.2441 \n",
       "  \"/>\n",
       "<polyline clip-path=\"url(#clip5102)\" style=\"stroke:#000000; stroke-width:2; stroke-opacity:0.1; fill:none\" points=\"\n",
       "  1779.71,1487.47 1779.71,47.2441 \n",
       "  \"/>\n",
       "<polyline clip-path=\"url(#clip5102)\" style=\"stroke:#000000; stroke-width:2; stroke-opacity:0.1; fill:none\" points=\"\n",
       "  2249.19,1487.47 2249.19,47.2441 \n",
       "  \"/>\n",
       "<polyline clip-path=\"url(#clip5102)\" style=\"stroke:#000000; stroke-width:2; stroke-opacity:0.1; fill:none\" points=\"\n",
       "  141.865,1190.36 2352.76,1190.36 \n",
       "  \"/>\n",
       "<polyline clip-path=\"url(#clip5102)\" style=\"stroke:#000000; stroke-width:2; stroke-opacity:0.1; fill:none\" points=\"\n",
       "  141.865,814.777 2352.76,814.777 \n",
       "  \"/>\n",
       "<polyline clip-path=\"url(#clip5102)\" style=\"stroke:#000000; stroke-width:2; stroke-opacity:0.1; fill:none\" points=\"\n",
       "  141.865,439.195 2352.76,439.195 \n",
       "  \"/>\n",
       "<polyline clip-path=\"url(#clip5102)\" style=\"stroke:#000000; stroke-width:2; stroke-opacity:0.1; fill:none\" points=\"\n",
       "  141.865,63.6139 2352.76,63.6139 \n",
       "  \"/>\n",
       "<polyline clip-path=\"url(#clip5100)\" style=\"stroke:#000000; stroke-width:4; stroke-opacity:1; fill:none\" points=\"\n",
       "  141.865,1487.47 2352.76,1487.47 \n",
       "  \"/>\n",
       "<polyline clip-path=\"url(#clip5100)\" style=\"stroke:#000000; stroke-width:4; stroke-opacity:1; fill:none\" points=\"\n",
       "  141.865,1487.47 141.865,47.2441 \n",
       "  \"/>\n",
       "<polyline clip-path=\"url(#clip5100)\" style=\"stroke:#000000; stroke-width:4; stroke-opacity:1; fill:none\" points=\"\n",
       "  371.279,1487.47 371.279,1465.87 \n",
       "  \"/>\n",
       "<polyline clip-path=\"url(#clip5100)\" style=\"stroke:#000000; stroke-width:4; stroke-opacity:1; fill:none\" points=\"\n",
       "  840.756,1487.47 840.756,1465.87 \n",
       "  \"/>\n",
       "<polyline clip-path=\"url(#clip5100)\" style=\"stroke:#000000; stroke-width:4; stroke-opacity:1; fill:none\" points=\"\n",
       "  1310.23,1487.47 1310.23,1465.87 \n",
       "  \"/>\n",
       "<polyline clip-path=\"url(#clip5100)\" style=\"stroke:#000000; stroke-width:4; stroke-opacity:1; fill:none\" points=\"\n",
       "  1779.71,1487.47 1779.71,1465.87 \n",
       "  \"/>\n",
       "<polyline clip-path=\"url(#clip5100)\" style=\"stroke:#000000; stroke-width:4; stroke-opacity:1; fill:none\" points=\"\n",
       "  2249.19,1487.47 2249.19,1465.87 \n",
       "  \"/>\n",
       "<polyline clip-path=\"url(#clip5100)\" style=\"stroke:#000000; stroke-width:4; stroke-opacity:1; fill:none\" points=\"\n",
       "  141.865,1190.36 175.028,1190.36 \n",
       "  \"/>\n",
       "<polyline clip-path=\"url(#clip5100)\" style=\"stroke:#000000; stroke-width:4; stroke-opacity:1; fill:none\" points=\"\n",
       "  141.865,814.777 175.028,814.777 \n",
       "  \"/>\n",
       "<polyline clip-path=\"url(#clip5100)\" style=\"stroke:#000000; stroke-width:4; stroke-opacity:1; fill:none\" points=\"\n",
       "  141.865,439.195 175.028,439.195 \n",
       "  \"/>\n",
       "<polyline clip-path=\"url(#clip5100)\" style=\"stroke:#000000; stroke-width:4; stroke-opacity:1; fill:none\" points=\"\n",
       "  141.865,63.6139 175.028,63.6139 \n",
       "  \"/>\n",
       "<g clip-path=\"url(#clip5100)\">\n",
       "<text style=\"fill:#000000; fill-opacity:1; font-family:Arial,Helvetica Neue,Helvetica,sans-serif; font-size:48px; text-anchor:middle;\" transform=\"rotate(0, 371.279, 1541.47)\" x=\"371.279\" y=\"1541.47\">-5.0</text>\n",
       "</g>\n",
       "<g clip-path=\"url(#clip5100)\">\n",
       "<text style=\"fill:#000000; fill-opacity:1; font-family:Arial,Helvetica Neue,Helvetica,sans-serif; font-size:48px; text-anchor:middle;\" transform=\"rotate(0, 840.756, 1541.47)\" x=\"840.756\" y=\"1541.47\">-2.5</text>\n",
       "</g>\n",
       "<g clip-path=\"url(#clip5100)\">\n",
       "<text style=\"fill:#000000; fill-opacity:1; font-family:Arial,Helvetica Neue,Helvetica,sans-serif; font-size:48px; text-anchor:middle;\" transform=\"rotate(0, 1310.23, 1541.47)\" x=\"1310.23\" y=\"1541.47\">0.0</text>\n",
       "</g>\n",
       "<g clip-path=\"url(#clip5100)\">\n",
       "<text style=\"fill:#000000; fill-opacity:1; font-family:Arial,Helvetica Neue,Helvetica,sans-serif; font-size:48px; text-anchor:middle;\" transform=\"rotate(0, 1779.71, 1541.47)\" x=\"1779.71\" y=\"1541.47\">2.5</text>\n",
       "</g>\n",
       "<g clip-path=\"url(#clip5100)\">\n",
       "<text style=\"fill:#000000; fill-opacity:1; font-family:Arial,Helvetica Neue,Helvetica,sans-serif; font-size:48px; text-anchor:middle;\" transform=\"rotate(0, 2249.19, 1541.47)\" x=\"2249.19\" y=\"1541.47\">5.0</text>\n",
       "</g>\n",
       "<g clip-path=\"url(#clip5100)\">\n",
       "<text style=\"fill:#000000; fill-opacity:1; font-family:Arial,Helvetica Neue,Helvetica,sans-serif; font-size:48px; text-anchor:end;\" transform=\"rotate(0, 117.865, 1207.86)\" x=\"117.865\" y=\"1207.86\">-2</text>\n",
       "</g>\n",
       "<g clip-path=\"url(#clip5100)\">\n",
       "<text style=\"fill:#000000; fill-opacity:1; font-family:Arial,Helvetica Neue,Helvetica,sans-serif; font-size:48px; text-anchor:end;\" transform=\"rotate(0, 117.865, 832.277)\" x=\"117.865\" y=\"832.277\">0</text>\n",
       "</g>\n",
       "<g clip-path=\"url(#clip5100)\">\n",
       "<text style=\"fill:#000000; fill-opacity:1; font-family:Arial,Helvetica Neue,Helvetica,sans-serif; font-size:48px; text-anchor:end;\" transform=\"rotate(0, 117.865, 456.695)\" x=\"117.865\" y=\"456.695\">2</text>\n",
       "</g>\n",
       "<g clip-path=\"url(#clip5100)\">\n",
       "<text style=\"fill:#000000; fill-opacity:1; font-family:Arial,Helvetica Neue,Helvetica,sans-serif; font-size:48px; text-anchor:end;\" transform=\"rotate(0, 117.865, 81.1139)\" x=\"117.865\" y=\"81.1139\">4</text>\n",
       "</g>\n",
       "<polyline clip-path=\"url(#clip5102)\" style=\"stroke:#009af9; stroke-width:12; stroke-opacity:1; fill:none\" points=\"\n",
       "  968.818,1446.71 1018.82,1254.22 1061.88,1040.73 1268.52,949.464 1475.69,860.811 \n",
       "  \"/>\n",
       "<polyline clip-path=\"url(#clip5102)\" style=\"stroke:#e26f46; stroke-width:12; stroke-opacity:1; fill:none\" points=\"\n",
       "  1629.73,997.816 1475.69,860.811 1560.2,656.43 1645.03,463.653 1721.06,272.617 1787.6,88.0053 \n",
       "  \"/>\n",
       "<polyline clip-path=\"url(#clip5102)\" style=\"stroke:#3da44d; stroke-width:12; stroke-opacity:1; fill:none\" points=\"\n",
       "  1061.88,1040.73 878.422,923.835 707.016,823.028 \n",
       "  \"/>\n",
       "</svg>\n"
      ]
     },
     "execution_count": 321,
     "metadata": {},
     "output_type": "execute_result"
    }
   ],
   "source": [
    "graphplot(graph, chains)"
   ]
  },
  {
   "cell_type": "code",
   "execution_count": 322,
   "metadata": {},
   "outputs": [
    {
     "data": {
      "text/plain": [
       "Fire\n",
       "  N_min: Int64 5\n",
       "  f_inc: Float64 1.1\n",
       "  f_dec: Float64 0.5\n",
       "  alpha_start: Float64 0.1\n",
       "  f_alpha: Float64 0.99\n",
       "  dt_max: Float64 0.3\n",
       "  dt: Float64 0.3\n",
       "  N: Int64 5\n",
       "  alpha: Float64 0.0489890273004205\n"
      ]
     },
     "execution_count": 322,
     "metadata": {},
     "output_type": "execute_result"
    }
   ],
   "source": [
    "fire"
   ]
  },
  {
   "cell_type": "code",
   "execution_count": null,
   "metadata": {},
   "outputs": [],
   "source": []
  }
 ],
 "metadata": {
  "kernelspec": {
   "display_name": "Julia 1.2.0",
   "language": "julia",
   "name": "julia-1.2"
  },
  "language_info": {
   "file_extension": ".jl",
   "mimetype": "application/julia",
   "name": "julia",
   "version": "1.2.0"
  }
 },
 "nbformat": 4,
 "nbformat_minor": 2
}
