{
 "cells": [
  {
   "cell_type": "markdown",
   "metadata": {},
   "source": [
    "# Graph layout\n",
    "\n",
    "- using Fire optimization alogorithm\n",
    "- Electric-spring force model\n",
    "- plus a three point bending force"
   ]
  },
  {
   "cell_type": "code",
   "execution_count": 7,
   "metadata": {},
   "outputs": [],
   "source": [
    "using(BenchmarkTools)"
   ]
  },
  {
   "cell_type": "code",
   "execution_count": 104,
   "metadata": {},
   "outputs": [],
   "source": [
    "import(Plots)"
   ]
  },
  {
   "cell_type": "code",
   "execution_count": 59,
   "metadata": {},
   "outputs": [],
   "source": [
    "import(JSON)"
   ]
  },
  {
   "cell_type": "code",
   "execution_count": 105,
   "metadata": {},
   "outputs": [],
   "source": [
    "# Graph the graph\n",
    "function graphplot(graph, chains)\n",
    "    fig = Plots.plot(legend=false, aspect_ratio=:equal)\n",
    "    #scatter!(coords[:, 1], coords[:, 2], linewidth=2)\n",
    "    for chain in chains\n",
    "        chain_xy = map(x -> graph[x].position, chain);\n",
    "        filter!(xy -> ~isnothing(xy), chain_xy)\n",
    "        if length(chain_xy) > 0\n",
    "            x = getindex.(chain_xy, 1)\n",
    "            y = getindex.(chain_xy, 2)\n",
    "            Plots.plot!(x, y, linewidth=3)\n",
    "            end;\n",
    "        #println(coords[idx, 1])\n",
    "        end;\n",
    "    fig\n",
    "    end;"
   ]
  },
  {
   "cell_type": "code",
   "execution_count": 217,
   "metadata": {},
   "outputs": [
    {
     "ename": "ErrorException",
     "evalue": "invalid redefinition of constant Node",
     "output_type": "error",
     "traceback": [
      "invalid redefinition of constant Node",
      "",
      "Stacktrace:",
      " [1] top-level scope at /home/etienne/.julia/packages/IJulia/F1GUo/src/kernel.jl:52"
     ]
    }
   ],
   "source": [
    "mutable struct Node\n",
    "    neighbors\n",
    "    position::Union{Nothing, Tuple{Float64, Float64}}\n",
    "    velocity::Union{Nothing, Tuple{Float64, Float64}}\n",
    "    force::Union{Nothing, Tuple{Float64, Float64}}\n",
    "    energy::Float64\n",
    "    previous_force::Union{Nothing, Tuple{Float64, Float64}}\n",
    "    end;\n",
    "\n",
    "Node() = Node([], nothing, nothing, nothing, nothing, nothing)"
   ]
  },
  {
   "cell_type": "code",
   "execution_count": 129,
   "metadata": {},
   "outputs": [],
   "source": [
    "# init graph data structure\n",
    "function create_graph(chains)\n",
    "    graph = Dict()\n",
    "    for chain in chains\n",
    "        node = get!(graph, chain[1], Node())\n",
    "        push!(node.neighbors, (nothing, chain[2]))\n",
    "\n",
    "        for k in 2:length(chain)-1\n",
    "            node = get!(graph, chain[k], Node())\n",
    "            push!(node.neighbors, (chain[k-1], chain[k+1]))\n",
    "            end;\n",
    "\n",
    "        node = get!(graph, chain[end], Node())\n",
    "        push!(node.neighbors, (chain[end-1], nothing))\n",
    "        end;\n",
    "    \n",
    "    return graph\n",
    "    end;\n",
    "\n",
    "function place_on_circle!(graph, node_ids=[])    \n",
    "    # init coordinates (on a circle)\n",
    "    if length(node_ids)==0\n",
    "        node_ids = keys(graph)\n",
    "        end;\n",
    "    N = length(node_ids)\n",
    "    radius = N/(2*pi)\n",
    "    delta_theta = 2*pi/N\n",
    "    for (k, node_id) in enumerate(node_ids)\n",
    "        node = graph[node_id]\n",
    "        theta = k*delta_theta\n",
    "        node.position = [radius*cos(theta), radius*sin(theta)]\n",
    "        #node.previous_position = node.position\n",
    "        node.velocity = (0.0, 0.0)\n",
    "        #node.previous_velocity = (0.0, 0.0)\n",
    "        end;\n",
    "\n",
    "    end;"
   ]
  },
  {
   "cell_type": "code",
   "execution_count": 182,
   "metadata": {},
   "outputs": [],
   "source": [
    "# Velocity Verlet\n",
    "# http://students.iitk.ac.in/projects/wiki/lib/exe/fetch.php?media=2014as:verlet.pdf\n",
    "function velocity_verlet!(graph, dt)\n",
    "    dt2_2 = dt^2 / 2\n",
    "    \n",
    "    #nodes = filter(n -> ~isnothing(n.position), collect(values(graph)))\n",
    "    nodes = values(graph)\n",
    "    # Positions\n",
    "    for node in nodes\n",
    "        dX = (dt2_2).*node.force\n",
    "        #if norm(dX) > 7.0\n",
    "        #    dX = 7 .* dX ./ norm(dX)\n",
    "        #    end;\n",
    "        node.position = node.position .+ dX\n",
    "        #node.previous_force = node.force\n",
    "        end;\n",
    "    \n",
    "    # Forces\n",
    "    reset_forces!(graph)\n",
    "    all_attractive_forces!(graph)\n",
    "    all_repulsive_forces!(graph)\n",
    "    \n",
    "    # Velocities\n",
    "    for node in nodes\n",
    "        node.velocity = node.velocity .+ (node.force .+ node.previous_force).*(0.5dt)    \n",
    "        end;\n",
    "    \n",
    "    end;"
   ]
  },
  {
   "cell_type": "code",
   "execution_count": 176,
   "metadata": {},
   "outputs": [],
   "source": [
    "dot(a, b) = sum(a .* b);\n",
    "norm(a) = sqrt(dot(a, a));\n",
    "unit_vector(a) = a./norm(a);"
   ]
  },
  {
   "cell_type": "code",
   "execution_count": 177,
   "metadata": {},
   "outputs": [
    {
     "data": {
      "text/plain": [
       "Fire"
      ]
     },
     "execution_count": 177,
     "metadata": {},
     "output_type": "execute_result"
    }
   ],
   "source": [
    "mutable struct Fire\n",
    "    N_min::Int64\n",
    "    f_inc::Float64\n",
    "    f_dec::Float64\n",
    "    alpha_start::Float64\n",
    "    f_alpha::Float64\n",
    "    dt_max::Float64\n",
    "    # variable\n",
    "    dt::Float64\n",
    "    N::Int64\n",
    "    alpha::Float64\n",
    "end\n",
    "\n",
    "Fire() = Fire(\n",
    "    5, # N_min\n",
    "    1.1, # f_inc\n",
    "    0.5, # f_dec\n",
    "    0.1, # alpha_start \n",
    "    0.99,# f_alpha \n",
    "    0.5, # dt_max \n",
    "    # variable\n",
    "    .1,  # dt \n",
    "    0,   # N \n",
    "    0.1 # alpha = alpha_start\n",
    ")"
   ]
  },
  {
   "cell_type": "code",
   "execution_count": 173,
   "metadata": {},
   "outputs": [
    {
     "data": {
      "text/plain": [
       "Fire(5, 1.1, 0.5, 0.1, 0.99, 0.5, 0.1, 0, 0.1)"
      ]
     },
     "execution_count": 173,
     "metadata": {},
     "output_type": "execute_result"
    }
   ],
   "source": [
    "Fire()"
   ]
  },
  {
   "cell_type": "code",
   "execution_count": 218,
   "metadata": {},
   "outputs": [],
   "source": [
    "# Fire minimization\n",
    "# Bitzek, Erik, et al. \"Structural relaxation made simple.\"\n",
    "# Physical review letters 97.17 (2006): 170201.\n",
    "\n",
    "function step!(graph, fire)\n",
    "    \n",
    "    # loop\n",
    "    velocity_verlet!(graph, fire.dt)\n",
    "\n",
    "    #nodes = filter(n -> ~isnothing(n.position), collect(values(graph)))\n",
    "    nodes = values(graph)\n",
    "    P = sum( dot(node.force, node.velocity) for node in nodes )\n",
    "\n",
    "    for node in nodes\n",
    "        hat_F = unit_vector(node.force)\n",
    "        v = node.velocity\n",
    "        node.velocity = (1 - fire.alpha).*v .+ (fire.alpha * norm(v)).*hat_F  \n",
    "        end;\n",
    "\n",
    "    if P > 0 && fire.N > fire.N_min\n",
    "        fire.dt = min(fire.f_inc*fire.dt, fire.dt_max)\n",
    "        fire.alpha = fire.alpha * fire.f_alpha\n",
    "        fire.N = 0\n",
    "    elseif P > 0\n",
    "        fire.N += 1\n",
    "        end;\n",
    "    \n",
    "    if P <= 0\n",
    "        fire.dt = fire.f_dec * fire.dt\n",
    "        fire.alpha = fire.alpha_start\n",
    "        foreach(node -> node.velocity = (0.0, 0.0), nodes)\n",
    "        fire.N = 0\n",
    "        end;\n",
    "\n",
    "    end;"
   ]
  },
  {
   "cell_type": "code",
   "execution_count": 219,
   "metadata": {},
   "outputs": [],
   "source": [
    "# test graph\n",
    "chains = [[\"A\", \"B\", \"C\", \"D\", \"E\"],\n",
    "          [\"R\", \"E\", \"T\", \"ER\", \"erz\", \"ZE\"],\n",
    "          [\"C\", \"re\", \"eze\"]]\n",
    "\n",
    "graph = create_graph(chains)\n",
    "\n",
    "place_on_circle!(graph)\n",
    "reset_forces!(graph)"
   ]
  },
  {
   "cell_type": "code",
   "execution_count": 263,
   "metadata": {},
   "outputs": [
    {
     "name": "stdout",
     "output_type": "stream",
     "text": [
      "[\"103665013_22_chains.json\", \"118282182_148_chains.json\", \"139009531_11072_chains.json\", \"183073932_167_chains.json\"]\n",
      "number of chains: 4\n"
     ]
    }
   ],
   "source": [
    "# ====================\n",
    "# Load graph from Json\n",
    "files = filter(x -> endswith(x, \"_chains.json\"), readdir(\"./data/\"))\n",
    "\n",
    "println(files)\n",
    "\n",
    "file_name = files[1]\n",
    "path = string(\"./data/\", file_name)\n",
    "data = read(path, String)\n",
    "d = []\n",
    "chains = JSON.parse(data, dicttype=Array{Array{String}});\n",
    "sort!(chains, by=x->length(x), rev=true)\n",
    "println(\"number of chains: \", length(chains))\n",
    "\n",
    "graph = create_graph(chains);\n",
    "place_on_circle!(graph)\n",
    "reset_forces!(graph)"
   ]
  },
  {
   "cell_type": "code",
   "execution_count": 280,
   "metadata": {},
   "outputs": [],
   "source": [
    "fire = Fire()\n",
    "for k in 1:700\n",
    "    step!(graph, fire)\n",
    "    end;"
   ]
  },
  {
   "cell_type": "code",
   "execution_count": 281,
   "metadata": {},
   "outputs": [
    {
     "data": {
      "image/svg+xml": [
       "<?xml version=\"1.0\" encoding=\"utf-8\"?>\n",
       "<svg xmlns=\"http://www.w3.org/2000/svg\" xmlns:xlink=\"http://www.w3.org/1999/xlink\" width=\"600\" height=\"400\" viewBox=\"0 0 2400 1600\">\n",
       "<defs>\n",
       "  <clipPath id=\"clip0000\">\n",
       "    <rect x=\"0\" y=\"0\" width=\"2400\" height=\"1600\"/>\n",
       "  </clipPath>\n",
       "</defs>\n",
       "<path clip-path=\"url(#clip0000)\" d=\"\n",
       "M0 1600 L2400 1600 L2400 0 L0 0  Z\n",
       "  \" fill=\"#ffffff\" fill-rule=\"evenodd\" fill-opacity=\"1\"/>\n",
       "<defs>\n",
       "  <clipPath id=\"clip0001\">\n",
       "    <rect x=\"480\" y=\"0\" width=\"1681\" height=\"1600\"/>\n",
       "  </clipPath>\n",
       "</defs>\n",
       "<path clip-path=\"url(#clip0000)\" d=\"\n",
       "M168.627 1487.47 L2352.76 1487.47 L2352.76 47.2441 L168.627 47.2441  Z\n",
       "  \" fill=\"#ffffff\" fill-rule=\"evenodd\" fill-opacity=\"1\"/>\n",
       "<defs>\n",
       "  <clipPath id=\"clip0002\">\n",
       "    <rect x=\"168\" y=\"47\" width=\"2185\" height=\"1441\"/>\n",
       "  </clipPath>\n",
       "</defs>\n",
       "<polyline clip-path=\"url(#clip0002)\" style=\"stroke:#000000; stroke-width:2; stroke-opacity:0.1; fill:none\" points=\"\n",
       "  642.213,1487.47 642.213,47.2441 \n",
       "  \"/>\n",
       "<polyline clip-path=\"url(#clip0002)\" style=\"stroke:#000000; stroke-width:2; stroke-opacity:0.1; fill:none\" points=\"\n",
       "  1117.92,1487.47 1117.92,47.2441 \n",
       "  \"/>\n",
       "<polyline clip-path=\"url(#clip0002)\" style=\"stroke:#000000; stroke-width:2; stroke-opacity:0.1; fill:none\" points=\"\n",
       "  1593.62,1487.47 1593.62,47.2441 \n",
       "  \"/>\n",
       "<polyline clip-path=\"url(#clip0002)\" style=\"stroke:#000000; stroke-width:2; stroke-opacity:0.1; fill:none\" points=\"\n",
       "  2069.32,1487.47 2069.32,47.2441 \n",
       "  \"/>\n",
       "<polyline clip-path=\"url(#clip0002)\" style=\"stroke:#000000; stroke-width:2; stroke-opacity:0.1; fill:none\" points=\"\n",
       "  168.627,1340.74 2352.76,1340.74 \n",
       "  \"/>\n",
       "<polyline clip-path=\"url(#clip0002)\" style=\"stroke:#000000; stroke-width:2; stroke-opacity:0.1; fill:none\" points=\"\n",
       "  168.627,1023.61 2352.76,1023.61 \n",
       "  \"/>\n",
       "<polyline clip-path=\"url(#clip0002)\" style=\"stroke:#000000; stroke-width:2; stroke-opacity:0.1; fill:none\" points=\"\n",
       "  168.627,706.473 2352.76,706.473 \n",
       "  \"/>\n",
       "<polyline clip-path=\"url(#clip0002)\" style=\"stroke:#000000; stroke-width:2; stroke-opacity:0.1; fill:none\" points=\"\n",
       "  168.627,389.338 2352.76,389.338 \n",
       "  \"/>\n",
       "<polyline clip-path=\"url(#clip0002)\" style=\"stroke:#000000; stroke-width:2; stroke-opacity:0.1; fill:none\" points=\"\n",
       "  168.627,72.2026 2352.76,72.2026 \n",
       "  \"/>\n",
       "<polyline clip-path=\"url(#clip0000)\" style=\"stroke:#000000; stroke-width:4; stroke-opacity:1; fill:none\" points=\"\n",
       "  168.627,1487.47 2352.76,1487.47 \n",
       "  \"/>\n",
       "<polyline clip-path=\"url(#clip0000)\" style=\"stroke:#000000; stroke-width:4; stroke-opacity:1; fill:none\" points=\"\n",
       "  168.627,1487.47 168.627,47.2441 \n",
       "  \"/>\n",
       "<polyline clip-path=\"url(#clip0000)\" style=\"stroke:#000000; stroke-width:4; stroke-opacity:1; fill:none\" points=\"\n",
       "  642.213,1487.47 642.213,1470.19 \n",
       "  \"/>\n",
       "<polyline clip-path=\"url(#clip0000)\" style=\"stroke:#000000; stroke-width:4; stroke-opacity:1; fill:none\" points=\"\n",
       "  1117.92,1487.47 1117.92,1470.19 \n",
       "  \"/>\n",
       "<polyline clip-path=\"url(#clip0000)\" style=\"stroke:#000000; stroke-width:4; stroke-opacity:1; fill:none\" points=\"\n",
       "  1593.62,1487.47 1593.62,1470.19 \n",
       "  \"/>\n",
       "<polyline clip-path=\"url(#clip0000)\" style=\"stroke:#000000; stroke-width:4; stroke-opacity:1; fill:none\" points=\"\n",
       "  2069.32,1487.47 2069.32,1470.19 \n",
       "  \"/>\n",
       "<polyline clip-path=\"url(#clip0000)\" style=\"stroke:#000000; stroke-width:4; stroke-opacity:1; fill:none\" points=\"\n",
       "  168.627,1340.74 194.836,1340.74 \n",
       "  \"/>\n",
       "<polyline clip-path=\"url(#clip0000)\" style=\"stroke:#000000; stroke-width:4; stroke-opacity:1; fill:none\" points=\"\n",
       "  168.627,1023.61 194.836,1023.61 \n",
       "  \"/>\n",
       "<polyline clip-path=\"url(#clip0000)\" style=\"stroke:#000000; stroke-width:4; stroke-opacity:1; fill:none\" points=\"\n",
       "  168.627,706.473 194.836,706.473 \n",
       "  \"/>\n",
       "<polyline clip-path=\"url(#clip0000)\" style=\"stroke:#000000; stroke-width:4; stroke-opacity:1; fill:none\" points=\"\n",
       "  168.627,389.338 194.836,389.338 \n",
       "  \"/>\n",
       "<polyline clip-path=\"url(#clip0000)\" style=\"stroke:#000000; stroke-width:4; stroke-opacity:1; fill:none\" points=\"\n",
       "  168.627,72.2026 194.836,72.2026 \n",
       "  \"/>\n",
       "<g clip-path=\"url(#clip0000)\">\n",
       "<text style=\"fill:#000000; fill-opacity:1; font-family:Arial,Helvetica Neue,Helvetica,sans-serif; font-size:48px; text-anchor:middle;\" transform=\"rotate(0, 642.213, 1541.47)\" x=\"642.213\" y=\"1541.47\">0</text>\n",
       "</g>\n",
       "<g clip-path=\"url(#clip0000)\">\n",
       "<text style=\"fill:#000000; fill-opacity:1; font-family:Arial,Helvetica Neue,Helvetica,sans-serif; font-size:48px; text-anchor:middle;\" transform=\"rotate(0, 1117.92, 1541.47)\" x=\"1117.92\" y=\"1541.47\">30</text>\n",
       "</g>\n",
       "<g clip-path=\"url(#clip0000)\">\n",
       "<text style=\"fill:#000000; fill-opacity:1; font-family:Arial,Helvetica Neue,Helvetica,sans-serif; font-size:48px; text-anchor:middle;\" transform=\"rotate(0, 1593.62, 1541.47)\" x=\"1593.62\" y=\"1541.47\">60</text>\n",
       "</g>\n",
       "<g clip-path=\"url(#clip0000)\">\n",
       "<text style=\"fill:#000000; fill-opacity:1; font-family:Arial,Helvetica Neue,Helvetica,sans-serif; font-size:48px; text-anchor:middle;\" transform=\"rotate(0, 2069.32, 1541.47)\" x=\"2069.32\" y=\"1541.47\">90</text>\n",
       "</g>\n",
       "<g clip-path=\"url(#clip0000)\">\n",
       "<text style=\"fill:#000000; fill-opacity:1; font-family:Arial,Helvetica Neue,Helvetica,sans-serif; font-size:48px; text-anchor:end;\" transform=\"rotate(0, 144.627, 1358.24)\" x=\"144.627\" y=\"1358.24\">-40</text>\n",
       "</g>\n",
       "<g clip-path=\"url(#clip0000)\">\n",
       "<text style=\"fill:#000000; fill-opacity:1; font-family:Arial,Helvetica Neue,Helvetica,sans-serif; font-size:48px; text-anchor:end;\" transform=\"rotate(0, 144.627, 1041.11)\" x=\"144.627\" y=\"1041.11\">-20</text>\n",
       "</g>\n",
       "<g clip-path=\"url(#clip0000)\">\n",
       "<text style=\"fill:#000000; fill-opacity:1; font-family:Arial,Helvetica Neue,Helvetica,sans-serif; font-size:48px; text-anchor:end;\" transform=\"rotate(0, 144.627, 723.973)\" x=\"144.627\" y=\"723.973\">0</text>\n",
       "</g>\n",
       "<g clip-path=\"url(#clip0000)\">\n",
       "<text style=\"fill:#000000; fill-opacity:1; font-family:Arial,Helvetica Neue,Helvetica,sans-serif; font-size:48px; text-anchor:end;\" transform=\"rotate(0, 144.627, 406.838)\" x=\"144.627\" y=\"406.838\">20</text>\n",
       "</g>\n",
       "<g clip-path=\"url(#clip0000)\">\n",
       "<text style=\"fill:#000000; fill-opacity:1; font-family:Arial,Helvetica Neue,Helvetica,sans-serif; font-size:48px; text-anchor:end;\" transform=\"rotate(0, 144.627, 89.7026)\" x=\"144.627\" y=\"89.7026\">40</text>\n",
       "</g>\n",
       "<polyline clip-path=\"url(#clip0002)\" style=\"stroke:#009af9; stroke-width:12; stroke-opacity:1; fill:none\" points=\"\n",
       "  555.152,768.074 567.891,747.951 589.754,724.514 602.7,746.835 590.054,773.238 542.038,791.996 455.058,785.847 376.578,762.822 379.493,737.645 814.126,774.675 \n",
       "  1353.06,836.271 843.888,702.462 \n",
       "  \"/>\n",
       "<polyline clip-path=\"url(#clip0002)\" style=\"stroke:#e26f46; stroke-width:12; stroke-opacity:1; fill:none\" points=\"\n",
       "  589.754,724.514 582.052,671.27 563.344,606.672 545.796,556.667 529.072,526.002 510.387,515.524 492.645,522.193 479.564,537.321 \n",
       "  \"/>\n",
       "<polyline clip-path=\"url(#clip0002)\" style=\"stroke:#3da44d; stroke-width:12; stroke-opacity:1; fill:none\" points=\"\n",
       "  230.442,702.472 379.493,737.645 234.656,732.767 \n",
       "  \"/>\n",
       "<polyline clip-path=\"url(#clip0002)\" style=\"stroke:#c271d2; stroke-width:12; stroke-opacity:1; fill:none\" points=\"\n",
       "  2290.94,1019.19 1353.06,836.271 \n",
       "  \"/>\n",
       "</svg>\n"
      ]
     },
     "execution_count": 281,
     "metadata": {},
     "output_type": "execute_result"
    }
   ],
   "source": [
    "graphplot(graph, chains)"
   ]
  },
  {
   "cell_type": "code",
   "execution_count": 254,
   "metadata": {},
   "outputs": [],
   "source": [
    "const coeff = 5.0\n",
    "function three_body_force(u, v)\n",
    "    #  points a, b, c\n",
    "    #  u = b - a\n",
    "    #  v = c - b\n",
    "    #  F->a = -dE/da = dE/du\n",
    "    #  F->c = -dE/dc = -dE/dv\n",
    "    #  F->b = -F->a - F->c = -dE/du + dE/dv\n",
    "    # \n",
    "    #  E = -cos( (a, b, c) )\n",
    "\n",
    "    x1, y1 = u\n",
    "    x2, y2 = v\n",
    "    norm2_u = x1^2 + y1^2\n",
    "    norm2_v = x2^2 + y2^2\n",
    "    cross = x1*y2 - x2*y1\n",
    "\n",
    "    cross_nunv = coeff * cross / sqrt( norm2_u*norm2_v )\n",
    "    s3 = cross_nunv / norm2_u\n",
    "    s4 = cross_nunv / norm2_v\n",
    "    \n",
    "    dEdu = (s3*y1, -s3*x1)\n",
    "    dEdv = (-s4*y2, s4*x2)\n",
    "    return dEdu, .-dEdu .+ dEdv, .-dEdv\n",
    "    end;\n",
    "\n",
    "# Spring (+2 power)\n",
    "# F = (-x, -y)\n",
    "# u = b - a\n",
    "# F->b\n",
    "spring_force(u) = -2 .* u;\n",
    "\n",
    "const EPSILON = 1e-5\n",
    "function repulsive_force_Coulomb(u)\n",
    "    d4 = (sum(u.^2) + EPSILON)^2\n",
    "    return 2/d4.*u\n",
    "    end;"
   ]
  },
  {
   "cell_type": "code",
   "execution_count": 144,
   "metadata": {},
   "outputs": [],
   "source": [
    "function reset_forces!(graph)\n",
    "    for node in values(graph)\n",
    "        if ~isnothing(node.position)\n",
    "            node.previous_force = node.force;\n",
    "            node.force = (0.0, 0.0);\n",
    "            end;\n",
    "        end;\n",
    "    end;"
   ]
  },
  {
   "cell_type": "code",
   "execution_count": 117,
   "metadata": {},
   "outputs": [
    {
     "data": {
      "text/plain": [
       "(0.4999950000374997, 0.4999950000374997)"
      ]
     },
     "execution_count": 117,
     "metadata": {},
     "output_type": "execute_result"
    }
   ],
   "source": [
    "repulsive_force_Coulomb((1., 1.))"
   ]
  },
  {
   "cell_type": "code",
   "execution_count": 141,
   "metadata": {},
   "outputs": [],
   "source": [
    "function all_attractive_forces!(graph)\n",
    "    # Compute all forces\n",
    "    reset_forces!(graph)\n",
    "\n",
    "    # Link forces\n",
    "    for node in values(graph)\n",
    "        if isnothing(node.position)\n",
    "            continue\n",
    "            end;\n",
    "\n",
    "        for (left_name, right_name) in node.neighbors\n",
    "            if !isnothing(left_name) && !isnothing(graph[left_name].position)\n",
    "                left = graph[left_name]\n",
    "                # Compute pair force\n",
    "                u = node.position .- left.position\n",
    "                F = spring_force(u)\n",
    "                left.force = left.force .- F\n",
    "                node.force = node.force .+ F\n",
    "\n",
    "                if !isnothing(right_name) && !isnothing(graph[right_name].position)\n",
    "                    right = graph[right_name]\n",
    "                    v = right.position .- node.position\n",
    "                    # Compute three body force\n",
    "                    Fa, Fb, Fc = three_body_force(u, v)\n",
    "                    left.force = left.force .+ Fa\n",
    "                    node.force = node.force .+ Fb\n",
    "                    right.force = right.force .+ Fc\n",
    "                    end;\n",
    "\n",
    "                end;\n",
    "            \n",
    "            end;\n",
    "        end;\n",
    "\n",
    "    # Repulsive forces\n",
    "    for (k, node_a) in enumerate(values(graph))\n",
    "        if isnothing(node_a.position)\n",
    "            continue\n",
    "            end;\n",
    "        for node_b in Iterators.take(values(graph), k-1)\n",
    "             if ~isnothing(node_b.position)\n",
    "                u = node_b.position .- node_a.position\n",
    "                Fb = repulsive_force_Coulomb(u)\n",
    "                node_a.force = node_a.force .- Fb\n",
    "                node_b.force = node_b.force .+ Fb\n",
    "                end;\n",
    "            end;\n",
    "        end;\n",
    "    end;\n",
    "\n",
    "function all_repulsive_forces!(graph)\n",
    "    # Repulsive forces\n",
    "    for (k, node_a) in enumerate(values(graph))\n",
    "        if isnothing(node_a.position)\n",
    "            continue\n",
    "            end;\n",
    "        for node_b in Iterators.take(values(graph), k-1)\n",
    "             if ~isnothing(node_b.position)\n",
    "                u = node_b.position .- node_a.position\n",
    "                Fb = repulsive_force_Coulomb(u)\n",
    "                node_a.force = node_a.force .- Fb\n",
    "                node_b.force = node_b.force .+ Fb\n",
    "                end;\n",
    "            end;\n",
    "        end;\n",
    "    end;"
   ]
  }
 ],
 "metadata": {
  "kernelspec": {
   "display_name": "Julia 1.3.0",
   "language": "julia",
   "name": "julia-1.3"
  },
  "language_info": {
   "file_extension": ".jl",
   "mimetype": "application/julia",
   "name": "julia",
   "version": "1.3.0"
  }
 },
 "nbformat": 4,
 "nbformat_minor": 2
}
