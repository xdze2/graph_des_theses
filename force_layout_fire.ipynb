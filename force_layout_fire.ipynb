{
 "cells": [
  {
   "cell_type": "code",
   "execution_count": 44,
   "metadata": {},
   "outputs": [],
   "source": [
    "import(Plots)"
   ]
  },
  {
   "cell_type": "code",
   "execution_count": 323,
   "metadata": {},
   "outputs": [],
   "source": [
    "import(JSON)"
   ]
  },
  {
   "cell_type": "code",
   "execution_count": 828,
   "metadata": {},
   "outputs": [],
   "source": [
    "# Graph the graph\n",
    "function graphplot(graph, chains)\n",
    "    fig = Plots.plot(legend=false, aspect_ratio=:equal)\n",
    "    #scatter!(coords[:, 1], coords[:, 2], linewidth=2)\n",
    "    for chain in chains\n",
    "        chain_xy = map(x -> graph[x].position, chain);\n",
    "        filter!(xy -> ~isnothing(xy), chain_xy)\n",
    "        if length(chain_xy) > 0\n",
    "            x = getindex.(chain_xy, 1)\n",
    "            y = getindex.(chain_xy, 2)\n",
    "            Plots.plot!(x, y, linewidth=3)\n",
    "            end;\n",
    "        #println(coords[idx, 1])\n",
    "        end;\n",
    "    fig\n",
    "    end;"
   ]
  },
  {
   "cell_type": "code",
   "execution_count": 367,
   "metadata": {},
   "outputs": [
    {
     "name": "stderr",
     "output_type": "stream",
     "text": [
      "WARNING: redefining constant EPSILON\n"
     ]
    },
    {
     "data": {
      "text/plain": [
       "repulsive_Coulomb_gradient (generic function with 1 method)"
      ]
     },
     "execution_count": 367,
     "metadata": {},
     "output_type": "execute_result"
    }
   ],
   "source": [
    "## Force Layout \n",
    "const EPSILON = 1e-5\n",
    "\n",
    "# Spring (+2 power)\n",
    "function spring_energy(u, v)\n",
    "    return (u^2 + v^2)\n",
    "    end;\n",
    "function spring_gradient(u, v)\n",
    "    return (2*u, 2*v)\n",
    "    end;\n",
    "\n",
    "# Electric  (-2 power)\n",
    "function repulsive_Coulomb_energy(u, v)\n",
    "    return 1/(u^2 + v^2 + EPSILON)\n",
    "    end;\n",
    "function repulsive_Coulomb_gradient(u, v)\n",
    "    d4 = (u^2 + v^2 + EPSILON)^2\n",
    "    return (-2*u/d4, -2*v/d4)\n",
    "    end;\n",
    "\n",
    "# Inverse distance (-1 power)\n",
    "function inverse_dist_energy(u, v)\n",
    "    return 1/sqrt(u^2 + v^2 + EPSILON)\n",
    "    end;\n",
    "\n",
    "function inverse_dist_gradient(u, v)\n",
    "    d3 = sqrt(u^2 + v^2 + EPSILON)^3\n",
    "    return (-u/d3, -4*v/d3)\n",
    "    end;\n",
    "\n",
    "# The (attraction,repulsion)-model of ForceAtlas (1,-1)\n",
    "# has an intermediate position between Noack’s LinLog (0,-1)\n",
    "# and the algorithm of Fruchterman and Rheingold (2,-1),\n",
    "# https://journals.plos.org/plosone/article/file?id=10.1371/journal.pone.0098679&type=printable\n",
    "\n",
    "attractive_energy = spring_energy\n",
    "attractive_gradient = spring_gradient\n",
    "repulsive_energy = repulsive_Coulomb_energy\n",
    "repulsive_gradient = repulsive_Coulomb_gradient"
   ]
  },
  {
   "cell_type": "code",
   "execution_count": 13,
   "metadata": {},
   "outputs": [],
   "source": [
    "using(BenchmarkTools)"
   ]
  },
  {
   "cell_type": "code",
   "execution_count": 14,
   "metadata": {},
   "outputs": [
    {
     "data": {
      "text/plain": [
       "Node"
      ]
     },
     "execution_count": 14,
     "metadata": {},
     "output_type": "execute_result"
    }
   ],
   "source": [
    "mutable struct Node\n",
    "    neighbors\n",
    "    position #::Union{Nothing, Tuple{Float64, Float64}}\n",
    "    velocity\n",
    "    force\n",
    "    energy\n",
    "    previous_position\n",
    "    previous_velocity\n",
    "    previous_force\n",
    "    previous_energy\n",
    "    end;\n",
    "\n",
    "Node() = Node([], nothing, nothing, nothing, nothing,\n",
    "                  nothing, nothing, nothing, nothing)"
   ]
  },
  {
   "cell_type": "code",
   "execution_count": 854,
   "metadata": {},
   "outputs": [],
   "source": [
    "function compute_force!(graph, node_name)\n",
    "    node = graph[node_name]\n",
    "    if isnothing(node.position)\n",
    "        return\n",
    "        end;\n",
    "    node.force = (.0, .0)\n",
    "    # Pairs and triplet\n",
    "    for (left, right) in node.neighbors\n",
    "        if ~isnothing(left) && ~isnothing(graph[left].position)\n",
    "            # and coords is not nothing (?) for partial graph\n",
    "            u_left = node.position .- graph[left].position\n",
    "            node.force = node.force .- attractive_gradient(u_left...)\n",
    "            end;\n",
    "        if ~isnothing(right) && ~isnothing(graph[right].position)\n",
    "            u_right = node.position .- graph[right].position\n",
    "            node.force = node.force .- attractive_gradient(u_right...)\n",
    "            end;\n",
    "        if ~isnothing(left) && ~isnothing(right)\n",
    "            # moment \n",
    "            end;\n",
    "        end;\n",
    "\n",
    "    # All\n",
    "    for (name, other_node) in pairs(graph)\n",
    "        if name == node_name || isnothing(other_node.position)\n",
    "            continue\n",
    "        else\n",
    "            u = node.position .- other_node.position\n",
    "            node.force = node.force .- repulsive_Coulomb_gradient(u...)\n",
    "            end;\n",
    "        end;\n",
    "    end;"
   ]
  },
  {
   "cell_type": "code",
   "execution_count": 855,
   "metadata": {},
   "outputs": [],
   "source": [
    "function compute_all_force!(graph)\n",
    "    for node_name in keys(graph)\n",
    "        compute_force!(graph, node_name)\n",
    "        end;\n",
    "    end;"
   ]
  },
  {
   "cell_type": "code",
   "execution_count": null,
   "metadata": {},
   "outputs": [],
   "source": [
    "update_force!(graph, nodes)\n",
    "\n",
    "for node_name in nodes\n",
    "    compute_force!(graph, node_name)\n",
    "    end;\n"
   ]
  },
  {
   "cell_type": "code",
   "execution_count": 420,
   "metadata": {},
   "outputs": [],
   "source": [
    "# init graph data structure\n",
    "function create_graph(chains)\n",
    "    graph = Dict()\n",
    "    for chain in chains\n",
    "        node = get!(graph, chain[1], Node())\n",
    "        push!(node.neighbors, (nothing, chain[2]))\n",
    "\n",
    "        for k in 2:length(chain)-1\n",
    "            node = get!(graph, chain[k], Node())\n",
    "            push!(node.neighbors, (chain[k-1], chain[k+1]))\n",
    "            end;\n",
    "\n",
    "        node = get!(graph, chain[end], Node())\n",
    "        push!(node.neighbors, (chain[end-1], nothing))\n",
    "        end;\n",
    "    \n",
    "    return graph\n",
    "    end;\n",
    "\n",
    "function place_on_circle!(graph, node_ids)    \n",
    "    # init coordinates (on a circle)\n",
    "    N = length(node_ids)\n",
    "    radius = N/(2*pi)\n",
    "    delta_theta = 2*pi/N\n",
    "    for (k, node_id) in enumerate(node_ids)\n",
    "        node = graph[node_id]\n",
    "        theta = k*delta_theta\n",
    "        node.position = (radius*cos(theta), radius*sin(theta))\n",
    "        node.previous_position = node.position\n",
    "        node.velocity = (0.0, 0.0)\n",
    "        node.previous_velocity = (0.0, 0.0)\n",
    "        end;\n",
    "\n",
    "    # init forces\n",
    "    compute_all_force!(graph)\n",
    "    \n",
    "    # init previous forces\n",
    "    for node in values(graph)\n",
    "        node.previous_force = node.force\n",
    "        end;\n",
    "    \n",
    "    end;"
   ]
  },
  {
   "cell_type": "code",
   "execution_count": 809,
   "metadata": {},
   "outputs": [],
   "source": [
    "# Velocity Verlet\n",
    "# http://students.iitk.ac.in/projects/wiki/lib/exe/fetch.php?media=2014as:verlet.pdf\n",
    "function velocity_verlet!(graph, dt, nodes)\n",
    "    dt2_2 = dt^2 / 2\n",
    "    \n",
    "    #nodes = filter(n -> ~isnothing(n.position), collect(values(graph)))\n",
    "    # positions\n",
    "    for node in nodes\n",
    "        dX = (dt2_2).*node.force\n",
    "        if norm(dX) > 7.0\n",
    "            dX = 7 .* dX ./ norm(dX)\n",
    "            end;\n",
    "        node.position = node.position .+ dX\n",
    "        node.previous_force = node.force\n",
    "        end;\n",
    "    \n",
    "    # forces\n",
    "    compute_all_force!(graph)\n",
    "\n",
    "    # velocities\n",
    "    for node in nodes\n",
    "        node.velocity = node.velocity .+ (node.force .+ node.previous_force).*(0.5dt)    \n",
    "        end;\n",
    "    \n",
    "    end;"
   ]
  },
  {
   "cell_type": "code",
   "execution_count": 810,
   "metadata": {},
   "outputs": [
    {
     "data": {
      "text/plain": [
       "unit_vector (generic function with 1 method)"
      ]
     },
     "execution_count": 810,
     "metadata": {},
     "output_type": "execute_result"
    }
   ],
   "source": [
    "dot(a, b) = sum(a .* b)\n",
    "norm(a) = sqrt(dot(a, a))\n",
    "unit_vector(a) = a./norm(a)"
   ]
  },
  {
   "cell_type": "code",
   "execution_count": 811,
   "metadata": {},
   "outputs": [],
   "source": [
    "# https://github.com/mauro3/Parameters.jl\n",
    "# import Pkg; Pkg.add(\"Parameters\")\n",
    "using Parameters"
   ]
  },
  {
   "cell_type": "code",
   "execution_count": 544,
   "metadata": {},
   "outputs": [
    {
     "data": {
      "text/plain": [
       "Fire"
      ]
     },
     "execution_count": 544,
     "metadata": {},
     "output_type": "execute_result"
    }
   ],
   "source": [
    "@with_kw mutable struct Fire\n",
    "    N_min = 5\n",
    "    f_inc = 1.1\n",
    "    f_dec = 0.5\n",
    "    alpha_start = 0.1\n",
    "    f_alpha = 0.99\n",
    "    dt_max = .5\n",
    "    # variable\n",
    "    dt = dt_max / 5.0\n",
    "    N = 0\n",
    "    alpha = alpha_start\n",
    "end"
   ]
  },
  {
   "cell_type": "code",
   "execution_count": 812,
   "metadata": {},
   "outputs": [],
   "source": [
    "# Fire minimization\n",
    "# Bitzek, Erik, et al. \"Structural relaxation made simple.\"\n",
    "# Physical review letters 97.17 (2006): 170201.\n",
    "\n",
    "function step!(graph, fire, nodes)\n",
    "    \n",
    "    # loop\n",
    "    velocity_verlet!(graph, fire.dt, nodes)\n",
    "\n",
    "    #nodes = filter(n -> ~isnothing(n.position), collect(values(graph)))\n",
    "    P = sum( dot(node.force, node.velocity) for node in nodes )\n",
    "\n",
    "    for node in nodes\n",
    "        hat_F = unit_vector(node.force)\n",
    "        v = node.velocity\n",
    "        node.velocity = (1 - fire.alpha).*v .+ (fire.alpha * norm(v)).*hat_F  \n",
    "        end;\n",
    "\n",
    "    if P > 0 && fire.N > fire.N_min\n",
    "        fire.dt = min(fire.f_inc*fire.dt, fire.dt_max)\n",
    "        fire.alpha = fire.alpha * fire.f_alpha\n",
    "        fire.N = 0\n",
    "    elseif P > 0\n",
    "        fire.N += 1\n",
    "        end;\n",
    "    \n",
    "    if P <= 0\n",
    "        fire.dt = fire.f_dec * fire.dt\n",
    "        fire.alpha = fire.alpha_start\n",
    "        foreach(node -> node.velocity = (0.0, 0.0), nodes)\n",
    "        fire.N = 0\n",
    "        end;\n",
    "\n",
    "    end;"
   ]
  },
  {
   "cell_type": "code",
   "execution_count": 813,
   "metadata": {},
   "outputs": [],
   "source": [
    "# test graph\n",
    "chains = [[\"A\", \"B\", \"C\", \"D\", \"E\"],\n",
    "          [\"R\", \"E\", \"T\", \"ER\", \"erz\", \"ZE\"],\n",
    "          [\"C\", \"re\", \"eze\"]]\n",
    "\n",
    "graph = create_graph(chains)\n",
    "\n",
    "place_on_circle!(graph, chains[1])"
   ]
  },
  {
   "cell_type": "code",
   "execution_count": 822,
   "metadata": {},
   "outputs": [
    {
     "name": "stdout",
     "output_type": "stream",
     "text": [
      "[\"162509553_129_chains.json\", \"177539135_99_chains.json\", \"232479038_123_chains.json\"]\n",
      "number of chains: 18\n"
     ]
    }
   ],
   "source": [
    "# ====================\n",
    "# Load graph from Json\n",
    "files = filter(x -> endswith(x, \"_chains.json\"), readdir(\"./data/\"))\n",
    "\n",
    "println(files)\n",
    "\n",
    "file_name = files[3]\n",
    "path = string(\"./data/\", file_name)\n",
    "data = read(path, String)\n",
    "d = []\n",
    "chains = JSON.parse(data, dicttype=Array{Array{String}});\n",
    "sort!(chains, by=x->length(x), rev=true)\n",
    "println(\"number of chains: \", length(chains))\n",
    "\n",
    "graph = create_graph(chains);\n",
    "place_on_circle!(graph, chains[1])"
   ]
  },
  {
   "cell_type": "code",
   "execution_count": 799,
   "metadata": {},
   "outputs": [
    {
     "name": "stdout",
     "output_type": "stream",
     "text": [
      "max force 2.0351845999350866\n"
     ]
    }
   ],
   "source": [
    "println(\"max force \", max_force(graph))"
   ]
  },
  {
   "cell_type": "code",
   "execution_count": 823,
   "metadata": {},
   "outputs": [],
   "source": [
    "# Global optim\n",
    "function global_optim!(graph)\n",
    "    fire = Fire(dt_max=1.00)\n",
    "    nodes = filter(n -> ~isnothing(n.position), collect(values(graph)))\n",
    "    for k in 1:100\n",
    "        step!(graph, fire, nodes)\n",
    "        end;\n",
    "    end;"
   ]
  },
  {
   "cell_type": "code",
   "execution_count": 824,
   "metadata": {},
   "outputs": [],
   "source": [
    "# Local opti\n",
    "function add_a_node!(graph)\n",
    "    new_node = place_a_node!(graph)\n",
    "    compute_all_force!(graph)\n",
    "    #print(new_node, \" \")\n",
    "\n",
    "    fire = Fire(dt_max=1.0)\n",
    "    for k in 1:100\n",
    "        step!(graph, fire, [graph[new_node], ])\n",
    "        end;\n",
    "    end;"
   ]
  },
  {
   "cell_type": "code",
   "execution_count": 852,
   "metadata": {},
   "outputs": [
    {
     "name": "stdout",
     "output_type": "stream",
     "text": [
      "2           \r"
     ]
    },
    {
     "ename": "KeyError",
     "evalue": "KeyError: key nothing not found",
     "output_type": "error",
     "traceback": [
      "KeyError: key nothing not found",
      "",
      "Stacktrace:",
      " [1] getindex(::Dict{Any,Any}, ::Nothing) at ./dict.jl:477",
      " [2] add_a_node!(::Dict{Any,Any}) at ./In[824]:9",
      " [3] top-level scope at ./In[852]:3"
     ]
    }
   ],
   "source": [
    "for k = 1:20\n",
    "    print(k, \"           \\r\")\n",
    "    add_a_node!(graph);\n",
    "    global_optim!(graph);\n",
    "    end;"
   ]
  },
  {
   "cell_type": "code",
   "execution_count": 853,
   "metadata": {
    "scrolled": false
   },
   "outputs": [
    {
     "data": {
      "image/svg+xml": [
       "<?xml version=\"1.0\" encoding=\"utf-8\"?>\n",
       "<svg xmlns=\"http://www.w3.org/2000/svg\" xmlns:xlink=\"http://www.w3.org/1999/xlink\" width=\"600\" height=\"400\" viewBox=\"0 0 2400 1600\">\n",
       "<defs>\n",
       "  <clipPath id=\"clip3900\">\n",
       "    <rect x=\"0\" y=\"0\" width=\"2400\" height=\"1600\"/>\n",
       "  </clipPath>\n",
       "</defs>\n",
       "<path clip-path=\"url(#clip3900)\" d=\"\n",
       "M0 1600 L2400 1600 L2400 0 L0 0  Z\n",
       "  \" fill=\"#ffffff\" fill-rule=\"evenodd\" fill-opacity=\"1\"/>\n",
       "<defs>\n",
       "  <clipPath id=\"clip3901\">\n",
       "    <rect x=\"480\" y=\"0\" width=\"1681\" height=\"1600\"/>\n",
       "  </clipPath>\n",
       "</defs>\n",
       "<path clip-path=\"url(#clip3900)\" d=\"\n",
       "M168.627 1487.47 L2352.76 1487.47 L2352.76 47.2441 L168.627 47.2441  Z\n",
       "  \" fill=\"#ffffff\" fill-rule=\"evenodd\" fill-opacity=\"1\"/>\n",
       "<defs>\n",
       "  <clipPath id=\"clip3902\">\n",
       "    <rect x=\"168\" y=\"47\" width=\"2185\" height=\"1441\"/>\n",
       "  </clipPath>\n",
       "</defs>\n",
       "<polyline clip-path=\"url(#clip3902)\" style=\"stroke:#000000; stroke-width:2; stroke-opacity:0.1; fill:none\" points=\"\n",
       "  326.093,1487.47 326.093,47.2441 \n",
       "  \"/>\n",
       "<polyline clip-path=\"url(#clip3902)\" style=\"stroke:#000000; stroke-width:2; stroke-opacity:0.1; fill:none\" points=\"\n",
       "  681.904,1487.47 681.904,47.2441 \n",
       "  \"/>\n",
       "<polyline clip-path=\"url(#clip3902)\" style=\"stroke:#000000; stroke-width:2; stroke-opacity:0.1; fill:none\" points=\"\n",
       "  1037.71,1487.47 1037.71,47.2441 \n",
       "  \"/>\n",
       "<polyline clip-path=\"url(#clip3902)\" style=\"stroke:#000000; stroke-width:2; stroke-opacity:0.1; fill:none\" points=\"\n",
       "  1393.53,1487.47 1393.53,47.2441 \n",
       "  \"/>\n",
       "<polyline clip-path=\"url(#clip3902)\" style=\"stroke:#000000; stroke-width:2; stroke-opacity:0.1; fill:none\" points=\"\n",
       "  1749.34,1487.47 1749.34,47.2441 \n",
       "  \"/>\n",
       "<polyline clip-path=\"url(#clip3902)\" style=\"stroke:#000000; stroke-width:2; stroke-opacity:0.1; fill:none\" points=\"\n",
       "  2105.15,1487.47 2105.15,47.2441 \n",
       "  \"/>\n",
       "<polyline clip-path=\"url(#clip3902)\" style=\"stroke:#000000; stroke-width:2; stroke-opacity:0.1; fill:none\" points=\"\n",
       "  168.627,1134.08 2352.76,1134.08 \n",
       "  \"/>\n",
       "<polyline clip-path=\"url(#clip3902)\" style=\"stroke:#000000; stroke-width:2; stroke-opacity:0.1; fill:none\" points=\"\n",
       "  168.627,778.264 2352.76,778.264 \n",
       "  \"/>\n",
       "<polyline clip-path=\"url(#clip3902)\" style=\"stroke:#000000; stroke-width:2; stroke-opacity:0.1; fill:none\" points=\"\n",
       "  168.627,422.453 2352.76,422.453 \n",
       "  \"/>\n",
       "<polyline clip-path=\"url(#clip3902)\" style=\"stroke:#000000; stroke-width:2; stroke-opacity:0.1; fill:none\" points=\"\n",
       "  168.627,66.6421 2352.76,66.6421 \n",
       "  \"/>\n",
       "<polyline clip-path=\"url(#clip3900)\" style=\"stroke:#000000; stroke-width:4; stroke-opacity:1; fill:none\" points=\"\n",
       "  168.627,1487.47 2352.76,1487.47 \n",
       "  \"/>\n",
       "<polyline clip-path=\"url(#clip3900)\" style=\"stroke:#000000; stroke-width:4; stroke-opacity:1; fill:none\" points=\"\n",
       "  168.627,1487.47 168.627,47.2441 \n",
       "  \"/>\n",
       "<polyline clip-path=\"url(#clip3900)\" style=\"stroke:#000000; stroke-width:4; stroke-opacity:1; fill:none\" points=\"\n",
       "  326.093,1487.47 326.093,1465.87 \n",
       "  \"/>\n",
       "<polyline clip-path=\"url(#clip3900)\" style=\"stroke:#000000; stroke-width:4; stroke-opacity:1; fill:none\" points=\"\n",
       "  681.904,1487.47 681.904,1465.87 \n",
       "  \"/>\n",
       "<polyline clip-path=\"url(#clip3900)\" style=\"stroke:#000000; stroke-width:4; stroke-opacity:1; fill:none\" points=\"\n",
       "  1037.71,1487.47 1037.71,1465.87 \n",
       "  \"/>\n",
       "<polyline clip-path=\"url(#clip3900)\" style=\"stroke:#000000; stroke-width:4; stroke-opacity:1; fill:none\" points=\"\n",
       "  1393.53,1487.47 1393.53,1465.87 \n",
       "  \"/>\n",
       "<polyline clip-path=\"url(#clip3900)\" style=\"stroke:#000000; stroke-width:4; stroke-opacity:1; fill:none\" points=\"\n",
       "  1749.34,1487.47 1749.34,1465.87 \n",
       "  \"/>\n",
       "<polyline clip-path=\"url(#clip3900)\" style=\"stroke:#000000; stroke-width:4; stroke-opacity:1; fill:none\" points=\"\n",
       "  2105.15,1487.47 2105.15,1465.87 \n",
       "  \"/>\n",
       "<polyline clip-path=\"url(#clip3900)\" style=\"stroke:#000000; stroke-width:4; stroke-opacity:1; fill:none\" points=\"\n",
       "  168.627,1134.08 201.389,1134.08 \n",
       "  \"/>\n",
       "<polyline clip-path=\"url(#clip3900)\" style=\"stroke:#000000; stroke-width:4; stroke-opacity:1; fill:none\" points=\"\n",
       "  168.627,778.264 201.389,778.264 \n",
       "  \"/>\n",
       "<polyline clip-path=\"url(#clip3900)\" style=\"stroke:#000000; stroke-width:4; stroke-opacity:1; fill:none\" points=\"\n",
       "  168.627,422.453 201.389,422.453 \n",
       "  \"/>\n",
       "<polyline clip-path=\"url(#clip3900)\" style=\"stroke:#000000; stroke-width:4; stroke-opacity:1; fill:none\" points=\"\n",
       "  168.627,66.6421 201.389,66.6421 \n",
       "  \"/>\n",
       "<g clip-path=\"url(#clip3900)\">\n",
       "<text style=\"fill:#000000; fill-opacity:1; font-family:Arial,Helvetica Neue,Helvetica,sans-serif; font-size:48px; text-anchor:middle;\" transform=\"rotate(0, 326.093, 1541.47)\" x=\"326.093\" y=\"1541.47\">-20</text>\n",
       "</g>\n",
       "<g clip-path=\"url(#clip3900)\">\n",
       "<text style=\"fill:#000000; fill-opacity:1; font-family:Arial,Helvetica Neue,Helvetica,sans-serif; font-size:48px; text-anchor:middle;\" transform=\"rotate(0, 681.904, 1541.47)\" x=\"681.904\" y=\"1541.47\">-10</text>\n",
       "</g>\n",
       "<g clip-path=\"url(#clip3900)\">\n",
       "<text style=\"fill:#000000; fill-opacity:1; font-family:Arial,Helvetica Neue,Helvetica,sans-serif; font-size:48px; text-anchor:middle;\" transform=\"rotate(0, 1037.71, 1541.47)\" x=\"1037.71\" y=\"1541.47\">0</text>\n",
       "</g>\n",
       "<g clip-path=\"url(#clip3900)\">\n",
       "<text style=\"fill:#000000; fill-opacity:1; font-family:Arial,Helvetica Neue,Helvetica,sans-serif; font-size:48px; text-anchor:middle;\" transform=\"rotate(0, 1393.53, 1541.47)\" x=\"1393.53\" y=\"1541.47\">10</text>\n",
       "</g>\n",
       "<g clip-path=\"url(#clip3900)\">\n",
       "<text style=\"fill:#000000; fill-opacity:1; font-family:Arial,Helvetica Neue,Helvetica,sans-serif; font-size:48px; text-anchor:middle;\" transform=\"rotate(0, 1749.34, 1541.47)\" x=\"1749.34\" y=\"1541.47\">20</text>\n",
       "</g>\n",
       "<g clip-path=\"url(#clip3900)\">\n",
       "<text style=\"fill:#000000; fill-opacity:1; font-family:Arial,Helvetica Neue,Helvetica,sans-serif; font-size:48px; text-anchor:middle;\" transform=\"rotate(0, 2105.15, 1541.47)\" x=\"2105.15\" y=\"1541.47\">30</text>\n",
       "</g>\n",
       "<g clip-path=\"url(#clip3900)\">\n",
       "<text style=\"fill:#000000; fill-opacity:1; font-family:Arial,Helvetica Neue,Helvetica,sans-serif; font-size:48px; text-anchor:end;\" transform=\"rotate(0, 144.627, 1151.58)\" x=\"144.627\" y=\"1151.58\">-10</text>\n",
       "</g>\n",
       "<g clip-path=\"url(#clip3900)\">\n",
       "<text style=\"fill:#000000; fill-opacity:1; font-family:Arial,Helvetica Neue,Helvetica,sans-serif; font-size:48px; text-anchor:end;\" transform=\"rotate(0, 144.627, 795.764)\" x=\"144.627\" y=\"795.764\">0</text>\n",
       "</g>\n",
       "<g clip-path=\"url(#clip3900)\">\n",
       "<text style=\"fill:#000000; fill-opacity:1; font-family:Arial,Helvetica Neue,Helvetica,sans-serif; font-size:48px; text-anchor:end;\" transform=\"rotate(0, 144.627, 439.953)\" x=\"144.627\" y=\"439.953\">10</text>\n",
       "</g>\n",
       "<g clip-path=\"url(#clip3900)\">\n",
       "<text style=\"fill:#000000; fill-opacity:1; font-family:Arial,Helvetica Neue,Helvetica,sans-serif; font-size:48px; text-anchor:end;\" transform=\"rotate(0, 144.627, 84.1421)\" x=\"144.627\" y=\"84.1421\">20</text>\n",
       "</g>\n",
       "<polyline clip-path=\"url(#clip3902)\" style=\"stroke:#009af9; stroke-width:12; stroke-opacity:1; fill:none\" points=\"\n",
       "  1328.37,741.415 1302.15,715.069 1275.63,686.479 1249.45,656.223 1222.61,624.681 1192.23,591.969 1143.19,558.858 1057.51,516.484 974.152,502.987 932.537,489.309 \n",
       "  992.684,437.566 1007.4,490.285 1007.56,548.586 995.276,617.003 985.669,666.265 980.904,711.605 978.412,755.851 977.291,799.522 977.338,842.684 978.825,885.355 \n",
       "  982.439,927.498 989.082,968.933 999.581,1009.29 1014.41,1048.06 1033.53,1084.76 1056.44,1119.18 1082.3,1151.53 1110.11,1182.59 1138.58,1214.12 1165.13,1251.3 \n",
       "  1197.72,1266.6 1246.92,1291.36 1251.74,1252.29 \n",
       "  \"/>\n",
       "<polyline clip-path=\"url(#clip3902)\" style=\"stroke:#e26f46; stroke-width:12; stroke-opacity:1; fill:none\" points=\"\n",
       "  1895.49,1446.71 1858.67,1442.01 1820.32,1436.49 1781.61,1429.95 1742.85,1422.23 1704.19,1413.28 1665.7,1403.14 1627.4,1391.94 1589.25,1379.88 1551.18,1367.23 \n",
       "  1513.08,1354.24 1474.79,1341.15 1436.15,1328.1 1396.85,1315.06 1355.94,1301.73 1308.33,1288.09 1303.77,1327.05 1267.98,1325.67 1246.92,1291.36 1217.12,1327.71 \n",
       "  1197.68,1361.56 \n",
       "  \"/>\n",
       "<polyline clip-path=\"url(#clip3902)\" style=\"stroke:#3da44d; stroke-width:12; stroke-opacity:1; fill:none\" points=\"\n",
       "  962.854,572.517 1007.56,548.586 1075,482.721 1153.84,401.236 1222.05,399.598 1306.94,451.444 1280.74,400.257 1255.38,417.265 1283.27,433.58 1258.4,464.852 \n",
       "  1206.24,463.585 1182.98,495.728 \n",
       "  \"/>\n",
       "<polyline clip-path=\"url(#clip3902)\" style=\"stroke:#c271d2; stroke-width:12; stroke-opacity:1; fill:none\" points=\"\n",
       "  1220.42,129.786 1211.15,166.226 1200.68,204.871 1189.3,245.26 1177.9,288.66 1167.81,338.374 1153.84,401.236 1118.98,350.118 1095.32,312.788 1078.48,277.919 \n",
       "  \n",
       "  \"/>\n",
       "<polyline clip-path=\"url(#clip3902)\" style=\"stroke:#ac8d18; stroke-width:12; stroke-opacity:1; fill:none\" points=\"\n",
       "  920.046,452.133 954.708,439.862 992.684,437.566 1074.09,420.325 1137.52,437.793 1199.07,424.823 1280.74,400.257 1286.65,345.499 1307.48,310.12 \n",
       "  \"/>\n",
       "<polyline clip-path=\"url(#clip3902)\" style=\"stroke:#00a9ad; stroke-width:12; stroke-opacity:1; fill:none\" points=\"\n",
       "  1053.88,553.858 1057.51,516.484 1034.18,453.301 962.837,398.142 912.32,370.666 861.094,342.875 805.684,359.056 813.726,395.464 \n",
       "  \"/>\n",
       "<polyline clip-path=\"url(#clip3902)\" style=\"stroke:#ed5d92; stroke-width:12; stroke-opacity:1; fill:none\" points=\"\n",
       "  625.893,532.193 653.343,506.651 681.547,478.665 708.629,447.524 732.225,410.946 747.026,364.885 701.285,365.665 662.065,365.44 \n",
       "  \"/>\n",
       "<polyline clip-path=\"url(#clip3902)\" style=\"stroke:#c68125; stroke-width:12; stroke-opacity:1; fill:none\" points=\"\n",
       "  1089.06,639.697 1090.51,598.815 1094.59,546.169 1075,482.721 1034.18,453.301 1031.16,408.854 1026.74,369.798 \n",
       "  \"/>\n",
       "<polyline clip-path=\"url(#clip3902)\" style=\"stroke:#00a98d; stroke-width:12; stroke-opacity:1; fill:none\" points=\"\n",
       "  777.353,88.0053 797.437,120.104 819.635,154.794 843.699,195.579 879.97,170.57 908.093,141.365 931.381,111.688 \n",
       "  \"/>\n",
       "<polyline clip-path=\"url(#clip3902)\" style=\"stroke:#8e971d; stroke-width:12; stroke-opacity:1; fill:none\" points=\"\n",
       "  681.153,260.99 708.14,287.964 732.841,321.469 747.026,364.885 805.684,359.056 \n",
       "  \"/>\n",
       "<polyline clip-path=\"url(#clip3902)\" style=\"stroke:#00a8cb; stroke-width:12; stroke-opacity:1; fill:none\" points=\"\n",
       "  806.835,208.429 843.699,195.579 854.791,245.645 859.699,293.55 861.094,342.875 \n",
       "  \"/>\n",
       "<polyline clip-path=\"url(#clip3902)\" style=\"stroke:#9b7fe8; stroke-width:12; stroke-opacity:1; fill:none\" points=\"\n",
       "  1146.09,598.096 1143.19,558.858 1171.23,531.335 1182.98,495.728 \n",
       "  \"/>\n",
       "<polyline clip-path=\"url(#clip3902)\" style=\"stroke:#608cf6; stroke-width:12; stroke-opacity:1; fill:none\" points=\"\n",
       "  1117.27,392.953 1153.84,401.236 1206.24,463.585 1229.33,497.789 \n",
       "  \"/>\n",
       "<polyline clip-path=\"url(#clip3902)\" style=\"stroke:#f05f73; stroke-width:12; stroke-opacity:1; fill:none\" points=\"\n",
       "  1340.44,1212.21 1324.77,1247.39 1308.33,1288.09 1246.92,1291.36 \n",
       "  \"/>\n",
       "<polyline clip-path=\"url(#clip3902)\" style=\"stroke:#dd64b5; stroke-width:12; stroke-opacity:1; fill:none\" points=\"\n",
       "  1133.66,1275.62 1165.13,1251.3 1197.72,1266.6 \n",
       "  \"/>\n",
       "<polyline clip-path=\"url(#clip3902)\" style=\"stroke:#6b9e32; stroke-width:12; stroke-opacity:1; fill:none\" points=\"\n",
       "  1316.13,382.698 1280.74,400.257 1283.27,433.58 \n",
       "  \"/>\n",
       "<polyline clip-path=\"url(#clip3902)\" style=\"stroke:#718c69; stroke-width:12; stroke-opacity:1; fill:none\" points=\"\n",
       "  1286.83,491.948 1258.4,464.852 \n",
       "  \"/>\n",
       "<polyline clip-path=\"url(#clip3902)\" style=\"stroke:#47988b; stroke-width:12; stroke-opacity:1; fill:none\" points=\"\n",
       "  924.234,586.345 962.854,572.517 \n",
       "  \"/>\n",
       "</svg>\n"
      ]
     },
     "execution_count": 853,
     "metadata": {},
     "output_type": "execute_result"
    }
   ],
   "source": [
    "#add_a_node!(graph);\n",
    "global_optim!(graph);\n",
    "graphplot(graph, chains)"
   ]
  },
  {
   "cell_type": "code",
   "execution_count": 731,
   "metadata": {},
   "outputs": [],
   "source": [
    "function max_force(graph)\n",
    "    maximum(x -> norm(x.force),\n",
    "            filter(x -> ~isnothing(x.position), collect(values(graph))))\n",
    "    end;"
   ]
  },
  {
   "cell_type": "code",
   "execution_count": 794,
   "metadata": {},
   "outputs": [],
   "source": [
    "function place_a_node!(graph)\n",
    "    new_node = nothing\n",
    "    for node in values(graph), neighbors in node.neighbors, neighbour in neighbors\n",
    "        if isnothing(node.position)\n",
    "            continue\n",
    "            end;\n",
    "        if ~isnothing(neighbour) && isnothing(graph[neighbour].position)\n",
    "            graph[neighbour].position = node.position .+ (0.3, 0.0)\n",
    "            graph[neighbour].previous_position = graph[neighbour].position\n",
    "            graph[neighbour].velocity = (0.0, 0.0)\n",
    "            graph[neighbour].previous_velocity = (0.0, 0.0)\n",
    "            new_node = neighbour\n",
    "            break\n",
    "            end;\n",
    "        end;\n",
    "    return new_node\n",
    "    end;\n"
   ]
  },
  {
   "cell_type": "code",
   "execution_count": 856,
   "metadata": {},
   "outputs": [],
   "source": [
    "## Stillou Webou\n",
    "const coeff = 4.1\n",
    "function three_body_energy(x0, x1, x2, x3, x4, x5)\n",
    "    u0 = -x0 + x2\n",
    "    u1 = -x1 + x3\n",
    "    u2 = -x2 + x4\n",
    "    u3 = -x3 + x5\n",
    "    return coeff*(-1 + (u0*u2 + u1*u3)/sqrt( (u0^2 + u1^2)*(u2^2 + u3^2) ))^2\n",
    "    end;\n",
    "\n",
    "function three_body_gradient(x0, x1, x2, x3, x4, x5)\n",
    "    u0 = -x0 + x2\n",
    "    u1 = -x2\n",
    "    u2 = u1 + x4\n",
    "    u3 = -x1 + x3\n",
    "    u4 = -x3\n",
    "    u5 = u4 + x5\n",
    "    u6 = u0*u2 + u3*u5\n",
    "    u7 = u0^2 + u3^2\n",
    "    u8 = 1/sqrt(u7)\n",
    "    u9 = u2^2 + u5^2\n",
    "    u10 = 1/sqrt(u9)\n",
    "    u11 = u10*u8\n",
    "    u12 = u11*u6 - 1\n",
    "    u13 = x2 - x4\n",
    "    u14 = 2*u11\n",
    "    u15 = 2*u6\n",
    "    u16 = u10*u15/u7^(3/2)\n",
    "    u17 = x3 - x5\n",
    "    u18 = u15*u8/u9^(3/2)\n",
    "     \n",
    "    return (u12*(u0*u16 + u13*u14), \n",
    "            u12*(u14*u17 + u16*u3), \n",
    "            u12*(u14*(x0 - 2*x2 + x4) + u16*(u1 + x0) + u18*u2), \n",
    "            u12*(u14*(x1 - 2*x3 + x5) + u16*(u4 + x1) + u18*u5), \n",
    "            u12*(u0*u14 + u13*u18), \n",
    "            u12*(u14*u3 + u17*u18) ).*(coeff)\n",
    "    end;"
   ]
  },
  {
   "cell_type": "code",
   "execution_count": 902,
   "metadata": {},
   "outputs": [
    {
     "data": {
      "text/plain": [
       "BenchmarkTools.Trial: \n",
       "  memory estimate:  0 bytes\n",
       "  allocs estimate:  0\n",
       "  --------------\n",
       "  minimum time:     68.175 ns (0.00% GC)\n",
       "  median time:      76.779 ns (0.00% GC)\n",
       "  mean time:        76.973 ns (0.00% GC)\n",
       "  maximum time:     148.875 ns (0.00% GC)\n",
       "  --------------\n",
       "  samples:          10000\n",
       "  evals/sample:     973"
      ]
     },
     "execution_count": 902,
     "metadata": {},
     "output_type": "execute_result"
    }
   ],
   "source": [
    "@benchmark (x)^(3/2) setup=(x=rand())"
   ]
  },
  {
   "cell_type": "code",
   "execution_count": 901,
   "metadata": {},
   "outputs": [
    {
     "data": {
      "text/plain": [
       "BenchmarkTools.Trial: \n",
       "  memory estimate:  0 bytes\n",
       "  allocs estimate:  0\n",
       "  --------------\n",
       "  minimum time:     7.191 ns (0.00% GC)\n",
       "  median time:      7.384 ns (0.00% GC)\n",
       "  mean time:        7.639 ns (0.00% GC)\n",
       "  maximum time:     27.713 ns (0.00% GC)\n",
       "  --------------\n",
       "  samples:          10000\n",
       "  evals/sample:     999"
      ]
     },
     "execution_count": 901,
     "metadata": {},
     "output_type": "execute_result"
    }
   ],
   "source": [
    "@benchmark sqrt(x)^3 setup=(x=rand())"
   ]
  },
  {
   "cell_type": "code",
   "execution_count": 928,
   "metadata": {},
   "outputs": [],
   "source": [
    "norm2(u) = sum( u.^2 );"
   ]
  },
  {
   "cell_type": "code",
   "execution_count": 946,
   "metadata": {},
   "outputs": [],
   "source": [
    "function three_body_gradient2(u, v)\n",
    "\n",
    "    n2_u = norm2(u)\n",
    "    n2_v = norm2(v)\n",
    "    cross = u[1]*v[2] - u[2]*v[1]\n",
    "\n",
    "    cross_nunv = cross / sqrt( n2_u * n2_v )\n",
    "    u3 = cross_nunv / n2_u\n",
    "    u4 = cross_nunv / n2_v\n",
    "\n",
    "    return (u3*u[2], -u3*u[1]), (-u4*v[2], u4*v[1])\n",
    "    end;"
   ]
  },
  {
   "cell_type": "code",
   "execution_count": 957,
   "metadata": {},
   "outputs": [],
   "source": [
    "function three_body_gradient3(u, v)\n",
    "    x1, y1 = u\n",
    "    x2, y2 = v\n",
    "    n2_u = x1^2 + y1^2\n",
    "    n2_v = x2^2 + y2^2\n",
    "    cross = x1*y2 - x2*y1\n",
    "\n",
    "    cross_nunv = cross / sqrt( n2_u * n2_v )\n",
    "    u3 = cross_nunv / n2_u\n",
    "    u4 = cross_nunv / n2_v\n",
    "\n",
    "    return (u3*y1, -u3*x1), (-u4*y2, u4*x2)\n",
    "    end;"
   ]
  },
  {
   "cell_type": "code",
   "execution_count": 958,
   "metadata": {},
   "outputs": [
    {
     "data": {
      "text/plain": [
       "(0.3554843703280557, 0.601980300711811)"
      ]
     },
     "execution_count": 958,
     "metadata": {},
     "output_type": "execute_result"
    }
   ],
   "source": [
    "u = Tuple(rand(2))\n",
    "v = Tuple(rand(2))"
   ]
  },
  {
   "cell_type": "code",
   "execution_count": 959,
   "metadata": {},
   "outputs": [
    {
     "data": {
      "text/plain": [
       "((0.019605920988138417, 0.19605920988138417), (-0.019605920988138417, 0.19605920988138417))"
      ]
     },
     "execution_count": 959,
     "metadata": {},
     "output_type": "execute_result"
    }
   ],
   "source": [
    "three_body_gradient3((1.0, -0.1), (-1.0, -0.1))"
   ]
  },
  {
   "cell_type": "code",
   "execution_count": 993,
   "metadata": {},
   "outputs": [],
   "source": [
    "distance1(u, v) = sqrt( sum( (u .- v).^2 ) )\n",
    "function distance2(u, v)\n",
    "    x, y = u\n",
    "    x1, y1 = v\n",
    "    \n",
    "    return sqrt((x - x1)^2 + (y - y1)^2)\n",
    "    end;\n",
    "\n",
    "function distance3(x, y, x1, y1)\n",
    "    #x, y = u\n",
    "    #x1, y1 = v\n",
    "    \n",
    "    return sqrt((x - x1)^2 + (y - y1)^2)\n",
    "    end;\n"
   ]
  },
  {
   "cell_type": "code",
   "execution_count": 989,
   "metadata": {},
   "outputs": [
    {
     "data": {
      "text/plain": [
       "BenchmarkTools.Trial: \n",
       "  memory estimate:  96 bytes\n",
       "  allocs estimate:  1\n",
       "  --------------\n",
       "  minimum time:     40.721 ns (0.00% GC)\n",
       "  median time:      46.164 ns (0.00% GC)\n",
       "  mean time:        72.466 ns (30.23% GC)\n",
       "  maximum time:     6.706 μs (98.60% GC)\n",
       "  --------------\n",
       "  samples:          10000\n",
       "  evals/sample:     991"
      ]
     },
     "execution_count": 989,
     "metadata": {},
     "output_type": "execute_result"
    }
   ],
   "source": [
    "@benchmark distance1(u, v) setup=(u=rand(2); v=rand(2))"
   ]
  },
  {
   "cell_type": "code",
   "execution_count": 990,
   "metadata": {},
   "outputs": [
    {
     "data": {
      "text/plain": [
       "BenchmarkTools.Trial: \n",
       "  memory estimate:  16 bytes\n",
       "  allocs estimate:  1\n",
       "  --------------\n",
       "  minimum time:     23.362 ns (0.00% GC)\n",
       "  median time:      25.364 ns (0.00% GC)\n",
       "  mean time:        29.560 ns (9.65% GC)\n",
       "  maximum time:     4.426 μs (99.26% GC)\n",
       "  --------------\n",
       "  samples:          10000\n",
       "  evals/sample:     996"
      ]
     },
     "execution_count": 990,
     "metadata": {},
     "output_type": "execute_result"
    }
   ],
   "source": [
    "@benchmark distance2(u, v) setup=(u=Tuple(rand(2)); v=Tuple(rand(2)))"
   ]
  },
  {
   "cell_type": "code",
   "execution_count": 991,
   "metadata": {},
   "outputs": [
    {
     "data": {
      "text/plain": [
       "BenchmarkTools.Trial: \n",
       "  memory estimate:  0 bytes\n",
       "  allocs estimate:  0\n",
       "  --------------\n",
       "  minimum time:     6.817 ns (0.00% GC)\n",
       "  median time:      6.822 ns (0.00% GC)\n",
       "  mean time:        7.115 ns (0.00% GC)\n",
       "  maximum time:     36.926 ns (0.00% GC)\n",
       "  --------------\n",
       "  samples:          10000\n",
       "  evals/sample:     1000"
      ]
     },
     "execution_count": 991,
     "metadata": {},
     "output_type": "execute_result"
    }
   ],
   "source": [
    "@benchmark distance4(u, v) setup=(u=rand(2); v=rand(2))"
   ]
  },
  {
   "cell_type": "code",
   "execution_count": 985,
   "metadata": {},
   "outputs": [
    {
     "data": {
      "text/plain": [
       "BenchmarkTools.Trial: \n",
       "  memory estimate:  16 bytes\n",
       "  allocs estimate:  1\n",
       "  --------------\n",
       "  minimum time:     23.905 ns (0.00% GC)\n",
       "  median time:      26.117 ns (0.00% GC)\n",
       "  mean time:        30.061 ns (9.32% GC)\n",
       "  maximum time:     4.215 μs (99.17% GC)\n",
       "  --------------\n",
       "  samples:          10000\n",
       "  evals/sample:     996"
      ]
     },
     "execution_count": 985,
     "metadata": {},
     "output_type": "execute_result"
    }
   ],
   "source": [
    "@benchmark distance2(u, v) setup=(u=Tuple(rand(2)); v=Tuple(rand(2)))"
   ]
  },
  {
   "cell_type": "code",
   "execution_count": null,
   "metadata": {},
   "outputs": [],
   "source": [
    "@benchmark distance3(u..., v...) setup=(u=rand(2); v=rand(2))"
   ]
  },
  {
   "cell_type": "code",
   "execution_count": 996,
   "metadata": {},
   "outputs": [
    {
     "data": {
      "text/plain": [
       "BenchmarkTools.Trial: \n",
       "  memory estimate:  0 bytes\n",
       "  allocs estimate:  0\n",
       "  --------------\n",
       "  minimum time:     6.818 ns (0.00% GC)\n",
       "  median time:      7.285 ns (0.00% GC)\n",
       "  mean time:        7.146 ns (0.00% GC)\n",
       "  maximum time:     26.314 ns (0.00% GC)\n",
       "  --------------\n",
       "  samples:          10000\n",
       "  evals/sample:     1000"
      ]
     },
     "execution_count": 996,
     "metadata": {},
     "output_type": "execute_result"
    }
   ],
   "source": [
    "@benchmark distance3(a, b, c, d) setup=(a=rand(); b=rand(); c=rand(); d=rand())"
   ]
  },
  {
   "cell_type": "code",
   "execution_count": 960,
   "metadata": {},
   "outputs": [
    {
     "data": {
      "text/plain": [
       "BenchmarkTools.Trial: \n",
       "  memory estimate:  0 bytes\n",
       "  allocs estimate:  0\n",
       "  --------------\n",
       "  minimum time:     22.024 ns (0.00% GC)\n",
       "  median time:      22.048 ns (0.00% GC)\n",
       "  mean time:        23.080 ns (0.00% GC)\n",
       "  maximum time:     53.119 ns (0.00% GC)\n",
       "  --------------\n",
       "  samples:          10000\n",
       "  evals/sample:     996"
      ]
     },
     "execution_count": 960,
     "metadata": {},
     "output_type": "execute_result"
    }
   ],
   "source": [
    "@benchmark three_body_gradient3(u, v) setup=(u=rand(2); v=rand(2))"
   ]
  },
  {
   "cell_type": "code",
   "execution_count": 978,
   "metadata": {},
   "outputs": [
    {
     "name": "stdout",
     "output_type": "stream",
     "text": [
      "Variables\n",
      "  #self#\u001b[36m::Core.Compiler.Const(distance2, false)\u001b[39m\n",
      "  u\u001b[36m::Array{Float64,1}\u001b[39m\n",
      "  v\u001b[36m::Array{Float64,1}\u001b[39m\n",
      "  x\u001b[36m::Float64\u001b[39m\n",
      "  @_5\u001b[36m::Int64\u001b[39m\n",
      "  y\u001b[36m::Float64\u001b[39m\n",
      "  x1\u001b[36m::Float64\u001b[39m\n",
      "  @_8\u001b[36m::Int64\u001b[39m\n",
      "  y1\u001b[36m::Float64\u001b[39m\n",
      "\n",
      "Body\u001b[36m::Float64\u001b[39m\n",
      "\u001b[90m1 ─\u001b[39m %1  = Base.indexed_iterate(u, 1)\u001b[36m::Core.Compiler.PartialStruct(Tuple{Float64,Int64}, Any[Float64, Core.Compiler.Const(2, false)])\u001b[39m\n",
      "\u001b[90m│  \u001b[39m       (x = Core.getfield(%1, 1))\n",
      "\u001b[90m│  \u001b[39m       (@_5 = Core.getfield(%1, 2))\n",
      "\u001b[90m│  \u001b[39m %4  = Base.indexed_iterate(u, 2, @_5::Core.Compiler.Const(2, false))\u001b[36m::Core.Compiler.PartialStruct(Tuple{Float64,Int64}, Any[Float64, Core.Compiler.Const(3, false)])\u001b[39m\n",
      "\u001b[90m│  \u001b[39m       (y = Core.getfield(%4, 1))\n",
      "\u001b[90m│  \u001b[39m %6  = Base.indexed_iterate(v, 1)\u001b[36m::Core.Compiler.PartialStruct(Tuple{Float64,Int64}, Any[Float64, Core.Compiler.Const(2, false)])\u001b[39m\n",
      "\u001b[90m│  \u001b[39m       (x1 = Core.getfield(%6, 1))\n",
      "\u001b[90m│  \u001b[39m       (@_8 = Core.getfield(%6, 2))\n",
      "\u001b[90m│  \u001b[39m %9  = Base.indexed_iterate(v, 2, @_8::Core.Compiler.Const(2, false))\u001b[36m::Core.Compiler.PartialStruct(Tuple{Float64,Int64}, Any[Float64, Core.Compiler.Const(3, false)])\u001b[39m\n",
      "\u001b[90m│  \u001b[39m       (y1 = Core.getfield(%9, 1))\n",
      "\u001b[90m│  \u001b[39m %11 = (x - x1)\u001b[36m::Float64\u001b[39m\n",
      "\u001b[90m│  \u001b[39m %12 = Core.apply_type(Base.Val, 2)\u001b[36m::Core.Compiler.Const(Val{2}, false)\u001b[39m\n",
      "\u001b[90m│  \u001b[39m %13 = (%12)()\u001b[36m::Core.Compiler.Const(Val{2}(), false)\u001b[39m\n",
      "\u001b[90m│  \u001b[39m %14 = Base.literal_pow(Main.:^, %11, %13)\u001b[36m::Float64\u001b[39m\n",
      "\u001b[90m│  \u001b[39m %15 = (y - y1)\u001b[36m::Float64\u001b[39m\n",
      "\u001b[90m│  \u001b[39m %16 = Core.apply_type(Base.Val, 2)\u001b[36m::Core.Compiler.Const(Val{2}, false)\u001b[39m\n",
      "\u001b[90m│  \u001b[39m %17 = (%16)()\u001b[36m::Core.Compiler.Const(Val{2}(), false)\u001b[39m\n",
      "\u001b[90m│  \u001b[39m %18 = Base.literal_pow(Main.:^, %15, %17)\u001b[36m::Float64\u001b[39m\n",
      "\u001b[90m│  \u001b[39m %19 = (%14 + %18)\u001b[36m::Float64\u001b[39m\n",
      "\u001b[90m│  \u001b[39m %20 = Main.sqrt(%19)\u001b[36m::Float64\u001b[39m\n",
      "\u001b[90m└──\u001b[39m       return %20\n"
     ]
    }
   ],
   "source": [
    "@code_warntype distance2(rand(2), rand(2))"
   ]
  },
  {
   "cell_type": "code",
   "execution_count": 881,
   "metadata": {},
   "outputs": [],
   "source": [
    "function reset_forces!(graph)\n",
    "    for node in values(graph)\n",
    "        if ~isnothing(node.position)\n",
    "            node.previous_force = node.force;\n",
    "            node.force = (0.0, 0.0);\n",
    "            end;\n",
    "        end;\n",
    "    end;"
   ]
  },
  {
   "cell_type": "code",
   "execution_count": 882,
   "metadata": {},
   "outputs": [
    {
     "name": "stdout",
     "output_type": "stream",
     "text": [
      "Node(Any[(\"SM_2014_196480582\", \"CMS_2014_195543025\")], (-0.11749145747489273, -8.613983940894427), (0.0441738467652383, 0.09753262575871333), (0.011039322365081983, 0.024032006302596498), nothing, (0.24990560446932542, -5.246164259292811), (0.0, 0.0), (0.011018930941714244, 0.02405216719669001), nothing)\n"
     ]
    }
   ],
   "source": [
    "n = graph[\"AAC_2014_184939712\"];\n",
    "println(n)"
   ]
  },
  {
   "cell_type": "code",
   "execution_count": 897,
   "metadata": {},
   "outputs": [],
   "source": [
    "# Spring (+2 power)\n",
    "# F = (-x, -y)\n",
    "spring_force(u) = -2 .* u;"
   ]
  },
  {
   "cell_type": "code",
   "execution_count": 885,
   "metadata": {},
   "outputs": [
    {
     "name": "stdout",
     "output_type": "stream",
     "text": [
      "SM_2014_196480582  CMS_2014_195543025\n",
      "VM_2001_178135232  RR_2003_070260753\n",
      "ML_2012_177538619  CR_2013_177122986\n",
      "GM_2008_131498746  DS_2014_195372778\n",
      "AM_1999_103665013  CJE_2010_162509553\n",
      "MI_2011_164630163  WZ_2012_164985085\n",
      "MW_2017_221469125  "
     ]
    },
    {
     "ename": "ArgumentError",
     "evalue": "ArgumentError: `nothing` should not be printed; use `show`, `repr`, or custom output instead.",
     "output_type": "error",
     "traceback": [
      "ArgumentError: `nothing` should not be printed; use `show`, `repr`, or custom output instead.",
      "",
      "Stacktrace:",
      " [1] print(::IJulia.IJuliaStdio{Base.PipeEndpoint}, ::Nothing) at ./show.jl:587",
      " [2] print(::IJulia.IJuliaStdio{Base.PipeEndpoint}, ::String, ::String, ::Vararg{Any,N} where N) at ./strings/io.jl:48",
      " [3] println(::IJulia.IJuliaStdio{Base.PipeEndpoint}, ::String, ::Vararg{Any,N} where N) at ./strings/io.jl:75",
      " [4] println(::String, ::String, ::Vararg{Any,N} where N) at ./coreio.jl:4",
      " [5] top-level scope at ./In[885]:3"
     ]
    }
   ],
   "source": [
    "for node in values(graph)\n",
    "    if isnothing(node.position)\n",
    "        continue\n",
    "        end;\n",
    "    \n",
    "    for (left_name, right_name) in node.neighbors\n",
    "        if !isnothing(left_name) && !isnothing(graph[left_name].position)\n",
    "            left = graph[left]\n",
    "            # Compute pair force\n",
    "            u = node.position .- left.position\n",
    "            F = spring_force(u)\n",
    "            left.force = left.force .- F\n",
    "            node.force = node.force .+ F\n",
    "            \n",
    "            if !isnothing(right_name) && !isnothing(graph[right_name].position)\n",
    "                right = graph[right]\n",
    "                v = right.position .- node.position\n",
    "                # Compute triplet force\n",
    "                \n",
    "        println(left, \"  \", right)\n",
    "        end;\n",
    "        end;"
   ]
  },
  {
   "cell_type": "code",
   "execution_count": null,
   "metadata": {},
   "outputs": [],
   "source": [
    "function graph_gradient!a(graph)\n",
    "    \n",
    "    # Linked\n",
    "    for chain in graph.chains\n",
    "        left, center = graph.nodes[chain[1]], graph.nodes[chain[2]]\n",
    "        x1, y1 = coords[1, left], coords[2, left]\n",
    "        x2, y2 = coords[1, center], coords[2, center]\n",
    "        for k in 3:length(chain)\n",
    "            right = graph.nodes[chain[k]]\n",
    "            x3, y3 = coords[1, right], coords[2, right]\n",
    "            \n",
    "            # pair\n",
    "            u = x2 - x1\n",
    "            v = y2 - y1\n",
    "            grad = attractive_gradient(u, v)\n",
    "            \n",
    "            G[1, left] -= grad[1]\n",
    "            G[2, left] -= grad[2]\n",
    "            G[1, center] += grad[1]\n",
    "            G[2, center] += grad[2]\n",
    "            \n",
    "            # three body\n",
    "            grad3 = three_body_gradient(x1, y1, x2, y2, x3, y3)\n",
    "            \n",
    "            G[1, left] += grad3[1]\n",
    "            G[2, left] += grad3[2]\n",
    "            G[1, center] += grad3[3]\n",
    "            G[2, center] += grad3[4]\n",
    "            G[1, right] += grad3[5]\n",
    "            G[2, right] += grad3[6]\n",
    "            \n",
    "            left = center\n",
    "            center = right\n",
    "            x1, y1 = x2, y2\n",
    "            x2, y2 = x3, y3\n",
    "            end;\n",
    "        \n",
    "        # the last pair\n",
    "        u = x2 - x1\n",
    "        v = y2 - y1\n",
    "        grad = attractive_gradient(u, v)\n",
    "\n",
    "        G[1, left] -= grad[1]\n",
    "        G[2, left] -= grad[2]\n",
    "        G[1, center] += grad[1]\n",
    "        G[2, center] += grad[2]\n",
    "        \n",
    "        end;\n",
    "    \n",
    "    # Repulsive\n",
    "    # Todo: insert Barnes Hut here...\n",
    "    for i in 1:length(graph.nodes)\n",
    "        x1, y1 = coords[1, i], coords[2, i]\n",
    "        for j in i+1:length(graph.nodes)\n",
    "            x2, y2 = coords[1, j], coords[2, j]\n",
    "            u = x2 - x1\n",
    "            v = y2 - y1\n",
    "            grad = repulsive_gradient(u, v)\n",
    "            G[1, i] -= grad[1]\n",
    "            G[2, i] -= grad[2]\n",
    "            G[1, j] += grad[1]\n",
    "            G[2, j] += grad[2]\n",
    "            end;\n",
    "        end;\n",
    "\n",
    "    \n",
    "    end;"
   ]
  }
 ],
 "metadata": {
  "kernelspec": {
   "display_name": "Julia 1.2.0",
   "language": "julia",
   "name": "julia-1.2"
  },
  "language_info": {
   "file_extension": ".jl",
   "mimetype": "application/julia",
   "name": "julia",
   "version": "1.2.0"
  }
 },
 "nbformat": 4,
 "nbformat_minor": 2
}
