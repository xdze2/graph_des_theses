{
 "cells": [
  {
   "cell_type": "code",
   "execution_count": 89,
   "metadata": {},
   "outputs": [
    {
     "name": "stdout",
     "output_type": "stream",
     "text": [
      "\u001b[32m\u001b[1m Resolving\u001b[22m\u001b[39m package versions...\n",
      "\u001b[32m\u001b[1m  Updating\u001b[22m\u001b[39m `~/.julia/environments/v1.2/Project.toml`\n",
      "\u001b[90m [no changes]\u001b[39m\n",
      "\u001b[32m\u001b[1m  Updating\u001b[22m\u001b[39m `~/.julia/environments/v1.2/Manifest.toml`\n",
      "\u001b[90m [no changes]\u001b[39m\n",
      "\u001b[32m\u001b[1m Resolving\u001b[22m\u001b[39m package versions...\n",
      "\u001b[32m\u001b[1m  Updating\u001b[22m\u001b[39m `~/.julia/environments/v1.2/Project.toml`\n",
      " \u001b[90m [f6369f11]\u001b[39m\u001b[92m + ForwardDiff v0.10.7\u001b[39m\n",
      "\u001b[32m\u001b[1m  Updating\u001b[22m\u001b[39m `~/.julia/environments/v1.2/Manifest.toml`\n",
      "\u001b[90m [no changes]\u001b[39m\n"
     ]
    }
   ],
   "source": [
    "# install\n",
    "using Pkg\n",
    "\n",
    "#Pkg.add(\"NLsolve\")\n",
    "Pkg.add(\"Optim\")\n",
    "Pkg.add(\"ForwardDiff\")"
   ]
  },
  {
   "cell_type": "markdown",
   "metadata": {},
   "source": [
    "A graph is usualy given by the list of links [(source, target), ...]. However, for the particular type of graph here, chains of nodes are considered. So the graph is given by chains of nodes: [[A1, A2, ...], ...]."
   ]
  },
  {
   "cell_type": "code",
   "execution_count": null,
   "metadata": {},
   "outputs": [],
   "source": [
    "using Plots"
   ]
  },
  {
   "cell_type": "code",
   "execution_count": 90,
   "metadata": {},
   "outputs": [],
   "source": [
    "using(ForwardDiff)"
   ]
  },
  {
   "cell_type": "code",
   "execution_count": 214,
   "metadata": {},
   "outputs": [],
   "source": [
    "graph = [[\"074559265\", \"033293546\", \"177194634\", \"132327031\", \"05942608X\", \"147936594\",\n",
    "        \"194946746\", \"20308523X\", \"160289750\", \"103659625\", \"103664262\", \"07456501X\",\n",
    "        \"074559192\", \"074576127\", \"113270321\", \"123899249\", \"122925262\", \"121644545\",\n",
    "        \"122935314\", \"13235103X\", \"149658192\", \"149531125\", \"151099103\", \"168078465\",\n",
    "        \"17817310X\", \"18105938X\", \"181232529\", \"195092317\", \"202363856\"],\n",
    "    [\"069862753\", \"033922020\", \"185417396\", \"185923089\", \"161170161\", \"188021574\",\n",
    "        \"188160396\", \"188705945\", \"189504048\", \"189565624\", \"189997680\", \"190237201\",\n",
    "        \"06986263X\", \"074589644\", \"076964361\", \"076694348\", \"076969576\", \"083593217\",\n",
    "        \"110189159\", \"129545279\"], [\"112512380\", \"109209265\", \"185124100\", \"180818260\",\n",
    "        \"185775926\", \"185887015\", \"187849390\", \"18786425X\", \"188021574\", \"112508901\"],\n",
    "    [\"129545678\", \"129545279\", \"140093052\", \"154959588\", \"155289756\", \"176736999\",\n",
    "        \"177538619\", \"179791338\", \"177523824\", \"195092317\"],\n",
    "    [\"177539135\", \"177538619\", \"200874586\", \"241318939\"],\n",
    "    [\"074576127\", \"168078465\", \"181232529\"], [\"188160396\", \"236926446\"]];"
   ]
  },
  {
   "cell_type": "code",
   "execution_count": 126,
   "metadata": {},
   "outputs": [],
   "source": [
    "graph = [[\"one\", \"two\", \"three\"],\n",
    "         [\"two\", \"four\", \"five\"]];"
   ]
  },
  {
   "cell_type": "code",
   "execution_count": 215,
   "metadata": {},
   "outputs": [
    {
     "name": "stdout",
     "output_type": "stream",
     "text": [
      "#nodes: 70\n",
      "#chains: 7\n"
     ]
    }
   ],
   "source": [
    "nodes = Set(n for ch in graph for n in ch);\n",
    "println(\"#nodes: \", length(nodes))\n",
    "println(\"#chains: \", length(graph))"
   ]
  },
  {
   "cell_type": "code",
   "execution_count": 236,
   "metadata": {},
   "outputs": [
    {
     "data": {
      "text/plain": [
       "70×2 Array{Float64,2}:\n",
       " 2.98792   0.268918   \n",
       " 2.95179   0.535671   \n",
       " 2.89189   0.798111   \n",
       " 2.8087    1.05412    \n",
       " 2.70291   1.30165    \n",
       " 2.57535   1.5387     \n",
       " 2.42705   1.76336    \n",
       " 2.25921   1.97382    \n",
       " 2.07319   2.16838    \n",
       " 1.87047   2.34549    \n",
       " 1.65269   2.50372    \n",
       " 1.42161   2.64179    \n",
       " 1.17908   2.75858    \n",
       " ⋮                    \n",
       " 1.65269  -2.50372    \n",
       " 1.87047  -2.34549    \n",
       " 2.07319  -2.16838    \n",
       " 2.25921  -1.97382    \n",
       " 2.42705  -1.76336    \n",
       " 2.57535  -1.5387     \n",
       " 2.70291  -1.30165    \n",
       " 2.8087   -1.05412    \n",
       " 2.89189  -0.798111   \n",
       " 2.95179  -0.535671   \n",
       " 2.98792  -0.268918   \n",
       " 3.0      -7.34788e-16"
      ]
     },
     "execution_count": 236,
     "metadata": {},
     "output_type": "execute_result"
    }
   ],
   "source": [
    "nodes_index = Dict(n=>k for (k, n) in enumerate(nodes));\n",
    "N = length(nodes_index)\n",
    "coords = vcat([[3*cos(k*2*pi/N) 3*sin(k*2*pi/N)] for k in 1:N]...)"
   ]
  },
  {
   "cell_type": "markdown",
   "metadata": {},
   "source": [
    "Next we need a function which compute the system energy (and the forces?) for a given graph and a list of nodes coordinates. Folowing classical approach [Fruchterman and Reingold 1991](http://www.mathe2.uni-bayreuth.de/axel/papers/reingold:graph_drawing_by_force_directed_placement.pdf) there is an attractive force -between linked nodes- and repulsive forces between every nodes. In addition, here we want a torque at each node in a chain to rigidify the line. Maybe, a global gravity field would be required to densify the graph (keep disconected parts). \n",
    "\n",
    "$$\n",
    "f_{attractive} = d^2/k \\\\\n",
    "f_{repulsive} = -k^2/d\n",
    "$$"
   ]
  },
  {
   "cell_type": "code",
   "execution_count": 217,
   "metadata": {},
   "outputs": [
    {
     "data": {
      "text/plain": [
       "70×2 Array{Float64,2}:\n",
       " 0.854739   0.866378 \n",
       " 0.0419924  0.143998 \n",
       " 0.0233209  0.424956 \n",
       " 0.694477   0.6639   \n",
       " 0.110073   0.834298 \n",
       " 0.739879   0.788624 \n",
       " 0.534901   0.144859 \n",
       " 0.127812   0.470448 \n",
       " 0.142576   0.498268 \n",
       " 0.477738   0.112229 \n",
       " 0.0536112  0.805004 \n",
       " 0.414631   0.121816 \n",
       " 0.548176   0.882847 \n",
       " ⋮                   \n",
       " 0.396586   0.460641 \n",
       " 0.961782   0.341588 \n",
       " 0.878201   0.873318 \n",
       " 0.42222    0.0770097\n",
       " 0.105859   0.409078 \n",
       " 0.146886   0.051248 \n",
       " 0.418328   0.545573 \n",
       " 0.166959   0.185402 \n",
       " 0.771641   0.0069368\n",
       " 0.702356   0.0754392\n",
       " 0.0939552  0.103158 \n",
       " 0.864095   0.663978 "
      ]
     },
     "execution_count": 217,
     "metadata": {},
     "output_type": "execute_result"
    }
   ],
   "source": [
    "coords"
   ]
  },
  {
   "cell_type": "code",
   "execution_count": 130,
   "metadata": {},
   "outputs": [],
   "source": [
    "using(Test)"
   ]
  },
  {
   "cell_type": "code",
   "execution_count": 131,
   "metadata": {},
   "outputs": [
    {
     "data": {
      "text/plain": [
       "\u001b[32m\u001b[1mTest Passed\u001b[22m\u001b[39m"
      ]
     },
     "execution_count": 131,
     "metadata": {},
     "output_type": "execute_result"
    }
   ],
   "source": [
    "\"\"\"Compute the square distance between two points\n",
    "\n",
    "    x is a 2xn_dim array\n",
    "\"\"\"\n",
    "function squared_distance(pair)\n",
    "    d = sum((pair[2, :] .- pair[1, :]).^2)\n",
    "    end;\n",
    "\n",
    "@test squared_distance([[1 0]; [0 1]]) == 2"
   ]
  },
  {
   "cell_type": "code",
   "execution_count": 132,
   "metadata": {},
   "outputs": [
    {
     "data": {
      "text/plain": [
       "2×2 Array{Float64,2}:\n",
       " 0.68838   0.604315\n",
       " 0.262616  0.092693"
      ]
     },
     "execution_count": 132,
     "metadata": {},
     "output_type": "execute_result"
    }
   ],
   "source": [
    "coords[[2, 5], :]"
   ]
  },
  {
   "cell_type": "code",
   "execution_count": 167,
   "metadata": {},
   "outputs": [],
   "source": [
    "const k = .1 # whatever the unit\n",
    "\n",
    "function attractive_energy(pair)\n",
    "    d2 = squared_distance(pair)\n",
    "    E = d2/k\n",
    "    end;\n",
    "\n",
    "function repulsive_energy(pair)\n",
    "    d = sqrt( squared_distance(pair) )\n",
    "    E = k^2 / d\n",
    "    end;\n",
    "\n",
    "#println( attractive_energy(nodes[\"033293546\"], nodes[\"177194634\"]) )\n",
    "#println( repulsive_energy(nodes[\"033293546\"], nodes[\"177194634\"]) )"
   ]
  },
  {
   "cell_type": "markdown",
   "metadata": {},
   "source": [
    "test http://www.juliadiff.org/ForwardDiff.jl/stable/"
   ]
  },
  {
   "cell_type": "markdown",
   "metadata": {},
   "source": [
    "The torque will be function of the angle formed between 3 ordered nodes. "
   ]
  },
  {
   "cell_type": "code",
   "execution_count": 168,
   "metadata": {},
   "outputs": [
    {
     "data": {
      "text/plain": [
       "2.3283834921138826"
      ]
     },
     "execution_count": 168,
     "metadata": {},
     "output_type": "execute_result"
    }
   ],
   "source": [
    "attractive_energy(coords[[2, 4], :])"
   ]
  },
  {
   "cell_type": "code",
   "execution_count": 169,
   "metadata": {},
   "outputs": [
    {
     "data": {
      "text/plain": [
       "2×2 Array{Float64,2}:\n",
       "  0.00963457  -0.0418536\n",
       " -0.00963457   0.0418536"
      ]
     },
     "execution_count": 169,
     "metadata": {},
     "output_type": "execute_result"
    }
   ],
   "source": [
    "ForwardDiff.gradient(repulsive_energy, coords[[2, 4], :])"
   ]
  },
  {
   "cell_type": "code",
   "execution_count": 170,
   "metadata": {},
   "outputs": [],
   "source": [
    "norm(x) = sqrt(sum(x.^2));\n",
    "\n",
    "function join_angle(triplet)\n",
    "    x12 = triplet[2, :] .- triplet[1, :]\n",
    "    x23 = triplet[3, :] .- triplet[2, :]\n",
    "    dot = sum( x12 .* x23 )/(norm(x12)*norm(x23))\n",
    "    theta = acos(dot)\n",
    "    end;\n",
    "\n",
    "function join_energy(triplet)\n",
    "    theta = join_angle(triplet)\n",
    "    gamma = .008 # J/rad2\n",
    "    E = gamma*theta^2\n",
    "    end;\n",
    "\n",
    "#x1, x2, x3 = nodes[\"033293546\"], nodes[\"177194634\"], nodes[\"132327031\"]\n",
    "#println(join_angle(x1, x2, x3))\n",
    "#println(join_energy(x1, x2, x3))"
   ]
  },
  {
   "cell_type": "code",
   "execution_count": 171,
   "metadata": {},
   "outputs": [
    {
     "name": "stdout",
     "output_type": "stream",
     "text": [
      "0.07158066853684959\n"
     ]
    },
    {
     "data": {
      "text/plain": [
       "3×2 Array{Float64,2}:\n",
       "  0.096657    0.0222501 \n",
       " -0.0194232  -0.0163757 \n",
       " -0.0772338  -0.00587439"
      ]
     },
     "execution_count": 171,
     "metadata": {},
     "output_type": "execute_result"
    }
   ],
   "source": [
    "println( join_energy(coords[[2, 4, 1], :]) )\n",
    "\n",
    "ForwardDiff.gradient(join_energy, coords[[2, 4, 1], :])"
   ]
  },
  {
   "cell_type": "code",
   "execution_count": 172,
   "metadata": {},
   "outputs": [],
   "source": [
    "function isolated_chain_energy(coords, chain)\n",
    "    nrj = 0\n",
    "    for k in 1:length(chain)-2\n",
    "        n1, n2, n3 = chain[k], chain[k+1], chain[k+2]\n",
    "        x1, x2, x3 = nodes_index[n1], nodes_index[n2], nodes_index[n3]\n",
    "        #nrj += join_energy(coords[[x1, x2, x3], :])\n",
    "        nrj += attractive_energy(coords[[x1, x2], :])\n",
    "        end;\n",
    "    # last link:\n",
    "    last_two = [nodes_index[chain[end-1]], nodes_index[chain[end]]] \n",
    "    nrj += attractive_energy(coords[last_two, :])\n",
    "    end;"
   ]
  },
  {
   "cell_type": "code",
   "execution_count": 218,
   "metadata": {},
   "outputs": [
    {
     "data": {
      "text/plain": [
       "65.33104098298881"
      ]
     },
     "execution_count": 218,
     "metadata": {},
     "output_type": "execute_result"
    }
   ],
   "source": [
    "isolated_chain_energy(coords, graph[2])"
   ]
  },
  {
   "cell_type": "code",
   "execution_count": 174,
   "metadata": {},
   "outputs": [
    {
     "data": {
      "text/plain": [
       "5×2 Array{Float64,2}:\n",
       "  10.676      14.2601 \n",
       "   0.0         0.0    \n",
       " -11.6133     -1.93785\n",
       "   0.937229  -12.3223 \n",
       "   0.0         0.0    "
      ]
     },
     "execution_count": 174,
     "metadata": {},
     "output_type": "execute_result"
    }
   ],
   "source": [
    "ForwardDiff.gradient(x -> isolated_chain_energy(x, graph[1]), coords)"
   ]
  },
  {
   "cell_type": "code",
   "execution_count": 219,
   "metadata": {},
   "outputs": [],
   "source": [
    "function global_chain_energy(coords, graph)\n",
    "    nrj = 0\n",
    "    for chain in graph\n",
    "        nrj += isolated_chain_energy(coords, chain)\n",
    "        end;\n",
    "    return nrj\n",
    "    end;"
   ]
  },
  {
   "cell_type": "code",
   "execution_count": 176,
   "metadata": {},
   "outputs": [
    {
     "data": {
      "text/plain": [
       "5×2 Array{Float64,2}:\n",
       "  11.9037     17.1777 \n",
       "   7.28757     7.31489\n",
       " -11.6133     -1.93785\n",
       "   0.937229  -12.3223 \n",
       "  -8.51527   -10.2324 "
      ]
     },
     "execution_count": 176,
     "metadata": {},
     "output_type": "execute_result"
    }
   ],
   "source": [
    "ForwardDiff.gradient(x -> global_chain_energy(x, graph), coords)"
   ]
  },
  {
   "cell_type": "code",
   "execution_count": 177,
   "metadata": {},
   "outputs": [
    {
     "data": {
      "text/plain": [
       "5"
      ]
     },
     "execution_count": 177,
     "metadata": {},
     "output_type": "execute_result"
    }
   ],
   "source": [
    "size(coords)[1]"
   ]
  },
  {
   "cell_type": "code",
   "execution_count": 178,
   "metadata": {},
   "outputs": [
    {
     "name": "stdout",
     "output_type": "stream",
     "text": [
      "0.21203855063082883\n"
     ]
    }
   ],
   "source": [
    "function global_repulsive_energy(coords)\n",
    "    nrj = 0\n",
    "    for i in 1:size(coords)[1]\n",
    "        for j in i+1:size(coords)[1]\n",
    "            nrj += repulsive_energy(coords[[i, j], :])\n",
    "            end;\n",
    "        end;\n",
    "    return nrj\n",
    "    end;\n",
    "\n",
    "println(global_repulsive_energy(coords))"
   ]
  },
  {
   "cell_type": "code",
   "execution_count": 179,
   "metadata": {},
   "outputs": [
    {
     "data": {
      "text/plain": [
       "5×2 Array{Float64,2}:\n",
       " -0.190209   -0.41084  \n",
       "  0.113444    0.312223 \n",
       "  0.081765   -0.038848 \n",
       " -0.0579889   0.0748868\n",
       "  0.0529886   0.062578 "
      ]
     },
     "execution_count": 179,
     "metadata": {},
     "output_type": "execute_result"
    }
   ],
   "source": [
    "ForwardDiff.gradient(global_repulsive_energy, coords)"
   ]
  },
  {
   "cell_type": "code",
   "execution_count": 223,
   "metadata": {},
   "outputs": [],
   "source": [
    "function graph_energy(coords, graph)\n",
    "    nrj = global_repulsive_energy(coords)\n",
    "    nrj += global_chain_energy(coords, graph)\n",
    "    return nrj\n",
    "    end;"
   ]
  },
  {
   "cell_type": "code",
   "execution_count": 224,
   "metadata": {},
   "outputs": [
    {
     "data": {
      "text/plain": [
       "285.5646121964677"
      ]
     },
     "execution_count": 224,
     "metadata": {},
     "output_type": "execute_result"
    }
   ],
   "source": [
    "graph_energy(coords, graph)"
   ]
  },
  {
   "cell_type": "code",
   "execution_count": 225,
   "metadata": {},
   "outputs": [
    {
     "data": {
      "text/plain": [
       "70×2 Array{Float64,2}:\n",
       "  13.4389      8.38685 \n",
       " -26.3293    -26.3839  \n",
       " -29.8104    -13.6805  \n",
       "  23.4854     19.5277  \n",
       " -15.5839      7.68174 \n",
       "   4.51138    11.2402  \n",
       "  -6.44644   -15.9253  \n",
       "  -6.681      -0.16509 \n",
       " -17.7016     -8.99343 \n",
       "  17.0062    -33.7194  \n",
       "  -5.32802    10.4654  \n",
       "  15.4881    -16.1207  \n",
       "  11.4755    -11.2678  \n",
       "   ⋮                   \n",
       "   4.00816    -5.30437 \n",
       "  21.7752     -4.9037  \n",
       " -12.9874     -8.93305 \n",
       "   2.04064    -0.31435 \n",
       "  -6.49043     0.727211\n",
       " -26.4135    -30.5129  \n",
       "  -5.30959    -0.457021\n",
       " -12.9597     -9.31078 \n",
       "  15.3701    -21.2795  \n",
       "   0.834269   -5.88212 \n",
       "  -4.17259   -19.5752  \n",
       "  10.1839     11.5069  "
      ]
     },
     "execution_count": 225,
     "metadata": {},
     "output_type": "execute_result"
    }
   ],
   "source": [
    "ForwardDiff.gradient(x -> graph_energy(x, graph), coords)"
   ]
  },
  {
   "cell_type": "markdown",
   "metadata": {},
   "source": [
    "try to solve \n",
    "\n",
    "https://github.com/JuliaNLSolvers/Optim.jl"
   ]
  },
  {
   "cell_type": "code",
   "execution_count": 183,
   "metadata": {},
   "outputs": [],
   "source": [
    "using(Optim)"
   ]
  },
  {
   "cell_type": "code",
   "execution_count": 184,
   "metadata": {},
   "outputs": [
    {
     "data": {
      "text/plain": [
       "12.176336889481703"
      ]
     },
     "execution_count": 184,
     "metadata": {},
     "output_type": "execute_result"
    }
   ],
   "source": [
    "graph_energy(coords)"
   ]
  },
  {
   "cell_type": "code",
   "execution_count": 226,
   "metadata": {},
   "outputs": [
    {
     "data": {
      "text/plain": [
       "10-element Array{String,1}:\n",
       " \"112512380\"\n",
       " \"109209265\"\n",
       " \"185124100\"\n",
       " \"180818260\"\n",
       " \"185775926\"\n",
       " \"185887015\"\n",
       " \"187849390\"\n",
       " \"18786425X\"\n",
       " \"188021574\"\n",
       " \"112508901\""
      ]
     },
     "execution_count": 226,
     "metadata": {},
     "output_type": "execute_result"
    }
   ],
   "source": [
    "loc_graph = graph[:3]"
   ]
  },
  {
   "cell_type": "code",
   "execution_count": 239,
   "metadata": {},
   "outputs": [
    {
     "data": {
      "text/plain": [
       " * Status: success\n",
       "\n",
       " * Candidate solution\n",
       "    Minimizer: [2.11e+00, -6.14e-02, 2.07e+00,  ...]\n",
       "    Minimum:   3.810193e+01\n",
       "\n",
       " * Found with\n",
       "    Algorithm:     BFGS\n",
       "    Initial Point: [2.99e+00, 2.95e+00, 2.89e+00,  ...]\n",
       "\n",
       " * Convergence measures\n",
       "    |x - x'|               = 2.38e-09 ≰ 0.0e+00\n",
       "    |x - x'|/|x'|          = 8.18e-10 ≰ 0.0e+00\n",
       "    |f(x) - f(x')|         = 2.13e-14 ≰ 0.0e+00\n",
       "    |f(x) - f(x')|/|f(x')| = 5.59e-16 ≰ 0.0e+00\n",
       "    |g(x)|                 = 8.50e-09 ≤ 1.0e-08\n",
       "\n",
       " * Work counters\n",
       "    Seconds run:   29  (vs limit Inf)\n",
       "    Iterations:    321\n",
       "    f(x) calls:    850\n",
       "    ∇f(x) calls:   850\n"
      ]
     },
     "execution_count": 239,
     "metadata": {},
     "output_type": "execute_result"
    }
   ],
   "source": [
    "result = Optim.optimize(x -> graph_energy(x, graph),\n",
    "                        coords, autodiff=:forward, BFGS())"
   ]
  },
  {
   "cell_type": "code",
   "execution_count": 242,
   "metadata": {},
   "outputs": [],
   "source": [
    "coords = result.minimizer;"
   ]
  },
  {
   "cell_type": "code",
   "execution_count": 243,
   "metadata": {},
   "outputs": [
    {
     "data": {
      "image/svg+xml": [
       "<?xml version=\"1.0\" encoding=\"utf-8\"?>\n",
       "<svg xmlns=\"http://www.w3.org/2000/svg\" xmlns:xlink=\"http://www.w3.org/1999/xlink\" width=\"600\" height=\"400\" viewBox=\"0 0 2400 1600\">\n",
       "<defs>\n",
       "  <clipPath id=\"clip0200\">\n",
       "    <rect x=\"0\" y=\"0\" width=\"2400\" height=\"1600\"/>\n",
       "  </clipPath>\n",
       "</defs>\n",
       "<path clip-path=\"url(#clip0200)\" d=\"\n",
       "M0 1600 L2400 1600 L2400 0 L0 0  Z\n",
       "  \" fill=\"#ffffff\" fill-rule=\"evenodd\" fill-opacity=\"1\"/>\n",
       "<defs>\n",
       "  <clipPath id=\"clip0201\">\n",
       "    <rect x=\"480\" y=\"0\" width=\"1681\" height=\"1600\"/>\n",
       "  </clipPath>\n",
       "</defs>\n",
       "<path clip-path=\"url(#clip0200)\" d=\"\n",
       "M141.865 1487.47 L2352.76 1487.47 L2352.76 47.2441 L141.865 47.2441  Z\n",
       "  \" fill=\"#ffffff\" fill-rule=\"evenodd\" fill-opacity=\"1\"/>\n",
       "<defs>\n",
       "  <clipPath id=\"clip0202\">\n",
       "    <rect x=\"141\" y=\"47\" width=\"2212\" height=\"1441\"/>\n",
       "  </clipPath>\n",
       "</defs>\n",
       "<polyline clip-path=\"url(#clip0202)\" style=\"stroke:#000000; stroke-width:2; stroke-opacity:0.1; fill:none\" points=\"\n",
       "  255.099,1487.47 255.099,47.2441 \n",
       "  \"/>\n",
       "<polyline clip-path=\"url(#clip0202)\" style=\"stroke:#000000; stroke-width:2; stroke-opacity:0.1; fill:none\" points=\"\n",
       "  669.506,1487.47 669.506,47.2441 \n",
       "  \"/>\n",
       "<polyline clip-path=\"url(#clip0202)\" style=\"stroke:#000000; stroke-width:2; stroke-opacity:0.1; fill:none\" points=\"\n",
       "  1083.91,1487.47 1083.91,47.2441 \n",
       "  \"/>\n",
       "<polyline clip-path=\"url(#clip0202)\" style=\"stroke:#000000; stroke-width:2; stroke-opacity:0.1; fill:none\" points=\"\n",
       "  1498.32,1487.47 1498.32,47.2441 \n",
       "  \"/>\n",
       "<polyline clip-path=\"url(#clip0202)\" style=\"stroke:#000000; stroke-width:2; stroke-opacity:0.1; fill:none\" points=\"\n",
       "  1912.73,1487.47 1912.73,47.2441 \n",
       "  \"/>\n",
       "<polyline clip-path=\"url(#clip0202)\" style=\"stroke:#000000; stroke-width:2; stroke-opacity:0.1; fill:none\" points=\"\n",
       "  2327.13,1487.47 2327.13,47.2441 \n",
       "  \"/>\n",
       "<polyline clip-path=\"url(#clip0202)\" style=\"stroke:#000000; stroke-width:2; stroke-opacity:0.1; fill:none\" points=\"\n",
       "  141.865,1372.21 2352.76,1372.21 \n",
       "  \"/>\n",
       "<polyline clip-path=\"url(#clip0202)\" style=\"stroke:#000000; stroke-width:2; stroke-opacity:0.1; fill:none\" points=\"\n",
       "  141.865,1033.06 2352.76,1033.06 \n",
       "  \"/>\n",
       "<polyline clip-path=\"url(#clip0202)\" style=\"stroke:#000000; stroke-width:2; stroke-opacity:0.1; fill:none\" points=\"\n",
       "  141.865,693.922 2352.76,693.922 \n",
       "  \"/>\n",
       "<polyline clip-path=\"url(#clip0202)\" style=\"stroke:#000000; stroke-width:2; stroke-opacity:0.1; fill:none\" points=\"\n",
       "  141.865,354.78 2352.76,354.78 \n",
       "  \"/>\n",
       "<polyline clip-path=\"url(#clip0200)\" style=\"stroke:#000000; stroke-width:4; stroke-opacity:1; fill:none\" points=\"\n",
       "  141.865,1487.47 2352.76,1487.47 \n",
       "  \"/>\n",
       "<polyline clip-path=\"url(#clip0200)\" style=\"stroke:#000000; stroke-width:4; stroke-opacity:1; fill:none\" points=\"\n",
       "  141.865,1487.47 141.865,47.2441 \n",
       "  \"/>\n",
       "<polyline clip-path=\"url(#clip0200)\" style=\"stroke:#000000; stroke-width:4; stroke-opacity:1; fill:none\" points=\"\n",
       "  255.099,1487.47 255.099,1465.87 \n",
       "  \"/>\n",
       "<polyline clip-path=\"url(#clip0200)\" style=\"stroke:#000000; stroke-width:4; stroke-opacity:1; fill:none\" points=\"\n",
       "  669.506,1487.47 669.506,1465.87 \n",
       "  \"/>\n",
       "<polyline clip-path=\"url(#clip0200)\" style=\"stroke:#000000; stroke-width:4; stroke-opacity:1; fill:none\" points=\"\n",
       "  1083.91,1487.47 1083.91,1465.87 \n",
       "  \"/>\n",
       "<polyline clip-path=\"url(#clip0200)\" style=\"stroke:#000000; stroke-width:4; stroke-opacity:1; fill:none\" points=\"\n",
       "  1498.32,1487.47 1498.32,1465.87 \n",
       "  \"/>\n",
       "<polyline clip-path=\"url(#clip0200)\" style=\"stroke:#000000; stroke-width:4; stroke-opacity:1; fill:none\" points=\"\n",
       "  1912.73,1487.47 1912.73,1465.87 \n",
       "  \"/>\n",
       "<polyline clip-path=\"url(#clip0200)\" style=\"stroke:#000000; stroke-width:4; stroke-opacity:1; fill:none\" points=\"\n",
       "  2327.13,1487.47 2327.13,1465.87 \n",
       "  \"/>\n",
       "<polyline clip-path=\"url(#clip0200)\" style=\"stroke:#000000; stroke-width:4; stroke-opacity:1; fill:none\" points=\"\n",
       "  141.865,1372.21 175.028,1372.21 \n",
       "  \"/>\n",
       "<polyline clip-path=\"url(#clip0200)\" style=\"stroke:#000000; stroke-width:4; stroke-opacity:1; fill:none\" points=\"\n",
       "  141.865,1033.06 175.028,1033.06 \n",
       "  \"/>\n",
       "<polyline clip-path=\"url(#clip0200)\" style=\"stroke:#000000; stroke-width:4; stroke-opacity:1; fill:none\" points=\"\n",
       "  141.865,693.922 175.028,693.922 \n",
       "  \"/>\n",
       "<polyline clip-path=\"url(#clip0200)\" style=\"stroke:#000000; stroke-width:4; stroke-opacity:1; fill:none\" points=\"\n",
       "  141.865,354.78 175.028,354.78 \n",
       "  \"/>\n",
       "<g clip-path=\"url(#clip0200)\">\n",
       "<text style=\"fill:#000000; fill-opacity:1; font-family:Arial,Helvetica Neue,Helvetica,sans-serif; font-size:48px; text-anchor:middle;\" transform=\"rotate(0, 255.099, 1541.47)\" x=\"255.099\" y=\"1541.47\">-2</text>\n",
       "</g>\n",
       "<g clip-path=\"url(#clip0200)\">\n",
       "<text style=\"fill:#000000; fill-opacity:1; font-family:Arial,Helvetica Neue,Helvetica,sans-serif; font-size:48px; text-anchor:middle;\" transform=\"rotate(0, 669.506, 1541.47)\" x=\"669.506\" y=\"1541.47\">-1</text>\n",
       "</g>\n",
       "<g clip-path=\"url(#clip0200)\">\n",
       "<text style=\"fill:#000000; fill-opacity:1; font-family:Arial,Helvetica Neue,Helvetica,sans-serif; font-size:48px; text-anchor:middle;\" transform=\"rotate(0, 1083.91, 1541.47)\" x=\"1083.91\" y=\"1541.47\">0</text>\n",
       "</g>\n",
       "<g clip-path=\"url(#clip0200)\">\n",
       "<text style=\"fill:#000000; fill-opacity:1; font-family:Arial,Helvetica Neue,Helvetica,sans-serif; font-size:48px; text-anchor:middle;\" transform=\"rotate(0, 1498.32, 1541.47)\" x=\"1498.32\" y=\"1541.47\">1</text>\n",
       "</g>\n",
       "<g clip-path=\"url(#clip0200)\">\n",
       "<text style=\"fill:#000000; fill-opacity:1; font-family:Arial,Helvetica Neue,Helvetica,sans-serif; font-size:48px; text-anchor:middle;\" transform=\"rotate(0, 1912.73, 1541.47)\" x=\"1912.73\" y=\"1541.47\">2</text>\n",
       "</g>\n",
       "<g clip-path=\"url(#clip0200)\">\n",
       "<text style=\"fill:#000000; fill-opacity:1; font-family:Arial,Helvetica Neue,Helvetica,sans-serif; font-size:48px; text-anchor:middle;\" transform=\"rotate(0, 2327.13, 1541.47)\" x=\"2327.13\" y=\"1541.47\">3</text>\n",
       "</g>\n",
       "<g clip-path=\"url(#clip0200)\">\n",
       "<text style=\"fill:#000000; fill-opacity:1; font-family:Arial,Helvetica Neue,Helvetica,sans-serif; font-size:48px; text-anchor:end;\" transform=\"rotate(0, 117.865, 1389.71)\" x=\"117.865\" y=\"1389.71\">-2</text>\n",
       "</g>\n",
       "<g clip-path=\"url(#clip0200)\">\n",
       "<text style=\"fill:#000000; fill-opacity:1; font-family:Arial,Helvetica Neue,Helvetica,sans-serif; font-size:48px; text-anchor:end;\" transform=\"rotate(0, 117.865, 1050.56)\" x=\"117.865\" y=\"1050.56\">-1</text>\n",
       "</g>\n",
       "<g clip-path=\"url(#clip0200)\">\n",
       "<text style=\"fill:#000000; fill-opacity:1; font-family:Arial,Helvetica Neue,Helvetica,sans-serif; font-size:48px; text-anchor:end;\" transform=\"rotate(0, 117.865, 711.422)\" x=\"117.865\" y=\"711.422\">0</text>\n",
       "</g>\n",
       "<g clip-path=\"url(#clip0200)\">\n",
       "<text style=\"fill:#000000; fill-opacity:1; font-family:Arial,Helvetica Neue,Helvetica,sans-serif; font-size:48px; text-anchor:end;\" transform=\"rotate(0, 117.865, 372.28)\" x=\"117.865\" y=\"372.28\">1</text>\n",
       "</g>\n",
       "<circle clip-path=\"url(#clip0202)\" style=\"fill:#000000; stroke:none; fill-opacity:1\" cx=\"1957.57\" cy=\"88.0053\" r=\"18\"/>\n",
       "<circle clip-path=\"url(#clip0202)\" style=\"fill:#009af9; stroke:none; fill-opacity:1\" cx=\"1957.57\" cy=\"88.0053\" r=\"14\"/>\n",
       "<circle clip-path=\"url(#clip0202)\" style=\"fill:#000000; stroke:none; fill-opacity:1\" cx=\"1058.48\" cy=\"663.929\" r=\"18\"/>\n",
       "<circle clip-path=\"url(#clip0202)\" style=\"fill:#009af9; stroke:none; fill-opacity:1\" cx=\"1058.48\" cy=\"663.929\" r=\"14\"/>\n",
       "<circle clip-path=\"url(#clip0202)\" style=\"fill:#000000; stroke:none; fill-opacity:1\" cx=\"1941.27\" cy=\"154.257\" r=\"18\"/>\n",
       "<circle clip-path=\"url(#clip0202)\" style=\"fill:#009af9; stroke:none; fill-opacity:1\" cx=\"1941.27\" cy=\"154.257\" r=\"14\"/>\n",
       "<circle clip-path=\"url(#clip0202)\" style=\"fill:#000000; stroke:none; fill-opacity:1\" cx=\"1112.19\" cy=\"639.73\" r=\"18\"/>\n",
       "<circle clip-path=\"url(#clip0202)\" style=\"fill:#009af9; stroke:none; fill-opacity:1\" cx=\"1112.19\" cy=\"639.73\" r=\"14\"/>\n",
       "<circle clip-path=\"url(#clip0202)\" style=\"fill:#000000; stroke:none; fill-opacity:1\" cx=\"2117.68\" cy=\"339.001\" r=\"18\"/>\n",
       "<circle clip-path=\"url(#clip0202)\" style=\"fill:#009af9; stroke:none; fill-opacity:1\" cx=\"2117.68\" cy=\"339.001\" r=\"14\"/>\n",
       "<circle clip-path=\"url(#clip0202)\" style=\"fill:#000000; stroke:none; fill-opacity:1\" cx=\"421.628\" cy=\"1088.2\" r=\"18\"/>\n",
       "<circle clip-path=\"url(#clip0202)\" style=\"fill:#009af9; stroke:none; fill-opacity:1\" cx=\"421.628\" cy=\"1088.2\" r=\"14\"/>\n",
       "<circle clip-path=\"url(#clip0202)\" style=\"fill:#000000; stroke:none; fill-opacity:1\" cx=\"1807.54\" cy=\"299.511\" r=\"18\"/>\n",
       "<circle clip-path=\"url(#clip0202)\" style=\"fill:#009af9; stroke:none; fill-opacity:1\" cx=\"1807.54\" cy=\"299.511\" r=\"14\"/>\n",
       "<circle clip-path=\"url(#clip0202)\" style=\"fill:#000000; stroke:none; fill-opacity:1\" cx=\"677.373\" cy=\"794.991\" r=\"18\"/>\n",
       "<circle clip-path=\"url(#clip0202)\" style=\"fill:#009af9; stroke:none; fill-opacity:1\" cx=\"677.373\" cy=\"794.991\" r=\"14\"/>\n",
       "<circle clip-path=\"url(#clip0202)\" style=\"fill:#000000; stroke:none; fill-opacity:1\" cx=\"753.585\" cy=\"795.765\" r=\"18\"/>\n",
       "<circle clip-path=\"url(#clip0202)\" style=\"fill:#009af9; stroke:none; fill-opacity:1\" cx=\"753.585\" cy=\"795.765\" r=\"14\"/>\n",
       "<circle clip-path=\"url(#clip0202)\" style=\"fill:#000000; stroke:none; fill-opacity:1\" cx=\"2210.54\" cy=\"355.133\" r=\"18\"/>\n",
       "<circle clip-path=\"url(#clip0202)\" style=\"fill:#009af9; stroke:none; fill-opacity:1\" cx=\"2210.54\" cy=\"355.133\" r=\"14\"/>\n",
       "<circle clip-path=\"url(#clip0202)\" style=\"fill:#000000; stroke:none; fill-opacity:1\" cx=\"422.958\" cy=\"802.558\" r=\"18\"/>\n",
       "<circle clip-path=\"url(#clip0202)\" style=\"fill:#009af9; stroke:none; fill-opacity:1\" cx=\"422.958\" cy=\"802.558\" r=\"14\"/>\n",
       "<circle clip-path=\"url(#clip0202)\" style=\"fill:#000000; stroke:none; fill-opacity:1\" cx=\"2016.85\" cy=\"318.205\" r=\"18\"/>\n",
       "<circle clip-path=\"url(#clip0202)\" style=\"fill:#009af9; stroke:none; fill-opacity:1\" cx=\"2016.85\" cy=\"318.205\" r=\"14\"/>\n",
       "<circle clip-path=\"url(#clip0202)\" style=\"fill:#000000; stroke:none; fill-opacity:1\" cx=\"1680.63\" cy=\"398.341\" r=\"18\"/>\n",
       "<circle clip-path=\"url(#clip0202)\" style=\"fill:#009af9; stroke:none; fill-opacity:1\" cx=\"1680.63\" cy=\"398.341\" r=\"14\"/>\n",
       "<circle clip-path=\"url(#clip0202)\" style=\"fill:#000000; stroke:none; fill-opacity:1\" cx=\"344.626\" cy=\"888.229\" r=\"18\"/>\n",
       "<circle clip-path=\"url(#clip0202)\" style=\"fill:#009af9; stroke:none; fill-opacity:1\" cx=\"344.626\" cy=\"888.229\" r=\"14\"/>\n",
       "<circle clip-path=\"url(#clip0202)\" style=\"fill:#000000; stroke:none; fill-opacity:1\" cx=\"897.712\" cy=\"762.167\" r=\"18\"/>\n",
       "<circle clip-path=\"url(#clip0202)\" style=\"fill:#009af9; stroke:none; fill-opacity:1\" cx=\"897.712\" cy=\"762.167\" r=\"14\"/>\n",
       "<circle clip-path=\"url(#clip0202)\" style=\"fill:#000000; stroke:none; fill-opacity:1\" cx=\"1876.47\" cy=\"268.504\" r=\"18\"/>\n",
       "<circle clip-path=\"url(#clip0202)\" style=\"fill:#009af9; stroke:none; fill-opacity:1\" cx=\"1876.47\" cy=\"268.504\" r=\"14\"/>\n",
       "<circle clip-path=\"url(#clip0202)\" style=\"fill:#000000; stroke:none; fill-opacity:1\" cx=\"846.145\" cy=\"672.049\" r=\"18\"/>\n",
       "<circle clip-path=\"url(#clip0202)\" style=\"fill:#009af9; stroke:none; fill-opacity:1\" cx=\"846.145\" cy=\"672.049\" r=\"14\"/>\n",
       "<circle clip-path=\"url(#clip0202)\" style=\"fill:#000000; stroke:none; fill-opacity:1\" cx=\"1731.15\" cy=\"374.964\" r=\"18\"/>\n",
       "<circle clip-path=\"url(#clip0202)\" style=\"fill:#009af9; stroke:none; fill-opacity:1\" cx=\"1731.15\" cy=\"374.964\" r=\"14\"/>\n",
       "<circle clip-path=\"url(#clip0202)\" style=\"fill:#000000; stroke:none; fill-opacity:1\" cx=\"430.099\" cy=\"929.11\" r=\"18\"/>\n",
       "<circle clip-path=\"url(#clip0202)\" style=\"fill:#009af9; stroke:none; fill-opacity:1\" cx=\"430.099\" cy=\"929.11\" r=\"14\"/>\n",
       "<circle clip-path=\"url(#clip0202)\" style=\"fill:#000000; stroke:none; fill-opacity:1\" cx=\"1224.98\" cy=\"592.538\" r=\"18\"/>\n",
       "<circle clip-path=\"url(#clip0202)\" style=\"fill:#009af9; stroke:none; fill-opacity:1\" cx=\"1224.98\" cy=\"592.538\" r=\"14\"/>\n",
       "<circle clip-path=\"url(#clip0202)\" style=\"fill:#000000; stroke:none; fill-opacity:1\" cx=\"221.918\" cy=\"1419.37\" r=\"18\"/>\n",
       "<circle clip-path=\"url(#clip0202)\" style=\"fill:#009af9; stroke:none; fill-opacity:1\" cx=\"221.918\" cy=\"1419.37\" r=\"14\"/>\n",
       "<circle clip-path=\"url(#clip0202)\" style=\"fill:#000000; stroke:none; fill-opacity:1\" cx=\"1962.76\" cy=\"304.437\" r=\"18\"/>\n",
       "<circle clip-path=\"url(#clip0202)\" style=\"fill:#009af9; stroke:none; fill-opacity:1\" cx=\"1962.76\" cy=\"304.437\" r=\"14\"/>\n",
       "<circle clip-path=\"url(#clip0202)\" style=\"fill:#000000; stroke:none; fill-opacity:1\" cx=\"338.957\" cy=\"819.305\" r=\"18\"/>\n",
       "<circle clip-path=\"url(#clip0202)\" style=\"fill:#009af9; stroke:none; fill-opacity:1\" cx=\"338.957\" cy=\"819.305\" r=\"14\"/>\n",
       "<circle clip-path=\"url(#clip0202)\" style=\"fill:#000000; stroke:none; fill-opacity:1\" cx=\"543.09\" cy=\"886.99\" r=\"18\"/>\n",
       "<circle clip-path=\"url(#clip0202)\" style=\"fill:#009af9; stroke:none; fill-opacity:1\" cx=\"543.09\" cy=\"886.99\" r=\"14\"/>\n",
       "<circle clip-path=\"url(#clip0202)\" style=\"fill:#000000; stroke:none; fill-opacity:1\" cx=\"398.814\" cy=\"1130.37\" r=\"18\"/>\n",
       "<circle clip-path=\"url(#clip0202)\" style=\"fill:#009af9; stroke:none; fill-opacity:1\" cx=\"398.814\" cy=\"1130.37\" r=\"14\"/>\n",
       "<circle clip-path=\"url(#clip0202)\" style=\"fill:#000000; stroke:none; fill-opacity:1\" cx=\"466.709\" cy=\"821.529\" r=\"18\"/>\n",
       "<circle clip-path=\"url(#clip0202)\" style=\"fill:#009af9; stroke:none; fill-opacity:1\" cx=\"466.709\" cy=\"821.529\" r=\"14\"/>\n",
       "<circle clip-path=\"url(#clip0202)\" style=\"fill:#000000; stroke:none; fill-opacity:1\" cx=\"945.835\" cy=\"710.605\" r=\"18\"/>\n",
       "<circle clip-path=\"url(#clip0202)\" style=\"fill:#009af9; stroke:none; fill-opacity:1\" cx=\"945.835\" cy=\"710.605\" r=\"14\"/>\n",
       "<circle clip-path=\"url(#clip0202)\" style=\"fill:#000000; stroke:none; fill-opacity:1\" cx=\"814.604\" cy=\"767.238\" r=\"18\"/>\n",
       "<circle clip-path=\"url(#clip0202)\" style=\"fill:#009af9; stroke:none; fill-opacity:1\" cx=\"814.604\" cy=\"767.238\" r=\"14\"/>\n",
       "<circle clip-path=\"url(#clip0202)\" style=\"fill:#000000; stroke:none; fill-opacity:1\" cx=\"262.911\" cy=\"1354.95\" r=\"18\"/>\n",
       "<circle clip-path=\"url(#clip0202)\" style=\"fill:#009af9; stroke:none; fill-opacity:1\" cx=\"262.911\" cy=\"1354.95\" r=\"14\"/>\n",
       "<circle clip-path=\"url(#clip0202)\" style=\"fill:#000000; stroke:none; fill-opacity:1\" cx=\"879.118\" cy=\"734.944\" r=\"18\"/>\n",
       "<circle clip-path=\"url(#clip0202)\" style=\"fill:#009af9; stroke:none; fill-opacity:1\" cx=\"879.118\" cy=\"734.944\" r=\"14\"/>\n",
       "<circle clip-path=\"url(#clip0202)\" style=\"fill:#000000; stroke:none; fill-opacity:1\" cx=\"1931.84\" cy=\"193.239\" r=\"18\"/>\n",
       "<circle clip-path=\"url(#clip0202)\" style=\"fill:#009af9; stroke:none; fill-opacity:1\" cx=\"1931.84\" cy=\"193.239\" r=\"14\"/>\n",
       "<circle clip-path=\"url(#clip0202)\" style=\"fill:#000000; stroke:none; fill-opacity:1\" cx=\"1949.98\" cy=\"118.644\" r=\"18\"/>\n",
       "<circle clip-path=\"url(#clip0202)\" style=\"fill:#009af9; stroke:none; fill-opacity:1\" cx=\"1949.98\" cy=\"118.644\" r=\"14\"/>\n",
       "<circle clip-path=\"url(#clip0202)\" style=\"fill:#000000; stroke:none; fill-opacity:1\" cx=\"1580.71\" cy=\"442.934\" r=\"18\"/>\n",
       "<circle clip-path=\"url(#clip0202)\" style=\"fill:#009af9; stroke:none; fill-opacity:1\" cx=\"1580.71\" cy=\"442.934\" r=\"14\"/>\n",
       "<circle clip-path=\"url(#clip0202)\" style=\"fill:#000000; stroke:none; fill-opacity:1\" cx=\"1481\" cy=\"486.335\" r=\"18\"/>\n",
       "<circle clip-path=\"url(#clip0202)\" style=\"fill:#009af9; stroke:none; fill-opacity:1\" cx=\"1481\" cy=\"486.335\" r=\"14\"/>\n",
       "<circle clip-path=\"url(#clip0202)\" style=\"fill:#000000; stroke:none; fill-opacity:1\" cx=\"1921.13\" cy=\"236.03\" r=\"18\"/>\n",
       "<circle clip-path=\"url(#clip0202)\" style=\"fill:#009af9; stroke:none; fill-opacity:1\" cx=\"1921.13\" cy=\"236.03\" r=\"14\"/>\n",
       "<circle clip-path=\"url(#clip0202)\" style=\"fill:#000000; stroke:none; fill-opacity:1\" cx=\"619.092\" cy=\"858.159\" r=\"18\"/>\n",
       "<circle clip-path=\"url(#clip0202)\" style=\"fill:#009af9; stroke:none; fill-opacity:1\" cx=\"619.092\" cy=\"858.159\" r=\"14\"/>\n",
       "<circle clip-path=\"url(#clip0202)\" style=\"fill:#000000; stroke:none; fill-opacity:1\" cx=\"376.612\" cy=\"800.198\" r=\"18\"/>\n",
       "<circle clip-path=\"url(#clip0202)\" style=\"fill:#009af9; stroke:none; fill-opacity:1\" cx=\"376.612\" cy=\"800.198\" r=\"14\"/>\n",
       "<circle clip-path=\"url(#clip0202)\" style=\"fill:#000000; stroke:none; fill-opacity:1\" cx=\"443.929\" cy=\"1043.56\" r=\"18\"/>\n",
       "<circle clip-path=\"url(#clip0202)\" style=\"fill:#009af9; stroke:none; fill-opacity:1\" cx=\"443.929\" cy=\"1043.56\" r=\"14\"/>\n",
       "<circle clip-path=\"url(#clip0202)\" style=\"fill:#000000; stroke:none; fill-opacity:1\" cx=\"1003.68\" cy=\"687.313\" r=\"18\"/>\n",
       "<circle clip-path=\"url(#clip0202)\" style=\"fill:#009af9; stroke:none; fill-opacity:1\" cx=\"1003.68\" cy=\"687.313\" r=\"14\"/>\n",
       "<circle clip-path=\"url(#clip0202)\" style=\"fill:#000000; stroke:none; fill-opacity:1\" cx=\"352.737\" cy=\"1209.85\" r=\"18\"/>\n",
       "<circle clip-path=\"url(#clip0202)\" style=\"fill:#009af9; stroke:none; fill-opacity:1\" cx=\"352.737\" cy=\"1209.85\" r=\"14\"/>\n",
       "<circle clip-path=\"url(#clip0202)\" style=\"fill:#000000; stroke:none; fill-opacity:1\" cx=\"615.353\" cy=\"888.125\" r=\"18\"/>\n",
       "<circle clip-path=\"url(#clip0202)\" style=\"fill:#009af9; stroke:none; fill-opacity:1\" cx=\"615.353\" cy=\"888.125\" r=\"14\"/>\n",
       "<circle clip-path=\"url(#clip0202)\" style=\"fill:#000000; stroke:none; fill-opacity:1\" cx=\"482.915\" cy=\"939.251\" r=\"18\"/>\n",
       "<circle clip-path=\"url(#clip0202)\" style=\"fill:#009af9; stroke:none; fill-opacity:1\" cx=\"482.915\" cy=\"939.251\" r=\"14\"/>\n",
       "<circle clip-path=\"url(#clip0202)\" style=\"fill:#000000; stroke:none; fill-opacity:1\" cx=\"284.744\" cy=\"1320.34\" r=\"18\"/>\n",
       "<circle clip-path=\"url(#clip0202)\" style=\"fill:#009af9; stroke:none; fill-opacity:1\" cx=\"284.744\" cy=\"1320.34\" r=\"14\"/>\n",
       "<circle clip-path=\"url(#clip0202)\" style=\"fill:#000000; stroke:none; fill-opacity:1\" cx=\"1278.23\" cy=\"571.676\" r=\"18\"/>\n",
       "<circle clip-path=\"url(#clip0202)\" style=\"fill:#009af9; stroke:none; fill-opacity:1\" cx=\"1278.23\" cy=\"571.676\" r=\"14\"/>\n",
       "<circle clip-path=\"url(#clip0202)\" style=\"fill:#000000; stroke:none; fill-opacity:1\" cx=\"241.825\" cy=\"1388.16\" r=\"18\"/>\n",
       "<circle clip-path=\"url(#clip0202)\" style=\"fill:#009af9; stroke:none; fill-opacity:1\" cx=\"241.825\" cy=\"1388.16\" r=\"14\"/>\n",
       "<circle clip-path=\"url(#clip0202)\" style=\"fill:#000000; stroke:none; fill-opacity:1\" cx=\"1530.89\" cy=\"464.723\" r=\"18\"/>\n",
       "<circle clip-path=\"url(#clip0202)\" style=\"fill:#009af9; stroke:none; fill-opacity:1\" cx=\"1530.89\" cy=\"464.723\" r=\"14\"/>\n",
       "<circle clip-path=\"url(#clip0202)\" style=\"fill:#000000; stroke:none; fill-opacity:1\" cx=\"382.123\" cy=\"913.267\" r=\"18\"/>\n",
       "<circle clip-path=\"url(#clip0202)\" style=\"fill:#009af9; stroke:none; fill-opacity:1\" cx=\"382.123\" cy=\"913.267\" r=\"14\"/>\n",
       "<circle clip-path=\"url(#clip0202)\" style=\"fill:#000000; stroke:none; fill-opacity:1\" cx=\"1782.75\" cy=\"349.65\" r=\"18\"/>\n",
       "<circle clip-path=\"url(#clip0202)\" style=\"fill:#009af9; stroke:none; fill-opacity:1\" cx=\"1782.75\" cy=\"349.65\" r=\"14\"/>\n",
       "<circle clip-path=\"url(#clip0202)\" style=\"fill:#000000; stroke:none; fill-opacity:1\" cx=\"1836.85\" cy=\"317.298\" r=\"18\"/>\n",
       "<circle clip-path=\"url(#clip0202)\" style=\"fill:#009af9; stroke:none; fill-opacity:1\" cx=\"1836.85\" cy=\"317.298\" r=\"14\"/>\n",
       "<circle clip-path=\"url(#clip0202)\" style=\"fill:#000000; stroke:none; fill-opacity:1\" cx=\"1329.81\" cy=\"550.511\" r=\"18\"/>\n",
       "<circle clip-path=\"url(#clip0202)\" style=\"fill:#009af9; stroke:none; fill-opacity:1\" cx=\"1329.81\" cy=\"550.511\" r=\"14\"/>\n",
       "<circle clip-path=\"url(#clip0202)\" style=\"fill:#000000; stroke:none; fill-opacity:1\" cx=\"329.798\" cy=\"1247.74\" r=\"18\"/>\n",
       "<circle clip-path=\"url(#clip0202)\" style=\"fill:#009af9; stroke:none; fill-opacity:1\" cx=\"329.798\" cy=\"1247.74\" r=\"14\"/>\n",
       "<circle clip-path=\"url(#clip0202)\" style=\"fill:#000000; stroke:none; fill-opacity:1\" cx=\"687.108\" cy=\"822.908\" r=\"18\"/>\n",
       "<circle clip-path=\"url(#clip0202)\" style=\"fill:#009af9; stroke:none; fill-opacity:1\" cx=\"687.108\" cy=\"822.908\" r=\"14\"/>\n",
       "<circle clip-path=\"url(#clip0202)\" style=\"fill:#000000; stroke:none; fill-opacity:1\" cx=\"2290.18\" cy=\"367.915\" r=\"18\"/>\n",
       "<circle clip-path=\"url(#clip0202)\" style=\"fill:#009af9; stroke:none; fill-opacity:1\" cx=\"2290.18\" cy=\"367.915\" r=\"14\"/>\n",
       "<circle clip-path=\"url(#clip0202)\" style=\"fill:#000000; stroke:none; fill-opacity:1\" cx=\"1380.61\" cy=\"529.213\" r=\"18\"/>\n",
       "<circle clip-path=\"url(#clip0202)\" style=\"fill:#009af9; stroke:none; fill-opacity:1\" cx=\"1380.61\" cy=\"529.213\" r=\"14\"/>\n",
       "<circle clip-path=\"url(#clip0202)\" style=\"fill:#000000; stroke:none; fill-opacity:1\" cx=\"307.091\" cy=\"1284.57\" r=\"18\"/>\n",
       "<circle clip-path=\"url(#clip0202)\" style=\"fill:#009af9; stroke:none; fill-opacity:1\" cx=\"307.091\" cy=\"1284.57\" r=\"14\"/>\n",
       "<circle clip-path=\"url(#clip0202)\" style=\"fill:#000000; stroke:none; fill-opacity:1\" cx=\"580.035\" cy=\"899.158\" r=\"18\"/>\n",
       "<circle clip-path=\"url(#clip0202)\" style=\"fill:#009af9; stroke:none; fill-opacity:1\" cx=\"580.035\" cy=\"899.158\" r=\"14\"/>\n",
       "<circle clip-path=\"url(#clip0202)\" style=\"fill:#000000; stroke:none; fill-opacity:1\" cx=\"2165.17\" cy=\"347.488\" r=\"18\"/>\n",
       "<circle clip-path=\"url(#clip0202)\" style=\"fill:#009af9; stroke:none; fill-opacity:1\" cx=\"2165.17\" cy=\"347.488\" r=\"14\"/>\n",
       "<circle clip-path=\"url(#clip0202)\" style=\"fill:#000000; stroke:none; fill-opacity:1\" cx=\"1904.11\" cy=\"285.735\" r=\"18\"/>\n",
       "<circle clip-path=\"url(#clip0202)\" style=\"fill:#009af9; stroke:none; fill-opacity:1\" cx=\"1904.11\" cy=\"285.735\" r=\"14\"/>\n",
       "<circle clip-path=\"url(#clip0202)\" style=\"fill:#000000; stroke:none; fill-opacity:1\" cx=\"1630.57\" cy=\"420.867\" r=\"18\"/>\n",
       "<circle clip-path=\"url(#clip0202)\" style=\"fill:#009af9; stroke:none; fill-opacity:1\" cx=\"1630.57\" cy=\"420.867\" r=\"14\"/>\n",
       "<circle clip-path=\"url(#clip0202)\" style=\"fill:#000000; stroke:none; fill-opacity:1\" cx=\"375.789\" cy=\"1170.79\" r=\"18\"/>\n",
       "<circle clip-path=\"url(#clip0202)\" style=\"fill:#009af9; stroke:none; fill-opacity:1\" cx=\"375.789\" cy=\"1170.79\" r=\"14\"/>\n",
       "<circle clip-path=\"url(#clip0202)\" style=\"fill:#000000; stroke:none; fill-opacity:1\" cx=\"204.437\" cy=\"1446.71\" r=\"18\"/>\n",
       "<circle clip-path=\"url(#clip0202)\" style=\"fill:#009af9; stroke:none; fill-opacity:1\" cx=\"204.437\" cy=\"1446.71\" r=\"14\"/>\n",
       "<circle clip-path=\"url(#clip0202)\" style=\"fill:#000000; stroke:none; fill-opacity:1\" cx=\"326.94\" cy=\"853.884\" r=\"18\"/>\n",
       "<circle clip-path=\"url(#clip0202)\" style=\"fill:#009af9; stroke:none; fill-opacity:1\" cx=\"326.94\" cy=\"853.884\" r=\"14\"/>\n",
       "<circle clip-path=\"url(#clip0202)\" style=\"fill:#000000; stroke:none; fill-opacity:1\" cx=\"2068.28\" cy=\"329.405\" r=\"18\"/>\n",
       "<circle clip-path=\"url(#clip0202)\" style=\"fill:#009af9; stroke:none; fill-opacity:1\" cx=\"2068.28\" cy=\"329.405\" r=\"14\"/>\n",
       "<circle clip-path=\"url(#clip0202)\" style=\"fill:#000000; stroke:none; fill-opacity:1\" cx=\"1166.4\" cy=\"611.876\" r=\"18\"/>\n",
       "<circle clip-path=\"url(#clip0202)\" style=\"fill:#009af9; stroke:none; fill-opacity:1\" cx=\"1166.4\" cy=\"611.876\" r=\"14\"/>\n",
       "<circle clip-path=\"url(#clip0202)\" style=\"fill:#000000; stroke:none; fill-opacity:1\" cx=\"861.064\" cy=\"701.263\" r=\"18\"/>\n",
       "<circle clip-path=\"url(#clip0202)\" style=\"fill:#009af9; stroke:none; fill-opacity:1\" cx=\"861.064\" cy=\"701.263\" r=\"14\"/>\n",
       "<circle clip-path=\"url(#clip0202)\" style=\"fill:#000000; stroke:none; fill-opacity:1\" cx=\"2253.05\" cy=\"362.024\" r=\"18\"/>\n",
       "<circle clip-path=\"url(#clip0202)\" style=\"fill:#009af9; stroke:none; fill-opacity:1\" cx=\"2253.05\" cy=\"362.024\" r=\"14\"/>\n",
       "<circle clip-path=\"url(#clip0202)\" style=\"fill:#000000; stroke:none; fill-opacity:1\" cx=\"1430.95\" cy=\"507.822\" r=\"18\"/>\n",
       "<circle clip-path=\"url(#clip0202)\" style=\"fill:#009af9; stroke:none; fill-opacity:1\" cx=\"1430.95\" cy=\"507.822\" r=\"14\"/>\n",
       "<circle clip-path=\"url(#clip0202)\" style=\"fill:#000000; stroke:none; fill-opacity:1\" cx=\"465.08\" cy=\"994.999\" r=\"18\"/>\n",
       "<circle clip-path=\"url(#clip0202)\" style=\"fill:#009af9; stroke:none; fill-opacity:1\" cx=\"465.08\" cy=\"994.999\" r=\"14\"/>\n",
       "<circle clip-path=\"url(#clip0202)\" style=\"fill:#000000; stroke:none; fill-opacity:1\" cx=\"505.749\" cy=\"851.079\" r=\"18\"/>\n",
       "<circle clip-path=\"url(#clip0202)\" style=\"fill:#009af9; stroke:none; fill-opacity:1\" cx=\"505.749\" cy=\"851.079\" r=\"14\"/>\n",
       "<circle clip-path=\"url(#clip0202)\" style=\"fill:#000000; stroke:none; fill-opacity:1\" cx=\"1151.08\" cy=\"584.943\" r=\"18\"/>\n",
       "<circle clip-path=\"url(#clip0202)\" style=\"fill:#009af9; stroke:none; fill-opacity:1\" cx=\"1151.08\" cy=\"584.943\" r=\"14\"/>\n",
       "<polyline clip-path=\"url(#clip0202)\" style=\"stroke:#e26f46; stroke-width:8; stroke-opacity:1; fill:none\" points=\"\n",
       "  204.437,1446.71 221.918,1419.37 241.825,1388.16 262.911,1354.95 284.744,1320.34 307.091,1284.57 329.798,1247.74 352.737,1209.85 375.789,1170.79 398.814,1130.37 \n",
       "  421.628,1088.2 443.929,1043.56 465.08,994.999 482.915,939.251 430.099,929.11 382.123,913.267 344.626,888.229 326.94,853.884 338.957,819.305 376.612,800.198 \n",
       "  422.958,802.558 466.709,821.529 505.749,851.079 543.09,886.99 580.035,899.158 615.353,888.125 619.092,858.159 687.108,822.908 677.373,794.991 \n",
       "  \"/>\n",
       "<polyline clip-path=\"url(#clip0202)\" style=\"stroke:#3da44d; stroke-width:8; stroke-opacity:1; fill:none\" points=\"\n",
       "  1957.57,88.0053 1949.98,118.644 1941.27,154.257 1931.84,193.239 1921.13,236.03 1904.11,285.735 1836.85,317.298 1782.75,349.65 1731.15,374.964 1680.63,398.341 \n",
       "  1630.57,420.867 1580.71,442.934 1530.89,464.723 1481,486.335 1430.95,507.822 1380.61,529.213 1329.81,550.511 1278.23,571.676 1224.98,592.538 1166.4,611.876 \n",
       "  \n",
       "  \"/>\n",
       "<polyline clip-path=\"url(#clip0202)\" style=\"stroke:#c271d2; stroke-width:8; stroke-opacity:1; fill:none\" points=\"\n",
       "  2290.18,367.915 2253.05,362.024 2210.54,355.133 2165.17,347.488 2117.68,339.001 2068.28,329.405 2016.85,318.205 1962.76,304.437 1904.11,285.735 1876.47,268.504 \n",
       "  \n",
       "  \"/>\n",
       "<polyline clip-path=\"url(#clip0202)\" style=\"stroke:#ac8d18; stroke-width:8; stroke-opacity:1; fill:none\" points=\"\n",
       "  1151.08,584.943 1166.4,611.876 1112.19,639.73 1058.48,663.929 1003.68,687.313 945.835,710.605 879.118,734.944 814.604,767.238 753.585,795.765 687.108,822.908 \n",
       "  \n",
       "  \"/>\n",
       "<polyline clip-path=\"url(#clip0202)\" style=\"stroke:#00a9ad; stroke-width:8; stroke-opacity:1; fill:none\" points=\"\n",
       "  897.712,762.167 879.118,734.944 861.064,701.263 846.145,672.049 \n",
       "  \"/>\n",
       "<polyline clip-path=\"url(#clip0202)\" style=\"stroke:#ed5d92; stroke-width:8; stroke-opacity:1; fill:none\" points=\"\n",
       "  482.915,939.251 543.09,886.99 619.092,858.159 \n",
       "  \"/>\n",
       "<polyline clip-path=\"url(#clip0202)\" style=\"stroke:#c68125; stroke-width:8; stroke-opacity:1; fill:none\" points=\"\n",
       "  1836.85,317.298 1807.54,299.511 \n",
       "  \"/>\n",
       "<path clip-path=\"url(#clip0200)\" d=\"\n",
       "M1989.93 675.084 L2280.76 675.084 L2280.76 130.764 L1989.93 130.764  Z\n",
       "  \" fill=\"#ffffff\" fill-rule=\"evenodd\" fill-opacity=\"1\"/>\n",
       "<polyline clip-path=\"url(#clip0200)\" style=\"stroke:#000000; stroke-width:4; stroke-opacity:1; fill:none\" points=\"\n",
       "  1989.93,675.084 2280.76,675.084 2280.76,130.764 1989.93,130.764 1989.93,675.084 \n",
       "  \"/>\n",
       "<circle clip-path=\"url(#clip0200)\" style=\"fill:#000000; stroke:none; fill-opacity:1\" cx=\"2097.93\" cy=\"191.244\" r=\"25\"/>\n",
       "<circle clip-path=\"url(#clip0200)\" style=\"fill:#009af9; stroke:none; fill-opacity:1\" cx=\"2097.93\" cy=\"191.244\" r=\"21\"/>\n",
       "<g clip-path=\"url(#clip0200)\">\n",
       "<text style=\"fill:#000000; fill-opacity:1; font-family:Arial,Helvetica Neue,Helvetica,sans-serif; font-size:48px; text-anchor:start;\" transform=\"rotate(0, 2181.93, 208.744)\" x=\"2181.93\" y=\"208.744\">y1</text>\n",
       "</g>\n",
       "<polyline clip-path=\"url(#clip0200)\" style=\"stroke:#e26f46; stroke-width:8; stroke-opacity:1; fill:none\" points=\"\n",
       "  2013.93,251.724 2157.93,251.724 \n",
       "  \"/>\n",
       "<g clip-path=\"url(#clip0200)\">\n",
       "<text style=\"fill:#000000; fill-opacity:1; font-family:Arial,Helvetica Neue,Helvetica,sans-serif; font-size:48px; text-anchor:start;\" transform=\"rotate(0, 2181.93, 269.224)\" x=\"2181.93\" y=\"269.224\">y2</text>\n",
       "</g>\n",
       "<polyline clip-path=\"url(#clip0200)\" style=\"stroke:#3da44d; stroke-width:8; stroke-opacity:1; fill:none\" points=\"\n",
       "  2013.93,312.204 2157.93,312.204 \n",
       "  \"/>\n",
       "<g clip-path=\"url(#clip0200)\">\n",
       "<text style=\"fill:#000000; fill-opacity:1; font-family:Arial,Helvetica Neue,Helvetica,sans-serif; font-size:48px; text-anchor:start;\" transform=\"rotate(0, 2181.93, 329.704)\" x=\"2181.93\" y=\"329.704\">y3</text>\n",
       "</g>\n",
       "<polyline clip-path=\"url(#clip0200)\" style=\"stroke:#c271d2; stroke-width:8; stroke-opacity:1; fill:none\" points=\"\n",
       "  2013.93,372.684 2157.93,372.684 \n",
       "  \"/>\n",
       "<g clip-path=\"url(#clip0200)\">\n",
       "<text style=\"fill:#000000; fill-opacity:1; font-family:Arial,Helvetica Neue,Helvetica,sans-serif; font-size:48px; text-anchor:start;\" transform=\"rotate(0, 2181.93, 390.184)\" x=\"2181.93\" y=\"390.184\">y4</text>\n",
       "</g>\n",
       "<polyline clip-path=\"url(#clip0200)\" style=\"stroke:#ac8d18; stroke-width:8; stroke-opacity:1; fill:none\" points=\"\n",
       "  2013.93,433.164 2157.93,433.164 \n",
       "  \"/>\n",
       "<g clip-path=\"url(#clip0200)\">\n",
       "<text style=\"fill:#000000; fill-opacity:1; font-family:Arial,Helvetica Neue,Helvetica,sans-serif; font-size:48px; text-anchor:start;\" transform=\"rotate(0, 2181.93, 450.664)\" x=\"2181.93\" y=\"450.664\">y5</text>\n",
       "</g>\n",
       "<polyline clip-path=\"url(#clip0200)\" style=\"stroke:#00a9ad; stroke-width:8; stroke-opacity:1; fill:none\" points=\"\n",
       "  2013.93,493.644 2157.93,493.644 \n",
       "  \"/>\n",
       "<g clip-path=\"url(#clip0200)\">\n",
       "<text style=\"fill:#000000; fill-opacity:1; font-family:Arial,Helvetica Neue,Helvetica,sans-serif; font-size:48px; text-anchor:start;\" transform=\"rotate(0, 2181.93, 511.144)\" x=\"2181.93\" y=\"511.144\">y6</text>\n",
       "</g>\n",
       "<polyline clip-path=\"url(#clip0200)\" style=\"stroke:#ed5d92; stroke-width:8; stroke-opacity:1; fill:none\" points=\"\n",
       "  2013.93,554.124 2157.93,554.124 \n",
       "  \"/>\n",
       "<g clip-path=\"url(#clip0200)\">\n",
       "<text style=\"fill:#000000; fill-opacity:1; font-family:Arial,Helvetica Neue,Helvetica,sans-serif; font-size:48px; text-anchor:start;\" transform=\"rotate(0, 2181.93, 571.624)\" x=\"2181.93\" y=\"571.624\">y7</text>\n",
       "</g>\n",
       "<polyline clip-path=\"url(#clip0200)\" style=\"stroke:#c68125; stroke-width:8; stroke-opacity:1; fill:none\" points=\"\n",
       "  2013.93,614.604 2157.93,614.604 \n",
       "  \"/>\n",
       "<g clip-path=\"url(#clip0200)\">\n",
       "<text style=\"fill:#000000; fill-opacity:1; font-family:Arial,Helvetica Neue,Helvetica,sans-serif; font-size:48px; text-anchor:start;\" transform=\"rotate(0, 2181.93, 632.104)\" x=\"2181.93\" y=\"632.104\">y8</text>\n",
       "</g>\n",
       "</svg>\n"
      ]
     },
     "execution_count": 243,
     "metadata": {},
     "output_type": "execute_result"
    }
   ],
   "source": [
    "fig = plot()\n",
    "scatter!(coords[:, 1], coords[:, 2], linewidth=2)\n",
    "for chain in graph\n",
    "    idx = [nodes_index[n] for n in chain]\n",
    "    plot!(coords[idx, 1], coords[idx, 2], linewidth=2)\n",
    "    #println(coords[idx, 1])\n",
    "    end;\n",
    "fig"
   ]
  },
  {
   "cell_type": "code",
   "execution_count": null,
   "metadata": {},
   "outputs": [],
   "source": []
  }
 ],
 "metadata": {
  "kernelspec": {
   "display_name": "Julia 1.2.0",
   "language": "julia",
   "name": "julia-1.2"
  },
  "language_info": {
   "file_extension": ".jl",
   "mimetype": "application/julia",
   "name": "julia",
   "version": "1.2.0"
  }
 },
 "nbformat": 4,
 "nbformat_minor": 2
}
