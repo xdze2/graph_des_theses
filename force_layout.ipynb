{
 "cells": [
  {
   "cell_type": "code",
   "execution_count": null,
   "metadata": {},
   "outputs": [],
   "source": [
    "# install\n",
    "using Pkg\n",
    "\n",
    "Pkg.add(\"NLsolve\")\n",
    "Pkg.add(\"Optim\")"
   ]
  },
  {
   "cell_type": "code",
   "execution_count": 1,
   "metadata": {},
   "outputs": [],
   "source": [
    "using NLsolve"
   ]
  },
  {
   "cell_type": "markdown",
   "metadata": {},
   "source": [
    "A graph is usualy given by the list of links [(source, target), ...]. However, for the particular type of graph, chains of nodes are considered. So the graph is given by chains of nodes: [[A1, A2, ...], ...]."
   ]
  },
  {
   "cell_type": "code",
   "execution_count": 2,
   "metadata": {},
   "outputs": [],
   "source": [
    "graph = [[\"074559265\", \"033293546\", \"177194634\", \"132327031\", \"05942608X\", \"147936594\",\n",
    "        \"194946746\", \"20308523X\", \"160289750\", \"103659625\", \"103664262\", \"07456501X\",\n",
    "        \"074559192\", \"074576127\", \"113270321\", \"123899249\", \"122925262\", \"121644545\",\n",
    "        \"122935314\", \"13235103X\", \"149658192\", \"149531125\", \"151099103\", \"168078465\",\n",
    "        \"17817310X\", \"18105938X\", \"181232529\", \"195092317\", \"202363856\"],\n",
    "    [\"069862753\", \"033922020\", \"185417396\", \"185923089\", \"161170161\", \"188021574\",\n",
    "        \"188160396\", \"188705945\", \"189504048\", \"189565624\", \"189997680\", \"190237201\",\n",
    "        \"06986263X\", \"074589644\", \"076964361\", \"076694348\", \"076969576\", \"083593217\",\n",
    "        \"110189159\", \"129545279\"], [\"112512380\", \"109209265\", \"185124100\", \"180818260\",\n",
    "        \"185775926\", \"185887015\", \"187849390\", \"18786425X\", \"188021574\", \"112508901\"],\n",
    "    [\"129545678\", \"129545279\", \"140093052\", \"154959588\", \"155289756\", \"176736999\",\n",
    "        \"177538619\", \"179791338\", \"177523824\", \"195092317\"],\n",
    "    [\"177539135\", \"177538619\", \"200874586\", \"241318939\"],\n",
    "    [\"074576127\", \"168078465\", \"181232529\"], [\"188160396\", \"236926446\"]];"
   ]
  },
  {
   "cell_type": "code",
   "execution_count": 16,
   "metadata": {},
   "outputs": [],
   "source": [
    "graph = [[\"one\", \"two\", \"three\"],\n",
    "         [\"two\", \"four\", \"five\"]];"
   ]
  },
  {
   "cell_type": "code",
   "execution_count": 17,
   "metadata": {},
   "outputs": [
    {
     "name": "stdout",
     "output_type": "stream",
     "text": [
      "#nodes: 5\n",
      "#chains: 2\n"
     ]
    }
   ],
   "source": [
    "nodes = Dict(n=>rand(Float32, 2) for ch in graph for n in ch);\n",
    "println(\"#nodes: \", length(nodes))\n",
    "println(\"#chains: \", length(graph))"
   ]
  },
  {
   "cell_type": "markdown",
   "metadata": {},
   "source": [
    "Next we need a function which compute the system energy (and the forces?) for a given graph and a list of nodes coordinates. Folowing classical approach [Fruchterman and Reingold 1991](http://www.mathe2.uni-bayreuth.de/axel/papers/reingold:graph_drawing_by_force_directed_placement.pdf) there is an attractive force -between linked nodes- and repulsive forces between every nodes. In addition, here we want a torque at each node in a chain to rigidify the line. Maybe, a global gravity field would be required to densify the graph (keep disconected parts). \n",
    "\n",
    "$$\n",
    "f_{attractive} = d^2/k \\\\\n",
    "f_{repulsive} = -k^2/d\n",
    "$$"
   ]
  },
  {
   "cell_type": "code",
   "execution_count": 18,
   "metadata": {},
   "outputs": [],
   "source": [
    "norm(x) = sqrt(sum(x.^2));"
   ]
  },
  {
   "cell_type": "code",
   "execution_count": 20,
   "metadata": {},
   "outputs": [],
   "source": [
    "const k = .1 # whatever the unit\n",
    "\n",
    "function attractive_energy(x1, x2)\n",
    "    d3 = norm(x1 .- x2).^3\n",
    "    E = d3/k/3\n",
    "    end;\n",
    "\n",
    "function repulsive_energy(x1, x2)\n",
    "    d = norm(x1 .- x2)\n",
    "    E = -k^2*log(d)\n",
    "    end;\n",
    "\n",
    "#println( attractive_energy(nodes[\"033293546\"], nodes[\"177194634\"]) )\n",
    "#println( repulsive_energy(nodes[\"033293546\"], nodes[\"177194634\"]) )"
   ]
  },
  {
   "cell_type": "markdown",
   "metadata": {},
   "source": [
    "The torque will be function of the angle formed between 3 ordered nodes. "
   ]
  },
  {
   "cell_type": "code",
   "execution_count": 22,
   "metadata": {},
   "outputs": [],
   "source": [
    "function join_angle(x1, x2, x3)\n",
    "    x12 = x2 .- x1\n",
    "    x23 = x3 .- x2\n",
    "    dot = sum( x12 .* x23 )/(norm(x12)*norm(x23))\n",
    "    theta = acos(dot)\n",
    "    end;\n",
    "\n",
    "function join_energy(x1, x2, x3)\n",
    "    theta = join_angle(x1, x2, x3)\n",
    "    gamma = .008 # J/rad2\n",
    "    E = gamma*theta^2\n",
    "    end;\n",
    "\n",
    "#x1, x2, x3 = nodes[\"033293546\"], nodes[\"177194634\"], nodes[\"132327031\"]\n",
    "#println(join_angle(x1, x2, x3))\n",
    "#println(join_energy(x1, x2, x3))"
   ]
  },
  {
   "cell_type": "code",
   "execution_count": 23,
   "metadata": {},
   "outputs": [],
   "source": [
    "function isolated_chain_energy(chain, nodes)\n",
    "    nrj = 0\n",
    "    for k in 1:length(chain)-2\n",
    "        n1, n2, n3 = chain[k], chain[k+1], chain[k+2]\n",
    "        x1, x2, x3 = nodes[n1], nodes[n2], nodes[n3]\n",
    "        nrj += join_energy(x1, x2, x3)\n",
    "        nrj += attractive_energy(x1, x2)\n",
    "        end;\n",
    "    # last link:\n",
    "    nrj += attractive_energy(nodes[chain[end-1]], nodes[chain[end]])\n",
    "    end;\n",
    "\n",
    "function global_chain_energy(graph, nodes)\n",
    "    nrj = 0\n",
    "    for chain in graph\n",
    "        nrj += isolated_chain_energy(chain, nodes)\n",
    "        end;\n",
    "    return nrj\n",
    "    end;"
   ]
  },
  {
   "cell_type": "code",
   "execution_count": 25,
   "metadata": {},
   "outputs": [
    {
     "data": {
      "text/plain": [
       "2.038097500324249"
      ]
     },
     "execution_count": 25,
     "metadata": {},
     "output_type": "execute_result"
    }
   ],
   "source": [
    "chain = graph[2]\n",
    "isolated_chain_energy(chain, nodes)"
   ]
  },
  {
   "cell_type": "code",
   "execution_count": 26,
   "metadata": {},
   "outputs": [
    {
     "data": {
      "text/plain": [
       "2.3307935562779507"
      ]
     },
     "execution_count": 26,
     "metadata": {},
     "output_type": "execute_result"
    }
   ],
   "source": [
    "global_chain_energy(graph, nodes)"
   ]
  },
  {
   "cell_type": "code",
   "execution_count": 27,
   "metadata": {},
   "outputs": [
    {
     "name": "stdout",
     "output_type": "stream",
     "text": [
      "0.0998519751429558\n"
     ]
    }
   ],
   "source": [
    "function global_repulsive_energy(nodes)\n",
    "    nrj = 0\n",
    "    for (n1, x1) in pairs(nodes)\n",
    "        for (n2, x2) in pairs(nodes)\n",
    "            if n1 > n2\n",
    "                nrj += repulsive_energy(x1, x2)\n",
    "                end;\n",
    "            end;\n",
    "        end;\n",
    "    return nrj\n",
    "    end;\n",
    "\n",
    "println(global_repulsive_energy(nodes))\n",
    "\n",
    "function graph_energy(graph, nodes)\n",
    "    nrj = global_repulsive_energy(nodes)\n",
    "    nrj += isolated_chain_energy(chain, nodes)\n",
    "    return nrj\n",
    "    end;"
   ]
  },
  {
   "cell_type": "code",
   "execution_count": 28,
   "metadata": {},
   "outputs": [
    {
     "data": {
      "text/plain": [
       "2.137949475467205"
      ]
     },
     "execution_count": 28,
     "metadata": {},
     "output_type": "execute_result"
    }
   ],
   "source": [
    "graph_energy(graph, nodes)"
   ]
  },
  {
   "cell_type": "markdown",
   "metadata": {},
   "source": [
    "Let's now try to solve this mess"
   ]
  },
  {
   "cell_type": "code",
   "execution_count": 29,
   "metadata": {},
   "outputs": [],
   "source": [
    "nodes_list = String[]\n",
    "coords = Float32[]\n",
    "for (n, x) in pairs(nodes)\n",
    "    push!(nodes_list, n)\n",
    "    append!(coords, x)\n",
    "    end;"
   ]
  },
  {
   "cell_type": "code",
   "execution_count": 36,
   "metadata": {},
   "outputs": [],
   "source": [
    "function proxy_function(x)\n",
    "    for (i, n) in enumerate(nodes_list)\n",
    "        nodes[n] = [x[2*i-1], x[2*i]] \n",
    "        end;\n",
    "    E = graph_energy(graph, nodes)\n",
    "    end;"
   ]
  },
  {
   "cell_type": "code",
   "execution_count": 37,
   "metadata": {},
   "outputs": [
    {
     "data": {
      "text/plain": [
       "2.137949475467205"
      ]
     },
     "execution_count": 37,
     "metadata": {},
     "output_type": "execute_result"
    }
   ],
   "source": [
    "proxy_function(coords)"
   ]
  },
  {
   "cell_type": "code",
   "execution_count": 39,
   "metadata": {},
   "outputs": [
    {
     "data": {
      "text/plain": [
       "Results of Nonlinear Solver Algorithm\n",
       " * Algorithm: Trust-region with dogleg and autoscaling\n",
       " * Starting Point: Float32[0.6238532, 0.36713898, 0.7998136, 0.8389406, 0.78978837, 0.48203838, 0.90661144, 0.63168323, 0.41286337, 0.16936028]\n",
       " * Zero: Float32[NaN, NaN, NaN, NaN, NaN, NaN, NaN, NaN, NaN, NaN]\n",
       " * Inf-norm of residuals: 2.137949\n",
       " * Iterations: 3\n",
       " * Convergence: false\n",
       "   * |x - x'| < 0.0e+00: false\n",
       "   * |f(x)| < 1.0e-08: false\n",
       " * Function Calls (f): 4\n",
       " * Jacobian Calls (df/dx): 1"
      ]
     },
     "execution_count": 39,
     "metadata": {},
     "output_type": "execute_result"
    }
   ],
   "source": [
    "nlsolve(proxy_function, coords, iterations=3)"
   ]
  },
  {
   "cell_type": "code",
   "execution_count": null,
   "metadata": {},
   "outputs": [],
   "source": []
  }
 ],
 "metadata": {
  "kernelspec": {
   "display_name": "Julia 1.2.0",
   "language": "julia",
   "name": "julia-1.2"
  },
  "language_info": {
   "file_extension": ".jl",
   "mimetype": "application/julia",
   "name": "julia",
   "version": "1.2.0"
  }
 },
 "nbformat": 4,
 "nbformat_minor": 2
}
