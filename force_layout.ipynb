{
 "cells": [
  {
   "cell_type": "code",
   "execution_count": 1,
   "metadata": {},
   "outputs": [
    {
     "name": "stdout",
     "output_type": "stream",
     "text": [
      "\u001b[32m\u001b[1m  Updating\u001b[22m\u001b[39m registry at `~/.julia/registries/General`\n",
      "\u001b[32m\u001b[1m  Updating\u001b[22m\u001b[39m git-repo `https://github.com/JuliaRegistries/General.git`\n",
      "\u001b[?25l\u001b[2K\u001b[?25h\u001b[32m\u001b[1m Resolving\u001b[22m\u001b[39m package versions...\n",
      "\u001b[32m\u001b[1m Installed\u001b[22m\u001b[39m Parameters ─────────── v0.12.0\n",
      "\u001b[32m\u001b[1m Installed\u001b[22m\u001b[39m LineSearches ───────── v7.0.1\n",
      "\u001b[32m\u001b[1m Installed\u001b[22m\u001b[39m NLsolve ────────────── v4.2.0\n",
      "\u001b[32m\u001b[1m Installed\u001b[22m\u001b[39m SpecialFunctions ───── v0.9.0\n",
      "\u001b[32m\u001b[1m Installed\u001b[22m\u001b[39m OrderedCollections ─── v1.1.0\n",
      "\u001b[32m\u001b[1m Installed\u001b[22m\u001b[39m NLSolversBase ──────── v7.5.0\n",
      "\u001b[32m\u001b[1m Installed\u001b[22m\u001b[39m ForwardDiff ────────── v0.10.7\n",
      "\u001b[32m\u001b[1m Installed\u001b[22m\u001b[39m OpenSpecFun_jll ────── v0.5.3+1\n",
      "\u001b[32m\u001b[1m Installed\u001b[22m\u001b[39m NaNMath ────────────── v0.3.3\n",
      "\u001b[32m\u001b[1m Installed\u001b[22m\u001b[39m DiffEqDiffTools ────── v1.5.0\n",
      "\u001b[32m\u001b[1m Installed\u001b[22m\u001b[39m DiffRules ──────────── v0.1.0\n",
      "\u001b[32m\u001b[1m Installed\u001b[22m\u001b[39m Calculus ───────────── v0.5.1\n",
      "\u001b[32m\u001b[1m Installed\u001b[22m\u001b[39m ArrayInterface ─────── v2.0.0\n",
      "\u001b[32m\u001b[1m Installed\u001b[22m\u001b[39m Distances ──────────── v0.8.2\n",
      "\u001b[32m\u001b[1m Installed\u001b[22m\u001b[39m Requires ───────────── v0.5.2\n",
      "\u001b[32m\u001b[1m Installed\u001b[22m\u001b[39m DiffResults ────────── v0.0.4\n",
      "\u001b[32m\u001b[1m Installed\u001b[22m\u001b[39m Reexport ───────────── v0.2.0\n",
      "\u001b[32m\u001b[1m Installed\u001b[22m\u001b[39m StaticArrays ───────── v0.12.1\n",
      "\u001b[32m\u001b[1m Installed\u001b[22m\u001b[39m CommonSubexpressions ─ v0.2.0\n",
      "\u001b[32m\u001b[1m  Updating\u001b[22m\u001b[39m `~/.julia/environments/v1.3/Project.toml`\n",
      " \u001b[90m [2774e3e8]\u001b[39m\u001b[92m + NLsolve v4.2.0\u001b[39m\n",
      "\u001b[32m\u001b[1m  Updating\u001b[22m\u001b[39m `~/.julia/environments/v1.3/Manifest.toml`\n",
      " \u001b[90m [4fba245c]\u001b[39m\u001b[92m + ArrayInterface v2.0.0\u001b[39m\n",
      " \u001b[90m [49dc2e85]\u001b[39m\u001b[92m + Calculus v0.5.1\u001b[39m\n",
      " \u001b[90m [bbf7d656]\u001b[39m\u001b[92m + CommonSubexpressions v0.2.0\u001b[39m\n",
      " \u001b[90m [01453d9d]\u001b[39m\u001b[92m + DiffEqDiffTools v1.5.0\u001b[39m\n",
      " \u001b[90m [163ba53b]\u001b[39m\u001b[92m + DiffResults v0.0.4\u001b[39m\n",
      " \u001b[90m [b552c78f]\u001b[39m\u001b[92m + DiffRules v0.1.0\u001b[39m\n",
      " \u001b[90m [b4f34e82]\u001b[39m\u001b[92m + Distances v0.8.2\u001b[39m\n",
      " \u001b[90m [f6369f11]\u001b[39m\u001b[92m + ForwardDiff v0.10.7\u001b[39m\n",
      " \u001b[90m [d3d80556]\u001b[39m\u001b[92m + LineSearches v7.0.1\u001b[39m\n",
      " \u001b[90m [d41bc354]\u001b[39m\u001b[92m + NLSolversBase v7.5.0\u001b[39m\n",
      " \u001b[90m [2774e3e8]\u001b[39m\u001b[92m + NLsolve v4.2.0\u001b[39m\n",
      " \u001b[90m [77ba4419]\u001b[39m\u001b[92m + NaNMath v0.3.3\u001b[39m\n",
      " \u001b[90m [efe28fd5]\u001b[39m\u001b[92m + OpenSpecFun_jll v0.5.3+1\u001b[39m\n",
      " \u001b[90m [bac558e1]\u001b[39m\u001b[92m + OrderedCollections v1.1.0\u001b[39m\n",
      " \u001b[90m [d96e819e]\u001b[39m\u001b[92m + Parameters v0.12.0\u001b[39m\n",
      " \u001b[90m [189a3867]\u001b[39m\u001b[92m + Reexport v0.2.0\u001b[39m\n",
      " \u001b[90m [ae029012]\u001b[39m\u001b[92m + Requires v0.5.2\u001b[39m\n",
      " \u001b[90m [276daf66]\u001b[39m\u001b[92m + SpecialFunctions v0.9.0\u001b[39m\n",
      " \u001b[90m [90137ffa]\u001b[39m\u001b[92m + StaticArrays v0.12.1\u001b[39m\n",
      "\u001b[32m\u001b[1m Resolving\u001b[22m\u001b[39m package versions...\n",
      "\u001b[32m\u001b[1m Installed\u001b[22m\u001b[39m DataAPI ──────────────── v1.1.0\n",
      "\u001b[32m\u001b[1m Installed\u001b[22m\u001b[39m Missings ─────────────── v0.4.3\n",
      "\u001b[32m\u001b[1m Installed\u001b[22m\u001b[39m SortingAlgorithms ────── v0.3.1\n",
      "\u001b[32m\u001b[1m Installed\u001b[22m\u001b[39m FillArrays ───────────── v0.8.2\n",
      "\u001b[32m\u001b[1m Installed\u001b[22m\u001b[39m DataStructures ───────── v0.17.6\n",
      "\u001b[32m\u001b[1m Installed\u001b[22m\u001b[39m StatsBase ────────────── v0.32.0\n",
      "\u001b[32m\u001b[1m Installed\u001b[22m\u001b[39m PositiveFactorizations ─ v0.2.3\n",
      "\u001b[32m\u001b[1m Installed\u001b[22m\u001b[39m Optim ────────────────── v0.19.6\n",
      "\u001b[32m\u001b[1m  Updating\u001b[22m\u001b[39m `~/.julia/environments/v1.3/Project.toml`\n",
      " \u001b[90m [429524aa]\u001b[39m\u001b[92m + Optim v0.19.6\u001b[39m\n",
      "\u001b[32m\u001b[1m  Updating\u001b[22m\u001b[39m `~/.julia/environments/v1.3/Manifest.toml`\n",
      " \u001b[90m [9a962f9c]\u001b[39m\u001b[92m + DataAPI v1.1.0\u001b[39m\n",
      " \u001b[90m [864edb3b]\u001b[39m\u001b[92m + DataStructures v0.17.6\u001b[39m\n",
      " \u001b[90m [1a297f60]\u001b[39m\u001b[92m + FillArrays v0.8.2\u001b[39m\n",
      " \u001b[90m [e1d29d7a]\u001b[39m\u001b[92m + Missings v0.4.3\u001b[39m\n",
      " \u001b[90m [429524aa]\u001b[39m\u001b[92m + Optim v0.19.6\u001b[39m\n",
      " \u001b[90m [85a6dd25]\u001b[39m\u001b[92m + PositiveFactorizations v0.2.3\u001b[39m\n",
      " \u001b[90m [a2af1166]\u001b[39m\u001b[92m + SortingAlgorithms v0.3.1\u001b[39m\n",
      " \u001b[90m [2913bbd2]\u001b[39m\u001b[92m + StatsBase v0.32.0\u001b[39m\n"
     ]
    }
   ],
   "source": [
    "# install\n",
    "using Pkg\n",
    "\n",
    "Pkg.add(\"NLsolve\")\n",
    "Pkg.add(\"Optim\")"
   ]
  },
  {
   "cell_type": "code",
   "execution_count": 2,
   "metadata": {},
   "outputs": [
    {
     "name": "stderr",
     "output_type": "stream",
     "text": [
      "┌ Info: Precompiling NLsolve [2774e3e8-f4cf-5e23-947b-6d7e65073b56]\n",
      "└ @ Base loading.jl:1273\n"
     ]
    }
   ],
   "source": [
    "using NLsolve"
   ]
  },
  {
   "cell_type": "markdown",
   "metadata": {},
   "source": [
    "A graph is usualy given by the list of links [(source, target), ...]. However, for the particular type of graph, chains of nodes are considered. So the graph is given by chains of nodes: [[A1, A2, ...], ...]."
   ]
  },
  {
   "cell_type": "code",
   "execution_count": 2,
   "metadata": {},
   "outputs": [],
   "source": [
    "graph = [[\"074559265\", \"033293546\", \"177194634\", \"132327031\", \"05942608X\", \"147936594\",\n",
    "        \"194946746\", \"20308523X\", \"160289750\", \"103659625\", \"103664262\", \"07456501X\",\n",
    "        \"074559192\", \"074576127\", \"113270321\", \"123899249\", \"122925262\", \"121644545\",\n",
    "        \"122935314\", \"13235103X\", \"149658192\", \"149531125\", \"151099103\", \"168078465\",\n",
    "        \"17817310X\", \"18105938X\", \"181232529\", \"195092317\", \"202363856\"],\n",
    "    [\"069862753\", \"033922020\", \"185417396\", \"185923089\", \"161170161\", \"188021574\",\n",
    "        \"188160396\", \"188705945\", \"189504048\", \"189565624\", \"189997680\", \"190237201\",\n",
    "        \"06986263X\", \"074589644\", \"076964361\", \"076694348\", \"076969576\", \"083593217\",\n",
    "        \"110189159\", \"129545279\"], [\"112512380\", \"109209265\", \"185124100\", \"180818260\",\n",
    "        \"185775926\", \"185887015\", \"187849390\", \"18786425X\", \"188021574\", \"112508901\"],\n",
    "    [\"129545678\", \"129545279\", \"140093052\", \"154959588\", \"155289756\", \"176736999\",\n",
    "        \"177538619\", \"179791338\", \"177523824\", \"195092317\"],\n",
    "    [\"177539135\", \"177538619\", \"200874586\", \"241318939\"],\n",
    "    [\"074576127\", \"168078465\", \"181232529\"], [\"188160396\", \"236926446\"]];"
   ]
  },
  {
   "cell_type": "code",
   "execution_count": 67,
   "metadata": {},
   "outputs": [],
   "source": [
    "graph = [[\"one\", \"two\", \"three\"],\n",
    "         [\"two\", \"four\", \"five\"]];"
   ]
  },
  {
   "cell_type": "code",
   "execution_count": 68,
   "metadata": {},
   "outputs": [
    {
     "name": "stdout",
     "output_type": "stream",
     "text": [
      "#nodes: 5\n",
      "#chains: 2\n"
     ]
    }
   ],
   "source": [
    "nodes = Dict(n=>rand(Float32, 2) for ch in graph for n in ch);\n",
    "println(\"#nodes: \", length(nodes))\n",
    "println(\"#chains: \", length(graph))"
   ]
  },
  {
   "cell_type": "markdown",
   "metadata": {},
   "source": [
    "Next we need a function which compute the system energy (and the forces?) for a given graph and a list of nodes coordinates. Folowing classical approach [Fruchterman and Reingold 1991](http://www.mathe2.uni-bayreuth.de/axel/papers/reingold:graph_drawing_by_force_directed_placement.pdf) there is an attractive force -between linked nodes- and repulsive forces between every nodes. In addition, here we want a torque at each node in a chain to rigidify the line. Maybe, a global gravity field would be required to densify the graph (keep disconected parts). \n",
    "\n",
    "$$\n",
    "f_{attractive} = d^2/k \\\\\n",
    "f_{repulsive} = -k^2/d\n",
    "$$"
   ]
  },
  {
   "cell_type": "code",
   "execution_count": 69,
   "metadata": {},
   "outputs": [],
   "source": [
    "norm(x) = sqrt(sum(x.^2));"
   ]
  },
  {
   "cell_type": "code",
   "execution_count": 70,
   "metadata": {},
   "outputs": [],
   "source": [
    "const k = .1 # whatever the unit\n",
    "\n",
    "function attractive_energy(x1, x2)\n",
    "    d2 = norm(x1 .- x2).^2\n",
    "    E = d2/k/3\n",
    "    end;\n",
    "\n",
    "function repulsive_energy(x1, x2)\n",
    "    d = norm(x1 .- x2)\n",
    "    E = -k^2*log(d)\n",
    "    end;\n",
    "\n",
    "#println( attractive_energy(nodes[\"033293546\"], nodes[\"177194634\"]) )\n",
    "#println( repulsive_energy(nodes[\"033293546\"], nodes[\"177194634\"]) )"
   ]
  },
  {
   "cell_type": "markdown",
   "metadata": {},
   "source": [
    "test http://www.juliadiff.org/ForwardDiff.jl/stable/"
   ]
  },
  {
   "cell_type": "code",
   "execution_count": 71,
   "metadata": {},
   "outputs": [],
   "source": [
    "using(ForwardDiff)"
   ]
  },
  {
   "cell_type": "markdown",
   "metadata": {},
   "source": [
    "The torque will be function of the angle formed between 3 ordered nodes. "
   ]
  },
  {
   "cell_type": "code",
   "execution_count": 34,
   "metadata": {},
   "outputs": [
    {
     "data": {
      "text/plain": [
       "2×2 Array{Float64,2}:\n",
       " 3.0  3.0\n",
       " 1.0  5.0"
      ]
     },
     "execution_count": 34,
     "metadata": {},
     "output_type": "execute_result"
    }
   ],
   "source": [
    "coords = [[3. 3.]; [1. 5.]]"
   ]
  },
  {
   "cell_type": "code",
   "execution_count": 36,
   "metadata": {},
   "outputs": [
    {
     "data": {
      "text/plain": [
       "2-element Array{Float64,1}:\n",
       " 3.0\n",
       " 3.0"
      ]
     },
     "execution_count": 36,
     "metadata": {},
     "output_type": "execute_result"
    }
   ],
   "source": [
    "coords[1, :]"
   ]
  },
  {
   "cell_type": "code",
   "execution_count": 51,
   "metadata": {},
   "outputs": [],
   "source": [
    "function distance(x)\n",
    "    d = sum((x[2, :] .- x[1, :]).^2)\n",
    "    end;\n",
    "\n",
    "function square(x)\n",
    "    d = sum(x.^2)\n",
    "    end;\n",
    "\n",
    "function sum_distance(x)\n",
    "    d = 0\n",
    "    for i in size(x)[1]-1\n",
    "        d += sum((x[i+1, :] .- x[i, :]).^2)\n",
    "        end;\n",
    "    return d\n",
    "    end;\n"
   ]
  },
  {
   "cell_type": "code",
   "execution_count": 72,
   "metadata": {},
   "outputs": [
    {
     "data": {
      "text/plain": [
       "100.36"
      ]
     },
     "execution_count": 72,
     "metadata": {},
     "output_type": "execute_result"
    }
   ],
   "source": [
    "coords = [[3. 3.]; [1. 5.]; [5.4 12.]; [1. 3.]]\n",
    "sum_distance(coords)"
   ]
  },
  {
   "cell_type": "code",
   "execution_count": 60,
   "metadata": {},
   "outputs": [
    {
     "data": {
      "text/plain": [
       "(4, 2)"
      ]
     },
     "execution_count": 60,
     "metadata": {},
     "output_type": "execute_result"
    }
   ],
   "source": [
    "size(coords)"
   ]
  },
  {
   "cell_type": "code",
   "execution_count": 61,
   "metadata": {},
   "outputs": [
    {
     "data": {
      "text/plain": [
       "8.0"
      ]
     },
     "execution_count": 61,
     "metadata": {},
     "output_type": "execute_result"
    }
   ],
   "source": [
    "distance(coords)"
   ]
  },
  {
   "cell_type": "code",
   "execution_count": 62,
   "metadata": {},
   "outputs": [
    {
     "data": {
      "text/plain": [
       "4×2 Array{Float64,2}:\n",
       " -0.0   -0.0\n",
       " -0.0   -0.0\n",
       "  8.8   18.0\n",
       " -8.8  -18.0"
      ]
     },
     "execution_count": 62,
     "metadata": {},
     "output_type": "execute_result"
    }
   ],
   "source": [
    "ForwardDiff.gradient(sum_distance, coords)"
   ]
  },
  {
   "cell_type": "code",
   "execution_count": 73,
   "metadata": {},
   "outputs": [],
   "source": [
    "function join_angle(x1, x2, x3)\n",
    "    x12 = x2 .- x1\n",
    "    x23 = x3 .- x2\n",
    "    dot = sum( x12 .* x23 )/(norm(x12)*norm(x23))\n",
    "    theta = acos(dot)\n",
    "    end;\n",
    "\n",
    "function join_energy(x1, x2, x3)\n",
    "    theta = join_angle(x1, x2, x3)\n",
    "    gamma = .008 # J/rad2\n",
    "    E = gamma*theta^2\n",
    "    end;\n",
    "\n",
    "#x1, x2, x3 = nodes[\"033293546\"], nodes[\"177194634\"], nodes[\"132327031\"]\n",
    "#println(join_angle(x1, x2, x3))\n",
    "#println(join_energy(x1, x2, x3))"
   ]
  },
  {
   "cell_type": "code",
   "execution_count": 74,
   "metadata": {},
   "outputs": [],
   "source": [
    "function isolated_chain_energy(chain, nodes)\n",
    "    nrj = 0\n",
    "    for k in 1:length(chain)-2\n",
    "        n1, n2, n3 = chain[k], chain[k+1], chain[k+2]\n",
    "        x1, x2, x3 = nodes[n1], nodes[n2], nodes[n3]\n",
    "        nrj += join_energy(x1, x2, x3)\n",
    "        nrj += attractive_energy(x1, x2)\n",
    "        end;\n",
    "    # last link:\n",
    "    nrj += attractive_energy(nodes[chain[end-1]], nodes[chain[end]])\n",
    "    end;\n",
    "\n",
    "function global_chain_energy(graph, nodes)\n",
    "    nrj = 0\n",
    "    for chain in graph\n",
    "        nrj += isolated_chain_energy(chain, nodes)\n",
    "        end;\n",
    "    return nrj\n",
    "    end;"
   ]
  },
  {
   "cell_type": "code",
   "execution_count": 75,
   "metadata": {},
   "outputs": [
    {
     "data": {
      "text/plain": [
       "1.2304188557068507"
      ]
     },
     "execution_count": 75,
     "metadata": {},
     "output_type": "execute_result"
    }
   ],
   "source": [
    "chain = graph[2]\n",
    "isolated_chain_energy(chain, nodes)"
   ]
  },
  {
   "cell_type": "code",
   "execution_count": 76,
   "metadata": {},
   "outputs": [
    {
     "data": {
      "text/plain": [
       "3.494590395748615"
      ]
     },
     "execution_count": 76,
     "metadata": {},
     "output_type": "execute_result"
    }
   ],
   "source": [
    "global_chain_energy(graph, nodes)"
   ]
  },
  {
   "cell_type": "code",
   "execution_count": 77,
   "metadata": {},
   "outputs": [
    {
     "name": "stdout",
     "output_type": "stream",
     "text": [
      "0.08119494974613192\n"
     ]
    }
   ],
   "source": [
    "function global_repulsive_energy(nodes)\n",
    "    nrj = 0\n",
    "    for (n1, x1) in pairs(nodes)\n",
    "        for (n2, x2) in pairs(nodes)\n",
    "            if n1 > n2\n",
    "                nrj += repulsive_energy(x1, x2)\n",
    "                end;\n",
    "            end;\n",
    "        end;\n",
    "    return nrj\n",
    "    end;\n",
    "\n",
    "println(global_repulsive_energy(nodes))\n",
    "\n",
    "function graph_energy(graph, nodes)\n",
    "    nrj = global_repulsive_energy(nodes)\n",
    "    nrj += isolated_chain_energy(chain, nodes)\n",
    "    return nrj\n",
    "    end;"
   ]
  },
  {
   "cell_type": "code",
   "execution_count": 78,
   "metadata": {},
   "outputs": [
    {
     "data": {
      "text/plain": [
       "1.3116138054529827"
      ]
     },
     "execution_count": 78,
     "metadata": {},
     "output_type": "execute_result"
    }
   ],
   "source": [
    "graph_energy(graph, nodes)"
   ]
  },
  {
   "cell_type": "markdown",
   "metadata": {},
   "source": [
    "Let's now try to solve this mess"
   ]
  },
  {
   "cell_type": "code",
   "execution_count": 84,
   "metadata": {},
   "outputs": [],
   "source": [
    "nodes_list = String[]\n",
    "coords = Float32[]\n",
    "for (n, x) in pairs(nodes)\n",
    "    push!(nodes_list, n)\n",
    "    append!(coords, x)\n",
    "    end;"
   ]
  },
  {
   "cell_type": "code",
   "execution_count": 80,
   "metadata": {},
   "outputs": [],
   "source": [
    "function proxy_function(x)\n",
    "    for (i, n) in enumerate(nodes_list)\n",
    "        nodes[n] = x[i, :]\n",
    "        end;\n",
    "    E = graph_energy(graph, nodes)\n",
    "    end;"
   ]
  },
  {
   "cell_type": "code",
   "execution_count": 93,
   "metadata": {},
   "outputs": [
    {
     "data": {
      "text/plain": [
       "2-element Array{Float64,1}:\n",
       " 3.0\n",
       " 3.0"
      ]
     },
     "execution_count": 93,
     "metadata": {},
     "output_type": "execute_result"
    }
   ],
   "source": [
    "coords[1, :]"
   ]
  },
  {
   "cell_type": "code",
   "execution_count": 89,
   "metadata": {},
   "outputs": [
    {
     "data": {
      "text/plain": [
       "6×2 Array{Float64,2}:\n",
       " 3.0   3.0\n",
       " 1.0   5.0\n",
       " 5.4  12.0\n",
       " 1.5   3.1\n",
       " 5.0   2.0\n",
       " 5.0   1.0"
      ]
     },
     "execution_count": 89,
     "metadata": {},
     "output_type": "execute_result"
    }
   ],
   "source": [
    "coords = [[3. 3.]; [1. 5.]; [5.4 12.]; [1.5 3.1]; [5. 2.]; [5. 1.]]"
   ]
  },
  {
   "cell_type": "code",
   "execution_count": 90,
   "metadata": {},
   "outputs": [
    {
     "data": {
      "text/plain": [
       "109.92440395589668"
      ]
     },
     "execution_count": 90,
     "metadata": {},
     "output_type": "execute_result"
    }
   ],
   "source": [
    "proxy_function(coords)"
   ]
  },
  {
   "cell_type": "code",
   "execution_count": 91,
   "metadata": {},
   "outputs": [
    {
     "data": {
      "text/plain": [
       "6×2 Array{Float64,2}:\n",
       " 3.0   3.0\n",
       " 1.0   5.0\n",
       " 5.4  12.0\n",
       " 1.5   3.1\n",
       " 5.0   2.0\n",
       " 5.0   1.0"
      ]
     },
     "execution_count": 91,
     "metadata": {},
     "output_type": "execute_result"
    }
   ],
   "source": [
    "coords"
   ]
  },
  {
   "cell_type": "code",
   "execution_count": 92,
   "metadata": {},
   "outputs": [
    {
     "ename": "MethodError",
     "evalue": "MethodError: no method matching Float32(::ForwardDiff.Dual{ForwardDiff.Tag{typeof(proxy_function),Float64},Float64,12})\nClosest candidates are:\n  Float32(::Real, !Matched::RoundingMode) where T<:AbstractFloat at rounding.jl:200\n  Float32(::T) where T<:Number at boot.jl:718\n  Float32(!Matched::Int8) at float.jl:60\n  ...",
     "output_type": "error",
     "traceback": [
      "MethodError: no method matching Float32(::ForwardDiff.Dual{ForwardDiff.Tag{typeof(proxy_function),Float64},Float64,12})\nClosest candidates are:\n  Float32(::Real, !Matched::RoundingMode) where T<:AbstractFloat at rounding.jl:200\n  Float32(::T) where T<:Number at boot.jl:718\n  Float32(!Matched::Int8) at float.jl:60\n  ...",
      "",
      "Stacktrace:",
      " [1] convert(::Type{Float32}, ::ForwardDiff.Dual{ForwardDiff.Tag{typeof(proxy_function),Float64},Float64,12}) at ./number.jl:7",
      " [2] setindex!(::Array{Float32,1}, ::ForwardDiff.Dual{ForwardDiff.Tag{typeof(proxy_function),Float64},Float64,12}, ::Int64) at ./array.jl:782",
      " [3] copyto! at ./abstractarray.jl:807 [inlined]",
      " [4] copyto! at ./abstractarray.jl:799 [inlined]",
      " [5] Array at ./array.jl:498 [inlined]",
      " [6] convert at ./array.jl:490 [inlined]",
      " [7] setindex!(::Dict{String,Array{Float32,1}}, ::Array{ForwardDiff.Dual{ForwardDiff.Tag{typeof(proxy_function),Float64},Float64,12},1}, ::String) at ./dict.jl:380",
      " [8] proxy_function(::Array{ForwardDiff.Dual{ForwardDiff.Tag{typeof(proxy_function),Float64},Float64,12},2}) at ./In[80]:3",
      " [9] vector_mode_gradient(::typeof(proxy_function), ::Array{Float64,2}, ::ForwardDiff.GradientConfig{ForwardDiff.Tag{typeof(proxy_function),Float64},Float64,12,Array{ForwardDiff.Dual{ForwardDiff.Tag{typeof(proxy_function),Float64},Float64,12},2}}) at /home/etienne/.julia/packages/ForwardDiff/DVizx/src/apiutils.jl:37",
      " [10] gradient(::Function, ::Array{Float64,2}, ::ForwardDiff.GradientConfig{ForwardDiff.Tag{typeof(proxy_function),Float64},Float64,12,Array{ForwardDiff.Dual{ForwardDiff.Tag{typeof(proxy_function),Float64},Float64,12},2}}, ::Val{true}) at /home/etienne/.julia/packages/ForwardDiff/DVizx/src/gradient.jl:17",
      " [11] gradient(::Function, ::Array{Float64,2}, ::ForwardDiff.GradientConfig{ForwardDiff.Tag{typeof(proxy_function),Float64},Float64,12,Array{ForwardDiff.Dual{ForwardDiff.Tag{typeof(proxy_function),Float64},Float64,12},2}}) at /home/etienne/.julia/packages/ForwardDiff/DVizx/src/gradient.jl:15 (repeats 2 times)",
      " [12] top-level scope at In[92]:1"
     ]
    }
   ],
   "source": [
    "ForwardDiff.gradient(proxy_function, coords)"
   ]
  },
  {
   "cell_type": "code",
   "execution_count": 61,
   "metadata": {},
   "outputs": [
    {
     "data": {
      "text/plain": [
       "0.5143664758205415"
      ]
     },
     "execution_count": 61,
     "metadata": {},
     "output_type": "execute_result"
    }
   ],
   "source": [
    "proxy_function(coords)"
   ]
  },
  {
   "cell_type": "code",
   "execution_count": 39,
   "metadata": {},
   "outputs": [
    {
     "data": {
      "text/plain": [
       "Results of Nonlinear Solver Algorithm\n",
       " * Algorithm: Trust-region with dogleg and autoscaling\n",
       " * Starting Point: Float32[0.5859971, 0.65081704, 0.43273032, 0.5519515, 0.5954083, 0.6544633, 0.6554451, 0.57317173, 0.5526732, 0.66727567]\n",
       " * Zero: Float32[NaN, NaN, NaN, NaN, NaN, NaN, NaN, NaN, NaN, NaN]\n",
       " * Inf-norm of residuals: 0.346776\n",
       " * Iterations: 60\n",
       " * Convergence: false\n",
       "   * |x - x'| < 0.0e+00: false\n",
       "   * |f(x)| < 1.0e-08: false\n",
       " * Function Calls (f): 61\n",
       " * Jacobian Calls (df/dx): 1"
      ]
     },
     "execution_count": 39,
     "metadata": {},
     "output_type": "execute_result"
    }
   ],
   "source": [
    "nlsolve(c, coords, iterations=60)"
   ]
  },
  {
   "cell_type": "markdown",
   "metadata": {},
   "source": [
    "https://github.com/JuliaNLSolvers/Optim.jl"
   ]
  },
  {
   "cell_type": "code",
   "execution_count": 63,
   "metadata": {},
   "outputs": [
    {
     "data": {
      "text/plain": [
       "0.5143664758205415"
      ]
     },
     "execution_count": 63,
     "metadata": {},
     "output_type": "execute_result"
    }
   ],
   "source": [
    "proxy_function(coords)"
   ]
  },
  {
   "cell_type": "code",
   "execution_count": 64,
   "metadata": {},
   "outputs": [
    {
     "data": {
      "text/plain": [
       " * Status: failure (reached maximum number of iterations) (line search failed)\n",
       "\n",
       " * Candidate solution\n",
       "    Minimizer: [1.14e+04, 1.54e+04, 1.14e+04,  ...]\n",
       "    Minimum:   -8.167206e-01\n",
       "\n",
       " * Found with\n",
       "    Algorithm:     Nelder-Mead\n",
       "    Initial Point: [5.86e-01, 6.51e-01, 4.33e-01,  ...]\n",
       "\n",
       " * Convergence measures\n",
       "    √(Σ(yᵢ-ȳ)²)/n ≰ 1.0e-08\n",
       "\n",
       " * Work counters\n",
       "    Seconds run:   0  (vs limit Inf)\n",
       "    Iterations:    1000\n",
       "    f(x) calls:    1457\n"
      ]
     },
     "execution_count": 64,
     "metadata": {},
     "output_type": "execute_result"
    }
   ],
   "source": [
    "result = Optim.optimize(proxy_function, coords)"
   ]
  },
  {
   "cell_type": "code",
   "execution_count": 67,
   "metadata": {},
   "outputs": [
    {
     "data": {
      "text/plain": [
       "10-element Array{Float32,1}:\n",
       "   11352.758\n",
       "   15428.459\n",
       "   11352.742\n",
       "   15428.418\n",
       "   15338.558\n",
       "  348802.9  \n",
       "  122413.36 \n",
       " -585183.7  \n",
       "   11352.746\n",
       "   15428.359"
      ]
     },
     "execution_count": 67,
     "metadata": {},
     "output_type": "execute_result"
    }
   ],
   "source": [
    "result.minimizer"
   ]
  },
  {
   "cell_type": "code",
   "execution_count": 43,
   "metadata": {},
   "outputs": [
    {
     "name": "stderr",
     "output_type": "stream",
     "text": [
      "┌ Info: Precompiling Optim [429524aa-4258-5aef-a3af-852621145aeb]\n",
      "└ @ Base loading.jl:1273\n"
     ]
    }
   ],
   "source": [
    "using(Optim)"
   ]
  },
  {
   "cell_type": "code",
   "execution_count": null,
   "metadata": {},
   "outputs": [],
   "source": []
  }
 ],
 "metadata": {
  "kernelspec": {
   "display_name": "Julia 1.3.0",
   "language": "julia",
   "name": "julia-1.3"
  },
  "language_info": {
   "file_extension": ".jl",
   "mimetype": "application/julia",
   "name": "julia",
   "version": "1.3.0"
  }
 },
 "nbformat": 4,
 "nbformat_minor": 2
}
