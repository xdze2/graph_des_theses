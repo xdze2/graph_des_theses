{
 "cells": [
  {
   "cell_type": "markdown",
   "metadata": {},
   "source": [
    "## quadtree & Barnes-Hut\n",
    "\n",
    "https://www.cs.princeton.edu/courses/archive/fall03/cs126/assignments/barnes-hut.html  \n",
    "http://www-inf.telecom-sudparis.eu/COURS/CSC5001/new_site/Supports/Projet/NBody/barnes_86.pdf  \n",
    "https://en.wikipedia.org/wiki/Barnes%E2%80%93Hut_simulation\n",
    "\n",
    "https://github.com/rdeits/RegionTrees.jl\n",
    "\n",
    "https://github.com/JuliaArrays/StaticArrays.jl"
   ]
  },
  {
   "cell_type": "code",
   "execution_count": 1,
   "metadata": {},
   "outputs": [],
   "source": [
    "using BenchmarkTools"
   ]
  },
  {
   "cell_type": "code",
   "execution_count": 2,
   "metadata": {},
   "outputs": [],
   "source": [
    "mutable struct Cell\n",
    "    center ::NTuple{2, Float64}\n",
    "    size ::NTuple{2, Float64}\n",
    "    nbr_of_points ::Int\n",
    "    sum_of_points ::NTuple{2, Float64}\n",
    "    childrens ::Array{Union{Nothing, Cell}, 1}\n",
    "end;\n",
    "\n",
    "Cell(center, size) = Cell(\n",
    "    center,\n",
    "    size,\n",
    "    0,\n",
    "    (0.0, 0.0),\n",
    "    Array{Union{Nothing, Cell}}(nothing, (4, ))\n",
    ");"
   ]
  },
  {
   "cell_type": "code",
   "execution_count": 3,
   "metadata": {},
   "outputs": [
    {
     "data": {
      "text/plain": [
       "Cell((0.5, 0.5), (1.0, 1.0), 0, (0.0, 0.0), Union{Nothing, Cell}[nothing, nothing, nothing, nothing])"
      ]
     },
     "execution_count": 3,
     "metadata": {},
     "output_type": "execute_result"
    }
   ],
   "source": [
    "Cell((0.5, 0.5), (1.0, 1.0))"
   ]
  },
  {
   "cell_type": "markdown",
   "metadata": {},
   "source": [
    "\n",
    "1. If node x does not contain a body, put the new body b here.\n",
    "2. If node x is an internal node, update the center-of-mass and total mass of x. Recursively insert the body b in the appropriate quadrant.\n",
    "3. If node x is an external node, say containing a body named c, then there are two bodies b and c in the same region. Subdivide the region further by creating four children. Then, recursively insert both b and c into the appropriate quadrant(s). Since b and c may still end up in the same quadrant, there may be several subdivisions during a single insertion. Finally, update the center-of-mass and total mass of x. "
   ]
  },
  {
   "cell_type": "code",
   "execution_count": 4,
   "metadata": {},
   "outputs": [],
   "source": [
    "function which_quadrant(point, cell_center)\n",
    "    x, y = point\n",
    "    center_x, center_y = cell_center\n",
    "    quadrant = 1\n",
    "    if x > center_x\n",
    "        quadrant += 1\n",
    "        end;\n",
    "    if y < center_y\n",
    "        quadrant += 2\n",
    "        end;\n",
    "    return quadrant\n",
    "    end;\n",
    "            \n",
    "# Numbering:\n",
    "#   1 | 2\n",
    "#  -------\n",
    "#   3 | 4\n",
    "# cell corner (x, y) is bottom left"
   ]
  },
  {
   "cell_type": "code",
   "execution_count": 5,
   "metadata": {},
   "outputs": [],
   "source": [
    "const min_cell_size = 0.1\n",
    "\n",
    "const offset = [(-0.25, 0.25),\n",
    "                (0.25, 0.25),\n",
    "                (-0.25, -0.25),\n",
    "                (0.25, -0.25)]\n",
    "\n",
    "function create_subcell(cell, quadrant)\n",
    "    size = cell.size ./ 2 \n",
    "    center = cell.center .+ (offset[quadrant].*cell.size)\n",
    "    return Cell(center, size)\n",
    "    end;\n",
    "\n",
    "function get_subcell!(cell, point)\n",
    "    quadrant = which_quadrant(point, cell.center)\n",
    "    if isnothing(cell.childrens[quadrant])\n",
    "        cell.childrens[quadrant] = create_subcell(cell, quadrant)\n",
    "        end;\n",
    "    return cell.childrens[quadrant]\n",
    "    end;\n",
    "\n",
    "function insert!(cell, point)\n",
    "    # check if node in cell... no, or to growth outward\n",
    "    \n",
    "    if cell.nbr_of_points > 0 #&& min(cell.size...) > min_cell_size\n",
    "    \n",
    "        if cell.nbr_of_points == 1\n",
    "            # insert further the old point\n",
    "            previous_point = cell.sum_of_points\n",
    "            subcell = get_subcell!(cell, previous_point)\n",
    "            insert!(subcell, previous_point)\n",
    "            end;\n",
    "        \n",
    "        # continue insertion of the point\n",
    "        subcell = get_subcell!(cell, point)\n",
    "        insert!(subcell, point)\n",
    "        end;\n",
    "    \n",
    "    # update cell data\n",
    "    cell.sum_of_points = cell.sum_of_points .+ point\n",
    "    cell.nbr_of_points += 1     \n",
    "    end;"
   ]
  },
  {
   "cell_type": "code",
   "execution_count": 6,
   "metadata": {},
   "outputs": [
    {
     "data": {
      "text/plain": [
       "Cell((0.5, 0.5), (1.0, 1.0), 0, (0.0, 0.0), Union{Nothing, Cell}[nothing, nothing, nothing, nothing])"
      ]
     },
     "execution_count": 6,
     "metadata": {},
     "output_type": "execute_result"
    }
   ],
   "source": [
    "root = Cell((0.5, 0.5), (1.0, 1.0))"
   ]
  },
  {
   "cell_type": "code",
   "execution_count": 7,
   "metadata": {},
   "outputs": [],
   "source": [
    "function build_the_tree(points)\n",
    "    x_min, x_max = extrema(getindex.(points, 1))\n",
    "    y_min, y_max = extrema(getindex.(points, 2))\n",
    "    center = ((x_max+x_min)/2, (y_max+y_min)/2)\n",
    "    size = (x_max-x_min, y_max-y_min)\n",
    "    root = Cell(center, size)\n",
    "    foreach(xy -> insert!(root, xy), points)\n",
    "    return root\n",
    "    end;"
   ]
  },
  {
   "cell_type": "code",
   "execution_count": 8,
   "metadata": {},
   "outputs": [],
   "source": [
    "distance(a, b) = sqrt(sum( (a .- b).^2 ));"
   ]
  },
  {
   "cell_type": "code",
   "execution_count": 9,
   "metadata": {},
   "outputs": [],
   "source": [
    "# evaluate cell, x, y, theta=.5\n",
    "# Returns list of points (effective) with their mass\n",
    "function evaluate!(output, cell, point, theta=0.5)\n",
    "    if isnothing(cell)\n",
    "        return\n",
    "        end;\n",
    "    if cell.nbr_of_points == 1\n",
    "        push!(output, (cell.sum_of_points, cell.nbr_of_points))\n",
    "    else\n",
    "        center_of_mass = cell.sum_of_points ./ cell.nbr_of_points\n",
    "        angle = 0.5*sum(cell.size)/distance(point, center_of_mass)\n",
    "    \n",
    "        if angle < theta\n",
    "            push!(output, (center_of_mass, cell.nbr_of_points))\n",
    "        else\n",
    "            foreach(quad -> evaluate!(output, quad, point, theta), cell.childrens)\n",
    "            end;\n",
    "        end;\n",
    "    end;"
   ]
  },
  {
   "cell_type": "code",
   "execution_count": 10,
   "metadata": {},
   "outputs": [],
   "source": [
    "random_points(N) = [Tuple(rand(2)) for k in 1:N];"
   ]
  },
  {
   "cell_type": "code",
   "execution_count": 11,
   "metadata": {},
   "outputs": [
    {
     "data": {
      "text/plain": [
       "BenchmarkTools.Trial: \n",
       "  memory estimate:  328.63 KiB\n",
       "  allocs estimate:  3338\n",
       "  --------------\n",
       "  minimum time:     201.243 μs (0.00% GC)\n",
       "  median time:      217.464 μs (0.00% GC)\n",
       "  mean time:        267.348 μs (15.85% GC)\n",
       "  maximum time:     3.762 ms (88.73% GC)\n",
       "  --------------\n",
       "  samples:          6273\n",
       "  evals/sample:     1"
      ]
     },
     "execution_count": 11,
     "metadata": {},
     "output_type": "execute_result"
    }
   ],
   "source": [
    "@benchmark build_the_tree(points) setup=(points = random_points(1000))\n",
    "# N=10       median time:      1.681 μs (0.00% GC)\n",
    "# N=100      median time:      20.411 μs (0.00% GC)\n",
    "# N=1000     median time:      229.715 μs (0.00% GC)\n",
    "# N=10000    median time:      3.875 ms (0.00% GC)"
   ]
  },
  {
   "cell_type": "code",
   "execution_count": 12,
   "metadata": {},
   "outputs": [],
   "source": [
    "points = random_points(100)\n",
    "root = build_the_tree(points);"
   ]
  },
  {
   "cell_type": "code",
   "execution_count": 13,
   "metadata": {},
   "outputs": [],
   "source": [
    "output = []\n",
    "evaluate!(output, root, (.6, .7), 0.5);"
   ]
  },
  {
   "cell_type": "code",
   "execution_count": 14,
   "metadata": {},
   "outputs": [
    {
     "data": {
      "text/plain": [
       "BenchmarkTools.Trial: \n",
       "  memory estimate:  1.42 KiB\n",
       "  allocs estimate:  28\n",
       "  --------------\n",
       "  minimum time:     1.271 μs (0.00% GC)\n",
       "  median time:      2.621 μs (0.00% GC)\n",
       "  mean time:        3.655 μs (27.27% GC)\n",
       "  maximum time:     5.799 ms (99.87% GC)\n",
       "  --------------\n",
       "  samples:          10000\n",
       "  evals/sample:     10"
      ]
     },
     "execution_count": 14,
     "metadata": {},
     "output_type": "execute_result"
    }
   ],
   "source": [
    "@benchmark evaluate!(output, root, xy) setup=(xy=Tuple(rand(2)); output=[])\n",
    "# N=10      median time:      517.299 ns (0.00% GC)\n",
    "# N=100     median time:      2.431 μs (0.00% GC)\n",
    "# N=1000    median time:      6.392 μs (0.00% GC)  \n",
    "# N=10000   median time:      11.886 μs (0.00% GC)"
   ]
  },
  {
   "cell_type": "markdown",
   "metadata": {},
   "source": [
    "### brute force"
   ]
  },
  {
   "cell_type": "code",
   "execution_count": 15,
   "metadata": {},
   "outputs": [
    {
     "data": {
      "text/plain": [
       "BenchmarkTools.Trial: \n",
       "  memory estimate:  16 bytes\n",
       "  allocs estimate:  1\n",
       "  --------------\n",
       "  minimum time:     22.813 ns (0.00% GC)\n",
       "  median time:      23.628 ns (0.00% GC)\n",
       "  mean time:        34.071 ns (23.26% GC)\n",
       "  maximum time:     56.932 μs (99.92% GC)\n",
       "  --------------\n",
       "  samples:          10000\n",
       "  evals/sample:     996"
      ]
     },
     "execution_count": 15,
     "metadata": {},
     "output_type": "execute_result"
    }
   ],
   "source": [
    "@benchmark distance(u, v) setup=(u=Tuple(rand(2)); v=Tuple(rand(2)))\n",
    "#   median time:      23.619 ns (0.00% GC)"
   ]
  },
  {
   "cell_type": "code",
   "execution_count": 16,
   "metadata": {},
   "outputs": [
    {
     "data": {
      "text/plain": [
       "alldistances (generic function with 1 method)"
      ]
     },
     "execution_count": 16,
     "metadata": {},
     "output_type": "execute_result"
    }
   ],
   "source": [
    "alldistances(points, u) = map(x -> distance(x, u), points)"
   ]
  },
  {
   "cell_type": "code",
   "execution_count": 17,
   "metadata": {},
   "outputs": [
    {
     "data": {
      "text/plain": [
       "BenchmarkTools.Trial: \n",
       "  memory estimate:  78.23 KiB\n",
       "  allocs estimate:  3\n",
       "  --------------\n",
       "  minimum time:     37.358 μs (0.00% GC)\n",
       "  median time:      40.344 μs (0.00% GC)\n",
       "  mean time:        43.450 μs (4.49% GC)\n",
       "  maximum time:     1.948 ms (97.51% GC)\n",
       "  --------------\n",
       "  samples:          974\n",
       "  evals/sample:     1"
      ]
     },
     "execution_count": 17,
     "metadata": {},
     "output_type": "execute_result"
    }
   ],
   "source": [
    "@benchmark alldistances(points, x) setup=(points=random_points(10000); x=Tuple(rand(2)))\n",
    "# N=100     median time:      422.844 ns (0.00% GC)\n",
    "# N=1000    median time:      3.980 μs (0.00% GC)\n",
    "# N=10k     median time:      41.106 μs (0.00% GC)"
   ]
  },
  {
   "cell_type": "code",
   "execution_count": null,
   "metadata": {},
   "outputs": [],
   "source": []
  }
 ],
 "metadata": {
  "kernelspec": {
   "display_name": "Julia 1.2.0",
   "language": "julia",
   "name": "julia-1.2"
  },
  "language_info": {
   "file_extension": ".jl",
   "mimetype": "application/julia",
   "name": "julia",
   "version": "1.2.0"
  }
 },
 "nbformat": 4,
 "nbformat_minor": 2
}
