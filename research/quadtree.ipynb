{
 "cells": [
  {
   "cell_type": "markdown",
   "metadata": {},
   "source": [
    "## quadtree & Barnes-Hut\n",
    "\n",
    "https://www.cs.princeton.edu/courses/archive/fall03/cs126/assignments/barnes-hut.html  \n",
    "http://www-inf.telecom-sudparis.eu/COURS/CSC5001/new_site/Supports/Projet/NBody/barnes_86.pdf  \n",
    "https://en.wikipedia.org/wiki/Barnes%E2%80%93Hut_simulation\n",
    "\n",
    "https://github.com/rdeits/RegionTrees.jl\n",
    "\n",
    "https://github.com/JuliaArrays/StaticArrays.jl"
   ]
  },
  {
   "cell_type": "code",
   "execution_count": 12,
   "metadata": {},
   "outputs": [],
   "source": [
    "using BenchmarkTools"
   ]
  },
  {
   "cell_type": "code",
   "execution_count": 1,
   "metadata": {},
   "outputs": [],
   "source": [
    "mutable struct Cell\n",
    "    center ::NTuple{2, Float64}\n",
    "    size ::NTuple{2, Float64}\n",
    "    nbr_of_points ::Int\n",
    "    sum_of_points ::NTuple{2, Float64}\n",
    "    childrens ::Array{Union{Nothing, Cell}, 1}\n",
    "end;\n",
    "\n",
    "Cell(center, size) = Cell(\n",
    "    center,\n",
    "    size,\n",
    "    0,\n",
    "    (0.0, 0.0),\n",
    "    Array{Union{Nothing, Cell}}(nothing, (4, ))\n",
    ");"
   ]
  },
  {
   "cell_type": "code",
   "execution_count": 2,
   "metadata": {},
   "outputs": [
    {
     "data": {
      "text/plain": [
       "Cell((0.5, 0.5), (1.0, 1.0), 0, (0.0, 0.0), Union{Nothing, Cell}[nothing, nothing, nothing, nothing])"
      ]
     },
     "execution_count": 2,
     "metadata": {},
     "output_type": "execute_result"
    }
   ],
   "source": [
    "Cell((0.5, 0.5), (1.0, 1.0))"
   ]
  },
  {
   "cell_type": "markdown",
   "metadata": {},
   "source": [
    "\n",
    "1. If node x does not contain a body, put the new body b here.\n",
    "2. If node x is an internal node, update the center-of-mass and total mass of x. Recursively insert the body b in the appropriate quadrant.\n",
    "3. If node x is an external node, say containing a body named c, then there are two bodies b and c in the same region. Subdivide the region further by creating four children. Then, recursively insert both b and c into the appropriate quadrant(s). Since b and c may still end up in the same quadrant, there may be several subdivisions during a single insertion. Finally, update the center-of-mass and total mass of x. "
   ]
  },
  {
   "cell_type": "code",
   "execution_count": 3,
   "metadata": {},
   "outputs": [],
   "source": [
    "function which_quadrant(point, cell_center)\n",
    "    x, y = point\n",
    "    center_x, center_y = cell_center\n",
    "    quadrant = 1\n",
    "    if x > center_x\n",
    "        quadrant += 1\n",
    "        end;\n",
    "    if y < center_y\n",
    "        quadrant += 2\n",
    "        end;\n",
    "    return quadrant\n",
    "    end;\n",
    "            \n",
    "# Numbering:\n",
    "#   1 | 2\n",
    "#  -------\n",
    "#   3 | 4\n",
    "# cell corner (x, y) is bottom left"
   ]
  },
  {
   "cell_type": "code",
   "execution_count": 4,
   "metadata": {},
   "outputs": [],
   "source": [
    "@assert which_quadrant((0.3, 0.3), (0.5, 0.5)) == 3"
   ]
  },
  {
   "cell_type": "code",
   "execution_count": 5,
   "metadata": {},
   "outputs": [],
   "source": [
    "const offset = [(-0.25, 0.25),\n",
    "                (0.25, 0.25),\n",
    "                (-0.25, -0.25),\n",
    "                (0.25, -0.25)]\n",
    "\n",
    "function create_subcell(cell, quadrant)\n",
    "    size = cell.size ./ 2 \n",
    "    center = cell.center .+ (offset[quadrant].*cell.size)\n",
    "    return Cell(center, size)\n",
    "    end;\n",
    "\n",
    "function get_subcell!(cell, point)\n",
    "    quadrant = which_quadrant(point, cell.center)\n",
    "    if isnothing(cell.childrens[quadrant])\n",
    "        cell.childrens[quadrant] = create_subcell(cell, quadrant)\n",
    "        end;\n",
    "    return cell.childrens[quadrant]\n",
    "    end;\n",
    "\n",
    "function insert!(cell, point)\n",
    "    # check if node in cell? ... no\n",
    "    \n",
    "    if cell.nbr_of_points > 0\n",
    "    \n",
    "        if cell.nbr_of_points == 1\n",
    "            # insert further the old point\n",
    "            previous_point = cell.sum_of_points\n",
    "            subcell = get_subcell!(cell, previous_point)\n",
    "            insert!(subcell, previous_point)\n",
    "            end;\n",
    "        \n",
    "        # continue insertion of the point\n",
    "        subcell = get_subcell!(cell, point)\n",
    "        insert!(subcell, point)\n",
    "        end;\n",
    "    \n",
    "    # update cell data\n",
    "    cell.sum_of_points = cell.sum_of_points .+ point\n",
    "    cell.nbr_of_points += 1     \n",
    "    end;"
   ]
  },
  {
   "cell_type": "code",
   "execution_count": 6,
   "metadata": {},
   "outputs": [
    {
     "data": {
      "text/plain": [
       "Cell((0.5, 0.5), (1.0, 1.0), 0, (0.0, 0.0), Union{Nothing, Cell}[nothing, nothing, nothing, nothing])"
      ]
     },
     "execution_count": 6,
     "metadata": {},
     "output_type": "execute_result"
    }
   ],
   "source": [
    "root = Cell((0.5, 0.5), (1.0, 1.0))"
   ]
  },
  {
   "cell_type": "code",
   "execution_count": 7,
   "metadata": {},
   "outputs": [],
   "source": [
    "function build_the_tree(points)\n",
    "    root = Cell((0.5, 0.5), (1.0, 1.0))\n",
    "    for xy in eachcol(points)\n",
    "        insert!(root, Tuple(xy))\n",
    "        end;\n",
    "    return root\n",
    "    end;"
   ]
  },
  {
   "cell_type": "code",
   "execution_count": 8,
   "metadata": {},
   "outputs": [],
   "source": [
    "distance(a, b) = sqrt(sum( (a .- b).^2 ));\n",
    "\n",
    "# evaluate cell, x, y, theta=.5\n",
    "# Returns list of points (effective) with their mass\n",
    "function evaluate(cell, point, theta=0.5)\n",
    "    \n",
    "    if isnothing(cell) || cell.nbr_of_points == 0\n",
    "        return Iterators.Stateful([])\n",
    "    elseif cell.nbr_of_points == 1\n",
    "        return Iterators.Stateful([(cell.sum_of_points, cell.nbr_of_points), ])\n",
    "    end\n",
    "    \n",
    "    center_of_mass = cell.sum_of_points ./ cell.nbr_of_points\n",
    "    angle = sum(cell.size)/2/distance(point, center_of_mass)\n",
    "    \n",
    "    if angle < theta\n",
    "        return Iterators.Stateful([(center_of_mass, cell.nbr_of_points), ])\n",
    "    else\n",
    "        return Iterators.flatten(evaluate(quad, point, theta) for quad in cell.childrens)\n",
    "        end;\n",
    "    end;\n",
    "\n"
   ]
  },
  {
   "cell_type": "code",
   "execution_count": 108,
   "metadata": {},
   "outputs": [],
   "source": [
    "points = [Tuple(rand(2)) for k in 1:130];"
   ]
  },
  {
   "cell_type": "code",
   "execution_count": 111,
   "metadata": {},
   "outputs": [
    {
     "data": {
      "text/plain": [
       "(0.004024401841452141, 0.9979409906647885)"
      ]
     },
     "execution_count": 111,
     "metadata": {},
     "output_type": "execute_result"
    }
   ],
   "source": [
    "x_bound = extrema(getindex.(points, 1))\n",
    "y_bound = extrema(getindex.(points, 2))"
   ]
  },
  {
   "cell_type": "code",
   "execution_count": 45,
   "metadata": {},
   "outputs": [],
   "source": [
    "using Profile"
   ]
  },
  {
   "cell_type": "code",
   "execution_count": 14,
   "metadata": {},
   "outputs": [],
   "source": [
    "# Random points\n",
    "N = 1200\n",
    "points = rand(2, N);"
   ]
  },
  {
   "cell_type": "code",
   "execution_count": 15,
   "metadata": {},
   "outputs": [],
   "source": [
    "root = build_the_tree(points);"
   ]
  },
  {
   "cell_type": "code",
   "execution_count": 17,
   "metadata": {},
   "outputs": [
    {
     "data": {
      "text/plain": [
       "1200"
      ]
     },
     "execution_count": 17,
     "metadata": {},
     "output_type": "execute_result"
    }
   ],
   "source": [
    "root.nbr_of_points"
   ]
  },
  {
   "cell_type": "code",
   "execution_count": 16,
   "metadata": {},
   "outputs": [
    {
     "data": {
      "text/plain": [
       "BenchmarkTools.Trial: \n",
       "  memory estimate:  19.38 KiB\n",
       "  allocs estimate:  377\n",
       "  --------------\n",
       "  minimum time:     63.935 μs (0.00% GC)\n",
       "  median time:      205.427 μs (0.00% GC)\n",
       "  mean time:        233.155 μs (5.98% GC)\n",
       "  maximum time:     179.096 ms (2.24% GC)\n",
       "  --------------\n",
       "  samples:          10000\n",
       "  evals/sample:     1"
      ]
     },
     "execution_count": 16,
     "metadata": {},
     "output_type": "execute_result"
    }
   ],
   "source": [
    "@benchmark collect(evaluate(root, xy)) setup=(xy=Tuple(rand(2)))"
   ]
  },
  {
   "cell_type": "code",
   "execution_count": 18,
   "metadata": {},
   "outputs": [
    {
     "data": {
      "text/plain": [
       "BenchmarkTools.Trial: \n",
       "  memory estimate:  96 bytes\n",
       "  allocs estimate:  3\n",
       "  --------------\n",
       "  minimum time:     80.575 ns (0.00% GC)\n",
       "  median time:      83.754 ns (0.00% GC)\n",
       "  mean time:        104.857 ns (16.87% GC)\n",
       "  maximum time:     62.229 μs (99.81% GC)\n",
       "  --------------\n",
       "  samples:          10000\n",
       "  evals/sample:     971"
      ]
     },
     "execution_count": 18,
     "metadata": {},
     "output_type": "execute_result"
    }
   ],
   "source": [
    "@benchmark evaluate(root, xy) setup=(xy=Tuple(rand(2)))\n",
    "#   median time:      86.666 ns (0.00% GC)"
   ]
  },
  {
   "cell_type": "code",
   "execution_count": 20,
   "metadata": {},
   "outputs": [
    {
     "data": {
      "text/plain": [
       "91"
      ]
     },
     "execution_count": 20,
     "metadata": {},
     "output_type": "execute_result"
    }
   ],
   "source": [
    "p = length(collect(evaluate(root, (.2, .2))))"
   ]
  },
  {
   "cell_type": "code",
   "execution_count": 100,
   "metadata": {},
   "outputs": [
    {
     "ename": "LoadError",
     "evalue": "UndefVarError: @benchmark not defined",
     "output_type": "error",
     "traceback": [
      "UndefVarError: @benchmark not defined",
      ""
     ]
    }
   ],
   "source": [
    "@benchmark build_the_tree(points) setup=(points = rand(2, N))\n",
    "# N 12       median time:      51.217 μs (0.00% GC)\n",
    "# N 123      median time:      815.989 μs (0.00% GC)\n",
    "# N 1234     median time:      11.633 ms (0.00% GC)\n",
    "# N 12345    median time:      163.042 ms (0.00% GC)"
   ]
  },
  {
   "cell_type": "code",
   "execution_count": 140,
   "metadata": {},
   "outputs": [
    {
     "data": {
      "text/plain": [
       "12"
      ]
     },
     "execution_count": 140,
     "metadata": {},
     "output_type": "execute_result"
    }
   ],
   "source": [
    "root.nbr_of_points"
   ]
  },
  {
   "cell_type": "code",
   "execution_count": 105,
   "metadata": {},
   "outputs": [],
   "source": [
    "# Profile.print()"
   ]
  },
  {
   "cell_type": "code",
   "execution_count": 173,
   "metadata": {},
   "outputs": [],
   "source": [
    "const EPSILON = 1e-4\n",
    "function repulsive_energy(x1, y1, x2, y2)\n",
    "    u = x2 - x1\n",
    "    v = y2 - y1\n",
    "    return 1/sqrt(u^2 + v^2 + EPSILON)\n",
    "    end;\n",
    "\n",
    "function repulsive_gradient(u, v)\n",
    "    d = sqrt(u^2 + v^2 + EPSILON)^3\n",
    "    return (u/d, v/d)\n",
    "    end;"
   ]
  },
  {
   "cell_type": "code",
   "execution_count": 308,
   "metadata": {},
   "outputs": [],
   "source": [
    "# brute force\n",
    "function brute_force_gradient!(G, points)\n",
    "    fill!(G, 0.f0)\n",
    "    for (i, (x1, y1)) in enumerate( eachcol(points) )\n",
    "        for (j, (x2, y2)) in enumerate( eachcol(points[:, i+1:end]) )\n",
    "            j += i\n",
    "            u = x2 - x1\n",
    "            v = y2 - y1\n",
    "            grad_x, grad_y = repulsive_gradient(u, v)\n",
    "            G[1, i] += grad_x\n",
    "            G[2, i] += grad_y\n",
    "            G[1, j] -= grad_x\n",
    "            G[2, j] -= grad_y\n",
    "            end;\n",
    "        end;\n",
    "    end;"
   ]
  },
  {
   "cell_type": "code",
   "execution_count": 245,
   "metadata": {},
   "outputs": [],
   "source": [
    "# Barnes Hut\n",
    "function barnes_hut_gradient!(G, points, theta=.5)\n",
    "    fill!(G, 0.f0)\n",
    "    root = build_the_tree(points)\n",
    "    for (i, (x1, y1)) in enumerate( eachcol(points) )\n",
    "        effective_points = evaluate(root, x1, y1, theta)\n",
    "        for (x2, y2, n) in effective_points\n",
    "            u = x2 - x1\n",
    "            v = y2 - y1\n",
    "            grad_x, grad_y = repulsive_gradient(u, v)\n",
    "            G[1, i] += n*grad_x\n",
    "            G[2, i] += n*grad_y\n",
    "            end;\n",
    "        end;\n",
    "    end;"
   ]
  },
  {
   "cell_type": "code",
   "execution_count": 247,
   "metadata": {},
   "outputs": [],
   "source": [
    "points = [[0.0 1.0]; [0.0 0.0]]\n",
    "G = zeros(size(points));"
   ]
  },
  {
   "cell_type": "code",
   "execution_count": 253,
   "metadata": {},
   "outputs": [
    {
     "data": {
      "text/plain": [
       "2×10 Array{Float64,2}:\n",
       " 0.391266  0.916808  0.432993  0.650874  …  0.949444   0.900131  0.281138\n",
       " 0.854405  0.426872  0.812079  0.733107     0.0726933  0.322408  0.60046 "
      ]
     },
     "execution_count": 253,
     "metadata": {},
     "output_type": "execute_result"
    }
   ],
   "source": [
    "points"
   ]
  },
  {
   "cell_type": "code",
   "execution_count": 254,
   "metadata": {},
   "outputs": [
    {
     "data": {
      "text/plain": [
       "2×10 Array{Float64,2}:\n",
       "  231.565  -36.0299  -149.953  -15.7223  …  -17.0361  -14.2239  33.5102\n",
       " -199.275  -89.7624   192.798   40.2112      36.5835   74.8512  27.523 "
      ]
     },
     "execution_count": 254,
     "metadata": {},
     "output_type": "execute_result"
    }
   ],
   "source": [
    "brute_force_gradient!(G, points)\n",
    "G"
   ]
  },
  {
   "cell_type": "code",
   "execution_count": 371,
   "metadata": {},
   "outputs": [
    {
     "data": {
      "text/plain": [
       "2×100 SArray{Tuple{2,100},Float32,2,200} with indices SOneTo(2)×SOneTo(100):\n",
       " 0.763132  0.172423  0.861806  0.352601   …  0.782554  0.116271  0.777061\n",
       " 0.466942  0.287075  0.075106  0.0748723     0.978348  0.949976  0.829984"
      ]
     },
     "execution_count": 371,
     "metadata": {},
     "output_type": "execute_result"
    }
   ],
   "source": [
    "# Random points\n",
    "N = 100\n",
    "points = @SMatrix rand(Float32, 2, N)\n",
    "\n",
    "#G = zeros(Float32, size(points))"
   ]
  },
  {
   "cell_type": "code",
   "execution_count": 372,
   "metadata": {},
   "outputs": [
    {
     "data": {
      "text/plain": [
       "2×100 MArray{Tuple{2,100},Float32,2,200} with indices SOneTo(2)×SOneTo(100):\n",
       " 0.0  0.0  0.0  0.0  0.0  0.0  0.0  0.0  …  0.0  0.0  0.0  0.0  0.0  0.0  0.0\n",
       " 0.0  0.0  0.0  0.0  0.0  0.0  0.0  0.0     0.0  0.0  0.0  0.0  0.0  0.0  0.0"
      ]
     },
     "execution_count": 372,
     "metadata": {},
     "output_type": "execute_result"
    }
   ],
   "source": [
    "G = @MMatrix zeros(Float32, 2, N)"
   ]
  },
  {
   "cell_type": "code",
   "execution_count": 377,
   "metadata": {},
   "outputs": [
    {
     "data": {
      "text/plain": [
       "2×100 Array{Float64,2}:\n",
       " 0.0  0.0  0.0  0.0  0.0  0.0  0.0  0.0  …  0.0  0.0  0.0  0.0  0.0  0.0  0.0\n",
       " 0.0  0.0  0.0  0.0  0.0  0.0  0.0  0.0     0.0  0.0  0.0  0.0  0.0  0.0  0.0"
      ]
     },
     "execution_count": 377,
     "metadata": {},
     "output_type": "execute_result"
    }
   ],
   "source": [
    "c\n",
    "G = zeros(Float64, 2, N)"
   ]
  },
  {
   "cell_type": "code",
   "execution_count": 379,
   "metadata": {},
   "outputs": [
    {
     "data": {
      "text/plain": [
       "2×100 Array{Float64,2}:\n",
       " -491.211    141.603  865.0       783.31  …   41.8299  -425.995  -37.5062 \n",
       "   98.9384  -418.786   -2.39318  -942.62     476.271     37.811    6.92933"
      ]
     },
     "execution_count": 379,
     "metadata": {},
     "output_type": "execute_result"
    }
   ],
   "source": [
    "barnes_hut_gradient!(G, points, 0.5)\n",
    "G"
   ]
  },
  {
   "cell_type": "code",
   "execution_count": 378,
   "metadata": {},
   "outputs": [
    {
     "data": {
      "text/plain": [
       "2×100 Array{Float64,2}:\n",
       " -492.393   138.797  871.037      782.038  …   40.3148  -428.554   -34.6318 \n",
       "   97.581  -420.924   -0.662454  -944.057     485.641     36.7394    9.01012"
      ]
     },
     "execution_count": 378,
     "metadata": {},
     "output_type": "execute_result"
    }
   ],
   "source": [
    "brute_force_gradient!(G, points)\n",
    "G"
   ]
  },
  {
   "cell_type": "code",
   "execution_count": 380,
   "metadata": {},
   "outputs": [
    {
     "data": {
      "text/plain": [
       "BenchmarkTools.Trial: \n",
       "  memory estimate:  92.97 KiB\n",
       "  allocs estimate:  200\n",
       "  --------------\n",
       "  minimum time:     152.928 μs (0.00% GC)\n",
       "  median time:      155.845 μs (0.00% GC)\n",
       "  mean time:        169.034 μs (4.57% GC)\n",
       "  maximum time:     4.428 ms (95.57% GC)\n",
       "  --------------\n",
       "  samples:          10000\n",
       "  evals/sample:     1"
      ]
     },
     "execution_count": 380,
     "metadata": {},
     "output_type": "execute_result"
    }
   ],
   "source": [
    "@benchmark brute_force_gradient!(G, points)\n",
    "#   median time:      193.477 μs (0.00% GC)  with Marray\n",
    "#   median time:      155.845 μs (0.00% GC)  with Array Float64"
   ]
  },
  {
   "cell_type": "code",
   "execution_count": 374,
   "metadata": {},
   "outputs": [
    {
     "data": {
      "text/plain": [
       "BenchmarkTools.Trial: \n",
       "  memory estimate:  6.59 MiB\n",
       "  allocs estimate:  257289\n",
       "  --------------\n",
       "  minimum time:     27.994 ms (0.00% GC)\n",
       "  median time:      33.146 ms (0.00% GC)\n",
       "  mean time:        36.588 ms (6.29% GC)\n",
       "  maximum time:     64.889 ms (29.63% GC)\n",
       "  --------------\n",
       "  samples:          137\n",
       "  evals/sample:     1"
      ]
     },
     "execution_count": 374,
     "metadata": {},
     "output_type": "execute_result"
    }
   ],
   "source": [
    "@benchmark barnes_hut_gradient!(G, points, 0.5)"
   ]
  },
  {
   "cell_type": "code",
   "execution_count": 381,
   "metadata": {},
   "outputs": [
    {
     "data": {
      "text/plain": [
       "BenchmarkTools.Trial: \n",
       "  memory estimate:  1.18 MiB\n",
       "  allocs estimate:  68142\n",
       "  --------------\n",
       "  minimum time:     2.538 ms (0.00% GC)\n",
       "  median time:      2.615 ms (0.00% GC)\n",
       "  mean time:        2.913 ms (7.99% GC)\n",
       "  maximum time:     12.434 ms (76.43% GC)\n",
       "  --------------\n",
       "  samples:          1712\n",
       "  evals/sample:     1"
      ]
     },
     "execution_count": 381,
     "metadata": {},
     "output_type": "execute_result"
    }
   ],
   "source": [
    "@benchmark barnes_hut_gradient2!(G, points, 0.5)"
   ]
  },
  {
   "cell_type": "code",
   "execution_count": 351,
   "metadata": {},
   "outputs": [],
   "source": [
    "# evaluate cell, x, y, theta=.5\n",
    "# Returns list of points (effective) with their mass\n",
    "function evaluate2(cell, x, y, fun, theta=.5)\n",
    "    \n",
    "    if cell.nbr_of_points != 0\n",
    "        \n",
    "        center_of_mass_x = cell.sum_of_points_x / cell.nbr_of_points\n",
    "        center_of_mass_y = cell.sum_of_points_y / cell.nbr_of_points\n",
    "\n",
    "        distance = get_distance(x, y, center_of_mass_x, center_of_mass_y)\n",
    "        angle = (cell.w + cell.h)/2/distance\n",
    "\n",
    "        if angle < theta || cell.nbr_of_points == 1\n",
    "            fun(center_of_mass_x, center_of_mass_y, cell.nbr_of_points)\n",
    "        else\n",
    "            for quad in cell.childrens\n",
    "                evaluate2(quad, x, y, fun, theta)\n",
    "                end;\n",
    "        \n",
    "            end;\n",
    "                    \n",
    "    \n",
    "        end;\n",
    "    end;\n",
    "\n",
    "# brute force\n",
    "function barnes_hut_gradient2!(G, points, theta=.5)\n",
    "    fill!(G, 0.f0)\n",
    "    root = build_the_tree(points)\n",
    "    for (i, (x1, y1)) in enumerate( eachcol(points) )\n",
    "        \n",
    "        function fun(x2, y2, n)\n",
    "            u = x2 - x1\n",
    "            v = y2 - y1\n",
    "            grad_x, grad_y = repulsive_gradient(u, v)\n",
    "            G[1, i] += n*grad_x\n",
    "            G[2, i] += n*grad_y\n",
    "            end;\n",
    "        evaluate2(root, x1, y1, fun, theta)\n",
    "        end;\n",
    "    end;\n",
    "\n",
    "\n",
    "# Barnes Hut 3\n",
    "        \n",
    "\n",
    "\n",
    "function accumulate_gradient!(G, i, x1, y1, x2, y2, n)\n",
    "    u = x2 - x1\n",
    "    v = y2 - y1\n",
    "    grad_x, grad_y = repulsive_gradient(u, v)\n",
    "    G[1, i] += n*grad_x\n",
    "    G[2, i] += n*grad_y\n",
    "    end;\n",
    "\n",
    "function barnes_hut_gradient3!(G, points, theta=.5)\n",
    "    fill!(G, 0.f0)\n",
    "    root = build_the_tree(points)\n",
    "    for (i, (x1, y1)) in enumerate( eachcol(points) )\n",
    "        evaluate3!(G, root, i, x1, y1, theta)\n",
    "        end;\n",
    "    end;\n",
    "\n",
    "function evaluate3!(G, cell, i, x1, y1, theta=.5)\n",
    "    \n",
    "    if cell.nbr_of_points != 0\n",
    "        \n",
    "        center_of_mass_x = cell.sum_of_points_x / cell.nbr_of_points\n",
    "        center_of_mass_y = cell.sum_of_points_y / cell.nbr_of_points\n",
    "\n",
    "        distance = get_distance(x1, y1, center_of_mass_x, center_of_mass_y)\n",
    "        angle = (cell.w + cell.h)/2/distance\n",
    "\n",
    "        if angle < theta || cell.nbr_of_points == 1\n",
    "            #accumulate_gradient!(G, i, x1, y1, center_of_mass_x, center_of_mass_y, cell.nbr_of_points)\n",
    "            n = cell.nbr_of_points\n",
    "            u = center_of_mass_x - x1\n",
    "            v = center_of_mass_y - y1\n",
    "            grad_x, grad_y = repulsive_gradient(u, v)\n",
    "            G[1, i] += n*grad_x\n",
    "            G[2, i] += n*grad_y\n",
    "        else\n",
    "            for quad in cell.childrens \n",
    "                evaluate3!(G, quad, i, x1, y1, theta)\n",
    "                end;\n",
    "        \n",
    "            end;\n",
    "                    \n",
    "    \n",
    "        end;\n",
    "    end;"
   ]
  },
  {
   "cell_type": "code",
   "execution_count": 352,
   "metadata": {},
   "outputs": [
    {
     "data": {
      "text/plain": [
       "2×1000 Array{Float32,2}:\n",
       " 2722.28  5075.01  -2374.55  -2576.62  …  -3940.12  -6806.39   -961.307\n",
       " 3712.06   315.58  -3314.14  -5254.99     -1286.82  -1155.95  -4612.31 "
      ]
     },
     "execution_count": 352,
     "metadata": {},
     "output_type": "execute_result"
    }
   ],
   "source": [
    "barnes_hut_gradient2!(G, points, .5)\n",
    "G"
   ]
  },
  {
   "cell_type": "code",
   "execution_count": 344,
   "metadata": {},
   "outputs": [
    {
     "data": {
      "text/plain": [
       "2×1000 Array{Float32,2}:\n",
       " 2713.85  5158.2    -2379.62  -2594.59  …  -3959.17  -6870.55   -932.363\n",
       " 3749.46   365.158  -3371.21  -5307.76     -1231.82  -1145.16  -4678.95 "
      ]
     },
     "execution_count": 344,
     "metadata": {},
     "output_type": "execute_result"
    }
   ],
   "source": [
    "brute_force_gradient!(G, points)\n",
    "G"
   ]
  },
  {
   "cell_type": "code",
   "execution_count": 345,
   "metadata": {},
   "outputs": [
    {
     "data": {
      "text/plain": [
       "2×1000 Array{Float32,2}:\n",
       " 2722.28  5075.01  -2374.55  -2576.62  …  -3940.12  -6806.39   -961.307\n",
       " 3712.06   315.58  -3314.14  -5254.99     -1286.82  -1155.95  -4612.31 "
      ]
     },
     "execution_count": 345,
     "metadata": {},
     "output_type": "execute_result"
    }
   ],
   "source": [
    "barnes_hut_gradient3!(G, points)\n",
    "G"
   ]
  },
  {
   "cell_type": "code",
   "execution_count": 353,
   "metadata": {},
   "outputs": [
    {
     "data": {
      "text/plain": [
       "BenchmarkTools.Trial: \n",
       "  memory estimate:  9.49 MiB\n",
       "  allocs estimate:  557419\n",
       "  --------------\n",
       "  minimum time:     29.388 ms (0.00% GC)\n",
       "  median time:      29.773 ms (0.00% GC)\n",
       "  mean time:        31.945 ms (5.63% GC)\n",
       "  maximum time:     42.292 ms (20.49% GC)\n",
       "  --------------\n",
       "  samples:          157\n",
       "  evals/sample:     1"
      ]
     },
     "execution_count": 353,
     "metadata": {},
     "output_type": "execute_result"
    }
   ],
   "source": [
    "@benchmark barnes_hut_gradient2!(G, points, 1.)\n",
    "#   median time:      29.461 ms (0.00% GC)\n",
    "#  median time:      31.904 ms (0.00% GC)  with checking children"
   ]
  },
  {
   "cell_type": "code",
   "execution_count": 346,
   "metadata": {},
   "outputs": [
    {
     "data": {
      "text/plain": [
       "BenchmarkTools.Trial: \n",
       "  memory estimate:  16.88 MiB\n",
       "  allocs estimate:  1010453\n",
       "  --------------\n",
       "  minimum time:     48.850 ms (0.00% GC)\n",
       "  median time:      49.490 ms (0.00% GC)\n",
       "  mean time:        52.836 ms (5.71% GC)\n",
       "  maximum time:     62.961 ms (12.65% GC)\n",
       "  --------------\n",
       "  samples:          95\n",
       "  evals/sample:     1"
      ]
     },
     "execution_count": 346,
     "metadata": {},
     "output_type": "execute_result"
    }
   ],
   "source": [
    "@benchmark barnes_hut_gradient3!(G, points, 1.)"
   ]
  },
  {
   "cell_type": "code",
   "execution_count": 341,
   "metadata": {},
   "outputs": [
    {
     "data": {
      "text/plain": [
       "BenchmarkTools.Trial: \n",
       "  memory estimate:  4.00 MiB\n",
       "  allocs estimate:  2000\n",
       "  --------------\n",
       "  minimum time:     16.129 ms (0.00% GC)\n",
       "  median time:      16.258 ms (0.00% GC)\n",
       "  mean time:        16.633 ms (2.03% GC)\n",
       "  maximum time:     20.311 ms (18.36% GC)\n",
       "  --------------\n",
       "  samples:          301\n",
       "  evals/sample:     1"
      ]
     },
     "execution_count": 341,
     "metadata": {},
     "output_type": "execute_result"
    }
   ],
   "source": [
    "@benchmark brute_force_gradient!(G, points)"
   ]
  },
  {
   "cell_type": "code",
   "execution_count": 319,
   "metadata": {},
   "outputs": [
    {
     "data": {
      "text/plain": [
       "BenchmarkTools.Trial: \n",
       "  memory estimate:  1.22 MiB\n",
       "  allocs estimate:  66590\n",
       "  --------------\n",
       "  minimum time:     9.173 ms (0.00% GC)\n",
       "  median time:      9.323 ms (0.00% GC)\n",
       "  mean time:        9.669 ms (2.28% GC)\n",
       "  maximum time:     19.198 ms (47.96% GC)\n",
       "  --------------\n",
       "  samples:          517\n",
       "  evals/sample:     1"
      ]
     },
     "execution_count": 319,
     "metadata": {},
     "output_type": "execute_result"
    }
   ],
   "source": [
    "@benchmark build_the_tree(points)"
   ]
  },
  {
   "cell_type": "code",
   "execution_count": 388,
   "metadata": {},
   "outputs": [
    {
     "data": {
      "text/plain": [
       "2×10000 Array{Float32,2}:\n",
       " 0.692833  0.812582   0.483143  0.629875  …  0.940152  0.875751  0.527805\n",
       " 0.487994  0.0752831  0.858594  0.487042     0.100747  0.552562  0.591484"
      ]
     },
     "execution_count": 388,
     "metadata": {},
     "output_type": "execute_result"
    }
   ],
   "source": [
    "# Random points\n",
    "N = 10000\n",
    "points = rand(Float32, 2, N)"
   ]
  },
  {
   "cell_type": "code",
   "execution_count": 403,
   "metadata": {},
   "outputs": [
    {
     "data": {
      "text/plain": [
       "BenchmarkTools.Trial: \n",
       "  memory estimate:  224 bytes\n",
       "  allocs estimate:  3\n",
       "  --------------\n",
       "  minimum time:     126.405 ns (0.00% GC)\n",
       "  median time:      134.332 ns (0.00% GC)\n",
       "  mean time:        183.348 ns (24.03% GC)\n",
       "  maximum time:     11.125 μs (98.59% GC)\n",
       "  --------------\n",
       "  samples:          10000\n",
       "  evals/sample:     911"
      ]
     },
     "execution_count": 403,
     "metadata": {},
     "output_type": "execute_result"
    }
   ],
   "source": [
    "@benchmark xy = points[[1, 2], 633]\n",
    "#   median time:      134.383 ns (0.00% GC)\n",
    "#   median time:      294.783 ns (0.00% GC)\n",
    "#   median time:      391.080 ns (0.00% GC)  individual access\n",
    "#   median time:      678.156 ns (0.00% GC)    points = rand(Float32, 2, N)\n",
    "#   median time:      1.102 μs (0.00% GC)  points = rand(Float32, N, 2)"
   ]
  },
  {
   "cell_type": "code",
   "execution_count": 399,
   "metadata": {},
   "outputs": [
    {
     "data": {
      "text/plain": [
       "2-element Array{Float32,1}:\n",
       " 0.013183832\n",
       " 0.4978845  "
      ]
     },
     "execution_count": 399,
     "metadata": {},
     "output_type": "execute_result"
    }
   ],
   "source": [
    "xy = points[[1, 2], 6363]"
   ]
  },
  {
   "cell_type": "code",
   "execution_count": 397,
   "metadata": {},
   "outputs": [
    {
     "data": {
      "text/plain": [
       "2-element Array{Float32,1}:\n",
       " 0.013183832\n",
       " 0.4978845  "
      ]
     },
     "execution_count": 397,
     "metadata": {},
     "output_type": "execute_result"
    }
   ],
   "source": [
    "xy"
   ]
  },
  {
   "cell_type": "code",
   "execution_count": null,
   "metadata": {},
   "outputs": [],
   "source": []
  }
 ],
 "metadata": {
  "kernelspec": {
   "display_name": "Julia 1.2.0",
   "language": "julia",
   "name": "julia-1.2"
  },
  "language_info": {
   "file_extension": ".jl",
   "mimetype": "application/julia",
   "name": "julia",
   "version": "1.2.0"
  }
 },
 "nbformat": 4,
 "nbformat_minor": 2
}
