{
 "cells": [
  {
   "cell_type": "code",
   "execution_count": 7,
   "metadata": {},
   "outputs": [],
   "source": [
    "using(BenchmarkTools)"
   ]
  },
  {
   "cell_type": "code",
   "execution_count": 11,
   "metadata": {},
   "outputs": [],
   "source": [
    "## Stillou Webou\n",
    "const coeff = 4.1\n",
    "function three_body_energy(x0, x1, x2, x3, x4, x5)\n",
    "    u0 = -x0 + x2\n",
    "    u1 = -x1 + x3\n",
    "    u2 = -x2 + x4\n",
    "    u3 = -x3 + x5\n",
    "    return coeff*(-1 + (u0*u2 + u1*u3)/sqrt( (u0^2 + u1^2)*(u2^2 + u3^2) ))^2\n",
    "    end;\n",
    "\n",
    "function three_body_gradient_old(x0, x1, x2, x3, x4, x5)\n",
    "    u0 = -x0 + x2\n",
    "    u1 = -x2\n",
    "    u2 = u1 + x4\n",
    "    u3 = -x1 + x3\n",
    "    u4 = -x3\n",
    "    u5 = u4 + x5\n",
    "    u6 = u0*u2 + u3*u5\n",
    "    u7 = u0^2 + u3^2\n",
    "    u8 = 1/sqrt(u7)\n",
    "    u9 = u2^2 + u5^2\n",
    "    u10 = 1/sqrt(u9)\n",
    "    u11 = u10*u8\n",
    "    u12 = (u11*u6 - 1)*coeff\n",
    "    u13 = x2 - x4\n",
    "    u14 = 2*u11\n",
    "    u15 = 2*u6\n",
    "    u16 = u10*u15/u7^(3/2)\n",
    "    u17 = x3 - x5\n",
    "    u18 = u15*u8/u9^(3/2)\n",
    "     \n",
    "    return (u12*(u0*u16 + u13*u14), \n",
    "            u12*(u14*u17 + u16*u3), \n",
    "            u12*(u14*(x0 - 2*x2 + x4) + u16*(u1 + x0) + u18*u2), \n",
    "            u12*(u14*(x1 - 2*x3 + x5) + u16*(u4 + x1) + u18*u5), \n",
    "            u12*(u0*u14 + u13*u18), \n",
    "            u12*(u14*u3 + u17*u18) )\n",
    "    end;"
   ]
  },
  {
   "cell_type": "code",
   "execution_count": 12,
   "metadata": {},
   "outputs": [],
   "source": [
    "function three_body_gradient(x0, x1, x2, x3, x4, x5)\n",
    "    u0 = -x0 + x2\n",
    "    u1 = -x2\n",
    "    u2 = u1 + x4\n",
    "    u3 = -x1 + x3\n",
    "    u4 = -x3\n",
    "    u5 = u4 + x5\n",
    "    u6 = u0*u2 + u3*u5\n",
    "    u7 = u0^2 + u3^2\n",
    "    u8 = 1/sqrt(u7)\n",
    "    u9 = u2^2 + u5^2\n",
    "    u10 = 1/sqrt(u9)\n",
    "    u11 = u10*u8\n",
    "    u12 = (u11*u6 - 1)*coeff\n",
    "    u13 = x2 - x4\n",
    "    u14 = 2*u11\n",
    "    u15 = 2*u6\n",
    "    u16 = u10*u15 *u8^3\n",
    "    u17 = x3 - x5\n",
    "    u18 = u15*u8 *u10^3\n",
    "     \n",
    "    return (u12*(u0*u16 + u13*u14), \n",
    "            u12*(u14*u17 + u16*u3), \n",
    "            u12*(u14*(x0 - 2*x2 + x4) + u16*(u1 + x0) + u18*u2), \n",
    "            u12*(u14*(x1 - 2*x3 + x5) + u16*(u4 + x1) + u18*u5), \n",
    "            u12*(u0*u14 + u13*u18), \n",
    "            u12*(u14*u3 + u17*u18) )\n",
    "    end;"
   ]
  },
  {
   "cell_type": "code",
   "execution_count": 13,
   "metadata": {},
   "outputs": [
    {
     "data": {
      "text/plain": [
       "0.6753653122599329"
      ]
     },
     "execution_count": 13,
     "metadata": {},
     "output_type": "execute_result"
    }
   ],
   "source": [
    "xi = rand(6)\n",
    "three_body_energy(xi...)"
   ]
  },
  {
   "cell_type": "code",
   "execution_count": 9,
   "metadata": {},
   "outputs": [
    {
     "data": {
      "text/plain": [
       "BenchmarkTools.Trial: \n",
       "  memory estimate:  112 bytes\n",
       "  allocs estimate:  7\n",
       "  --------------\n",
       "  minimum time:     171.098 ns (0.00% GC)\n",
       "  median time:      174.082 ns (0.00% GC)\n",
       "  mean time:        196.623 ns (7.38% GC)\n",
       "  maximum time:     82.834 μs (99.78% GC)\n",
       "  --------------\n",
       "  samples:          10000\n",
       "  evals/sample:     746"
      ]
     },
     "execution_count": 9,
     "metadata": {},
     "output_type": "execute_result"
    }
   ],
   "source": [
    " @benchmark three_body_energy(xi...) setup=(xi = rand(6))"
   ]
  },
  {
   "cell_type": "code",
   "execution_count": 21,
   "metadata": {},
   "outputs": [
    {
     "data": {
      "text/plain": [
       "BenchmarkTools.Trial: \n",
       "  memory estimate:  160 bytes\n",
       "  allocs estimate:  7\n",
       "  --------------\n",
       "  minimum time:     200.823 ns (0.00% GC)\n",
       "  median time:      204.671 ns (0.00% GC)\n",
       "  mean time:        233.091 ns (8.34% GC)\n",
       "  maximum time:     99.158 μs (99.75% GC)\n",
       "  --------------\n",
       "  samples:          10000\n",
       "  evals/sample:     606"
      ]
     },
     "execution_count": 21,
     "metadata": {},
     "output_type": "execute_result"
    }
   ],
   "source": [
    " @benchmark three_body_gradient(xi...) setup=(xi = rand(6))"
   ]
  },
  {
   "cell_type": "code",
   "execution_count": 20,
   "metadata": {},
   "outputs": [
    {
     "name": "stdout",
     "output_type": "stream",
     "text": [
      "(1.4710455076283324e-15, 0.0, 3.552713678800501e-15, 0.0, -3.552713678800501e-15, 0.0)\n"
     ]
    }
   ],
   "source": [
    "xi = rand(6)\n",
    "println(three_body_gradient_old(xi...) .- three_body_gradient(xi...))"
   ]
  },
  {
   "cell_type": "code",
   "execution_count": 23,
   "metadata": {},
   "outputs": [
    {
     "data": {
      "text/plain": [
       "(0.2273621063535715, 15.055168228663293, -21.390657930512145, 1.4496333749590469, 21.16329582415857, -16.50480160362234)"
      ]
     },
     "execution_count": 23,
     "metadata": {},
     "output_type": "execute_result"
    }
   ],
   "source": [
    "x1, y1, x2, y2, x3, y3 =  three_body_gradient_old(xi...)"
   ]
  },
  {
   "cell_type": "code",
   "execution_count": 26,
   "metadata": {},
   "outputs": [
    {
     "data": {
      "text/plain": [
       "-3.552713678800501e-15"
      ]
     },
     "execution_count": 26,
     "metadata": {},
     "output_type": "execute_result"
    }
   ],
   "source": [
    "x1 + x3 + x2"
   ]
  },
  {
   "cell_type": "code",
   "execution_count": null,
   "metadata": {},
   "outputs": [],
   "source": []
  }
 ],
 "metadata": {
  "kernelspec": {
   "display_name": "Julia 1.2.0",
   "language": "julia",
   "name": "julia-1.2"
  },
  "language_info": {
   "file_extension": ".jl",
   "mimetype": "application/julia",
   "name": "julia",
   "version": "1.2.0"
  }
 },
 "nbformat": 4,
 "nbformat_minor": 2
}
