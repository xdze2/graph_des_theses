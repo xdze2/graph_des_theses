{
 "cells": [
  {
   "cell_type": "code",
   "execution_count": 37,
   "metadata": {},
   "outputs": [],
   "source": [
    "using JSON"
   ]
  },
  {
   "cell_type": "code",
   "execution_count": null,
   "metadata": {},
   "outputs": [],
   "source": [
    "using BenchmarkTools"
   ]
  },
  {
   "cell_type": "markdown",
   "metadata": {},
   "source": [
    "A graph is usualy given by the list of links [(source, target), ...]. However, for the particular type of graph here, chains of nodes are considered. So the graph is given by chains of nodes: [[A1, A2, ...], ...]."
   ]
  },
  {
   "cell_type": "code",
   "execution_count": 4,
   "metadata": {},
   "outputs": [],
   "source": [
    "using Plots"
   ]
  },
  {
   "cell_type": "code",
   "execution_count": 1,
   "metadata": {},
   "outputs": [],
   "source": [
    "struct Graph\n",
    "    chains\n",
    "    nodes\n",
    "end"
   ]
  },
  {
   "cell_type": "markdown",
   "metadata": {},
   "source": [
    "Next we need a function which compute the system energy (and the forces?) for a given graph and a list of nodes coordinates. Folowing classical approach [Fruchterman and Reingold 1991](http://www.mathe2.uni-bayreuth.de/axel/papers/reingold:graph_drawing_by_force_directed_placement.pdf) there is an attractive force -between linked nodes- and repulsive forces between every nodes. In addition, here we want a torque at each node in a chain to rigidify the line. Maybe, a global gravity field would be required to densify the graph (keep disconected parts). \n",
    "\n",
    "$$\n",
    "f_{attractive} = d^2/k \\\\\n",
    "f_{repulsive} = -k^2/d\n",
    "$$\n",
    "\n",
    "ForceAtlas2:\n",
    "https://journals.plos.org/plosone/article/file?id=10.1371/journal.pone.0098679&type=printable"
   ]
  },
  {
   "cell_type": "code",
   "execution_count": 65,
   "metadata": {},
   "outputs": [],
   "source": [
    "# Spring\n",
    "function attractive_gradient(x1, y1, x2, y2)\n",
    "    u = x2 - x1\n",
    "    v = y2 - y1\n",
    "    return (-u, -v, u, v)\n",
    "    end;\n",
    "function attractive_energy(x1, y1, x2, y2)\n",
    "    u = x2 - x1\n",
    "    v = y2 - y1\n",
    "    return (u^2 + v^2)/2\n",
    "    end;\n",
    "\n",
    "# Elec\n",
    "function repulsive_energy(x1, y1, x2, y2)\n",
    "    u = x2 - x1\n",
    "    v = y2 - y1\n",
    "    return 1/sqrt(u^2 + v^2)\n",
    "    end;\n",
    "\n",
    "function repulsive_gradient(x1, y1, x2, y2)\n",
    "    u = x2 - x1\n",
    "    v = y2 - y1\n",
    "    d = sqrt(u^2 + v^2)^3\n",
    "    return (u/d, v/d, -u/d, -v/d)\n",
    "    end;\n",
    "\n",
    "# d/dx(-1/sqrt(x^2 + y^2)) = x/(x^2 + y^2)^(3/2)"
   ]
  },
  {
   "cell_type": "code",
   "execution_count": 66,
   "metadata": {},
   "outputs": [
    {
     "data": {
      "text/plain": [
       "(0.3535533905932737, -0.3535533905932737, -0.3535533905932737, 0.3535533905932737)"
      ]
     },
     "execution_count": 66,
     "metadata": {},
     "output_type": "execute_result"
    }
   ],
   "source": [
    "repulsive_gradient(0., 0., 1., -1.)"
   ]
  },
  {
   "cell_type": "code",
   "execution_count": null,
   "metadata": {},
   "outputs": [],
   "source": [
    "@benchmark attractive_gradient(3.13, rand(), rand(), 4.242)"
   ]
  },
  {
   "cell_type": "code",
   "execution_count": 31,
   "metadata": {},
   "outputs": [],
   "source": [
    "function graph_energy(coords, graph)\n",
    "    E = 0\n",
    "    # Attractive\n",
    "    for chain in graph.chains\n",
    "        for (n1, n2) in zip(chain[1:end-1], chain[2:end])\n",
    "            i1, i2 = graph.nodes[n1], graph.nodes[n2]\n",
    "            x1, y1 = coords[1, i1], coords[2, i1]\n",
    "            x2, y2 = coords[1, i2], coords[2, i2]\n",
    "            E += attractive_energy(x1, y1, x2, y2)\n",
    "            end;\n",
    "        end;\n",
    "    \n",
    "    # Repulsive\n",
    "    # Todo: insert Barnes Hut here...\n",
    "    for i in 1:length(graph.nodes)\n",
    "        x1, y1 = coords[1, i], coords[2, i]\n",
    "        for j in i+1:length(graph.nodes)\n",
    "            x2, y2 = coords[1, j], coords[2, j]\n",
    "            E += repulsive_energy(x1, y1, x2, y2)\n",
    "            end;\n",
    "        end;\n",
    "    return E\n",
    "    end;"
   ]
  },
  {
   "cell_type": "code",
   "execution_count": 8,
   "metadata": {},
   "outputs": [
    {
     "ename": "LoadError",
     "evalue": "UndefVarError: @benchmark not defined",
     "output_type": "error",
     "traceback": [
      "UndefVarError: @benchmark not defined",
      ""
     ]
    }
   ],
   "source": [
    "@benchmark graph_energy(coords, graph)"
   ]
  },
  {
   "cell_type": "code",
   "execution_count": 32,
   "metadata": {},
   "outputs": [],
   "source": [
    "function graph_gradient!(G, coords, graph)\n",
    "    fill!(G, 0.f0)\n",
    "    # Attractive\n",
    "    for chain in graph.chains\n",
    "        for (n1, n2) in zip(chain[1:end-1], chain[2:end])\n",
    "            i1, i2 = graph.nodes[n1], graph.nodes[n2]\n",
    "            x1, y1 = coords[1, i1], coords[2, i1]\n",
    "            x2, y2 = coords[1, i2], coords[2, i2]\n",
    "            grad = attractive_gradient(x1, y1, x2, y2)\n",
    "            G[1, i1] += grad[1]\n",
    "            G[2, i1] += grad[2]\n",
    "            G[1, i2] += grad[3]\n",
    "            G[2, i2] += grad[4]\n",
    "            end;\n",
    "        end;\n",
    "    \n",
    "    # Repulsive\n",
    "    # Todo: insert Barnes Hut here...\n",
    "    for i in 1:length(graph.nodes)\n",
    "        x1, y1 = coords[1, i], coords[2, i]\n",
    "        for j in i+1:length(graph.nodes)\n",
    "            x2, y2 = coords[1, j], coords[2, j]\n",
    "            grad = repulsive_gradient(x1, y1, x2, y2)\n",
    "            G[1, i] += grad[1]\n",
    "            G[2, i] += grad[2]\n",
    "            G[1, j] += grad[3]\n",
    "            G[2, j] += grad[4]\n",
    "            end;\n",
    "        end;\n",
    "    end;"
   ]
  },
  {
   "cell_type": "markdown",
   "metadata": {},
   "source": [
    "Solve \n",
    "\n",
    "https://github.com/JuliaNLSolvers/Optim.jl"
   ]
  },
  {
   "cell_type": "code",
   "execution_count": 11,
   "metadata": {},
   "outputs": [],
   "source": [
    "using(Optim)"
   ]
  },
  {
   "cell_type": "code",
   "execution_count": 75,
   "metadata": {},
   "outputs": [
    {
     "data": {
      "text/plain": [
       "4-element Array{String,1}:\n",
       " \"070506604.json\"\n",
       " \"087475936.json\"\n",
       " \"178303232.json\"\n",
       " \"197626394.json\""
      ]
     },
     "execution_count": 75,
     "metadata": {},
     "output_type": "execute_result"
    }
   ],
   "source": [
    "# Load a graph\n",
    "files = filter(x -> endswith(x, \".json\"), readdir(\"json/\"))"
   ]
  },
  {
   "cell_type": "code",
   "execution_count": 93,
   "metadata": {},
   "outputs": [
    {
     "name": "stdout",
     "output_type": "stream",
     "text": [
      "33\n"
     ]
    }
   ],
   "source": [
    "path = string(\"./json/\", files[2])\n",
    "data = read(path, String)\n",
    "chains = JSON.parse( data, dicttype=Array{Array{String}});\n",
    "sort!(chains, by=x->length(x), rev=true)\n",
    "println(length(chains[1]))"
   ]
  },
  {
   "cell_type": "code",
   "execution_count": 92,
   "metadata": {},
   "outputs": [
    {
     "data": {
      "text/plain": [
       "3-element Array{Array{String,1},1}:\n",
       " [\"A\", \"B\", \"R\"]       \n",
       " [\"EEE\", \"C\", \"A\", \"T\"]\n",
       " [\"R\", \"EE\", \"C\"]      "
      ]
     },
     "execution_count": 92,
     "metadata": {},
     "output_type": "execute_result"
    }
   ],
   "source": [
    "# Simple graph\n",
    "chains = [[\"A\", \"B\", \"R\"], [\"EEE\", \"C\", \"A\", \"T\"], [\"R\", \"EE\", \"C\"]]"
   ]
  },
  {
   "cell_type": "code",
   "execution_count": 94,
   "metadata": {},
   "outputs": [
    {
     "name": "stdout",
     "output_type": "stream",
     "text": [
      "151 nodes\n",
      "18 chains\n"
     ]
    }
   ],
   "source": [
    "# Define the graph\n",
    "nodes_list = unique(n for ch in chains for n in ch)\n",
    "nodes = Dict( n=>k for (k, n) in enumerate(nodes_list) )\n",
    "println(length(nodes), \" nodes\")\n",
    "println(length(chains), \" chains\")\n",
    "graph = Graph(chains, nodes);"
   ]
  },
  {
   "cell_type": "code",
   "execution_count": 95,
   "metadata": {},
   "outputs": [],
   "source": [
    "# init coords\n",
    "N = length(graph.nodes)\n",
    "radius = N/(2*pi)\n",
    "coords = hcat([[radius*cos(k*2*pi/N); radius*sin(k*2*pi/N)] for k in 1:N]...);\n",
    "# gradient\n",
    "G = zeros(Float32, size(coords)...);"
   ]
  },
  {
   "cell_type": "code",
   "execution_count": 87,
   "metadata": {},
   "outputs": [
    {
     "data": {
      "text/plain": [
       " * Status: failure (reached maximum number of iterations) (line search failed)\n",
       "\n",
       " * Candidate solution\n",
       "    Minimizer: [2.04e+01, 1.84e-01, 2.00e+01,  ...]\n",
       "    Minimum:   3.144992e+02\n",
       "\n",
       " * Found with\n",
       "    Algorithm:     Nelder-Mead\n",
       "    Initial Point: [2.04e+01, 1.82e-01, 1.99e+01,  ...]\n",
       "\n",
       " * Convergence measures\n",
       "    √(Σ(yᵢ-ȳ)²)/n ≰ 1.0e-08\n",
       "\n",
       " * Work counters\n",
       "    Seconds run:   10  (vs limit Inf)\n",
       "    Iterations:    1000\n",
       "    f(x) calls:    22021\n"
      ]
     },
     "execution_count": 87,
     "metadata": {},
     "output_type": "execute_result"
    }
   ],
   "source": [
    "result = Optim.optimize(x->graph_energy(x, graph),\n",
    "                        coords)"
   ]
  },
  {
   "cell_type": "code",
   "execution_count": 96,
   "metadata": {},
   "outputs": [
    {
     "data": {
      "text/plain": [
       " * Status: failure (objective increased between iterations) (line search failed)\n",
       "\n",
       " * Candidate solution\n",
       "    Minimizer: [4.16e+01, -4.25e+00, 4.07e+01,  ...]\n",
       "    Minimum:   9.252237e+02\n",
       "\n",
       " * Found with\n",
       "    Algorithm:     L-BFGS\n",
       "    Initial Point: [2.40e+01, 1.00e+00, 2.39e+01,  ...]\n",
       "\n",
       " * Convergence measures\n",
       "    |x - x'|               = 1.87e-06 ≰ 0.0e+00\n",
       "    |x - x'|/|x'|          = 4.20e-08 ≰ 0.0e+00\n",
       "    |f(x) - f(x')|         = 9.09e-13 ≰ 0.0e+00\n",
       "    |f(x) - f(x')|/|f(x')| = 9.83e-16 ≰ 0.0e+00\n",
       "    |g(x)|                 = 1.49e-06 ≰ 1.0e-08\n",
       "\n",
       " * Work counters\n",
       "    Seconds run:   42  (vs limit Inf)\n",
       "    Iterations:    556\n",
       "    f(x) calls:    1656\n",
       "    ∇f(x) calls:   1656\n"
      ]
     },
     "execution_count": 96,
     "metadata": {},
     "output_type": "execute_result"
    }
   ],
   "source": [
    "G = zeros(Float32, size(coords)...)\n",
    "result = Optim.optimize(x->graph_energy(x, graph),\n",
    "                        (G, x)->graph_gradient!(G, x, graph),\n",
    "                        coords)"
   ]
  },
  {
   "cell_type": "code",
   "execution_count": 98,
   "metadata": {},
   "outputs": [],
   "source": [
    "coords = result.minimizer;"
   ]
  },
  {
   "cell_type": "code",
   "execution_count": 99,
   "metadata": {},
   "outputs": [
    {
     "data": {
      "image/svg+xml": [
       "<?xml version=\"1.0\" encoding=\"utf-8\"?>\n",
       "<svg xmlns=\"http://www.w3.org/2000/svg\" xmlns:xlink=\"http://www.w3.org/1999/xlink\" width=\"600\" height=\"400\" viewBox=\"0 0 2400 1600\">\n",
       "<defs>\n",
       "  <clipPath id=\"clip5200\">\n",
       "    <rect x=\"0\" y=\"0\" width=\"2400\" height=\"1600\"/>\n",
       "  </clipPath>\n",
       "</defs>\n",
       "<path clip-path=\"url(#clip5200)\" d=\"\n",
       "M0 1600 L2400 1600 L2400 0 L0 0  Z\n",
       "  \" fill=\"#ffffff\" fill-rule=\"evenodd\" fill-opacity=\"1\"/>\n",
       "<defs>\n",
       "  <clipPath id=\"clip5201\">\n",
       "    <rect x=\"480\" y=\"0\" width=\"1681\" height=\"1600\"/>\n",
       "  </clipPath>\n",
       "</defs>\n",
       "<path clip-path=\"url(#clip5200)\" d=\"\n",
       "M168.627 1487.47 L2352.76 1487.47 L2352.76 47.2441 L168.627 47.2441  Z\n",
       "  \" fill=\"#ffffff\" fill-rule=\"evenodd\" fill-opacity=\"1\"/>\n",
       "<defs>\n",
       "  <clipPath id=\"clip5202\">\n",
       "    <rect x=\"168\" y=\"47\" width=\"2185\" height=\"1441\"/>\n",
       "  </clipPath>\n",
       "</defs>\n",
       "<polyline clip-path=\"url(#clip5202)\" style=\"stroke:#000000; stroke-width:2; stroke-opacity:0.1; fill:none\" points=\"\n",
       "  324.808,1487.47 324.808,47.2441 \n",
       "  \"/>\n",
       "<polyline clip-path=\"url(#clip5202)\" style=\"stroke:#000000; stroke-width:2; stroke-opacity:0.1; fill:none\" points=\"\n",
       "  789.155,1487.47 789.155,47.2441 \n",
       "  \"/>\n",
       "<polyline clip-path=\"url(#clip5202)\" style=\"stroke:#000000; stroke-width:2; stroke-opacity:0.1; fill:none\" points=\"\n",
       "  1253.5,1487.47 1253.5,47.2441 \n",
       "  \"/>\n",
       "<polyline clip-path=\"url(#clip5202)\" style=\"stroke:#000000; stroke-width:2; stroke-opacity:0.1; fill:none\" points=\"\n",
       "  1717.85,1487.47 1717.85,47.2441 \n",
       "  \"/>\n",
       "<polyline clip-path=\"url(#clip5202)\" style=\"stroke:#000000; stroke-width:2; stroke-opacity:0.1; fill:none\" points=\"\n",
       "  2182.19,1487.47 2182.19,47.2441 \n",
       "  \"/>\n",
       "<polyline clip-path=\"url(#clip5202)\" style=\"stroke:#000000; stroke-width:2; stroke-opacity:0.1; fill:none\" points=\"\n",
       "  168.627,1278.16 2352.76,1278.16 \n",
       "  \"/>\n",
       "<polyline clip-path=\"url(#clip5202)\" style=\"stroke:#000000; stroke-width:2; stroke-opacity:0.1; fill:none\" points=\"\n",
       "  168.627,1045.98 2352.76,1045.98 \n",
       "  \"/>\n",
       "<polyline clip-path=\"url(#clip5202)\" style=\"stroke:#000000; stroke-width:2; stroke-opacity:0.1; fill:none\" points=\"\n",
       "  168.627,813.809 2352.76,813.809 \n",
       "  \"/>\n",
       "<polyline clip-path=\"url(#clip5202)\" style=\"stroke:#000000; stroke-width:2; stroke-opacity:0.1; fill:none\" points=\"\n",
       "  168.627,581.636 2352.76,581.636 \n",
       "  \"/>\n",
       "<polyline clip-path=\"url(#clip5202)\" style=\"stroke:#000000; stroke-width:2; stroke-opacity:0.1; fill:none\" points=\"\n",
       "  168.627,349.462 2352.76,349.462 \n",
       "  \"/>\n",
       "<polyline clip-path=\"url(#clip5202)\" style=\"stroke:#000000; stroke-width:2; stroke-opacity:0.1; fill:none\" points=\"\n",
       "  168.627,117.289 2352.76,117.289 \n",
       "  \"/>\n",
       "<polyline clip-path=\"url(#clip5200)\" style=\"stroke:#000000; stroke-width:4; stroke-opacity:1; fill:none\" points=\"\n",
       "  168.627,1487.47 2352.76,1487.47 \n",
       "  \"/>\n",
       "<polyline clip-path=\"url(#clip5200)\" style=\"stroke:#000000; stroke-width:4; stroke-opacity:1; fill:none\" points=\"\n",
       "  168.627,1487.47 168.627,47.2441 \n",
       "  \"/>\n",
       "<polyline clip-path=\"url(#clip5200)\" style=\"stroke:#000000; stroke-width:4; stroke-opacity:1; fill:none\" points=\"\n",
       "  324.808,1487.47 324.808,1465.87 \n",
       "  \"/>\n",
       "<polyline clip-path=\"url(#clip5200)\" style=\"stroke:#000000; stroke-width:4; stroke-opacity:1; fill:none\" points=\"\n",
       "  789.155,1487.47 789.155,1465.87 \n",
       "  \"/>\n",
       "<polyline clip-path=\"url(#clip5200)\" style=\"stroke:#000000; stroke-width:4; stroke-opacity:1; fill:none\" points=\"\n",
       "  1253.5,1487.47 1253.5,1465.87 \n",
       "  \"/>\n",
       "<polyline clip-path=\"url(#clip5200)\" style=\"stroke:#000000; stroke-width:4; stroke-opacity:1; fill:none\" points=\"\n",
       "  1717.85,1487.47 1717.85,1465.87 \n",
       "  \"/>\n",
       "<polyline clip-path=\"url(#clip5200)\" style=\"stroke:#000000; stroke-width:4; stroke-opacity:1; fill:none\" points=\"\n",
       "  2182.19,1487.47 2182.19,1465.87 \n",
       "  \"/>\n",
       "<polyline clip-path=\"url(#clip5200)\" style=\"stroke:#000000; stroke-width:4; stroke-opacity:1; fill:none\" points=\"\n",
       "  168.627,1278.16 201.389,1278.16 \n",
       "  \"/>\n",
       "<polyline clip-path=\"url(#clip5200)\" style=\"stroke:#000000; stroke-width:4; stroke-opacity:1; fill:none\" points=\"\n",
       "  168.627,1045.98 201.389,1045.98 \n",
       "  \"/>\n",
       "<polyline clip-path=\"url(#clip5200)\" style=\"stroke:#000000; stroke-width:4; stroke-opacity:1; fill:none\" points=\"\n",
       "  168.627,813.809 201.389,813.809 \n",
       "  \"/>\n",
       "<polyline clip-path=\"url(#clip5200)\" style=\"stroke:#000000; stroke-width:4; stroke-opacity:1; fill:none\" points=\"\n",
       "  168.627,581.636 201.389,581.636 \n",
       "  \"/>\n",
       "<polyline clip-path=\"url(#clip5200)\" style=\"stroke:#000000; stroke-width:4; stroke-opacity:1; fill:none\" points=\"\n",
       "  168.627,349.462 201.389,349.462 \n",
       "  \"/>\n",
       "<polyline clip-path=\"url(#clip5200)\" style=\"stroke:#000000; stroke-width:4; stroke-opacity:1; fill:none\" points=\"\n",
       "  168.627,117.289 201.389,117.289 \n",
       "  \"/>\n",
       "<g clip-path=\"url(#clip5200)\">\n",
       "<text style=\"fill:#000000; fill-opacity:1; font-family:Arial,Helvetica Neue,Helvetica,sans-serif; font-size:48px; text-anchor:middle;\" transform=\"rotate(0, 324.808, 1541.47)\" x=\"324.808\" y=\"1541.47\">-40</text>\n",
       "</g>\n",
       "<g clip-path=\"url(#clip5200)\">\n",
       "<text style=\"fill:#000000; fill-opacity:1; font-family:Arial,Helvetica Neue,Helvetica,sans-serif; font-size:48px; text-anchor:middle;\" transform=\"rotate(0, 789.155, 1541.47)\" x=\"789.155\" y=\"1541.47\">-20</text>\n",
       "</g>\n",
       "<g clip-path=\"url(#clip5200)\">\n",
       "<text style=\"fill:#000000; fill-opacity:1; font-family:Arial,Helvetica Neue,Helvetica,sans-serif; font-size:48px; text-anchor:middle;\" transform=\"rotate(0, 1253.5, 1541.47)\" x=\"1253.5\" y=\"1541.47\">0</text>\n",
       "</g>\n",
       "<g clip-path=\"url(#clip5200)\">\n",
       "<text style=\"fill:#000000; fill-opacity:1; font-family:Arial,Helvetica Neue,Helvetica,sans-serif; font-size:48px; text-anchor:middle;\" transform=\"rotate(0, 1717.85, 1541.47)\" x=\"1717.85\" y=\"1541.47\">20</text>\n",
       "</g>\n",
       "<g clip-path=\"url(#clip5200)\">\n",
       "<text style=\"fill:#000000; fill-opacity:1; font-family:Arial,Helvetica Neue,Helvetica,sans-serif; font-size:48px; text-anchor:middle;\" transform=\"rotate(0, 2182.19, 1541.47)\" x=\"2182.19\" y=\"1541.47\">40</text>\n",
       "</g>\n",
       "<g clip-path=\"url(#clip5200)\">\n",
       "<text style=\"fill:#000000; fill-opacity:1; font-family:Arial,Helvetica Neue,Helvetica,sans-serif; font-size:48px; text-anchor:end;\" transform=\"rotate(0, 144.627, 1295.66)\" x=\"144.627\" y=\"1295.66\">-20</text>\n",
       "</g>\n",
       "<g clip-path=\"url(#clip5200)\">\n",
       "<text style=\"fill:#000000; fill-opacity:1; font-family:Arial,Helvetica Neue,Helvetica,sans-serif; font-size:48px; text-anchor:end;\" transform=\"rotate(0, 144.627, 1063.48)\" x=\"144.627\" y=\"1063.48\">-10</text>\n",
       "</g>\n",
       "<g clip-path=\"url(#clip5200)\">\n",
       "<text style=\"fill:#000000; fill-opacity:1; font-family:Arial,Helvetica Neue,Helvetica,sans-serif; font-size:48px; text-anchor:end;\" transform=\"rotate(0, 144.627, 831.309)\" x=\"144.627\" y=\"831.309\">0</text>\n",
       "</g>\n",
       "<g clip-path=\"url(#clip5200)\">\n",
       "<text style=\"fill:#000000; fill-opacity:1; font-family:Arial,Helvetica Neue,Helvetica,sans-serif; font-size:48px; text-anchor:end;\" transform=\"rotate(0, 144.627, 599.136)\" x=\"144.627\" y=\"599.136\">10</text>\n",
       "</g>\n",
       "<g clip-path=\"url(#clip5200)\">\n",
       "<text style=\"fill:#000000; fill-opacity:1; font-family:Arial,Helvetica Neue,Helvetica,sans-serif; font-size:48px; text-anchor:end;\" transform=\"rotate(0, 144.627, 366.962)\" x=\"144.627\" y=\"366.962\">20</text>\n",
       "</g>\n",
       "<g clip-path=\"url(#clip5200)\">\n",
       "<text style=\"fill:#000000; fill-opacity:1; font-family:Arial,Helvetica Neue,Helvetica,sans-serif; font-size:48px; text-anchor:end;\" transform=\"rotate(0, 144.627, 134.789)\" x=\"144.627\" y=\"134.789\">30</text>\n",
       "</g>\n",
       "<polyline clip-path=\"url(#clip5202)\" style=\"stroke:#009af9; stroke-width:12; stroke-opacity:1; fill:none\" points=\"\n",
       "  2219.54,912.583 2198.23,930.223 2173.24,952.225 2145.46,978.97 2095.59,972.3 2040.25,963.117 1978.63,952.545 1906.07,954.068 1838.64,924.188 1774.36,895.655 \n",
       "  1707.92,866.887 1633.32,835.8 1612.16,802.222 1583.24,767.226 1598.21,704.873 1604.27,646.666 1558.59,662.338 1548.21,713.432 1548.47,768.026 1562.91,826.428 \n",
       "  1520.8,803.422 1473.88,808.544 1392.44,818.096 1315.67,828.038 1241.65,838.282 1169.05,848.773 1096.78,859.587 1023.58,870.903 946.282,882.661 920.232,945.086 \n",
       "  893.96,1006.56 866.849,1070.5 896.721,1113.55 \n",
       "  \"/>\n",
       "<polyline clip-path=\"url(#clip5202)\" style=\"stroke:#e26f46; stroke-width:12; stroke-opacity:1; fill:none\" points=\"\n",
       "  551.051,125.294 561.419,149.961 573.251,178.279 585.792,208.589 598.76,240.378 611.992,273.434 625.366,307.674 638.775,343.088 652.111,379.72 665.253,417.669 \n",
       "  678.058,457.095 690.332,498.248 701.8,541.543 711.998,587.714 720.036,638.277 724.788,697.14 785.675,744.579 839.749,789.639 892.268,835.047 946.282,882.661 \n",
       "  958.22,862.054 \n",
       "  \"/>\n",
       "<polyline clip-path=\"url(#clip5202)\" style=\"stroke:#3da44d; stroke-width:12; stroke-opacity:1; fill:none\" points=\"\n",
       "  1935.78,378.087 1913.35,393.25 1887.13,410.683 1858.43,429.259 1827.44,448.514 1794.05,468.111 1757.86,487.687 1718.2,506.641 1674.17,523.306 1665.71,476.573 \n",
       "  1660.92,432.469 1658.01,391.133 1656.26,352.273 1655.29,315.719 1654.86,281.498 1654.77,250.013 1654.86,222.94 \n",
       "  \"/>\n",
       "<polyline clip-path=\"url(#clip5202)\" style=\"stroke:#c271d2; stroke-width:12; stroke-opacity:1; fill:none\" points=\"\n",
       "  230.442,665.137 257.181,667.567 287.972,670.335 321.038,673.256 355.845,676.255 392.196,679.284 430.061,682.303 469.532,685.283 510.864,688.202 554.616,691.063 \n",
       "  602.21,693.927 659.048,696.404 663.974,725.712 685.438,746.733 \n",
       "  \"/>\n",
       "<polyline clip-path=\"url(#clip5202)\" style=\"stroke:#ac8d18; stroke-width:12; stroke-opacity:1; fill:none\" points=\"\n",
       "  465.085,1355.55 485.445,1338.03 508.934,1317.9 534.233,1296.35 560.98,1273.78 589.084,1250.39 618.596,1226.28 649.694,1201.54 682.738,1176.22 718.454,1150.38 \n",
       "  758.644,1124.19 809.239,1098.68 795.944,1075.13 \n",
       "  \"/>\n",
       "<polyline clip-path=\"url(#clip5202)\" style=\"stroke:#00a9ad; stroke-width:12; stroke-opacity:1; fill:none\" points=\"\n",
       "  1425.78,1027.36 1446.72,1009.64 1472.56,989.772 1503.43,969.857 1541.04,952.367 1548.14,999.731 1554.9,1038.48 1560.28,1071.68 1564.39,1099.15 \n",
       "  \"/>\n",
       "<polyline clip-path=\"url(#clip5202)\" style=\"stroke:#ed5d92; stroke-width:12; stroke-opacity:1; fill:none\" points=\"\n",
       "  1901.68,929.596 1906.07,954.068 1904.5,997.398 1906.02,1037.65 1909.43,1074.98 1913.75,1109.52 1918.36,1141.01 1922.6,1167.89 \n",
       "  \"/>\n",
       "<polyline clip-path=\"url(#clip5202)\" style=\"stroke:#c68125; stroke-width:12; stroke-opacity:1; fill:none\" points=\"\n",
       "  2290.94,1081.82 2267.75,1067.66 2240.74,1050.75 2211.33,1031.36 2179.72,1008.45 2145.46,978.97 2119.68,979.62 2095.59,972.3 \n",
       "  \"/>\n",
       "<polyline clip-path=\"url(#clip5202)\" style=\"stroke:#00a98d; stroke-width:12; stroke-opacity:1; fill:none\" points=\"\n",
       "  951.932,1321.92 945.762,1281.92 937.102,1242.63 926.441,1202.28 913.153,1160 896.721,1113.55 921.512,1105.68 \n",
       "  \"/>\n",
       "<polyline clip-path=\"url(#clip5202)\" style=\"stroke:#8e971d; stroke-width:12; stroke-opacity:1; fill:none\" points=\"\n",
       "  1411.85,504.92 1429.83,525.229 1450.96,548.753 1474.27,574.199 1499.66,601.33 1527.43,630.405 1558.59,662.338 \n",
       "  \"/>\n",
       "<polyline clip-path=\"url(#clip5202)\" style=\"stroke:#00a8cb; stroke-width:12; stroke-opacity:1; fill:none\" points=\"\n",
       "  1656.21,846.654 1633.32,835.8 1562.91,826.428 1550.83,889.625 1541.04,952.367 1571.62,956.96 1597.99,964.567 \n",
       "  \"/>\n",
       "<polyline clip-path=\"url(#clip5202)\" style=\"stroke:#9b7fe8; stroke-width:12; stroke-opacity:1; fill:none\" points=\"\n",
       "  647.901,671.859 659.048,696.404 724.788,697.14 710.478,725.755 685.438,746.733 679.932,775.396 \n",
       "  \"/>\n",
       "<polyline clip-path=\"url(#clip5202)\" style=\"stroke:#608cf6; stroke-width:12; stroke-opacity:1; fill:none\" points=\"\n",
       "  991.969,1409.42 982.426,1383.96 970.043,1354.31 951.932,1321.92 928.482,1335.28 \n",
       "  \"/>\n",
       "<polyline clip-path=\"url(#clip5202)\" style=\"stroke:#f05f73; stroke-width:12; stroke-opacity:1; fill:none\" points=\"\n",
       "  1607.52,756.154 1583.24,767.226 1520.8,803.422 1473.88,808.544 \n",
       "  \"/>\n",
       "<polyline clip-path=\"url(#clip5202)\" style=\"stroke:#dd64b5; stroke-width:12; stroke-opacity:1; fill:none\" points=\"\n",
       "  1674.17,523.306 1640.74,582.405 1604.27,646.666 1628.52,638.566 \n",
       "  \"/>\n",
       "<polyline clip-path=\"url(#clip5202)\" style=\"stroke:#6b9e32; stroke-width:12; stroke-opacity:1; fill:none\" points=\"\n",
       "  810.438,1155.57 810.79,1128.57 809.239,1098.68 866.849,1070.5 \n",
       "  \"/>\n",
       "<polyline clip-path=\"url(#clip5202)\" style=\"stroke:#718c69; stroke-width:12; stroke-opacity:1; fill:none\" points=\"\n",
       "  1985.26,977.303 1978.63,952.545 1989.01,921.906 1998.5,896.084 \n",
       "  \"/>\n",
       "<polyline clip-path=\"url(#clip5202)\" style=\"stroke:#47988b; stroke-width:12; stroke-opacity:1; fill:none\" points=\"\n",
       "  749.864,686.506 724.788,697.14 \n",
       "  \"/>\n",
       "</svg>\n"
      ]
     },
     "execution_count": 99,
     "metadata": {},
     "output_type": "execute_result"
    }
   ],
   "source": [
    "fig = plot(legend=false, aspect_ratio=:equal)\n",
    "for chain in graph.chains\n",
    "    idx = [graph.nodes[n] for n in chain]\n",
    "    plot!(coords[1, idx], coords[2, idx], linewidth=3)\n",
    "    #println(coords[idx, 1])\n",
    "    end;\n",
    "#scatter!(coords[1, :], coords[2, :], color=\"black\")\n",
    "fig"
   ]
  },
  {
   "cell_type": "markdown",
   "metadata": {},
   "source": [
    "next:\n",
    "- barnes Hut\n",
    "- clarify nodes_index vs graph... structure, object? [ok]\n",
    "- opti graph_energy (2d, no array?) [ok]\n",
    "- is forwarddiff really fast ? [ok]\n",
    "- opti only subset of the graph! ...\n",
    "    - tree search optimin  vs thermal annealing?\n",
    "- complex forces, time oriented field, or spiraling force"
   ]
  },
  {
   "cell_type": "code",
   "execution_count": null,
   "metadata": {},
   "outputs": [],
   "source": []
  }
 ],
 "metadata": {
  "kernelspec": {
   "display_name": "Julia 1.2.0",
   "language": "julia",
   "name": "julia-1.2"
  },
  "language_info": {
   "file_extension": ".jl",
   "mimetype": "application/julia",
   "name": "julia",
   "version": "1.2.0"
  }
 },
 "nbformat": 4,
 "nbformat_minor": 2
}
