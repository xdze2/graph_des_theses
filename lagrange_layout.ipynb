{
 "cells": [
  {
   "cell_type": "code",
   "execution_count": 1,
   "metadata": {},
   "outputs": [],
   "source": [
    "using BenchmarkTools"
   ]
  },
  {
   "cell_type": "code",
   "execution_count": 2,
   "metadata": {},
   "outputs": [],
   "source": [
    "struct Graph\n",
    "    chains\n",
    "    nodes\n",
    "end"
   ]
  },
  {
   "cell_type": "code",
   "execution_count": 3,
   "metadata": {},
   "outputs": [],
   "source": [
    "chains = [[\"074559265\", \"033293546\", \"177194634\", \"132327031\",\n",
    "        \"05942608X\", \"147936594\", \"194946746\", \"20308523X\",\n",
    "        \"160289750\", \"103659625\", \"103664262\", \"07456501X\", \"074559192\",\n",
    "        \"074576127\", \"113270321\", \"123899249\", \"122925262\", \"121644545\",\n",
    "        \"122935314\", \"13235103X\", \"149658192\", \"149531125\", \"151099103\", \"168078465\", \"17817310X\", \"18105938X\", \"181232529\", \"195092317\", \"202363856\"], [\"069862753\", \"033922020\", \"185417396\", \"185923089\", \"161170161\", \"188021574\", \"188160396\", \"188705945\", \"189504048\", \"189565624\", \"189997680\", \"190237201\", \"06986263X\", \"074589644\", \"076964361\", \"076694348\", \"076969576\", \"083593217\", \"110189159\", \"129545279\"], [\"112512380\", \"109209265\", \"185124100\", \"180818260\", \"185775926\", \"185887015\", \"187849390\", \"18786425X\", \"188021574\", \"112508901\"], [\"129545678\", \"129545279\", \"140093052\", \"154959588\", \"155289756\", \"176736999\", \"177538619\", \"179791338\", \"177523824\", \"195092317\"],\n",
    "        [\"177539135\", \"177538619\", \"200874586\", \"241318939\"]];"
   ]
  },
  {
   "cell_type": "code",
   "execution_count": 4,
   "metadata": {},
   "outputs": [
    {
     "name": "stdout",
     "output_type": "stream",
     "text": [
      "69 nodes\n",
      "#chains: 5\n"
     ]
    }
   ],
   "source": [
    "# Define the graph\n",
    "nodes_list = unique(n for ch in chains for n in ch)\n",
    "nodes = Dict( n=>k for (k, n) in enumerate(nodes_list) )\n",
    "println(length(nodes), \" nodes\")\n",
    "println(\"#chains: \", length(chains))\n",
    "graph = Graph(chains, nodes);"
   ]
  },
  {
   "cell_type": "code",
   "execution_count": 5,
   "metadata": {},
   "outputs": [
    {
     "name": "stdout",
     "output_type": "stream",
     "text": [
      "4 intersections\n",
      "Dict{Any,Any}(\"177538619\" => [4, 5],\"195092317\" => [1, 4],\"188021574\" => [2, 3],\"129545279\" => [2, 4])"
     ]
    }
   ],
   "source": [
    "# Search for intersections\n",
    "intersections = Dict()\n",
    "for (ch_idx, ch) in enumerate(graph.chains), n in ch\n",
    "    el = get!(intersections, n, Int64[])\n",
    "    push!(el, ch_idx)\n",
    "    end;\n",
    "\n",
    "filter!(x -> length(x[2]) > 1, intersections);\n",
    "println(length(intersections), \" intersections\")\n",
    "print(intersections)"
   ]
  },
  {
   "cell_type": "code",
   "execution_count": 7,
   "metadata": {},
   "outputs": [],
   "source": [
    "# Place the first chain\n",
    "function place_first_chain!(coords, graph, chain_idx=1) \n",
    "    chain = graph.chains[chain_idx]\n",
    "    node_distance = 1.0f0\n",
    "\n",
    "    chain_idx = map(x -> graph.nodes[x], chain);\n",
    "\n",
    "    line = hcat([ [node_distance*(i-1); 0] for i in 1:length(chain)]...)\n",
    "    coords[:, chain_idx] = line\n",
    "    end;"
   ]
  },
  {
   "cell_type": "code",
   "execution_count": 97,
   "metadata": {},
   "outputs": [],
   "source": [
    "function place_chain!(coords, graph, chain_idx)\n",
    "# coords, graph, chain_idx\n",
    "\n",
    "    # Check if the coordinates are not notching\n",
    "    # i.e. if the node has been placed\n",
    "    iscoordsdefined(n) = any(x->~isnothing(x), coords[:, graph.nodes[n]])\n",
    "\n",
    "    #function get_knots(\n",
    "    #coords, graph,   )\n",
    "    chain = graph.chains[chain_idx]\n",
    "    knots = [(idx_along_chain, coords[:, graph.nodes[n]])\n",
    "                    for (idx_along_chain, n) in enumerate(chain)\n",
    "                    if iscoordsdefined(n)]\n",
    "\n",
    "    if length(knots)==0\n",
    "        println(\"zero intersection\")\n",
    "        end;\n",
    "    # si un seul noeud...\n",
    "    # choisir une direction perpendiculoïde\n",
    "    # si une seule chaine rencontrée\n",
    "    # find nodes avant et après de cette chaine rencontrée\n",
    "    if length(knots)==1\n",
    "        idx_along_chain = knots[1][1]\n",
    "        n = chain[idx_along_chain]\n",
    "\n",
    "        other_chains = filter(i -> i != chain_idx, intersections[n])\n",
    "        other_chain_id = other_chains[1]  # take the first anyway (TODO: multiple crossing...)\n",
    "\n",
    "        other_chain = graph.chains[other_chain_id]\n",
    "        idx_along_other_chain = findfirst(isequal(n), other_chain)\n",
    "\n",
    "        coords_other_chain(idx) = coords[:, graph.nodes[other_chain[ idx ]]]\n",
    "\n",
    "        println(\"intersection with chain #\", other_chain_id,\n",
    "            \" at node #\", idx_along_other_chain)\n",
    "\n",
    "        # Define a normal direction\n",
    "        if idx_along_other_chain == 1\n",
    "            before = coords[:, graph.nodes[other_chain[1]]]\n",
    "            next = coords[:, graph.nodes[other_chain[2]]]\n",
    "        elseif idx_along_other_chain == length(other_chain)\n",
    "            before = coords[:, graph.nodes[other_chain[end-1]]]\n",
    "            next = coords[:, graph.nodes[other_chain[end]]]\n",
    "        else\n",
    "            before = coords[:, graph.nodes[other_chain[idx_along_other_chain-1]]]\n",
    "            next = coords[:, graph.nodes[other_chain[idx_along_other_chain]]]\n",
    "            end;\n",
    "\n",
    "        # normal direction:\n",
    "        u = next .- before\n",
    "        norm = sqrt(u[1]^2 + u[2]^2)\n",
    "        direction = [u[2]/norm; -u[1]/norm]\n",
    "\n",
    "        # ajoute un noeud\n",
    "        # si ce n'est pas le dernier alors le suivant\n",
    "        # sinon le precedent\n",
    "        # TODO: make a random choice, left or right?\n",
    "        coords_n = knots[1][2]\n",
    "        if idx_along_chain < length(chain)\n",
    "            push!(knots, (idx_along_chain+1, coords_n .+ direction))\n",
    "        else\n",
    "            push!(knots, (idx_along_chain-1, coords_n .- direction))\n",
    "            end;\n",
    "\n",
    "        end;\n",
    "\n",
    "    println(\"knots: \", knots)\n",
    "    # Lagrange interpolation\n",
    "    el(j, x) = prod(m -> if (j != m); (x - knots[m][1])/(knots[j][1] - knots[m][1]) else 1 end, 1:length(knots))\n",
    "    L(x) = sum(j -> knots[j][2].*el(j, x), 1:length(knots))\n",
    "\n",
    "    x = range(1, length(chain), step=1)\n",
    "\n",
    "\n",
    "    idx_chain = map(x -> graph.nodes[x], chain); # not the same as chain_idx unfortunatly\n",
    "    coords[:, idx_chain] = hcat(L.(x)...)\n",
    "    end;"
   ]
  },
  {
   "cell_type": "code",
   "execution_count": 143,
   "metadata": {},
   "outputs": [],
   "source": [
    "# get intersecting chains\n",
    "function get_intersected(chain_id)\n",
    "    chain = graph.chains[chain_id]\n",
    "    intersected = Set{Int64}()\n",
    "    for n in chain\n",
    "        union!(intersected, get(intersections, n, []))\n",
    "        end;\n",
    "    setdiff!(intersected, chain_id)\n",
    "    return sort(collect(intersected), by=x->length(graph.chains[x]))\n",
    "    end;"
   ]
  },
  {
   "cell_type": "code",
   "execution_count": 158,
   "metadata": {},
   "outputs": [],
   "source": [
    "# Init empty coords array\n",
    "coords = Array{Union{Nothing, Float32}}(nothing, 2, length(graph.nodes))\n",
    "\n",
    "place_first_chain!(coords, graph)\n",
    "added_chain = [1, ]\n",
    "chains_to_add = get_intersected(1);"
   ]
  },
  {
   "cell_type": "code",
   "execution_count": 163,
   "metadata": {},
   "outputs": [
    {
     "name": "stdout",
     "output_type": "stream",
     "text": [
      "add chain #5  Int64[]\n",
      "intersection with chain #4 at node #7\n",
      "knots: Tuple{Int64,Array{Union{Nothing, Float32},1}}[(2, [27.0f0, 3.0f0]), (3, [26.0f0, 3.0f0])]\n",
      "added_chain[1, 4, 2, 3, 5]\n",
      "chains_to_addInt64[]\n"
     ]
    }
   ],
   "source": [
    "next_chain = pop!(chains_to_add)\n",
    "println(\"add chain #\", next_chain, \"  \", chains_to_add)\n",
    "place_chain!(coords, graph, next_chain)\n",
    "push!(added_chain, next_chain)\n",
    "println(\"added_chain\", added_chain)\n",
    "\n",
    "append!(chains_to_add, filter(x -> ~(x in added_chain),\n",
    "        get_intersected(next_chain)))\n",
    "println(\"chains_to_add  \", chains_to_add)"
   ]
  },
  {
   "cell_type": "code",
   "execution_count": 164,
   "metadata": {},
   "outputs": [
    {
     "data": {
      "image/svg+xml": [
       "<?xml version=\"1.0\" encoding=\"utf-8\"?>\n",
       "<svg xmlns=\"http://www.w3.org/2000/svg\" xmlns:xlink=\"http://www.w3.org/1999/xlink\" width=\"600\" height=\"400\" viewBox=\"0 0 2400 1600\">\n",
       "<defs>\n",
       "  <clipPath id=\"clip0800\">\n",
       "    <rect x=\"0\" y=\"0\" width=\"2400\" height=\"1600\"/>\n",
       "  </clipPath>\n",
       "</defs>\n",
       "<path clip-path=\"url(#clip0800)\" d=\"\n",
       "M0 1600 L2400 1600 L2400 0 L0 0  Z\n",
       "  \" fill=\"#ffffff\" fill-rule=\"evenodd\" fill-opacity=\"1\"/>\n",
       "<defs>\n",
       "  <clipPath id=\"clip0801\">\n",
       "    <rect x=\"480\" y=\"0\" width=\"1681\" height=\"1600\"/>\n",
       "  </clipPath>\n",
       "</defs>\n",
       "<path clip-path=\"url(#clip0800)\" d=\"\n",
       "M113.754 1487.47 L2352.76 1487.47 L2352.76 47.2441 L113.754 47.2441  Z\n",
       "  \" fill=\"#ffffff\" fill-rule=\"evenodd\" fill-opacity=\"1\"/>\n",
       "<defs>\n",
       "  <clipPath id=\"clip0802\">\n",
       "    <rect x=\"113\" y=\"47\" width=\"2240\" height=\"1441\"/>\n",
       "  </clipPath>\n",
       "</defs>\n",
       "<polyline clip-path=\"url(#clip0802)\" style=\"stroke:#000000; stroke-width:2; stroke-opacity:0.1; fill:none\" points=\"\n",
       "  177.122,1487.47 177.122,47.2441 \n",
       "  \"/>\n",
       "<polyline clip-path=\"url(#clip0802)\" style=\"stroke:#000000; stroke-width:2; stroke-opacity:0.1; fill:none\" points=\"\n",
       "  636.311,1487.47 636.311,47.2441 \n",
       "  \"/>\n",
       "<polyline clip-path=\"url(#clip0802)\" style=\"stroke:#000000; stroke-width:2; stroke-opacity:0.1; fill:none\" points=\"\n",
       "  1095.5,1487.47 1095.5,47.2441 \n",
       "  \"/>\n",
       "<polyline clip-path=\"url(#clip0802)\" style=\"stroke:#000000; stroke-width:2; stroke-opacity:0.1; fill:none\" points=\"\n",
       "  1554.69,1487.47 1554.69,47.2441 \n",
       "  \"/>\n",
       "<polyline clip-path=\"url(#clip0802)\" style=\"stroke:#000000; stroke-width:2; stroke-opacity:0.1; fill:none\" points=\"\n",
       "  2013.88,1487.47 2013.88,47.2441 \n",
       "  \"/>\n",
       "<polyline clip-path=\"url(#clip0802)\" style=\"stroke:#000000; stroke-width:2; stroke-opacity:0.1; fill:none\" points=\"\n",
       "  113.754,1433.18 2352.76,1433.18 \n",
       "  \"/>\n",
       "<polyline clip-path=\"url(#clip0802)\" style=\"stroke:#000000; stroke-width:2; stroke-opacity:0.1; fill:none\" points=\"\n",
       "  113.754,973.994 2352.76,973.994 \n",
       "  \"/>\n",
       "<polyline clip-path=\"url(#clip0802)\" style=\"stroke:#000000; stroke-width:2; stroke-opacity:0.1; fill:none\" points=\"\n",
       "  113.754,514.806 2352.76,514.806 \n",
       "  \"/>\n",
       "<polyline clip-path=\"url(#clip0802)\" style=\"stroke:#000000; stroke-width:2; stroke-opacity:0.1; fill:none\" points=\"\n",
       "  113.754,55.6178 2352.76,55.6178 \n",
       "  \"/>\n",
       "<polyline clip-path=\"url(#clip0800)\" style=\"stroke:#000000; stroke-width:4; stroke-opacity:1; fill:none\" points=\"\n",
       "  113.754,1487.47 2352.76,1487.47 \n",
       "  \"/>\n",
       "<polyline clip-path=\"url(#clip0800)\" style=\"stroke:#000000; stroke-width:4; stroke-opacity:1; fill:none\" points=\"\n",
       "  113.754,1487.47 113.754,47.2441 \n",
       "  \"/>\n",
       "<polyline clip-path=\"url(#clip0800)\" style=\"stroke:#000000; stroke-width:4; stroke-opacity:1; fill:none\" points=\"\n",
       "  177.122,1487.47 177.122,1465.87 \n",
       "  \"/>\n",
       "<polyline clip-path=\"url(#clip0800)\" style=\"stroke:#000000; stroke-width:4; stroke-opacity:1; fill:none\" points=\"\n",
       "  636.311,1487.47 636.311,1465.87 \n",
       "  \"/>\n",
       "<polyline clip-path=\"url(#clip0800)\" style=\"stroke:#000000; stroke-width:4; stroke-opacity:1; fill:none\" points=\"\n",
       "  1095.5,1487.47 1095.5,1465.87 \n",
       "  \"/>\n",
       "<polyline clip-path=\"url(#clip0800)\" style=\"stroke:#000000; stroke-width:4; stroke-opacity:1; fill:none\" points=\"\n",
       "  1554.69,1487.47 1554.69,1465.87 \n",
       "  \"/>\n",
       "<polyline clip-path=\"url(#clip0800)\" style=\"stroke:#000000; stroke-width:4; stroke-opacity:1; fill:none\" points=\"\n",
       "  2013.88,1487.47 2013.88,1465.87 \n",
       "  \"/>\n",
       "<polyline clip-path=\"url(#clip0800)\" style=\"stroke:#000000; stroke-width:4; stroke-opacity:1; fill:none\" points=\"\n",
       "  113.754,1433.18 147.339,1433.18 \n",
       "  \"/>\n",
       "<polyline clip-path=\"url(#clip0800)\" style=\"stroke:#000000; stroke-width:4; stroke-opacity:1; fill:none\" points=\"\n",
       "  113.754,973.994 147.339,973.994 \n",
       "  \"/>\n",
       "<polyline clip-path=\"url(#clip0800)\" style=\"stroke:#000000; stroke-width:4; stroke-opacity:1; fill:none\" points=\"\n",
       "  113.754,514.806 147.339,514.806 \n",
       "  \"/>\n",
       "<polyline clip-path=\"url(#clip0800)\" style=\"stroke:#000000; stroke-width:4; stroke-opacity:1; fill:none\" points=\"\n",
       "  113.754,55.6178 147.339,55.6178 \n",
       "  \"/>\n",
       "<g clip-path=\"url(#clip0800)\">\n",
       "<text style=\"fill:#000000; fill-opacity:1; font-family:Arial,Helvetica Neue,Helvetica,sans-serif; font-size:48px; text-anchor:middle;\" transform=\"rotate(0, 177.122, 1541.47)\" x=\"177.122\" y=\"1541.47\">0</text>\n",
       "</g>\n",
       "<g clip-path=\"url(#clip0800)\">\n",
       "<text style=\"fill:#000000; fill-opacity:1; font-family:Arial,Helvetica Neue,Helvetica,sans-serif; font-size:48px; text-anchor:middle;\" transform=\"rotate(0, 636.311, 1541.47)\" x=\"636.311\" y=\"1541.47\">10</text>\n",
       "</g>\n",
       "<g clip-path=\"url(#clip0800)\">\n",
       "<text style=\"fill:#000000; fill-opacity:1; font-family:Arial,Helvetica Neue,Helvetica,sans-serif; font-size:48px; text-anchor:middle;\" transform=\"rotate(0, 1095.5, 1541.47)\" x=\"1095.5\" y=\"1541.47\">20</text>\n",
       "</g>\n",
       "<g clip-path=\"url(#clip0800)\">\n",
       "<text style=\"fill:#000000; fill-opacity:1; font-family:Arial,Helvetica Neue,Helvetica,sans-serif; font-size:48px; text-anchor:middle;\" transform=\"rotate(0, 1554.69, 1541.47)\" x=\"1554.69\" y=\"1541.47\">30</text>\n",
       "</g>\n",
       "<g clip-path=\"url(#clip0800)\">\n",
       "<text style=\"fill:#000000; fill-opacity:1; font-family:Arial,Helvetica Neue,Helvetica,sans-serif; font-size:48px; text-anchor:middle;\" transform=\"rotate(0, 2013.88, 1541.47)\" x=\"2013.88\" y=\"1541.47\">40</text>\n",
       "</g>\n",
       "<g clip-path=\"url(#clip0800)\">\n",
       "<text style=\"fill:#000000; fill-opacity:1; font-family:Arial,Helvetica Neue,Helvetica,sans-serif; font-size:48px; text-anchor:end;\" transform=\"rotate(0, 89.7545, 1450.68)\" x=\"89.7545\" y=\"1450.68\">-10</text>\n",
       "</g>\n",
       "<g clip-path=\"url(#clip0800)\">\n",
       "<text style=\"fill:#000000; fill-opacity:1; font-family:Arial,Helvetica Neue,Helvetica,sans-serif; font-size:48px; text-anchor:end;\" transform=\"rotate(0, 89.7545, 991.494)\" x=\"89.7545\" y=\"991.494\">0</text>\n",
       "</g>\n",
       "<g clip-path=\"url(#clip0800)\">\n",
       "<text style=\"fill:#000000; fill-opacity:1; font-family:Arial,Helvetica Neue,Helvetica,sans-serif; font-size:48px; text-anchor:end;\" transform=\"rotate(0, 89.7545, 532.306)\" x=\"89.7545\" y=\"532.306\">10</text>\n",
       "</g>\n",
       "<g clip-path=\"url(#clip0800)\">\n",
       "<text style=\"fill:#000000; fill-opacity:1; font-family:Arial,Helvetica Neue,Helvetica,sans-serif; font-size:48px; text-anchor:end;\" transform=\"rotate(0, 89.7545, 73.1178)\" x=\"89.7545\" y=\"73.1178\">20</text>\n",
       "</g>\n",
       "<polyline clip-path=\"url(#clip0802)\" style=\"stroke:#009af9; stroke-width:12; stroke-opacity:1; fill:none\" points=\"\n",
       "  177.122,973.994 223.041,973.994 268.96,973.994 314.879,973.994 360.798,973.994 406.717,973.994 452.635,973.994 498.554,973.994 544.473,973.994 590.392,973.994 \n",
       "  636.311,973.994 682.229,973.994 728.148,973.994 774.067,973.994 819.986,973.994 865.905,973.994 911.823,973.994 957.742,973.994 1003.66,973.994 1049.58,973.994 \n",
       "  1095.5,973.994 1141.42,973.994 1187.34,973.994 1233.26,973.994 1279.17,973.994 1325.09,973.994 1371.01,973.994 1416.93,973.994 1462.85,973.994 \n",
       "  \"/>\n",
       "<polyline clip-path=\"url(#clip0802)\" style=\"stroke:#e26f46; stroke-width:12; stroke-opacity:1; fill:none\" points=\"\n",
       "  2289.39,606.644 2243.47,606.644 2197.55,606.644 2151.63,606.644 2105.71,606.644 2059.79,606.644 2013.88,606.644 1967.96,606.644 1922.04,606.644 1876.12,606.644 \n",
       "  1830.2,606.644 1784.28,606.644 1738.36,606.644 1692.44,606.644 1646.52,606.644 1600.61,606.644 1554.69,606.644 1508.77,606.644 1462.85,606.644 1416.93,606.644 \n",
       "  \n",
       "  \"/>\n",
       "<polyline clip-path=\"url(#clip0802)\" style=\"stroke:#3da44d; stroke-width:12; stroke-opacity:1; fill:none\" points=\"\n",
       "  2059.79,973.994 2059.79,928.075 2059.79,882.156 2059.79,836.238 2059.79,790.319 2059.79,744.4 2059.79,698.481 2059.79,652.562 2059.79,606.644 2059.79,560.725 \n",
       "  \n",
       "  \"/>\n",
       "<polyline clip-path=\"url(#clip0802)\" style=\"stroke:#c271d2; stroke-width:12; stroke-opacity:1; fill:none\" points=\"\n",
       "  1416.93,560.725 1416.93,606.644 1416.93,652.562 1416.93,698.481 1416.93,744.4 1416.93,790.319 1416.93,836.238 1416.93,882.156 1416.93,928.075 1416.93,973.994 \n",
       "  \n",
       "  \"/>\n",
       "<polyline clip-path=\"url(#clip0802)\" style=\"stroke:#ac8d18; stroke-width:12; stroke-opacity:1; fill:none\" points=\"\n",
       "  1462.85,836.238 1416.93,836.238 1371.01,836.238 1325.09,836.238 \n",
       "  \"/>\n",
       "</svg>\n"
      ]
     },
     "execution_count": 164,
     "metadata": {},
     "output_type": "execute_result"
    }
   ],
   "source": [
    "fig = plot(legend=false, aspect_ratio=:equal)\n",
    "#scatter!(coords[:, 1], coords[:, 2], linewidth=2)\n",
    "for chain in graph.chains\n",
    "    chain_idx = map(x -> graph.nodes[x], chain);\n",
    "    x = coords[1, chain_idx]\n",
    "    y = coords[2, chain_idx]\n",
    "    if ~any(isnothing, x)\n",
    "        plot!(x, y, linewidth=3)\n",
    "        end;\n",
    "    #println(coords[idx, 1])\n",
    "    end;\n",
    "fig"
   ]
  },
  {
   "cell_type": "code",
   "execution_count": 82,
   "metadata": {},
   "outputs": [
    {
     "name": "stderr",
     "output_type": "stream",
     "text": [
      "WARNING: using Plots.coords in module Main conflicts with an existing identifier.\n",
      "WARNING: using Plots.center in module Main conflicts with an existing identifier.\n"
     ]
    }
   ],
   "source": [
    "using(Plots)"
   ]
  }
 ],
 "metadata": {
  "kernelspec": {
   "display_name": "Julia 1.2.0",
   "language": "julia",
   "name": "julia-1.2"
  },
  "language_info": {
   "file_extension": ".jl",
   "mimetype": "application/julia",
   "name": "julia",
   "version": "1.2.0"
  }
 },
 "nbformat": 4,
 "nbformat_minor": 2
}
