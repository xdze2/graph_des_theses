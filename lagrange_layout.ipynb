{
 "cells": [
  {
   "cell_type": "code",
   "execution_count": 1,
   "metadata": {},
   "outputs": [],
   "source": [
    "using JSON"
   ]
  },
  {
   "cell_type": "code",
   "execution_count": null,
   "metadata": {},
   "outputs": [],
   "source": [
    "using BenchmarkTools"
   ]
  },
  {
   "cell_type": "code",
   "execution_count": 432,
   "metadata": {},
   "outputs": [],
   "source": [
    "struct Graph\n",
    "    chains\n",
    "    nodes\n",
    "end\n",
    "\n",
    "function printinfo(x::Graph)\n",
    "    println(length(x.nodes), \" nodes\")\n",
    "    println(length(x.chains), \" chains\")\n",
    "    end;\n",
    "\n",
    "# Search for intersections\n",
    "# i.e. nodes which are in more than 1 chain\n",
    "function search_intersections(graph)\n",
    "    intersections = Dict()\n",
    "    for (ch_idx, ch) in enumerate(graph.chains), n in ch\n",
    "        el = get!(intersections, n, Int64[])\n",
    "        push!(el, ch_idx)\n",
    "        end;\n",
    "\n",
    "    filter!(x -> length(x[2]) > 1, intersections);\n",
    "    return intersections\n",
    "    end;\n",
    "\n",
    "# Search for intersecting chains\n",
    "# i.e. returns index of the crossed chains\n",
    "function search_chain_intersected(graph, chain_id)\n",
    "    chain = graph.chains[chain_id]\n",
    "    intersections = search_intersections(graph)\n",
    "    intersected = Set{Int64}()\n",
    "    for n in chain\n",
    "        union!(intersected, get(intersections, n, []))\n",
    "        end;\n",
    "    setdiff!(intersected, chain_id)\n",
    "    return sort(collect(intersected), by=x->length(graph.chains[x]), rev=true)\n",
    "    end;\n",
    "\n",
    "# Graph the graph\n",
    "function graphplot(graph::Graph)\n",
    "    fig = plot(legend=false, aspect_ratio=:equal)\n",
    "    #scatter!(coords[:, 1], coords[:, 2], linewidth=2)\n",
    "    for chain in graph.chains\n",
    "        chain_xy = map(x -> graph.nodes[x], chain);\n",
    "        x = getindex.(chain_xy, 1)\n",
    "        y = getindex.(chain_xy, 2)\n",
    "        plot!(x, y, linewidth=3)\n",
    "        #println(coords[idx, 1])\n",
    "        end;\n",
    "    fig\n",
    "    end;"
   ]
  },
  {
   "cell_type": "code",
   "execution_count": 446,
   "metadata": {},
   "outputs": [],
   "source": [
    "# Lagrange interpolation\n",
    "function Lagrange_interpolation(knots, new_x)\n",
    "    quotient(j, x, m) = if (j != m); (x - knots[m][1])/(knots[j][1] - knots[m][1]) else 1 end;\n",
    "    el(j, x) = prod(m -> quotient(j, x, m), 1:length(knots))\n",
    "    L(x) = sum(j -> knots[j][2].*el(j, x), 1:length(knots))\n",
    "    return L.(new_x);\n",
    "    end;\n",
    "\n",
    "# test\n",
    "#x = range(1, 6, step=1)\n",
    "#Lagrange_interpolation([(3, [2, 2]), (5, [3, 4])], x)\n",
    "\n",
    "# Place the first chain\n",
    "# Returns a new graph (with one chain)\n",
    "function init_graph(first_chain) \n",
    "\n",
    "    node_distance = 1.0f0\n",
    "    nodes =  Dict(n => [node_distance*(i-1), 0]\n",
    "                    for (i, n) in enumerate(first_chain))\n",
    "    return Graph([first_chain], nodes)\n",
    "    end;\n",
    "\n",
    "# Add a chain to the graph\n",
    "function add_a_chain!(graph, chain)\n",
    "    # Search for knots, i.e. nodes already in the new graph\n",
    "    knots = filter(x -> x in keys(graph.nodes), chain)\n",
    "\n",
    "    println(\"number of knots: \", length(knots))\n",
    "    if length(knots)==0;  error(\"zero intersection\") end;\n",
    "\n",
    "    # convert knots to [(position, Coords), ...]\n",
    "    knots = map(n->(findfirst(isequal(n), chain), graph.nodes[n]),  knots)\n",
    "\n",
    "    # si un seul noeud...\n",
    "    # choisir une direction \"perpendiculaire\"\n",
    "    # cas si une seule chaine rencontrée\n",
    "    # find nodes avant et après de cette chaine rencontrée\n",
    "    if length(knots)==1\n",
    "        idx_along_chain = knots[1][1]\n",
    "        n = chain[idx_along_chain]\n",
    "\n",
    "        other_chain_id = findfirst(ch -> n in ch, graph.chains)\n",
    "        other_chain = graph.chains[other_chain_id]\n",
    "        idx_along_other_chain = findfirst(isequal(n), other_chain)\n",
    "\n",
    "        println(\"intersection with chain #\", other_chain_id,\n",
    "            \" at node #\", idx_along_other_chain)\n",
    "\n",
    "        # Define a normal direction\n",
    "        # take next or previous node (edge cases)\n",
    "        if idx_along_other_chain == 1\n",
    "            before = graph.nodes[other_chain[1]]\n",
    "            next = graph.nodes[other_chain[2]]\n",
    "        else\n",
    "            before = graph.nodes[other_chain[idx_along_other_chain-1]]\n",
    "            next = graph.nodes[other_chain[idx_along_other_chain]]\n",
    "            end;\n",
    "\n",
    "        # normal direction:\n",
    "        u = next .- before\n",
    "        norm = sqrt(u[1]^2 + u[2]^2) *.8*length(chain)\n",
    "        direction = [u[2]/norm; -u[1]/norm]\n",
    "\n",
    "        # ajoute un noeud\n",
    "        # si ce n'est pas le dernier alors le suivant\n",
    "        # sinon le precedent\n",
    "        # TODO: make a random choice, left or right?\n",
    "        coords_n = knots[1][2]\n",
    "        if idx_along_chain < length(chain)\n",
    "            push!(knots, (idx_along_chain+1, coords_n .+ direction))\n",
    "        else\n",
    "            push!(knots, (idx_along_chain-1, coords_n .- direction))\n",
    "            end;\n",
    "        end;\n",
    "\n",
    "    # Interpolation\n",
    "    x = range(1, length(chain), step=1)\n",
    "    coords = Lagrange_interpolation(knots, x)\n",
    "\n",
    "    # update graph\n",
    "    push!(graph.chains, chain)\n",
    "    for (n, xy) in zip(chain, coords)\n",
    "        graph.nodes[n] = xy\n",
    "        end;\n",
    "    end;"
   ]
  },
  {
   "cell_type": "code",
   "execution_count": 447,
   "metadata": {},
   "outputs": [
    {
     "data": {
      "text/plain": [
       "4-element Array{String,1}:\n",
       " \"070506604.json\"\n",
       " \"087475936.json\"\n",
       " \"178303232.json\"\n",
       " \"197626394.json\""
      ]
     },
     "execution_count": 447,
     "metadata": {},
     "output_type": "execute_result"
    }
   ],
   "source": [
    "# Load graph from Json\n",
    "files = filter(x -> endswith(x, \".json\"), readdir(\"json/\"))"
   ]
  },
  {
   "cell_type": "code",
   "execution_count": 448,
   "metadata": {},
   "outputs": [
    {
     "name": "stdout",
     "output_type": "stream",
     "text": [
      "33\n"
     ]
    }
   ],
   "source": [
    "path = string(\"./json/\", files[1])\n",
    "data = read(path, String)\n",
    "d = []\n",
    "chains = JSON.parse( data, dicttype=Array{Array{String}});\n",
    "sort!(chains, by=x->length(x), rev=true)\n",
    "println(length(chains[1]))"
   ]
  },
  {
   "cell_type": "code",
   "execution_count": 449,
   "metadata": {},
   "outputs": [
    {
     "name": "stdout",
     "output_type": "stream",
     "text": [
      "233 nodes\n",
      "28 chains\n"
     ]
    }
   ],
   "source": [
    "# Define the (entire) graph\n",
    "nodes_list = unique(n for ch in chains for n in ch)\n",
    "nodes = Dict( n=>k for (k, n) in enumerate(nodes_list) )\n",
    "\n",
    "fullgraph = Graph(chains, nodes);\n",
    "printinfo(fullgraph)"
   ]
  },
  {
   "cell_type": "code",
   "execution_count": 450,
   "metadata": {},
   "outputs": [
    {
     "name": "stdout",
     "output_type": "stream",
     "text": [
      "52 intersections\n"
     ]
    }
   ],
   "source": [
    "intersections = search_intersections(fullgraph)\n",
    "println(length(intersections), \" intersections\")"
   ]
  },
  {
   "cell_type": "code",
   "execution_count": 460,
   "metadata": {},
   "outputs": [
    {
     "name": "stdout",
     "output_type": "stream",
     "text": [
      "next: [10, 14, 13, 12, 20, 21, 24]\n"
     ]
    }
   ],
   "source": [
    "# Start building the new graph\n",
    "graph = init_graph(fullgraph.chains[1]);\n",
    "added_chain = [1, ]\n",
    "chains_to_add = search_chain_intersected(fullgraph, 1);\n",
    "println(\"next: \", chains_to_add)"
   ]
  },
  {
   "cell_type": "code",
   "execution_count": 464,
   "metadata": {},
   "outputs": [
    {
     "name": "stdout",
     "output_type": "stream",
     "text": [
      "add chain #19 of length 6\n",
      "number of knots: 1\n",
      "intersection with chain #4 at node #3\n",
      "added chain [1, 24, 2, 22, 19]\n",
      "chains_to_add  [10, 14, 13, 12, 20, 21, 7, 8, 15, 8, 15, 15, 16]\n"
     ]
    }
   ],
   "source": [
    "next_chain_id = pop!(chains_to_add)\n",
    "next_chain = fullgraph.chains[next_chain_id]\n",
    "println(\"add chain #\", next_chain_id, \" of length \", length(next_chain))\n",
    "add_a_chain!(graph, next_chain)\n",
    "\n",
    "# update records\n",
    "push!(added_chain, next_chain_id)\n",
    "println(\"added chain \", added_chain)\n",
    "\n",
    "new_chains_to_add = search_chain_intersected(fullgraph, next_chain_id);\n",
    "\n",
    "append!(chains_to_add, filter(x -> ~(x in added_chain), new_chains_to_add))\n",
    "println(\"chains_to_add  \", chains_to_add)\n",
    "# loop"
   ]
  },
  {
   "cell_type": "code",
   "execution_count": 465,
   "metadata": {},
   "outputs": [
    {
     "data": {
      "image/svg+xml": [
       "<?xml version=\"1.0\" encoding=\"utf-8\"?>\n",
       "<svg xmlns=\"http://www.w3.org/2000/svg\" xmlns:xlink=\"http://www.w3.org/1999/xlink\" width=\"600\" height=\"400\" viewBox=\"0 0 2400 1600\">\n",
       "<defs>\n",
       "  <clipPath id=\"clip8100\">\n",
       "    <rect x=\"0\" y=\"0\" width=\"2400\" height=\"1600\"/>\n",
       "  </clipPath>\n",
       "</defs>\n",
       "<path clip-path=\"url(#clip8100)\" d=\"\n",
       "M0 1600 L2400 1600 L2400 0 L0 0  Z\n",
       "  \" fill=\"#ffffff\" fill-rule=\"evenodd\" fill-opacity=\"1\"/>\n",
       "<defs>\n",
       "  <clipPath id=\"clip8101\">\n",
       "    <rect x=\"480\" y=\"0\" width=\"1681\" height=\"1600\"/>\n",
       "  </clipPath>\n",
       "</defs>\n",
       "<path clip-path=\"url(#clip8100)\" d=\"\n",
       "M208.77 1487.47 L2352.76 1487.47 L2352.76 47.2441 L208.77 47.2441  Z\n",
       "  \" fill=\"#ffffff\" fill-rule=\"evenodd\" fill-opacity=\"1\"/>\n",
       "<defs>\n",
       "  <clipPath id=\"clip8102\">\n",
       "    <rect x=\"208\" y=\"47\" width=\"2145\" height=\"1441\"/>\n",
       "  </clipPath>\n",
       "</defs>\n",
       "<polyline clip-path=\"url(#clip8102)\" style=\"stroke:#000000; stroke-width:2; stroke-opacity:0.1; fill:none\" points=\"\n",
       "  269.449,1487.47 269.449,47.2441 \n",
       "  \"/>\n",
       "<polyline clip-path=\"url(#clip8102)\" style=\"stroke:#000000; stroke-width:2; stroke-opacity:0.1; fill:none\" points=\"\n",
       "  901.52,1487.47 901.52,47.2441 \n",
       "  \"/>\n",
       "<polyline clip-path=\"url(#clip8102)\" style=\"stroke:#000000; stroke-width:2; stroke-opacity:0.1; fill:none\" points=\"\n",
       "  1533.59,1487.47 1533.59,47.2441 \n",
       "  \"/>\n",
       "<polyline clip-path=\"url(#clip8102)\" style=\"stroke:#000000; stroke-width:2; stroke-opacity:0.1; fill:none\" points=\"\n",
       "  2165.66,1487.47 2165.66,47.2441 \n",
       "  \"/>\n",
       "<polyline clip-path=\"url(#clip8102)\" style=\"stroke:#000000; stroke-width:2; stroke-opacity:0.1; fill:none\" points=\"\n",
       "  208.77,1363.22 2352.76,1363.22 \n",
       "  \"/>\n",
       "<polyline clip-path=\"url(#clip8102)\" style=\"stroke:#000000; stroke-width:2; stroke-opacity:0.1; fill:none\" points=\"\n",
       "  208.77,1047.18 2352.76,1047.18 \n",
       "  \"/>\n",
       "<polyline clip-path=\"url(#clip8102)\" style=\"stroke:#000000; stroke-width:2; stroke-opacity:0.1; fill:none\" points=\"\n",
       "  208.77,731.147 2352.76,731.147 \n",
       "  \"/>\n",
       "<polyline clip-path=\"url(#clip8102)\" style=\"stroke:#000000; stroke-width:2; stroke-opacity:0.1; fill:none\" points=\"\n",
       "  208.77,415.111 2352.76,415.111 \n",
       "  \"/>\n",
       "<polyline clip-path=\"url(#clip8102)\" style=\"stroke:#000000; stroke-width:2; stroke-opacity:0.1; fill:none\" points=\"\n",
       "  208.77,99.0758 2352.76,99.0758 \n",
       "  \"/>\n",
       "<polyline clip-path=\"url(#clip8100)\" style=\"stroke:#000000; stroke-width:4; stroke-opacity:1; fill:none\" points=\"\n",
       "  208.77,1487.47 2352.76,1487.47 \n",
       "  \"/>\n",
       "<polyline clip-path=\"url(#clip8100)\" style=\"stroke:#000000; stroke-width:4; stroke-opacity:1; fill:none\" points=\"\n",
       "  208.77,1487.47 208.77,47.2441 \n",
       "  \"/>\n",
       "<polyline clip-path=\"url(#clip8100)\" style=\"stroke:#000000; stroke-width:4; stroke-opacity:1; fill:none\" points=\"\n",
       "  269.449,1487.47 269.449,1465.87 \n",
       "  \"/>\n",
       "<polyline clip-path=\"url(#clip8100)\" style=\"stroke:#000000; stroke-width:4; stroke-opacity:1; fill:none\" points=\"\n",
       "  901.52,1487.47 901.52,1465.87 \n",
       "  \"/>\n",
       "<polyline clip-path=\"url(#clip8100)\" style=\"stroke:#000000; stroke-width:4; stroke-opacity:1; fill:none\" points=\"\n",
       "  1533.59,1487.47 1533.59,1465.87 \n",
       "  \"/>\n",
       "<polyline clip-path=\"url(#clip8100)\" style=\"stroke:#000000; stroke-width:4; stroke-opacity:1; fill:none\" points=\"\n",
       "  2165.66,1487.47 2165.66,1465.87 \n",
       "  \"/>\n",
       "<polyline clip-path=\"url(#clip8100)\" style=\"stroke:#000000; stroke-width:4; stroke-opacity:1; fill:none\" points=\"\n",
       "  208.77,1363.22 240.93,1363.22 \n",
       "  \"/>\n",
       "<polyline clip-path=\"url(#clip8100)\" style=\"stroke:#000000; stroke-width:4; stroke-opacity:1; fill:none\" points=\"\n",
       "  208.77,1047.18 240.93,1047.18 \n",
       "  \"/>\n",
       "<polyline clip-path=\"url(#clip8100)\" style=\"stroke:#000000; stroke-width:4; stroke-opacity:1; fill:none\" points=\"\n",
       "  208.77,731.147 240.93,731.147 \n",
       "  \"/>\n",
       "<polyline clip-path=\"url(#clip8100)\" style=\"stroke:#000000; stroke-width:4; stroke-opacity:1; fill:none\" points=\"\n",
       "  208.77,415.111 240.93,415.111 \n",
       "  \"/>\n",
       "<polyline clip-path=\"url(#clip8100)\" style=\"stroke:#000000; stroke-width:4; stroke-opacity:1; fill:none\" points=\"\n",
       "  208.77,99.0758 240.93,99.0758 \n",
       "  \"/>\n",
       "<g clip-path=\"url(#clip8100)\">\n",
       "<text style=\"fill:#000000; fill-opacity:1; font-family:Arial,Helvetica Neue,Helvetica,sans-serif; font-size:48px; text-anchor:middle;\" transform=\"rotate(0, 269.449, 1541.47)\" x=\"269.449\" y=\"1541.47\">0</text>\n",
       "</g>\n",
       "<g clip-path=\"url(#clip8100)\">\n",
       "<text style=\"fill:#000000; fill-opacity:1; font-family:Arial,Helvetica Neue,Helvetica,sans-serif; font-size:48px; text-anchor:middle;\" transform=\"rotate(0, 901.52, 1541.47)\" x=\"901.52\" y=\"1541.47\">10</text>\n",
       "</g>\n",
       "<g clip-path=\"url(#clip8100)\">\n",
       "<text style=\"fill:#000000; fill-opacity:1; font-family:Arial,Helvetica Neue,Helvetica,sans-serif; font-size:48px; text-anchor:middle;\" transform=\"rotate(0, 1533.59, 1541.47)\" x=\"1533.59\" y=\"1541.47\">20</text>\n",
       "</g>\n",
       "<g clip-path=\"url(#clip8100)\">\n",
       "<text style=\"fill:#000000; fill-opacity:1; font-family:Arial,Helvetica Neue,Helvetica,sans-serif; font-size:48px; text-anchor:middle;\" transform=\"rotate(0, 2165.66, 1541.47)\" x=\"2165.66\" y=\"1541.47\">30</text>\n",
       "</g>\n",
       "<g clip-path=\"url(#clip8100)\">\n",
       "<text style=\"fill:#000000; fill-opacity:1; font-family:Arial,Helvetica Neue,Helvetica,sans-serif; font-size:48px; text-anchor:end;\" transform=\"rotate(0, 184.77, 1380.72)\" x=\"184.77\" y=\"1380.72\">-10</text>\n",
       "</g>\n",
       "<g clip-path=\"url(#clip8100)\">\n",
       "<text style=\"fill:#000000; fill-opacity:1; font-family:Arial,Helvetica Neue,Helvetica,sans-serif; font-size:48px; text-anchor:end;\" transform=\"rotate(0, 184.77, 1064.68)\" x=\"184.77\" y=\"1064.68\">-5</text>\n",
       "</g>\n",
       "<g clip-path=\"url(#clip8100)\">\n",
       "<text style=\"fill:#000000; fill-opacity:1; font-family:Arial,Helvetica Neue,Helvetica,sans-serif; font-size:48px; text-anchor:end;\" transform=\"rotate(0, 184.77, 748.647)\" x=\"184.77\" y=\"748.647\">0</text>\n",
       "</g>\n",
       "<g clip-path=\"url(#clip8100)\">\n",
       "<text style=\"fill:#000000; fill-opacity:1; font-family:Arial,Helvetica Neue,Helvetica,sans-serif; font-size:48px; text-anchor:end;\" transform=\"rotate(0, 184.77, 432.611)\" x=\"184.77\" y=\"432.611\">5</text>\n",
       "</g>\n",
       "<g clip-path=\"url(#clip8100)\">\n",
       "<text style=\"fill:#000000; fill-opacity:1; font-family:Arial,Helvetica Neue,Helvetica,sans-serif; font-size:48px; text-anchor:end;\" transform=\"rotate(0, 184.77, 116.576)\" x=\"184.77\" y=\"116.576\">10</text>\n",
       "</g>\n",
       "<polyline clip-path=\"url(#clip8102)\" style=\"stroke:#009af9; stroke-width:12; stroke-opacity:1; fill:none\" points=\"\n",
       "  269.449,731.147 332.656,731.147 395.863,731.147 459.071,731.147 522.278,731.147 585.485,731.147 648.692,731.147 711.899,731.147 775.106,731.147 838.313,731.147 \n",
       "  901.52,731.147 964.728,731.147 1027.93,731.147 1091.14,731.147 1154.35,731.147 1217.56,731.147 1280.76,731.147 1343.97,731.147 1407.18,731.147 1470.38,731.147 \n",
       "  1533.59,731.147 1596.8,731.147 1660.01,731.147 1723.21,731.147 1786.42,731.147 1849.63,731.147 1912.83,731.147 1976.04,731.147 2039.25,731.147 2102.46,731.147 \n",
       "  2165.66,731.147 2228.87,731.147 2292.08,731.147 \n",
       "  \"/>\n",
       "<polyline clip-path=\"url(#clip8102)\" style=\"stroke:#e26f46; stroke-width:12; stroke-opacity:1; fill:none\" points=\"\n",
       "  901.52,731.147 901.52,757.483 901.52,783.82 \n",
       "  \"/>\n",
       "<polyline clip-path=\"url(#clip8102)\" style=\"stroke:#3da44d; stroke-width:12; stroke-opacity:1; fill:none\" points=\"\n",
       "  926.211,783.82 923.742,783.82 921.273,783.82 918.804,783.82 916.335,783.82 913.866,783.82 911.397,783.82 908.928,783.82 906.458,783.82 903.989,783.82 \n",
       "  901.52,783.82 899.051,783.82 896.582,783.82 894.113,783.82 891.644,783.82 889.175,783.82 886.706,783.82 884.237,783.82 881.768,783.82 879.299,783.82 \n",
       "  876.83,783.82 874.361,783.82 871.892,783.82 869.423,783.82 866.954,783.82 864.485,783.82 862.016,783.82 859.547,783.82 857.078,783.82 854.609,783.82 \n",
       "  852.14,783.82 849.671,783.82 \n",
       "  \"/>\n",
       "<polyline clip-path=\"url(#clip8102)\" style=\"stroke:#c271d2; stroke-width:12; stroke-opacity:1; fill:none\" points=\"\n",
       "  854.609,803.572 854.609,783.82 854.609,764.067 854.609,744.315 \n",
       "  \"/>\n",
       "<polyline clip-path=\"url(#clip8102)\" style=\"stroke:#ac8d18; stroke-width:12; stroke-opacity:1; fill:none\" points=\"\n",
       "  788.768,764.067 801.936,764.067 815.105,764.067 828.273,764.067 841.441,764.067 854.609,764.067 \n",
       "  \"/>\n",
       "</svg>\n"
      ]
     },
     "execution_count": 465,
     "metadata": {},
     "output_type": "execute_result"
    }
   ],
   "source": [
    "graphplot(graph)"
   ]
  },
  {
   "cell_type": "code",
   "execution_count": 32,
   "metadata": {},
   "outputs": [
    {
     "name": "stderr",
     "output_type": "stream",
     "text": [
      "┌ Info: Recompiling stale cache file /home/etienne/.julia/compiled/v1.2/Plots/ld3vC.ji for Plots [91a5bcdd-55d7-5caf-9e0b-520d859cae80]\n",
      "└ @ Base loading.jl:1240\n",
      "WARNING: using Plots.coords in module Main conflicts with an existing identifier.\n"
     ]
    }
   ],
   "source": [
    "using(Plots)"
   ]
  },
  {
   "cell_type": "code",
   "execution_count": null,
   "metadata": {},
   "outputs": [],
   "source": []
  }
 ],
 "metadata": {
  "kernelspec": {
   "display_name": "Julia 1.2.0",
   "language": "julia",
   "name": "julia-1.2"
  },
  "language_info": {
   "file_extension": ".jl",
   "mimetype": "application/julia",
   "name": "julia",
   "version": "1.2.0"
  }
 },
 "nbformat": 4,
 "nbformat_minor": 2
}
