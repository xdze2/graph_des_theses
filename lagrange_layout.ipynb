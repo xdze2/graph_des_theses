{
 "cells": [
  {
   "cell_type": "code",
   "execution_count": null,
   "metadata": {},
   "outputs": [],
   "source": [
    "import Pkg; Pkg.add(\"JSON\")"
   ]
  },
  {
   "cell_type": "code",
   "execution_count": null,
   "metadata": {},
   "outputs": [],
   "source": [
    "Pkg.add(\"Plots\")"
   ]
  },
  {
   "cell_type": "code",
   "execution_count": 8,
   "metadata": {},
   "outputs": [],
   "source": [
    "using JSON\n",
    "using(Plots)"
   ]
  },
  {
   "cell_type": "code",
   "execution_count": 9,
   "metadata": {},
   "outputs": [],
   "source": [
    "using BenchmarkTools"
   ]
  },
  {
   "cell_type": "code",
   "execution_count": 10,
   "metadata": {},
   "outputs": [],
   "source": [
    "#include(\"./graph_force.jl\")"
   ]
  },
  {
   "cell_type": "code",
   "execution_count": 11,
   "metadata": {},
   "outputs": [],
   "source": [
    "struct Graph\n",
    "    chains\n",
    "    nodes\n",
    "    coords\n",
    "end\n",
    "\n",
    "function printinfo(x::Graph)\n",
    "    println(length(x.nodes), \" nodes\")\n",
    "    println(length(x.chains), \" chains\")\n",
    "    end;\n",
    "\n",
    "# Search for intersections\n",
    "# i.e. nodes which are in more than 1 chain\n",
    "function search_intersections(graph)\n",
    "    intersections = Dict()\n",
    "    for (ch_idx, ch) in enumerate(graph.chains), n in ch\n",
    "        el = get!(intersections, n, Int64[])\n",
    "        push!(el, ch_idx)\n",
    "        end;\n",
    "\n",
    "    filter!(x -> length(x[2]) > 1, intersections);\n",
    "    return intersections\n",
    "    end;\n",
    "\n",
    "# Search for intersecting chains\n",
    "# i.e. returns index of the crossed chains\n",
    "function search_chain_intersected(graph, chain_id)\n",
    "    chain = graph.chains[chain_id]\n",
    "    intersections = search_intersections(graph)\n",
    "    intersected = Set{Int64}()\n",
    "    for n in chain\n",
    "        union!(intersected, get(intersections, n, []))\n",
    "        end;\n",
    "    setdiff!(intersected, chain_id)\n",
    "    return collect(intersected)\n",
    "    end;\n"
   ]
  },
  {
   "cell_type": "code",
   "execution_count": 12,
   "metadata": {},
   "outputs": [],
   "source": [
    "function get_coords(graph, n)\n",
    "    return graph.coords[[1, 2], graph.nodes[n]]\n",
    "    end;"
   ]
  },
  {
   "cell_type": "code",
   "execution_count": 77,
   "metadata": {},
   "outputs": [],
   "source": [
    "# Lagrange interpolation\n",
    "function Lagrange_interpolation(knots, new_x)\n",
    "    quotient(j, x, m) = if (j != m); (x - knots[m][1])/(knots[j][1] - knots[m][1]) else 1 end;\n",
    "    el(j, x) = prod(m -> quotient(j, x, m), 1:length(knots))\n",
    "    L(x) = sum(j -> knots[j][2].*el(j, x), 1:length(knots))\n",
    "    return L.(new_x);\n",
    "    end;\n",
    "\n",
    "# test\n",
    "#x = range(1, 6, step=1)\n",
    "#Lagrange_interpolation([(3, [2, 2]), (5, [3, 4])], x)\n",
    "\n",
    "# Place the first chain\n",
    "# Returns a new graph (with one chain)\n",
    "function init_graph(first_chain) \n",
    "\n",
    "    node_distance = 1.0\n",
    "    nodes =  Dict(n => i\n",
    "                    for (i, n) in enumerate(first_chain))\n",
    "    coords = hcat([[node_distance*(i-1); 0] for i in 1:length(nodes)]...)\n",
    "    return Graph([first_chain], nodes, coords)\n",
    "    end;\n",
    "\n",
    "# Add a chain to the graph\n",
    "function add_a_chain!(graph, chain)\n",
    "    # Search for knots, i.e. nodes already in the new graph\n",
    "    knots = filter(x -> x in keys(graph.nodes), chain)\n",
    "\n",
    "    println(\"number of knots: \", length(knots))\n",
    "    if length(knots)==0;  error(\"zero intersection\") end;\n",
    "\n",
    "    # convert knots to [(position, Coords), ...]\n",
    "    knots = map(n->(findfirst(isequal(n), chain), get_coords(graph, n)),  knots)\n",
    "\n",
    "    # si un seul noeud...\n",
    "    # choisir une direction \"perpendiculaire\"\n",
    "    # cas si une seule chaine rencontrée\n",
    "    # find nodes avant et après de cette chaine rencontrée\n",
    "    if length(knots)==1\n",
    "        idx_along_chain = knots[1][1]\n",
    "        n = chain[idx_along_chain]\n",
    "\n",
    "        other_chain_id = findfirst(ch -> n in ch, graph.chains)\n",
    "        other_chain = graph.chains[other_chain_id]\n",
    "        idx_along_other_chain = findfirst(isequal(n), other_chain)\n",
    "\n",
    "        println(\"intersection with chain #\", other_chain_id,\n",
    "            \" at node #\", idx_along_other_chain)\n",
    "\n",
    "        # Define a normal direction\n",
    "        # take next or previous node (edge cases)\n",
    "        if idx_along_other_chain == 1\n",
    "            before = get_coords(graph, other_chain[1])\n",
    "            next = get_coords(graph, other_chain[2])\n",
    "        else\n",
    "            before = get_coords(graph, other_chain[idx_along_other_chain-1])\n",
    "            next = get_coords(graph, other_chain[idx_along_other_chain])\n",
    "            end;\n",
    "\n",
    "        # normal direction:\n",
    "        u = next .- before\n",
    "        norm = sqrt(u[1]^2 + u[2]^2) *.87242*length(chain)  # hack to prevent overlaping\n",
    "        direction = [u[2]/norm; -u[1]/norm]\n",
    "\n",
    "        # ajoute un noeud\n",
    "        # si ce n'est pas le dernier alors le suivant\n",
    "        # sinon le precedent\n",
    "        # TODO: make a random choice, left or right?\n",
    "        coords_n = knots[1][2]\n",
    "        if idx_along_chain < length(chain)\n",
    "            push!(knots, (idx_along_chain+1, coords_n .+ direction))\n",
    "        else\n",
    "            push!(knots, (idx_along_chain-1, coords_n .- direction))\n",
    "            end;\n",
    "        end;\n",
    "\n",
    "    # Interpolation\n",
    "    x = range(1, length(chain), step=1)\n",
    "    coords = Lagrange_interpolation(knots, x)\n",
    "    \n",
    "    # update graph ... no\n",
    "    push!(graph.chains, chain)\n",
    "    for (i, (n, xy)) in enumerate(zip(chain, coords))\n",
    "        println(xy)\n",
    "        #push!(graph.coords, xy)\n",
    "        graph.nodes[n] = length(graph.coords)\n",
    "        end;\n",
    "    end;"
   ]
  },
  {
   "cell_type": "code",
   "execution_count": 78,
   "metadata": {},
   "outputs": [],
   "source": [
    "# Graph the graph\n",
    "function graphplot(graph::Graph)\n",
    "    fig = plot(legend=false, aspect_ratio=:equal)\n",
    "    #scatter!(coords[:, 1], coords[:, 2], linewidth=2)\n",
    "    for chain in graph.chains\n",
    "        chain_xy = map(x -> graph.coords[[1, 2], graph.nodes[x]], chain);\n",
    "        x = getindex.(chain_xy, 1)\n",
    "        y = getindex.(chain_xy, 2)\n",
    "        plot!(x, y, linewidth=3)\n",
    "        #println(coords[idx, 1])\n",
    "        end;\n",
    "    fig\n",
    "    end;"
   ]
  },
  {
   "cell_type": "code",
   "execution_count": 79,
   "metadata": {},
   "outputs": [
    {
     "data": {
      "text/plain": [
       "1-element Array{String,1}:\n",
       " \"197626394_228.json\""
      ]
     },
     "execution_count": 79,
     "metadata": {},
     "output_type": "execute_result"
    }
   ],
   "source": [
    "# Load graph from Json\n",
    "files = filter(x -> endswith(x, \".json\"), readdir(\"json/\"))"
   ]
  },
  {
   "cell_type": "code",
   "execution_count": 80,
   "metadata": {},
   "outputs": [
    {
     "name": "stdout",
     "output_type": "stream",
     "text": [
      "33\n"
     ]
    }
   ],
   "source": [
    "path = string(\"./json/\", files[1])\n",
    "data = read(path, String)\n",
    "d = []\n",
    "chains = JSON.parse( data, dicttype=Array{Array{String}});\n",
    "sort!(chains, by=x->length(x), rev=true)\n",
    "println(length(chains[1]))"
   ]
  },
  {
   "cell_type": "code",
   "execution_count": 81,
   "metadata": {},
   "outputs": [
    {
     "name": "stdout",
     "output_type": "stream",
     "text": [
      "255 nodes\n",
      "38 chains\n"
     ]
    }
   ],
   "source": [
    "# Define the (entire) graph\n",
    "nodes_list = unique(n for ch in chains for n in ch)\n",
    "nodes = Dict( n=>k for (k, n) in enumerate(nodes_list) )\n",
    "\n",
    "fullgraph = Graph(chains, nodes, nothing);\n",
    "printinfo(fullgraph)"
   ]
  },
  {
   "cell_type": "code",
   "execution_count": 82,
   "metadata": {},
   "outputs": [
    {
     "name": "stdout",
     "output_type": "stream",
     "text": [
      "49 intersections\n"
     ]
    }
   ],
   "source": [
    "intersections = search_intersections(fullgraph)\n",
    "println(length(intersections), \" intersections\")"
   ]
  },
  {
   "cell_type": "code",
   "execution_count": 83,
   "metadata": {},
   "outputs": [
    {
     "name": "stdout",
     "output_type": "stream",
     "text": [
      "next: [25, 35]\n"
     ]
    }
   ],
   "source": [
    "# Start building the new graph\n",
    "graph = init_graph(fullgraph.chains[1]);\n",
    "added_chain = [1, ]\n",
    "chains_to_add = search_chain_intersected(fullgraph, 1);\n",
    "println(\"next: \", chains_to_add)"
   ]
  },
  {
   "cell_type": "code",
   "execution_count": 84,
   "metadata": {},
   "outputs": [
    {
     "data": {
      "image/svg+xml": [
       "<?xml version=\"1.0\" encoding=\"utf-8\"?>\n",
       "<svg xmlns=\"http://www.w3.org/2000/svg\" xmlns:xlink=\"http://www.w3.org/1999/xlink\" width=\"600\" height=\"400\" viewBox=\"0 0 2400 1600\">\n",
       "<defs>\n",
       "  <clipPath id=\"clip3000\">\n",
       "    <rect x=\"0\" y=\"0\" width=\"2400\" height=\"1600\"/>\n",
       "  </clipPath>\n",
       "</defs>\n",
       "<path clip-path=\"url(#clip3000)\" d=\"\n",
       "M0 1600 L2400 1600 L2400 0 L0 0  Z\n",
       "  \" fill=\"#ffffff\" fill-rule=\"evenodd\" fill-opacity=\"1\"/>\n",
       "<defs>\n",
       "  <clipPath id=\"clip3001\">\n",
       "    <rect x=\"480\" y=\"0\" width=\"1681\" height=\"1600\"/>\n",
       "  </clipPath>\n",
       "</defs>\n",
       "<path clip-path=\"url(#clip3000)\" d=\"\n",
       "M180.66 1487.47 L2352.76 1487.47 L2352.76 47.2441 L180.66 47.2441  Z\n",
       "  \" fill=\"#ffffff\" fill-rule=\"evenodd\" fill-opacity=\"1\"/>\n",
       "<defs>\n",
       "  <clipPath id=\"clip3002\">\n",
       "    <rect x=\"180\" y=\"47\" width=\"2173\" height=\"1441\"/>\n",
       "  </clipPath>\n",
       "</defs>\n",
       "<polyline clip-path=\"url(#clip3002)\" style=\"stroke:#000000; stroke-width:2; stroke-opacity:0.1; fill:none\" points=\"\n",
       "  242.135,1487.47 242.135,47.2441 \n",
       "  \"/>\n",
       "<polyline clip-path=\"url(#clip3002)\" style=\"stroke:#000000; stroke-width:2; stroke-opacity:0.1; fill:none\" points=\"\n",
       "  882.493,1487.47 882.493,47.2441 \n",
       "  \"/>\n",
       "<polyline clip-path=\"url(#clip3002)\" style=\"stroke:#000000; stroke-width:2; stroke-opacity:0.1; fill:none\" points=\"\n",
       "  1522.85,1487.47 1522.85,47.2441 \n",
       "  \"/>\n",
       "<polyline clip-path=\"url(#clip3002)\" style=\"stroke:#000000; stroke-width:2; stroke-opacity:0.1; fill:none\" points=\"\n",
       "  2163.21,1487.47 2163.21,47.2441 \n",
       "  \"/>\n",
       "<polyline clip-path=\"url(#clip3002)\" style=\"stroke:#000000; stroke-width:2; stroke-opacity:0.1; fill:none\" points=\"\n",
       "  180.66,1439.74 2352.76,1439.74 \n",
       "  \"/>\n",
       "<polyline clip-path=\"url(#clip3002)\" style=\"stroke:#000000; stroke-width:2; stroke-opacity:0.1; fill:none\" points=\"\n",
       "  180.66,1119.56 2352.76,1119.56 \n",
       "  \"/>\n",
       "<polyline clip-path=\"url(#clip3002)\" style=\"stroke:#000000; stroke-width:2; stroke-opacity:0.1; fill:none\" points=\"\n",
       "  180.66,799.377 2352.76,799.377 \n",
       "  \"/>\n",
       "<polyline clip-path=\"url(#clip3002)\" style=\"stroke:#000000; stroke-width:2; stroke-opacity:0.1; fill:none\" points=\"\n",
       "  180.66,479.198 2352.76,479.198 \n",
       "  \"/>\n",
       "<polyline clip-path=\"url(#clip3002)\" style=\"stroke:#000000; stroke-width:2; stroke-opacity:0.1; fill:none\" points=\"\n",
       "  180.66,159.019 2352.76,159.019 \n",
       "  \"/>\n",
       "<polyline clip-path=\"url(#clip3000)\" style=\"stroke:#000000; stroke-width:4; stroke-opacity:1; fill:none\" points=\"\n",
       "  180.66,1487.47 2352.76,1487.47 \n",
       "  \"/>\n",
       "<polyline clip-path=\"url(#clip3000)\" style=\"stroke:#000000; stroke-width:4; stroke-opacity:1; fill:none\" points=\"\n",
       "  180.66,1487.47 180.66,47.2441 \n",
       "  \"/>\n",
       "<polyline clip-path=\"url(#clip3000)\" style=\"stroke:#000000; stroke-width:4; stroke-opacity:1; fill:none\" points=\"\n",
       "  242.135,1487.47 242.135,1470.19 \n",
       "  \"/>\n",
       "<polyline clip-path=\"url(#clip3000)\" style=\"stroke:#000000; stroke-width:4; stroke-opacity:1; fill:none\" points=\"\n",
       "  882.493,1487.47 882.493,1470.19 \n",
       "  \"/>\n",
       "<polyline clip-path=\"url(#clip3000)\" style=\"stroke:#000000; stroke-width:4; stroke-opacity:1; fill:none\" points=\"\n",
       "  1522.85,1487.47 1522.85,1470.19 \n",
       "  \"/>\n",
       "<polyline clip-path=\"url(#clip3000)\" style=\"stroke:#000000; stroke-width:4; stroke-opacity:1; fill:none\" points=\"\n",
       "  2163.21,1487.47 2163.21,1470.19 \n",
       "  \"/>\n",
       "<polyline clip-path=\"url(#clip3000)\" style=\"stroke:#000000; stroke-width:4; stroke-opacity:1; fill:none\" points=\"\n",
       "  180.66,1439.74 206.725,1439.74 \n",
       "  \"/>\n",
       "<polyline clip-path=\"url(#clip3000)\" style=\"stroke:#000000; stroke-width:4; stroke-opacity:1; fill:none\" points=\"\n",
       "  180.66,1119.56 206.725,1119.56 \n",
       "  \"/>\n",
       "<polyline clip-path=\"url(#clip3000)\" style=\"stroke:#000000; stroke-width:4; stroke-opacity:1; fill:none\" points=\"\n",
       "  180.66,799.377 206.725,799.377 \n",
       "  \"/>\n",
       "<polyline clip-path=\"url(#clip3000)\" style=\"stroke:#000000; stroke-width:4; stroke-opacity:1; fill:none\" points=\"\n",
       "  180.66,479.198 206.725,479.198 \n",
       "  \"/>\n",
       "<polyline clip-path=\"url(#clip3000)\" style=\"stroke:#000000; stroke-width:4; stroke-opacity:1; fill:none\" points=\"\n",
       "  180.66,159.019 206.725,159.019 \n",
       "  \"/>\n",
       "<g clip-path=\"url(#clip3000)\">\n",
       "<text style=\"fill:#000000; fill-opacity:1; font-family:Arial,Helvetica Neue,Helvetica,sans-serif; font-size:48px; text-anchor:middle;\" transform=\"rotate(0, 242.135, 1541.47)\" x=\"242.135\" y=\"1541.47\">0</text>\n",
       "</g>\n",
       "<g clip-path=\"url(#clip3000)\">\n",
       "<text style=\"fill:#000000; fill-opacity:1; font-family:Arial,Helvetica Neue,Helvetica,sans-serif; font-size:48px; text-anchor:middle;\" transform=\"rotate(0, 882.493, 1541.47)\" x=\"882.493\" y=\"1541.47\">10</text>\n",
       "</g>\n",
       "<g clip-path=\"url(#clip3000)\">\n",
       "<text style=\"fill:#000000; fill-opacity:1; font-family:Arial,Helvetica Neue,Helvetica,sans-serif; font-size:48px; text-anchor:middle;\" transform=\"rotate(0, 1522.85, 1541.47)\" x=\"1522.85\" y=\"1541.47\">20</text>\n",
       "</g>\n",
       "<g clip-path=\"url(#clip3000)\">\n",
       "<text style=\"fill:#000000; fill-opacity:1; font-family:Arial,Helvetica Neue,Helvetica,sans-serif; font-size:48px; text-anchor:middle;\" transform=\"rotate(0, 2163.21, 1541.47)\" x=\"2163.21\" y=\"1541.47\">30</text>\n",
       "</g>\n",
       "<g clip-path=\"url(#clip3000)\">\n",
       "<text style=\"fill:#000000; fill-opacity:1; font-family:Arial,Helvetica Neue,Helvetica,sans-serif; font-size:48px; text-anchor:end;\" transform=\"rotate(0, 156.66, 1457.24)\" x=\"156.66\" y=\"1457.24\">-10</text>\n",
       "</g>\n",
       "<g clip-path=\"url(#clip3000)\">\n",
       "<text style=\"fill:#000000; fill-opacity:1; font-family:Arial,Helvetica Neue,Helvetica,sans-serif; font-size:48px; text-anchor:end;\" transform=\"rotate(0, 156.66, 1137.06)\" x=\"156.66\" y=\"1137.06\">-5</text>\n",
       "</g>\n",
       "<g clip-path=\"url(#clip3000)\">\n",
       "<text style=\"fill:#000000; fill-opacity:1; font-family:Arial,Helvetica Neue,Helvetica,sans-serif; font-size:48px; text-anchor:end;\" transform=\"rotate(0, 156.66, 816.877)\" x=\"156.66\" y=\"816.877\">0</text>\n",
       "</g>\n",
       "<g clip-path=\"url(#clip3000)\">\n",
       "<text style=\"fill:#000000; fill-opacity:1; font-family:Arial,Helvetica Neue,Helvetica,sans-serif; font-size:48px; text-anchor:end;\" transform=\"rotate(0, 156.66, 496.698)\" x=\"156.66\" y=\"496.698\">5</text>\n",
       "</g>\n",
       "<g clip-path=\"url(#clip3000)\">\n",
       "<text style=\"fill:#000000; fill-opacity:1; font-family:Arial,Helvetica Neue,Helvetica,sans-serif; font-size:48px; text-anchor:end;\" transform=\"rotate(0, 156.66, 176.519)\" x=\"156.66\" y=\"176.519\">10</text>\n",
       "</g>\n",
       "<polyline clip-path=\"url(#clip3002)\" style=\"stroke:#009af9; stroke-width:12; stroke-opacity:1; fill:none\" points=\"\n",
       "  242.135,799.377 306.171,799.377 370.206,799.377 434.242,799.377 498.278,799.377 562.314,799.377 626.35,799.377 690.386,799.377 754.421,799.377 818.457,799.377 \n",
       "  882.493,799.377 946.529,799.377 1010.56,799.377 1074.6,799.377 1138.64,799.377 1202.67,799.377 1266.71,799.377 1330.74,799.377 1394.78,799.377 1458.82,799.377 \n",
       "  1522.85,799.377 1586.89,799.377 1650.92,799.377 1714.96,799.377 1778.99,799.377 1843.03,799.377 1907.07,799.377 1971.1,799.377 2035.14,799.377 2099.17,799.377 \n",
       "  2163.21,799.377 2227.25,799.377 2291.28,799.377 \n",
       "  \"/>\n",
       "</svg>\n"
      ]
     },
     "execution_count": 84,
     "metadata": {},
     "output_type": "execute_result"
    }
   ],
   "source": [
    "graphplot(graph)"
   ]
  },
  {
   "cell_type": "code",
   "execution_count": 85,
   "metadata": {},
   "outputs": [],
   "source": [
    "function loop!(graph)\n",
    "    \n",
    "    next_chain_id = pop!(chains_to_add)\n",
    "    next_chain = fullgraph.chains[next_chain_id]\n",
    "    println(\"add chain #\", next_chain_id, \" of length \", length(next_chain))\n",
    "    add_a_chain!(graph, next_chain)\n",
    "\n",
    "    # update records\n",
    "    push!(added_chain, next_chain_id)\n",
    "    println(\"added chain \", added_chain, \" check \", length(graph.chains))\n",
    "\n",
    "    new_chains_to_add = search_chain_intersected(fullgraph, next_chain_id);\n",
    "    println(\"all new chain \", new_chains_to_add)\n",
    "    append!(chains_to_add, filter(x -> ~(x in added_chain)&~(x in chains_to_add), new_chains_to_add))\n",
    "    sort!(chains_to_add, by=x->length(fullgraph.chains[x]), rev=false)\n",
    "    println(\"chains_to_add  \", chains_to_add)\n",
    "    \n",
    "    println(length(graph.nodes), \" nodes/ \", length(fullgraph.nodes))\n",
    "    # Optimize\n",
    "    #graph = run_optimiz(graph);\n",
    "    graphplot(graph)\n",
    "\n",
    "    # loop\n",
    "    end;"
   ]
  },
  {
   "cell_type": "code",
   "execution_count": 90,
   "metadata": {},
   "outputs": [
    {
     "name": "stdout",
     "output_type": "stream",
     "text": [
      "search: \u001b[0m\u001b[1mh\u001b[22m\u001b[0m\u001b[1mc\u001b[22m\u001b[0m\u001b[1ma\u001b[22m\u001b[0m\u001b[1mt\u001b[22m \u001b[0m\u001b[1mh\u001b[22mv\u001b[0m\u001b[1mc\u001b[22m\u001b[0m\u001b[1ma\u001b[22m\u001b[0m\u001b[1mt\u001b[22m Mat\u001b[0m\u001b[1mh\u001b[22m\u001b[0m\u001b[1mC\u001b[22monst\u001b[0m\u001b[1ma\u001b[22mn\u001b[0m\u001b[1mt\u001b[22ms searc\u001b[0m\u001b[1mh\u001b[22m_\u001b[0m\u001b[1mc\u001b[22mh\u001b[0m\u001b[1ma\u001b[22min_in\u001b[0m\u001b[1mt\u001b[22mersected\n",
      "\n",
      "Couldn't find \u001b[36mhcat!\u001b[39m\n",
      "Perhaps you meant hcat, hvcat, cat, vcat, hspan!, hash, path, coth or acoth\n"
     ]
    },
    {
     "data": {
      "text/latex": [
       "No documentation found.\n",
       "\n",
       "Binding \\texttt{hcat!} does not exist.\n",
       "\n"
      ],
      "text/markdown": [
       "No documentation found.\n",
       "\n",
       "Binding `hcat!` does not exist.\n"
      ],
      "text/plain": [
       "  No documentation found.\n",
       "\n",
       "  Binding \u001b[36mhcat!\u001b[39m does not exist."
      ]
     },
     "execution_count": 90,
     "metadata": {},
     "output_type": "execute_result"
    }
   ],
   "source": [
    "?hcat!"
   ]
  },
  {
   "cell_type": "code",
   "execution_count": 88,
   "metadata": {},
   "outputs": [
    {
     "ename": "MethodError",
     "evalue": "MethodError: no method matching push!(::Array{Float64,2}, ::Array{Int64,1})\nClosest candidates are:\n  push!(::Any, ::Any, !Matched::Any) at abstractarray.jl:2159\n  push!(::Any, ::Any, !Matched::Any, !Matched::Any...) at abstractarray.jl:2160\n  push!(!Matched::Array{Any,1}, ::Any) at array.jl:875\n  ...",
     "output_type": "error",
     "traceback": [
      "MethodError: no method matching push!(::Array{Float64,2}, ::Array{Int64,1})\nClosest candidates are:\n  push!(::Any, ::Any, !Matched::Any) at abstractarray.jl:2159\n  push!(::Any, ::Any, !Matched::Any, !Matched::Any...) at abstractarray.jl:2160\n  push!(!Matched::Array{Any,1}, ::Any) at array.jl:875\n  ...",
      "",
      "Stacktrace:",
      " [1] top-level scope at In[88]:1"
     ]
    }
   ],
   "source": [
    "vcat!(graph.coords, [1; 2])"
   ]
  },
  {
   "cell_type": "code",
   "execution_count": 86,
   "metadata": {},
   "outputs": [
    {
     "name": "stdout",
     "output_type": "stream",
     "text": [
      "add chain #35 of length 2\n",
      "number of knots: 1\n",
      "intersection with chain #1 at node #25\n",
      "[24.0, 0.0]\n",
      "[24.0, -0.5731184521216846]\n",
      "added chain [1, 35] check 2\n",
      "all new chain [22, 1]\n",
      "chains_to_add  [25, 22]\n",
      "34 nodes/ 255\n"
     ]
    },
    {
     "ename": "BoundsError",
     "evalue": "BoundsError: attempt to access 2×33 Array{Float64,2} at index [[1, 2], 66]",
     "output_type": "error",
     "traceback": [
      "BoundsError: attempt to access 2×33 Array{Float64,2} at index [[1, 2], 66]",
      "",
      "Stacktrace:",
      " [1] throw_boundserror(::Array{Float64,2}, ::Tuple{Array{Int64,1},Int64}) at ./abstractarray.jl:538",
      " [2] checkbounds at ./abstractarray.jl:503 [inlined]",
      " [3] _getindex at ./multidimensional.jl:669 [inlined]",
      " [4] getindex(::Array{Float64,2}, ::Array{Int64,1}, ::Int64) at ./abstractarray.jl:981",
      " [5] (::var\"#241#242\"{Graph})(::String) at ./In[78]:6",
      " [6] iterate at ./generator.jl:47 [inlined]",
      " [7] collect_to!(::Array{Array{Float64,1},1}, ::Base.Generator{Array{Any,1},var\"#241#242\"{Graph}}, ::Int64, ::Int64) at ./array.jl:667",
      " [8] collect_to_with_first!(::Array{Array{Float64,1},1}, ::Array{Float64,1}, ::Base.Generator{Array{Any,1},var\"#241#242\"{Graph}}, ::Int64) at ./array.jl:646",
      " [9] _collect(::Array{Any,1}, ::Base.Generator{Array{Any,1},var\"#241#242\"{Graph}}, ::Base.EltypeUnknown, ::Base.HasShape{1}) at ./array.jl:640",
      " [10] collect_similar(::Array{Any,1}, ::Base.Generator{Array{Any,1},var\"#241#242\"{Graph}}) at ./array.jl:564",
      " [11] map(::Function, ::Array{Any,1}) at ./abstractarray.jl:2073",
      " [12] graphplot(::Graph) at ./In[78]:6",
      " [13] loop!(::Graph) at ./In[85]:21",
      " [14] top-level scope at In[86]:1"
     ]
    }
   ],
   "source": [
    "loop!(graph)"
   ]
  },
  {
   "cell_type": "code",
   "execution_count": 55,
   "metadata": {},
   "outputs": [
    {
     "data": {
      "text/plain": [
       "33"
      ]
     },
     "execution_count": 55,
     "metadata": {},
     "output_type": "execute_result"
    }
   ],
   "source": [
    "length(graph.nodes)"
   ]
  },
  {
   "cell_type": "code",
   "execution_count": 56,
   "metadata": {},
   "outputs": [
    {
     "data": {
      "text/plain": [
       "2×33 Array{Float64,2}:\n",
       " 0.0  1.0  2.0  3.0  4.0  5.0  6.0  …  27.0  28.0  29.0  30.0  31.0  32.0\n",
       " 0.0  0.0  0.0  0.0  0.0  0.0  0.0      0.0   0.0   0.0   0.0   0.0   0.0"
      ]
     },
     "execution_count": 56,
     "metadata": {},
     "output_type": "execute_result"
    }
   ],
   "source": [
    "graph.coords"
   ]
  },
  {
   "cell_type": "code",
   "execution_count": null,
   "metadata": {},
   "outputs": [],
   "source": [
    "using Profile"
   ]
  },
  {
   "cell_type": "code",
   "execution_count": null,
   "metadata": {},
   "outputs": [],
   "source": []
  }
 ],
 "metadata": {
  "kernelspec": {
   "display_name": "Julia 1.3.0",
   "language": "julia",
   "name": "julia-1.3"
  },
  "language_info": {
   "file_extension": ".jl",
   "mimetype": "application/julia",
   "name": "julia",
   "version": "1.3.0"
  }
 },
 "nbformat": 4,
 "nbformat_minor": 2
}
