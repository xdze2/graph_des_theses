{
 "cells": [
  {
   "cell_type": "code",
   "execution_count": 9,
   "metadata": {},
   "outputs": [
    {
     "name": "stdout",
     "output_type": "stream",
     "text": [
      "\u001b[32m\u001b[1m  Updating\u001b[22m\u001b[39m registry at `~/.julia/registries/General`\n",
      "\u001b[32m\u001b[1m  Updating\u001b[22m\u001b[39m git-repo `https://github.com/JuliaRegistries/General.git`\n",
      "\u001b[2K\u001b[?25h[1mFetching:\u001b[22m\u001b[39m [========================================>]  100.0 %.0 %\u001b[32m\u001b[1m Resolving\u001b[22m\u001b[39m package versions...\n",
      "\u001b[32m\u001b[1m  Updating\u001b[22m\u001b[39m `~/.julia/environments/v1.3/Project.toml`\n",
      " \u001b[90m [682c06a0]\u001b[39m\u001b[92m + JSON v0.21.0\u001b[39m\n",
      "\u001b[32m\u001b[1m  Updating\u001b[22m\u001b[39m `~/.julia/environments/v1.3/Manifest.toml`\n",
      "\u001b[90m [no changes]\u001b[39m\n"
     ]
    }
   ],
   "source": [
    "import Pkg; Pkg.add(\"JSON\")"
   ]
  },
  {
   "cell_type": "code",
   "execution_count": 11,
   "metadata": {},
   "outputs": [
    {
     "name": "stdout",
     "output_type": "stream",
     "text": [
      "\u001b[32m\u001b[1m Resolving\u001b[22m\u001b[39m package versions...\n",
      "\u001b[32m\u001b[1m Installed\u001b[22m\u001b[39m Showoff ─────────── v0.3.1\n",
      "\u001b[32m\u001b[1m Installed\u001b[22m\u001b[39m RecipesBase ─────── v0.7.0\n",
      "\u001b[32m\u001b[1m Installed\u001b[22m\u001b[39m FixedPointNumbers ─ v0.6.1\n",
      "\u001b[32m\u001b[1m Installed\u001b[22m\u001b[39m PlotThemes ──────── v1.0.1\n",
      "\u001b[32m\u001b[1m Installed\u001b[22m\u001b[39m PlotUtils ───────── v0.6.1\n",
      "\u001b[32m\u001b[1m Installed\u001b[22m\u001b[39m ColorTypes ──────── v0.8.1\n",
      "\u001b[32m\u001b[1m Installed\u001b[22m\u001b[39m IterTools ───────── v1.3.0\n",
      "\u001b[32m\u001b[1m Installed\u001b[22m\u001b[39m Plots ───────────── v0.28.4\n",
      "\u001b[32m\u001b[1m Installed\u001b[22m\u001b[39m Measures ────────── v0.3.1\n",
      "\u001b[32m\u001b[1m Installed\u001b[22m\u001b[39m FFMPEG ──────────── v0.2.4\n",
      "\u001b[32m\u001b[1m Installed\u001b[22m\u001b[39m Contour ─────────── v0.5.1\n",
      "\u001b[32m\u001b[1m Installed\u001b[22m\u001b[39m GeometryTypes ───── v0.7.6\n",
      "\u001b[32m\u001b[1m Installed\u001b[22m\u001b[39m Colors ──────────── v0.10.0\n",
      "\u001b[32m\u001b[1m Installed\u001b[22m\u001b[39m GR ──────────────── v0.44.0\n",
      "\u001b[32m\u001b[1m  Updating\u001b[22m\u001b[39m `~/.julia/environments/v1.3/Project.toml`\n",
      " \u001b[90m [91a5bcdd]\u001b[39m\u001b[92m + Plots v0.28.4\u001b[39m\n",
      "\u001b[32m\u001b[1m  Updating\u001b[22m\u001b[39m `~/.julia/environments/v1.3/Manifest.toml`\n",
      " \u001b[90m [3da002f7]\u001b[39m\u001b[92m + ColorTypes v0.8.1\u001b[39m\n",
      " \u001b[90m [5ae59095]\u001b[39m\u001b[92m + Colors v0.10.0\u001b[39m\n",
      " \u001b[90m [d38c429a]\u001b[39m\u001b[92m + Contour v0.5.1\u001b[39m\n",
      " \u001b[90m [c87230d0]\u001b[39m\u001b[92m + FFMPEG v0.2.4\u001b[39m\n",
      " \u001b[90m [53c48c17]\u001b[39m\u001b[92m + FixedPointNumbers v0.6.1\u001b[39m\n",
      " \u001b[90m [28b8d3ca]\u001b[39m\u001b[92m + GR v0.44.0\u001b[39m\n",
      " \u001b[90m [4d00f742]\u001b[39m\u001b[92m + GeometryTypes v0.7.6\u001b[39m\n",
      " \u001b[90m [c8e1da08]\u001b[39m\u001b[92m + IterTools v1.3.0\u001b[39m\n",
      " \u001b[90m [442fdcdd]\u001b[39m\u001b[92m + Measures v0.3.1\u001b[39m\n",
      " \u001b[90m [ccf2f8ad]\u001b[39m\u001b[92m + PlotThemes v1.0.1\u001b[39m\n",
      " \u001b[90m [995b91a9]\u001b[39m\u001b[92m + PlotUtils v0.6.1\u001b[39m\n",
      " \u001b[90m [91a5bcdd]\u001b[39m\u001b[92m + Plots v0.28.4\u001b[39m\n",
      " \u001b[90m [3cdcf5f2]\u001b[39m\u001b[92m + RecipesBase v0.7.0\u001b[39m\n",
      " \u001b[90m [992d4aef]\u001b[39m\u001b[92m + Showoff v0.3.1\u001b[39m\n",
      "\u001b[32m\u001b[1m  Building\u001b[22m\u001b[39m GR ────→ `~/.julia/packages/GR/oiZD3/deps/build.log`\n",
      "\u001b[32m\u001b[1m  Building\u001b[22m\u001b[39m FFMPEG → `~/.julia/packages/FFMPEG/guN1x/deps/build.log`\n",
      "\u001b[32m\u001b[1m  Building\u001b[22m\u001b[39m Plots ─→ `~/.julia/packages/Plots/qZHsp/deps/build.log`\n"
     ]
    }
   ],
   "source": [
    "Pkg.add(\"Plots\")"
   ]
  },
  {
   "cell_type": "code",
   "execution_count": 12,
   "metadata": {},
   "outputs": [
    {
     "name": "stderr",
     "output_type": "stream",
     "text": [
      "┌ Info: Precompiling Plots [91a5bcdd-55d7-5caf-9e0b-520d859cae80]\n",
      "└ @ Base loading.jl:1273\n"
     ]
    }
   ],
   "source": [
    "using JSON\n",
    "using(Plots)"
   ]
  },
  {
   "cell_type": "code",
   "execution_count": 2,
   "metadata": {},
   "outputs": [],
   "source": [
    "using BenchmarkTools"
   ]
  },
  {
   "cell_type": "code",
   "execution_count": 14,
   "metadata": {},
   "outputs": [
    {
     "data": {
      "text/plain": [
       "run_optimiz (generic function with 1 method)"
      ]
     },
     "execution_count": 14,
     "metadata": {},
     "output_type": "execute_result"
    }
   ],
   "source": [
    "include(\"./graph_force.jl\")"
   ]
  },
  {
   "cell_type": "code",
   "execution_count": 15,
   "metadata": {},
   "outputs": [],
   "source": [
    "struct Graph\n",
    "    chains\n",
    "    nodes\n",
    "end\n",
    "\n",
    "function printinfo(x::Graph)\n",
    "    println(length(x.nodes), \" nodes\")\n",
    "    println(length(x.chains), \" chains\")\n",
    "    end;\n",
    "\n",
    "# Search for intersections\n",
    "# i.e. nodes which are in more than 1 chain\n",
    "function search_intersections(graph)\n",
    "    intersections = Dict()\n",
    "    for (ch_idx, ch) in enumerate(graph.chains), n in ch\n",
    "        el = get!(intersections, n, Int64[])\n",
    "        push!(el, ch_idx)\n",
    "        end;\n",
    "\n",
    "    filter!(x -> length(x[2]) > 1, intersections);\n",
    "    return intersections\n",
    "    end;\n",
    "\n",
    "# Search for intersecting chains\n",
    "# i.e. returns index of the crossed chains\n",
    "function search_chain_intersected(graph, chain_id)\n",
    "    chain = graph.chains[chain_id]\n",
    "    intersections = search_intersections(graph)\n",
    "    intersected = Set{Int64}()\n",
    "    for n in chain\n",
    "        union!(intersected, get(intersections, n, []))\n",
    "        end;\n",
    "    setdiff!(intersected, chain_id)\n",
    "    return collect(intersected)\n",
    "    end;\n",
    "\n",
    "# Graph the graph\n",
    "function graphplot(graph::Graph)\n",
    "    fig = plot(legend=false, aspect_ratio=:equal)\n",
    "    #scatter!(coords[:, 1], coords[:, 2], linewidth=2)\n",
    "    for chain in graph.chains\n",
    "        chain_xy = map(x -> graph.nodes[x], chain);\n",
    "        x = getindex.(chain_xy, 1)\n",
    "        y = getindex.(chain_xy, 2)\n",
    "        plot!(x, y, linewidth=3)\n",
    "        #println(coords[idx, 1])\n",
    "        end;\n",
    "    fig\n",
    "    end;"
   ]
  },
  {
   "cell_type": "code",
   "execution_count": 16,
   "metadata": {},
   "outputs": [],
   "source": [
    "# Lagrange interpolation\n",
    "function Lagrange_interpolation(knots, new_x)\n",
    "    quotient(j, x, m) = if (j != m); (x - knots[m][1])/(knots[j][1] - knots[m][1]) else 1 end;\n",
    "    el(j, x) = prod(m -> quotient(j, x, m), 1:length(knots))\n",
    "    L(x) = sum(j -> knots[j][2].*el(j, x), 1:length(knots))\n",
    "    return L.(new_x);\n",
    "    end;\n",
    "\n",
    "# test\n",
    "#x = range(1, 6, step=1)\n",
    "#Lagrange_interpolation([(3, [2, 2]), (5, [3, 4])], x)\n",
    "\n",
    "# Place the first chain\n",
    "# Returns a new graph (with one chain)\n",
    "function init_graph(first_chain) \n",
    "\n",
    "    node_distance = 1.0f0\n",
    "    nodes =  Dict(n => [node_distance*(i-1), 0]\n",
    "                    for (i, n) in enumerate(first_chain))\n",
    "    return Graph([first_chain], nodes)\n",
    "    end;\n",
    "\n",
    "# Add a chain to the graph\n",
    "function add_a_chain!(graph, chain)\n",
    "    # Search for knots, i.e. nodes already in the new graph\n",
    "    knots = filter(x -> x in keys(graph.nodes), chain)\n",
    "\n",
    "    println(\"number of knots: \", length(knots))\n",
    "    if length(knots)==0;  error(\"zero intersection\") end;\n",
    "\n",
    "    # convert knots to [(position, Coords), ...]\n",
    "    knots = map(n->(findfirst(isequal(n), chain), graph.nodes[n]),  knots)\n",
    "\n",
    "    # si un seul noeud...\n",
    "    # choisir une direction \"perpendiculaire\"\n",
    "    # cas si une seule chaine rencontrée\n",
    "    # find nodes avant et après de cette chaine rencontrée\n",
    "    if length(knots)==1\n",
    "        idx_along_chain = knots[1][1]\n",
    "        n = chain[idx_along_chain]\n",
    "\n",
    "        other_chain_id = findfirst(ch -> n in ch, graph.chains)\n",
    "        other_chain = graph.chains[other_chain_id]\n",
    "        idx_along_other_chain = findfirst(isequal(n), other_chain)\n",
    "\n",
    "        println(\"intersection with chain #\", other_chain_id,\n",
    "            \" at node #\", idx_along_other_chain)\n",
    "\n",
    "        # Define a normal direction\n",
    "        # take next or previous node (edge cases)\n",
    "        if idx_along_other_chain == 1\n",
    "            before = graph.nodes[other_chain[1]]\n",
    "            next = graph.nodes[other_chain[2]]\n",
    "        else\n",
    "            before = graph.nodes[other_chain[idx_along_other_chain-1]]\n",
    "            next = graph.nodes[other_chain[idx_along_other_chain]]\n",
    "            end;\n",
    "\n",
    "        # normal direction:\n",
    "        u = next .- before\n",
    "        norm = sqrt(u[1]^2 + u[2]^2) *.87242*length(chain)  # hack to prevent overlaping\n",
    "        direction = [u[2]/norm; -u[1]/norm]\n",
    "\n",
    "        # ajoute un noeud\n",
    "        # si ce n'est pas le dernier alors le suivant\n",
    "        # sinon le precedent\n",
    "        # TODO: make a random choice, left or right?\n",
    "        coords_n = knots[1][2]\n",
    "        if idx_along_chain < length(chain)\n",
    "            push!(knots, (idx_along_chain+1, coords_n .+ direction))\n",
    "        else\n",
    "            push!(knots, (idx_along_chain-1, coords_n .- direction))\n",
    "            end;\n",
    "        end;\n",
    "\n",
    "    # Interpolation\n",
    "    x = range(1, length(chain), step=1)\n",
    "    coords = Lagrange_interpolation(knots, x)\n",
    "\n",
    "    # update graph\n",
    "    push!(graph.chains, chain)\n",
    "    for (n, xy) in zip(chain, coords)\n",
    "        graph.nodes[n] = xy\n",
    "        end;\n",
    "    end;"
   ]
  },
  {
   "cell_type": "code",
   "execution_count": 17,
   "metadata": {},
   "outputs": [
    {
     "data": {
      "text/plain": [
       "1-element Array{String,1}:\n",
       " \"197626394_228.json\""
      ]
     },
     "execution_count": 17,
     "metadata": {},
     "output_type": "execute_result"
    }
   ],
   "source": [
    "# Load graph from Json\n",
    "files = filter(x -> endswith(x, \".json\"), readdir(\"json/\"))"
   ]
  },
  {
   "cell_type": "code",
   "execution_count": 19,
   "metadata": {},
   "outputs": [
    {
     "name": "stdout",
     "output_type": "stream",
     "text": [
      "33\n"
     ]
    }
   ],
   "source": [
    "path = string(\"./json/\", files[1])\n",
    "data = read(path, String)\n",
    "d = []\n",
    "chains = JSON.parse( data, dicttype=Array{Array{String}});\n",
    "sort!(chains, by=x->length(x), rev=true)\n",
    "println(length(chains[1]))"
   ]
  },
  {
   "cell_type": "code",
   "execution_count": 20,
   "metadata": {},
   "outputs": [
    {
     "name": "stdout",
     "output_type": "stream",
     "text": [
      "255 nodes\n",
      "38 chains\n"
     ]
    }
   ],
   "source": [
    "# Define the (entire) graph\n",
    "nodes_list = unique(n for ch in chains for n in ch)\n",
    "nodes = Dict( n=>k for (k, n) in enumerate(nodes_list) )\n",
    "\n",
    "fullgraph = Graph(chains, nodes);\n",
    "printinfo(fullgraph)"
   ]
  },
  {
   "cell_type": "code",
   "execution_count": 21,
   "metadata": {},
   "outputs": [
    {
     "name": "stdout",
     "output_type": "stream",
     "text": [
      "49 intersections\n"
     ]
    }
   ],
   "source": [
    "intersections = search_intersections(fullgraph)\n",
    "println(length(intersections), \" intersections\")"
   ]
  },
  {
   "cell_type": "code",
   "execution_count": 22,
   "metadata": {},
   "outputs": [
    {
     "name": "stdout",
     "output_type": "stream",
     "text": [
      "next: [25, 35]\n"
     ]
    }
   ],
   "source": [
    "# Start building the new graph\n",
    "graph = init_graph(fullgraph.chains[1]);\n",
    "added_chain = [1, ]\n",
    "chains_to_add = search_chain_intersected(fullgraph, 1);\n",
    "println(\"next: \", chains_to_add)"
   ]
  },
  {
   "cell_type": "code",
   "execution_count": 23,
   "metadata": {},
   "outputs": [],
   "source": [
    "function loop!(graph)\n",
    "    next_chain_id = pop!(chains_to_add)\n",
    "    next_chain = fullgraph.chains[next_chain_id]\n",
    "    println(\"add chain #\", next_chain_id, \" of length \", length(next_chain))\n",
    "    add_a_chain!(graph, next_chain)\n",
    "\n",
    "    # update records\n",
    "    push!(added_chain, next_chain_id)\n",
    "    println(\"added chain \", added_chain, \" check \", length(graph.chains))\n",
    "\n",
    "    new_chains_to_add = search_chain_intersected(fullgraph, next_chain_id);\n",
    "    println(\"all new chain \", new_chains_to_add)\n",
    "    append!(chains_to_add, filter(x -> ~(x in added_chain)&~(x in chains_to_add), new_chains_to_add))\n",
    "    sort!(chains_to_add, by=x->length(fullgraph.chains[x]), rev=false)\n",
    "    println(\"chains_to_add  \", chains_to_add)\n",
    "    \n",
    "    println(length(graph.nodes), \" nodes/ \", length(fullgraph.nodes))\n",
    "    # Optimize\n",
    "    graph = run_optimiz(graph);\n",
    "    graphplot(graph)\n",
    "\n",
    "    # loop\n",
    "    end;"
   ]
  },
  {
   "cell_type": "code",
   "execution_count": 37,
   "metadata": {},
   "outputs": [
    {
     "name": "stdout",
     "output_type": "stream",
     "text": [
      "add chain #9 of length 11\n",
      "number of knots: 1\n",
      "intersection with chain #13 at node #1\n",
      "added chain [1, 35, 22, 25, 12, 30, 18, 5, 8, 4, 11, 15, 3, 9] check 14\n",
      "all new chain [3]\n",
      "chains_to_add  [36, 38, 37, 28, 29, 32, 27, 26, 23, 14]\n",
      "136 nodes/ 255\n",
      "graph_energy 12488.56956967961\n"
     ]
    },
    {
     "data": {
      "image/svg+xml": [
       "<?xml version=\"1.0\" encoding=\"utf-8\"?>\n",
       "<svg xmlns=\"http://www.w3.org/2000/svg\" xmlns:xlink=\"http://www.w3.org/1999/xlink\" width=\"600\" height=\"400\" viewBox=\"0 0 2400 1600\">\n",
       "<defs>\n",
       "  <clipPath id=\"clip6400\">\n",
       "    <rect x=\"0\" y=\"0\" width=\"2400\" height=\"1600\"/>\n",
       "  </clipPath>\n",
       "</defs>\n",
       "<path clip-path=\"url(#clip6400)\" d=\"\n",
       "M0 1600 L2400 1600 L2400 0 L0 0  Z\n",
       "  \" fill=\"#ffffff\" fill-rule=\"evenodd\" fill-opacity=\"1\"/>\n",
       "<defs>\n",
       "  <clipPath id=\"clip6401\">\n",
       "    <rect x=\"480\" y=\"0\" width=\"1681\" height=\"1600\"/>\n",
       "  </clipPath>\n",
       "</defs>\n",
       "<path clip-path=\"url(#clip6400)\" d=\"\n",
       "M168.627 1487.47 L2352.76 1487.47 L2352.76 47.2441 L168.627 47.2441  Z\n",
       "  \" fill=\"#ffffff\" fill-rule=\"evenodd\" fill-opacity=\"1\"/>\n",
       "<defs>\n",
       "  <clipPath id=\"clip6402\">\n",
       "    <rect x=\"168\" y=\"47\" width=\"2185\" height=\"1441\"/>\n",
       "  </clipPath>\n",
       "</defs>\n",
       "<polyline clip-path=\"url(#clip6402)\" style=\"stroke:#000000; stroke-width:2; stroke-opacity:0.1; fill:none\" points=\"\n",
       "  536.76,1487.47 536.76,47.2441 \n",
       "  \"/>\n",
       "<polyline clip-path=\"url(#clip6402)\" style=\"stroke:#000000; stroke-width:2; stroke-opacity:0.1; fill:none\" points=\"\n",
       "  1011.04,1487.47 1011.04,47.2441 \n",
       "  \"/>\n",
       "<polyline clip-path=\"url(#clip6402)\" style=\"stroke:#000000; stroke-width:2; stroke-opacity:0.1; fill:none\" points=\"\n",
       "  1485.31,1487.47 1485.31,47.2441 \n",
       "  \"/>\n",
       "<polyline clip-path=\"url(#clip6402)\" style=\"stroke:#000000; stroke-width:2; stroke-opacity:0.1; fill:none\" points=\"\n",
       "  1959.59,1487.47 1959.59,47.2441 \n",
       "  \"/>\n",
       "<polyline clip-path=\"url(#clip6402)\" style=\"stroke:#000000; stroke-width:2; stroke-opacity:0.1; fill:none\" points=\"\n",
       "  168.627,1482.81 2352.76,1482.81 \n",
       "  \"/>\n",
       "<polyline clip-path=\"url(#clip6402)\" style=\"stroke:#000000; stroke-width:2; stroke-opacity:0.1; fill:none\" points=\"\n",
       "  168.627,1166.63 2352.76,1166.63 \n",
       "  \"/>\n",
       "<polyline clip-path=\"url(#clip6402)\" style=\"stroke:#000000; stroke-width:2; stroke-opacity:0.1; fill:none\" points=\"\n",
       "  168.627,850.443 2352.76,850.443 \n",
       "  \"/>\n",
       "<polyline clip-path=\"url(#clip6402)\" style=\"stroke:#000000; stroke-width:2; stroke-opacity:0.1; fill:none\" points=\"\n",
       "  168.627,534.258 2352.76,534.258 \n",
       "  \"/>\n",
       "<polyline clip-path=\"url(#clip6402)\" style=\"stroke:#000000; stroke-width:2; stroke-opacity:0.1; fill:none\" points=\"\n",
       "  168.627,218.073 2352.76,218.073 \n",
       "  \"/>\n",
       "<polyline clip-path=\"url(#clip6400)\" style=\"stroke:#000000; stroke-width:4; stroke-opacity:1; fill:none\" points=\"\n",
       "  168.627,1487.47 2352.76,1487.47 \n",
       "  \"/>\n",
       "<polyline clip-path=\"url(#clip6400)\" style=\"stroke:#000000; stroke-width:4; stroke-opacity:1; fill:none\" points=\"\n",
       "  168.627,1487.47 168.627,47.2441 \n",
       "  \"/>\n",
       "<polyline clip-path=\"url(#clip6400)\" style=\"stroke:#000000; stroke-width:4; stroke-opacity:1; fill:none\" points=\"\n",
       "  536.76,1487.47 536.76,1470.19 \n",
       "  \"/>\n",
       "<polyline clip-path=\"url(#clip6400)\" style=\"stroke:#000000; stroke-width:4; stroke-opacity:1; fill:none\" points=\"\n",
       "  1011.04,1487.47 1011.04,1470.19 \n",
       "  \"/>\n",
       "<polyline clip-path=\"url(#clip6400)\" style=\"stroke:#000000; stroke-width:4; stroke-opacity:1; fill:none\" points=\"\n",
       "  1485.31,1487.47 1485.31,1470.19 \n",
       "  \"/>\n",
       "<polyline clip-path=\"url(#clip6400)\" style=\"stroke:#000000; stroke-width:4; stroke-opacity:1; fill:none\" points=\"\n",
       "  1959.59,1487.47 1959.59,1470.19 \n",
       "  \"/>\n",
       "<polyline clip-path=\"url(#clip6400)\" style=\"stroke:#000000; stroke-width:4; stroke-opacity:1; fill:none\" points=\"\n",
       "  168.627,1482.81 194.836,1482.81 \n",
       "  \"/>\n",
       "<polyline clip-path=\"url(#clip6400)\" style=\"stroke:#000000; stroke-width:4; stroke-opacity:1; fill:none\" points=\"\n",
       "  168.627,1166.63 194.836,1166.63 \n",
       "  \"/>\n",
       "<polyline clip-path=\"url(#clip6400)\" style=\"stroke:#000000; stroke-width:4; stroke-opacity:1; fill:none\" points=\"\n",
       "  168.627,850.443 194.836,850.443 \n",
       "  \"/>\n",
       "<polyline clip-path=\"url(#clip6400)\" style=\"stroke:#000000; stroke-width:4; stroke-opacity:1; fill:none\" points=\"\n",
       "  168.627,534.258 194.836,534.258 \n",
       "  \"/>\n",
       "<polyline clip-path=\"url(#clip6400)\" style=\"stroke:#000000; stroke-width:4; stroke-opacity:1; fill:none\" points=\"\n",
       "  168.627,218.073 194.836,218.073 \n",
       "  \"/>\n",
       "<g clip-path=\"url(#clip6400)\">\n",
       "<text style=\"fill:#000000; fill-opacity:1; font-family:Arial,Helvetica Neue,Helvetica,sans-serif; font-size:48px; text-anchor:middle;\" transform=\"rotate(0, 536.76, 1541.47)\" x=\"536.76\" y=\"1541.47\">-30</text>\n",
       "</g>\n",
       "<g clip-path=\"url(#clip6400)\">\n",
       "<text style=\"fill:#000000; fill-opacity:1; font-family:Arial,Helvetica Neue,Helvetica,sans-serif; font-size:48px; text-anchor:middle;\" transform=\"rotate(0, 1011.04, 1541.47)\" x=\"1011.04\" y=\"1541.47\">0</text>\n",
       "</g>\n",
       "<g clip-path=\"url(#clip6400)\">\n",
       "<text style=\"fill:#000000; fill-opacity:1; font-family:Arial,Helvetica Neue,Helvetica,sans-serif; font-size:48px; text-anchor:middle;\" transform=\"rotate(0, 1485.31, 1541.47)\" x=\"1485.31\" y=\"1541.47\">30</text>\n",
       "</g>\n",
       "<g clip-path=\"url(#clip6400)\">\n",
       "<text style=\"fill:#000000; fill-opacity:1; font-family:Arial,Helvetica Neue,Helvetica,sans-serif; font-size:48px; text-anchor:middle;\" transform=\"rotate(0, 1959.59, 1541.47)\" x=\"1959.59\" y=\"1541.47\">60</text>\n",
       "</g>\n",
       "<g clip-path=\"url(#clip6400)\">\n",
       "<text style=\"fill:#000000; fill-opacity:1; font-family:Arial,Helvetica Neue,Helvetica,sans-serif; font-size:48px; text-anchor:end;\" transform=\"rotate(0, 144.627, 1500.31)\" x=\"144.627\" y=\"1500.31\">-40</text>\n",
       "</g>\n",
       "<g clip-path=\"url(#clip6400)\">\n",
       "<text style=\"fill:#000000; fill-opacity:1; font-family:Arial,Helvetica Neue,Helvetica,sans-serif; font-size:48px; text-anchor:end;\" transform=\"rotate(0, 144.627, 1184.13)\" x=\"144.627\" y=\"1184.13\">-20</text>\n",
       "</g>\n",
       "<g clip-path=\"url(#clip6400)\">\n",
       "<text style=\"fill:#000000; fill-opacity:1; font-family:Arial,Helvetica Neue,Helvetica,sans-serif; font-size:48px; text-anchor:end;\" transform=\"rotate(0, 144.627, 867.943)\" x=\"144.627\" y=\"867.943\">0</text>\n",
       "</g>\n",
       "<g clip-path=\"url(#clip6400)\">\n",
       "<text style=\"fill:#000000; fill-opacity:1; font-family:Arial,Helvetica Neue,Helvetica,sans-serif; font-size:48px; text-anchor:end;\" transform=\"rotate(0, 144.627, 551.758)\" x=\"144.627\" y=\"551.758\">20</text>\n",
       "</g>\n",
       "<g clip-path=\"url(#clip6400)\">\n",
       "<text style=\"fill:#000000; fill-opacity:1; font-family:Arial,Helvetica Neue,Helvetica,sans-serif; font-size:48px; text-anchor:end;\" transform=\"rotate(0, 144.627, 235.573)\" x=\"144.627\" y=\"235.573\">40</text>\n",
       "</g>\n",
       "<polyline clip-path=\"url(#clip6402)\" style=\"stroke:#009af9; stroke-width:12; stroke-opacity:1; fill:none\" points=\"\n",
       "  230.442,967.363 248.53,967.051 269.139,966.676 290.96,966.311 313.6,965.958 336.832,965.618 360.549,965.279 384.66,964.926 409.128,964.581 433.918,964.241 \n",
       "  459.012,963.894 484.376,963.591 510.011,963.333 535.895,963.14 562.048,963.029 588.464,963.04 615.166,963.199 642.181,963.568 669.524,964.195 697.27,965.197 \n",
       "  725.524,966.7 754.427,968.964 784.171,972.394 815.088,977.83 847.644,986.938 880.461,973.324 912.26,963.291 943.521,954.965 974.664,947.586 1006.11,940.81 \n",
       "  1038.52,934.649 1074.16,930.3 1071.39,946.712 \n",
       "  \"/>\n",
       "<polyline clip-path=\"url(#clip6402)\" style=\"stroke:#e26f46; stroke-width:12; stroke-opacity:1; fill:none\" points=\"\n",
       "  847.644,986.938 847.49,1016.1 \n",
       "  \"/>\n",
       "<polyline clip-path=\"url(#clip6402)\" style=\"stroke:#3da44d; stroke-width:12; stroke-opacity:1; fill:none\" points=\"\n",
       "  879.482,1041.36 865.467,1028.89 847.49,1016.1 832.974,1037.18 822.69,1056.96 814.845,1073.9 \n",
       "  \"/>\n",
       "<polyline clip-path=\"url(#clip6402)\" style=\"stroke:#c271d2; stroke-width:12; stroke-opacity:1; fill:none\" points=\"\n",
       "  1074.16,930.3 1112,924.231 1154.13,923.589 1142.01,939.781 1134.26,956.831 \n",
       "  \"/>\n",
       "<polyline clip-path=\"url(#clip6402)\" style=\"stroke:#ac8d18; stroke-width:12; stroke-opacity:1; fill:none\" points=\"\n",
       "  1316.41,834.84 1325.03,849.106 1289.95,863.841 1256.41,876.718 1223.12,889.724 1189.34,904.205 1154.13,923.589 1172.08,940.848 1185.18,958.949 1195.07,974.816 \n",
       "  \n",
       "  \"/>\n",
       "<polyline clip-path=\"url(#clip6402)\" style=\"stroke:#00a9ad; stroke-width:12; stroke-opacity:1; fill:none\" points=\"\n",
       "  1325.03,849.106 1362.25,836.161 1400.08,820.699 1390.03,807.767 \n",
       "  \"/>\n",
       "<polyline clip-path=\"url(#clip6402)\" style=\"stroke:#ed5d92; stroke-width:12; stroke-opacity:1; fill:none\" points=\"\n",
       "  1472.93,696.392 1489.6,706.79 1506.66,722.252 1526.43,766.344 1480.95,788.111 1439.99,805.598 1400.08,820.699 \n",
       "  \"/>\n",
       "<polyline clip-path=\"url(#clip6402)\" style=\"stroke:#c68125; stroke-width:12; stroke-opacity:1; fill:none\" points=\"\n",
       "  1458.31,460.824 1462.38,478.653 1467.06,499.196 1472.11,521.264 1477.47,544.539 1483.14,568.936 1489.08,594.505 1495.25,621.493 1501.47,650.475 1506.91,682.888 \n",
       "  1506.66,722.252 1489.26,734.127 1471.41,740.036 \n",
       "  \"/>\n",
       "<polyline clip-path=\"url(#clip6402)\" style=\"stroke:#00a98d; stroke-width:12; stroke-opacity:1; fill:none\" points=\"\n",
       "  1523.44,804.305 1525.48,786.081 1526.43,766.344 1590.21,778.369 1639.96,795.38 1685.22,810.895 1729.29,826.293 1774.42,844.401 1793.02,860.994 1809.1,879.2 \n",
       "  1822.89,896.365 1834.14,911.241 \n",
       "  \"/>\n",
       "<polyline clip-path=\"url(#clip6402)\" style=\"stroke:#8e971d; stroke-width:12; stroke-opacity:1; fill:none\" points=\"\n",
       "  2082.17,840.462 2088.33,823.734 2045.35,824.06 2007.2,824.493 1970.35,824.994 1933.76,825.722 1896.72,826.908 1858.51,829.07 1818.16,833.586 1774.42,844.401 \n",
       "  1759.74,867.673 1749.64,891.622 1742.21,914.429 1736.49,935.459 1732.11,953.507 \n",
       "  \"/>\n",
       "<polyline clip-path=\"url(#clip6402)\" style=\"stroke:#00a8cb; stroke-width:12; stroke-opacity:1; fill:none\" points=\"\n",
       "  1671.24,659.691 1660.87,674.978 1648.69,692.736 1635.34,711.999 1620.99,732.586 1605.82,754.604 1590.21,778.369 1590.64,801.415 1591.04,823.241 1591.2,841.905 \n",
       "  \n",
       "  \"/>\n",
       "<polyline clip-path=\"url(#clip6402)\" style=\"stroke:#9b7fe8; stroke-width:12; stroke-opacity:1; fill:none\" points=\"\n",
       "  2083.17,806.547 2088.33,823.734 2137.53,824.04 2158.19,785.77 2183.51,751.687 2201.2,725.393 2206.41,696.745 2228.07,684.705 \n",
       "  \"/>\n",
       "<polyline clip-path=\"url(#clip6402)\" style=\"stroke:#608cf6; stroke-width:12; stroke-opacity:1; fill:none\" points=\"\n",
       "  2150.62,862.926 2137.53,824.04 2161.53,824.67 2185.68,823.768 2207.21,817.249 2220.89,801.53 2218.63,781.141 2203.4,765.151 2183.51,751.687 2177.56,728.189 \n",
       "  2186.19,706.759 2206.41,696.745 2206.89,671.871 2220.17,656.388 2235.65,665.729 2228.07,684.705 \n",
       "  \"/>\n",
       "<polyline clip-path=\"url(#clip6402)\" style=\"stroke:#f05f73; stroke-width:12; stroke-opacity:1; fill:none\" points=\"\n",
       "  2138.75,876.387 2150.62,862.926 2169.87,891.996 2186.9,916.878 2203.39,939.317 2219.51,960.069 2235.24,979.508 2250.5,997.797 2265.17,1014.98 2278.93,1030.88 \n",
       "  2290.94,1044.63 \n",
       "  \"/>\n",
       "</svg>\n"
      ]
     },
     "execution_count": 37,
     "metadata": {},
     "output_type": "execute_result"
    }
   ],
   "source": [
    "loop!(graph)"
   ]
  },
  {
   "cell_type": "code",
   "execution_count": 33,
   "metadata": {},
   "outputs": [],
   "source": [
    "using Profile"
   ]
  },
  {
   "cell_type": "code",
   "execution_count": null,
   "metadata": {},
   "outputs": [],
   "source": []
  }
 ],
 "metadata": {
  "kernelspec": {
   "display_name": "Julia 1.3.0",
   "language": "julia",
   "name": "julia-1.3"
  },
  "language_info": {
   "file_extension": ".jl",
   "mimetype": "application/julia",
   "name": "julia",
   "version": "1.3.0"
  }
 },
 "nbformat": 4,
 "nbformat_minor": 2
}
