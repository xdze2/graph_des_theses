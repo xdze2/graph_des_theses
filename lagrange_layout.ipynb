{
 "cells": [
  {
   "cell_type": "code",
   "execution_count": 1,
   "metadata": {},
   "outputs": [],
   "source": [
    "using JSON"
   ]
  },
  {
   "cell_type": "code",
   "execution_count": null,
   "metadata": {},
   "outputs": [],
   "source": [
    "using BenchmarkTools"
   ]
  },
  {
   "cell_type": "code",
   "execution_count": 2,
   "metadata": {},
   "outputs": [],
   "source": [
    "struct Graph\n",
    "    chains\n",
    "    nodes\n",
    "end"
   ]
  },
  {
   "cell_type": "code",
   "execution_count": 73,
   "metadata": {},
   "outputs": [
    {
     "data": {
      "text/plain": [
       "2-element Array{String,1}:\n",
       " \"070506604.json\"\n",
       " \"087475936.json\""
      ]
     },
     "execution_count": 73,
     "metadata": {},
     "output_type": "execute_result"
    }
   ],
   "source": [
    "files = filter(x -> endswith(x, \".json\"), readdir(\"json/\"))"
   ]
  },
  {
   "cell_type": "code",
   "execution_count": 144,
   "metadata": {},
   "outputs": [
    {
     "data": {
      "text/plain": [
       "2-element Array{Int64,1}:\n",
       " 4\n",
       " 3"
      ]
     },
     "execution_count": 144,
     "metadata": {},
     "output_type": "execute_result"
    }
   ],
   "source": [
    "sort([3, 4], rev=true)"
   ]
  },
  {
   "cell_type": "code",
   "execution_count": 146,
   "metadata": {},
   "outputs": [
    {
     "name": "stdout",
     "output_type": "stream",
     "text": [
      "33\n"
     ]
    }
   ],
   "source": [
    "path = string(\"./json/\", files[1])\n",
    "data = read(path, String)\n",
    "d = []\n",
    "chains = JSON.parse( data, dicttype=Array{Array{String}});\n",
    "sort!(chains, by=x->length(x), rev=true)\n",
    "println(length(chains[1]))"
   ]
  },
  {
   "cell_type": "code",
   "execution_count": 147,
   "metadata": {},
   "outputs": [
    {
     "name": "stdout",
     "output_type": "stream",
     "text": [
      "233 nodes\n",
      "28 chains\n"
     ]
    }
   ],
   "source": [
    "# Define the graph\n",
    "nodes_list = unique(n for ch in chains for n in ch)\n",
    "nodes = Dict( n=>k for (k, n) in enumerate(nodes_list) )\n",
    "println(length(nodes), \" nodes\")\n",
    "println(length(chains), \" chains\")\n",
    "graph = Graph(chains, nodes);"
   ]
  },
  {
   "cell_type": "code",
   "execution_count": 148,
   "metadata": {},
   "outputs": [
    {
     "name": "stdout",
     "output_type": "stream",
     "text": [
      "52 intersections\n",
      "Dict{Any,Any}(\"JDslf_2012_\" => [5, 11],\"SRG_2010_155546562\" => [5, 11],\"SC_2008_132816903\" => [2, 7],\"JdSLF_2012_168695693\" => [5, 11],\"RB_2008_140314512\" => [2, 15],\"PS_2009_14862295X\" => [5, 13],\"FS_2014_182322947\" => [14, 23],\"CC_2015_234828676\" => [12, 17],\"JH_2017_226365778\" => [12, 16],\"AB_2009_14700134X\" => [9, 25],\"MT_2018_233629068\" => [10, 20],\"MD_0_\" => [6, 10, 20, 26],\"LH_2013_18159563X\" => [12, 28],\"AHY_2005_099033143\" => [16, 19],\"SB_2011_167773925\" => [1, 20],\"ZM_0_\" => [6, 8],\"MR_2015_23484129X\" => [11, 20],\"AR_2010_15313237X\" => [16, 19],\"IM_2011_167762990\" => [2, 15, 22],\"BD_2007_115563423\" => [3, 17],\"AVA_0_\" => [5, 13],\"MB_2004_083809252\" => [1, 14],\"LM_2012_166231878\" => [1, 10],\"MA_2016_200037218\" => [12, 18],\"BT_2012_16959565X\" => [5, 13],\"IM_2017_\" => [12, 17],\"MG_2006_111484251\" => [15, 19],\"YT_2014_183073932\" => [14, 27],\"FD_2018_23551019X\" => [5, 9],\"LV_2012_167950827\" => [1, 13],\"LO_2001_059894881\" => [1, 21],\"MB_2017_225564041\" => [10, 20],\"SB_2002_070506833\" => [1, 14],\"MB_2006_11246288X\" => [5, 13],\"DM_1994_074744178\" => [1, 24],\"MB_2010_151313156\" => [1, 12],\"CMM_2012_168547910\" => [19, 22],\"CL_2013_203619005\" => [4, 14],\"FA_2003_079041213\" => [1, 14],\"AF_2011_167774352\" => [1, 10],\"SL_2003_074690604\" => [2, 24],\"DL_2013_17574033X\" => [9, 25],\"LP_2002_06992855X\" => [2, 8],\"SCM_2009_146786734\" => [2, 15],\"PNL_2009_177217235\" => [1, 10],\"FFM_2009_143210920\" => [2, 7],\"ALV_2008_138987319\" => [5, 11],\"AA_2016_195805437\" => [6, 8],\"MT_2005_094297746\" => [2, 15],\"PM_2005_094261911\" => [2, 7],\"NH_2014_18631485X\" => [5, 9],\"MAB_2017_22645679X\" => [8, 22])"
     ]
    }
   ],
   "source": [
    "# Search for intersections\n",
    "intersections = Dict()\n",
    "for (ch_idx, ch) in enumerate(graph.chains), n in ch\n",
    "    el = get!(intersections, n, Int64[])\n",
    "    push!(el, ch_idx)\n",
    "    end;\n",
    "\n",
    "filter!(x -> length(x[2]) > 1, intersections);\n",
    "println(length(intersections), \" intersections\")\n",
    "print(intersections)"
   ]
  },
  {
   "cell_type": "code",
   "execution_count": 149,
   "metadata": {},
   "outputs": [],
   "source": [
    "# Place the first chain\n",
    "function place_first_chain!(coords, graph, chain_idx=1) \n",
    "    chain = graph.chains[chain_idx]\n",
    "    node_distance = 1.0f0\n",
    "\n",
    "    chain_idx = map(x -> graph.nodes[x], chain);\n",
    "\n",
    "    line = hcat([ [node_distance*(i-1); 0] for i in 1:length(chain)]...)\n",
    "    coords[:, chain_idx] = line\n",
    "    end;"
   ]
  },
  {
   "cell_type": "code",
   "execution_count": 150,
   "metadata": {},
   "outputs": [],
   "source": [
    "function place_chain!(coords, graph, chain_idx)\n",
    "# coords, graph, chain_idx\n",
    "\n",
    "    # Check if the coordinates are not notching\n",
    "    # i.e. if the node has been placed\n",
    "    iscoordsdefined(n) = any(x->~isnothing(x), coords[:, graph.nodes[n]])\n",
    "\n",
    "    #function get_knots(\n",
    "    #coords, graph,   )\n",
    "    chain = graph.chains[chain_idx]\n",
    "    knots = [(idx_along_chain, coords[:, graph.nodes[n]])\n",
    "                    for (idx_along_chain, n) in enumerate(chain)\n",
    "                    if iscoordsdefined(n)]\n",
    "\n",
    "    println(\"number of knots: \", length(knots))\n",
    "    if length(knots)==0\n",
    "        println(\"zero intersection\")\n",
    "        end;\n",
    "    # si un seul noeud...\n",
    "    # choisir une direction perpendiculoïde\n",
    "    # si une seule chaine rencontrée\n",
    "    # find nodes avant et après de cette chaine rencontrée\n",
    "    if length(knots)==1\n",
    "        idx_along_chain = knots[1][1]\n",
    "        n = chain[idx_along_chain]\n",
    "\n",
    "        other_chains = filter(i -> i != chain_idx, intersections[n])\n",
    "        other_chain_id = other_chains[1]  # take the first anyway (TODO: multiple crossing...)\n",
    "\n",
    "        other_chain = graph.chains[other_chain_id]\n",
    "        idx_along_other_chain = findfirst(isequal(n), other_chain)\n",
    "\n",
    "        coords_other_chain(idx) = coords[:, graph.nodes[other_chain[ idx ]]]\n",
    "\n",
    "        println(\"intersection with chain #\", other_chain_id,\n",
    "            \" at node #\", idx_along_other_chain)\n",
    "\n",
    "        # Define a normal direction\n",
    "        if idx_along_other_chain == 1\n",
    "            before = coords[:, graph.nodes[other_chain[1]]]\n",
    "            next = coords[:, graph.nodes[other_chain[2]]]\n",
    "        elseif idx_along_other_chain == length(other_chain)\n",
    "            before = coords[:, graph.nodes[other_chain[end-1]]]\n",
    "            next = coords[:, graph.nodes[other_chain[end]]]\n",
    "        else\n",
    "            before = coords[:, graph.nodes[other_chain[idx_along_other_chain-1]]]\n",
    "            next = coords[:, graph.nodes[other_chain[idx_along_other_chain]]]\n",
    "            end;\n",
    "\n",
    "        # normal direction:\n",
    "        u = next .- before\n",
    "        norm = sqrt(u[1]^2 + u[2]^2)\n",
    "        direction = [u[2]/norm; -u[1]/norm]\n",
    "\n",
    "        # ajoute un noeud\n",
    "        # si ce n'est pas le dernier alors le suivant\n",
    "        # sinon le precedent\n",
    "        # TODO: make a random choice, left or right?\n",
    "        coords_n = knots[1][2]\n",
    "        if idx_along_chain < length(chain)\n",
    "            push!(knots, (idx_along_chain+1, coords_n .+ direction))\n",
    "        else\n",
    "            push!(knots, (idx_along_chain-1, coords_n .- direction))\n",
    "            end;\n",
    "\n",
    "        end;\n",
    "\n",
    "    ##println(\"knots: \", knots)\n",
    "    # Lagrange interpolation\n",
    "    el(j, x) = prod(m -> if (j != m); (x - knots[m][1])/(knots[j][1] - knots[m][1]) else 1 end, 1:length(knots))\n",
    "    L(x) = sum(j -> knots[j][2].*el(j, x), 1:length(knots))\n",
    "\n",
    "    x = range(1, length(chain), step=1)\n",
    "\n",
    "\n",
    "    idx_chain = map(x -> graph.nodes[x], chain); # not the same as chain_idx unfortunatly\n",
    "    coords[:, idx_chain] = hcat(L.(x)...)\n",
    "    end;"
   ]
  },
  {
   "cell_type": "code",
   "execution_count": 151,
   "metadata": {},
   "outputs": [],
   "source": [
    "# get intersecting chains\n",
    "function get_intersected(chain_id)\n",
    "    chain = graph.chains[chain_id]\n",
    "    intersected = Set{Int64}()\n",
    "    for n in chain\n",
    "        union!(intersected, get(intersections, n, []))\n",
    "        end;\n",
    "    setdiff!(intersected, chain_id)\n",
    "    return sort(collect(intersected), by=x->length(graph.chains[x]), rev=true)\n",
    "    end;"
   ]
  },
  {
   "cell_type": "code",
   "execution_count": 152,
   "metadata": {},
   "outputs": [],
   "source": [
    "# Init empty coords array\n",
    "coords = Array{Union{Nothing, Float32}}(nothing, 2, length(graph.nodes))\n",
    "\n",
    "place_first_chain!(coords, graph)\n",
    "added_chain = [1, ]\n",
    "chains_to_add = get_intersected(1);"
   ]
  },
  {
   "cell_type": "code",
   "execution_count": 163,
   "metadata": {},
   "outputs": [
    {
     "name": "stdout",
     "output_type": "stream",
     "text": [
      "add chain #12  [10, 14, 13, 12, 20, 21, 7, 8, 15, 8, 15, 15]\n",
      "number of knots: 2\n",
      "added_chain[1, 24, 2, 22, 19, 16, 12]\n",
      "chains_to_add  [10, 14, 13, 12, 20, 21, 7, 8, 15, 8, 15, 15, 18, 17, 28]\n"
     ]
    }
   ],
   "source": [
    "next_chain = pop!(chains_to_add)\n",
    "println(\"add chain #\", next_chain, \"  \", chains_to_add)\n",
    "place_chain!(coords, graph, next_chain)\n",
    "push!(added_chain, next_chain)\n",
    "println(\"added_chain\", added_chain)\n",
    "\n",
    "append!(chains_to_add, filter(x -> ~(x in added_chain),\n",
    "        get_intersected(next_chain)))\n",
    "println(\"chains_to_add  \", chains_to_add)\n",
    "# loop"
   ]
  },
  {
   "cell_type": "code",
   "execution_count": 164,
   "metadata": {},
   "outputs": [
    {
     "data": {
      "image/svg+xml": [
       "<?xml version=\"1.0\" encoding=\"utf-8\"?>\n",
       "<svg xmlns=\"http://www.w3.org/2000/svg\" xmlns:xlink=\"http://www.w3.org/1999/xlink\" width=\"600\" height=\"400\" viewBox=\"0 0 2400 1600\">\n",
       "<defs>\n",
       "  <clipPath id=\"clip8500\">\n",
       "    <rect x=\"0\" y=\"0\" width=\"2400\" height=\"1600\"/>\n",
       "  </clipPath>\n",
       "</defs>\n",
       "<path clip-path=\"url(#clip8500)\" d=\"\n",
       "M0 1600 L2400 1600 L2400 0 L0 0  Z\n",
       "  \" fill=\"#ffffff\" fill-rule=\"evenodd\" fill-opacity=\"1\"/>\n",
       "<defs>\n",
       "  <clipPath id=\"clip8501\">\n",
       "    <rect x=\"480\" y=\"0\" width=\"1681\" height=\"1600\"/>\n",
       "  </clipPath>\n",
       "</defs>\n",
       "<path clip-path=\"url(#clip8500)\" d=\"\n",
       "M141.865 1487.47 L2352.76 1487.47 L2352.76 47.2441 L141.865 47.2441  Z\n",
       "  \" fill=\"#ffffff\" fill-rule=\"evenodd\" fill-opacity=\"1\"/>\n",
       "<defs>\n",
       "  <clipPath id=\"clip8502\">\n",
       "    <rect x=\"141\" y=\"47\" width=\"2212\" height=\"1441\"/>\n",
       "  </clipPath>\n",
       "</defs>\n",
       "<polyline clip-path=\"url(#clip8502)\" style=\"stroke:#000000; stroke-width:2; stroke-opacity:0.1; fill:none\" points=\"\n",
       "  504.348,1487.47 504.348,47.2441 \n",
       "  \"/>\n",
       "<polyline clip-path=\"url(#clip8502)\" style=\"stroke:#000000; stroke-width:2; stroke-opacity:0.1; fill:none\" points=\"\n",
       "  913.318,1487.47 913.318,47.2441 \n",
       "  \"/>\n",
       "<polyline clip-path=\"url(#clip8502)\" style=\"stroke:#000000; stroke-width:2; stroke-opacity:0.1; fill:none\" points=\"\n",
       "  1322.29,1487.47 1322.29,47.2441 \n",
       "  \"/>\n",
       "<polyline clip-path=\"url(#clip8502)\" style=\"stroke:#000000; stroke-width:2; stroke-opacity:0.1; fill:none\" points=\"\n",
       "  1731.26,1487.47 1731.26,47.2441 \n",
       "  \"/>\n",
       "<polyline clip-path=\"url(#clip8502)\" style=\"stroke:#000000; stroke-width:2; stroke-opacity:0.1; fill:none\" points=\"\n",
       "  2140.23,1487.47 2140.23,47.2441 \n",
       "  \"/>\n",
       "<polyline clip-path=\"url(#clip8502)\" style=\"stroke:#000000; stroke-width:2; stroke-opacity:0.1; fill:none\" points=\"\n",
       "  141.865,1322.88 2352.76,1322.88 \n",
       "  \"/>\n",
       "<polyline clip-path=\"url(#clip8502)\" style=\"stroke:#000000; stroke-width:2; stroke-opacity:0.1; fill:none\" points=\"\n",
       "  141.865,1118.39 2352.76,1118.39 \n",
       "  \"/>\n",
       "<polyline clip-path=\"url(#clip8502)\" style=\"stroke:#000000; stroke-width:2; stroke-opacity:0.1; fill:none\" points=\"\n",
       "  141.865,913.907 2352.76,913.907 \n",
       "  \"/>\n",
       "<polyline clip-path=\"url(#clip8502)\" style=\"stroke:#000000; stroke-width:2; stroke-opacity:0.1; fill:none\" points=\"\n",
       "  141.865,709.422 2352.76,709.422 \n",
       "  \"/>\n",
       "<polyline clip-path=\"url(#clip8502)\" style=\"stroke:#000000; stroke-width:2; stroke-opacity:0.1; fill:none\" points=\"\n",
       "  141.865,504.937 2352.76,504.937 \n",
       "  \"/>\n",
       "<polyline clip-path=\"url(#clip8502)\" style=\"stroke:#000000; stroke-width:2; stroke-opacity:0.1; fill:none\" points=\"\n",
       "  141.865,300.452 2352.76,300.452 \n",
       "  \"/>\n",
       "<polyline clip-path=\"url(#clip8502)\" style=\"stroke:#000000; stroke-width:2; stroke-opacity:0.1; fill:none\" points=\"\n",
       "  141.865,95.9672 2352.76,95.9672 \n",
       "  \"/>\n",
       "<polyline clip-path=\"url(#clip8500)\" style=\"stroke:#000000; stroke-width:4; stroke-opacity:1; fill:none\" points=\"\n",
       "  141.865,1487.47 2352.76,1487.47 \n",
       "  \"/>\n",
       "<polyline clip-path=\"url(#clip8500)\" style=\"stroke:#000000; stroke-width:4; stroke-opacity:1; fill:none\" points=\"\n",
       "  141.865,1487.47 141.865,47.2441 \n",
       "  \"/>\n",
       "<polyline clip-path=\"url(#clip8500)\" style=\"stroke:#000000; stroke-width:4; stroke-opacity:1; fill:none\" points=\"\n",
       "  504.348,1487.47 504.348,1465.87 \n",
       "  \"/>\n",
       "<polyline clip-path=\"url(#clip8500)\" style=\"stroke:#000000; stroke-width:4; stroke-opacity:1; fill:none\" points=\"\n",
       "  913.318,1487.47 913.318,1465.87 \n",
       "  \"/>\n",
       "<polyline clip-path=\"url(#clip8500)\" style=\"stroke:#000000; stroke-width:4; stroke-opacity:1; fill:none\" points=\"\n",
       "  1322.29,1487.47 1322.29,1465.87 \n",
       "  \"/>\n",
       "<polyline clip-path=\"url(#clip8500)\" style=\"stroke:#000000; stroke-width:4; stroke-opacity:1; fill:none\" points=\"\n",
       "  1731.26,1487.47 1731.26,1465.87 \n",
       "  \"/>\n",
       "<polyline clip-path=\"url(#clip8500)\" style=\"stroke:#000000; stroke-width:4; stroke-opacity:1; fill:none\" points=\"\n",
       "  2140.23,1487.47 2140.23,1465.87 \n",
       "  \"/>\n",
       "<polyline clip-path=\"url(#clip8500)\" style=\"stroke:#000000; stroke-width:4; stroke-opacity:1; fill:none\" points=\"\n",
       "  141.865,1322.88 175.028,1322.88 \n",
       "  \"/>\n",
       "<polyline clip-path=\"url(#clip8500)\" style=\"stroke:#000000; stroke-width:4; stroke-opacity:1; fill:none\" points=\"\n",
       "  141.865,1118.39 175.028,1118.39 \n",
       "  \"/>\n",
       "<polyline clip-path=\"url(#clip8500)\" style=\"stroke:#000000; stroke-width:4; stroke-opacity:1; fill:none\" points=\"\n",
       "  141.865,913.907 175.028,913.907 \n",
       "  \"/>\n",
       "<polyline clip-path=\"url(#clip8500)\" style=\"stroke:#000000; stroke-width:4; stroke-opacity:1; fill:none\" points=\"\n",
       "  141.865,709.422 175.028,709.422 \n",
       "  \"/>\n",
       "<polyline clip-path=\"url(#clip8500)\" style=\"stroke:#000000; stroke-width:4; stroke-opacity:1; fill:none\" points=\"\n",
       "  141.865,504.937 175.028,504.937 \n",
       "  \"/>\n",
       "<polyline clip-path=\"url(#clip8500)\" style=\"stroke:#000000; stroke-width:4; stroke-opacity:1; fill:none\" points=\"\n",
       "  141.865,300.452 175.028,300.452 \n",
       "  \"/>\n",
       "<polyline clip-path=\"url(#clip8500)\" style=\"stroke:#000000; stroke-width:4; stroke-opacity:1; fill:none\" points=\"\n",
       "  141.865,95.9672 175.028,95.9672 \n",
       "  \"/>\n",
       "<g clip-path=\"url(#clip8500)\">\n",
       "<text style=\"fill:#000000; fill-opacity:1; font-family:Arial,Helvetica Neue,Helvetica,sans-serif; font-size:48px; text-anchor:middle;\" transform=\"rotate(0, 504.348, 1541.47)\" x=\"504.348\" y=\"1541.47\">-10</text>\n",
       "</g>\n",
       "<g clip-path=\"url(#clip8500)\">\n",
       "<text style=\"fill:#000000; fill-opacity:1; font-family:Arial,Helvetica Neue,Helvetica,sans-serif; font-size:48px; text-anchor:middle;\" transform=\"rotate(0, 913.318, 1541.47)\" x=\"913.318\" y=\"1541.47\">0</text>\n",
       "</g>\n",
       "<g clip-path=\"url(#clip8500)\">\n",
       "<text style=\"fill:#000000; fill-opacity:1; font-family:Arial,Helvetica Neue,Helvetica,sans-serif; font-size:48px; text-anchor:middle;\" transform=\"rotate(0, 1322.29, 1541.47)\" x=\"1322.29\" y=\"1541.47\">10</text>\n",
       "</g>\n",
       "<g clip-path=\"url(#clip8500)\">\n",
       "<text style=\"fill:#000000; fill-opacity:1; font-family:Arial,Helvetica Neue,Helvetica,sans-serif; font-size:48px; text-anchor:middle;\" transform=\"rotate(0, 1731.26, 1541.47)\" x=\"1731.26\" y=\"1541.47\">20</text>\n",
       "</g>\n",
       "<g clip-path=\"url(#clip8500)\">\n",
       "<text style=\"fill:#000000; fill-opacity:1; font-family:Arial,Helvetica Neue,Helvetica,sans-serif; font-size:48px; text-anchor:middle;\" transform=\"rotate(0, 2140.23, 1541.47)\" x=\"2140.23\" y=\"1541.47\">30</text>\n",
       "</g>\n",
       "<g clip-path=\"url(#clip8500)\">\n",
       "<text style=\"fill:#000000; fill-opacity:1; font-family:Arial,Helvetica Neue,Helvetica,sans-serif; font-size:48px; text-anchor:end;\" transform=\"rotate(0, 117.865, 1340.38)\" x=\"117.865\" y=\"1340.38\">-15</text>\n",
       "</g>\n",
       "<g clip-path=\"url(#clip8500)\">\n",
       "<text style=\"fill:#000000; fill-opacity:1; font-family:Arial,Helvetica Neue,Helvetica,sans-serif; font-size:48px; text-anchor:end;\" transform=\"rotate(0, 117.865, 1135.89)\" x=\"117.865\" y=\"1135.89\">-10</text>\n",
       "</g>\n",
       "<g clip-path=\"url(#clip8500)\">\n",
       "<text style=\"fill:#000000; fill-opacity:1; font-family:Arial,Helvetica Neue,Helvetica,sans-serif; font-size:48px; text-anchor:end;\" transform=\"rotate(0, 117.865, 931.407)\" x=\"117.865\" y=\"931.407\">-5</text>\n",
       "</g>\n",
       "<g clip-path=\"url(#clip8500)\">\n",
       "<text style=\"fill:#000000; fill-opacity:1; font-family:Arial,Helvetica Neue,Helvetica,sans-serif; font-size:48px; text-anchor:end;\" transform=\"rotate(0, 117.865, 726.922)\" x=\"117.865\" y=\"726.922\">0</text>\n",
       "</g>\n",
       "<g clip-path=\"url(#clip8500)\">\n",
       "<text style=\"fill:#000000; fill-opacity:1; font-family:Arial,Helvetica Neue,Helvetica,sans-serif; font-size:48px; text-anchor:end;\" transform=\"rotate(0, 117.865, 522.437)\" x=\"117.865\" y=\"522.437\">5</text>\n",
       "</g>\n",
       "<g clip-path=\"url(#clip8500)\">\n",
       "<text style=\"fill:#000000; fill-opacity:1; font-family:Arial,Helvetica Neue,Helvetica,sans-serif; font-size:48px; text-anchor:end;\" transform=\"rotate(0, 117.865, 317.952)\" x=\"117.865\" y=\"317.952\">10</text>\n",
       "</g>\n",
       "<g clip-path=\"url(#clip8500)\">\n",
       "<text style=\"fill:#000000; fill-opacity:1; font-family:Arial,Helvetica Neue,Helvetica,sans-serif; font-size:48px; text-anchor:end;\" transform=\"rotate(0, 117.865, 113.467)\" x=\"117.865\" y=\"113.467\">15</text>\n",
       "</g>\n",
       "<polyline clip-path=\"url(#clip8502)\" style=\"stroke:#009af9; stroke-width:12; stroke-opacity:1; fill:none\" points=\"\n",
       "  913.318,709.422 954.215,709.422 995.112,709.422 1036.01,709.422 1076.91,709.422 1117.8,709.422 1158.7,709.422 1199.6,709.422 1240.49,709.422 1281.39,709.422 \n",
       "  1322.29,709.422 1363.19,709.422 1404.08,709.422 1444.98,709.422 1485.88,709.422 1526.77,709.422 1567.67,709.422 1608.57,709.422 1649.46,709.422 1690.36,709.422 \n",
       "  1731.26,709.422 1772.15,709.422 1813.05,709.422 1853.95,709.422 1894.85,709.422 1935.74,709.422 1976.64,709.422 2017.54,709.422 2058.43,709.422 2099.33,709.422 \n",
       "  2140.23,709.422 2181.12,709.422 2222.02,709.422 \n",
       "  \"/>\n",
       "<polyline clip-path=\"url(#clip8502)\" style=\"stroke:#e26f46; stroke-width:12; stroke-opacity:1; fill:none\" points=\"\n",
       "  1731.26,791.216 1690.36,791.216 1649.46,791.216 1608.57,791.216 1567.67,791.216 1526.77,791.216 1485.88,791.216 1444.98,791.216 1404.08,791.216 1363.19,791.216 \n",
       "  1322.29,791.216 1281.39,791.216 1240.49,791.216 1199.6,791.216 1158.7,791.216 1117.8,791.216 1076.91,791.216 1036.01,791.216 995.112,791.216 954.215,791.216 \n",
       "  913.318,791.216 872.421,791.216 831.524,791.216 790.627,791.216 749.73,791.216 708.833,791.216 667.936,791.216 627.039,791.216 586.142,791.216 545.245,791.216 \n",
       "  504.348,791.216 463.451,791.216 \n",
       "  \"/>\n",
       "<polyline clip-path=\"url(#clip8502)\" style=\"stroke:#3da44d; stroke-width:12; stroke-opacity:1; fill:none\" points=\"\n",
       "  2290.18,702.606 2058.43,709.422 1826.68,716.238 1594.93,723.054 1363.19,729.871 1131.44,736.687 899.686,743.503 667.936,750.319 436.187,757.135 204.437,763.951 \n",
       "  \n",
       "  \"/>\n",
       "<polyline clip-path=\"url(#clip8502)\" style=\"stroke:#c271d2; stroke-width:12; stroke-opacity:1; fill:none\" points=\"\n",
       "  340.76,750.319 422.554,750.319 504.348,750.319 586.142,750.319 667.936,750.319 749.73,750.319 \n",
       "  \"/>\n",
       "<polyline clip-path=\"url(#clip8502)\" style=\"stroke:#ac8d18; stroke-width:12; stroke-opacity:1; fill:none\" points=\"\n",
       "  340.76,750.319 381.657,750.319 422.554,750.319 463.451,750.319 504.348,750.319 545.245,750.319 \n",
       "  \"/>\n",
       "<polyline clip-path=\"url(#clip8502)\" style=\"stroke:#00a9ad; stroke-width:12; stroke-opacity:1; fill:none\" points=\"\n",
       "  545.245,832.113 545.245,791.216 545.245,750.319 545.245,709.422 \n",
       "  \"/>\n",
       "<polyline clip-path=\"url(#clip8502)\" style=\"stroke:#ed5d92; stroke-width:12; stroke-opacity:1; fill:none\" points=\"\n",
       "  1322.29,709.422 1322.29,750.319 1322.29,791.216 \n",
       "  \"/>\n",
       "</svg>\n"
      ]
     },
     "execution_count": 164,
     "metadata": {},
     "output_type": "execute_result"
    }
   ],
   "source": [
    "fig = plot(legend=false, aspect_ratio=:equal)\n",
    "#scatter!(coords[:, 1], coords[:, 2], linewidth=2)\n",
    "for chain in graph.chains\n",
    "    chain_idx = map(x -> graph.nodes[x], chain);\n",
    "    x = coords[1, chain_idx]\n",
    "    y = coords[2, chain_idx]\n",
    "    if ~any(isnothing, x)\n",
    "        plot!(x, y, linewidth=3)\n",
    "        end;\n",
    "    #println(coords[idx, 1])\n",
    "    end;\n",
    "fig"
   ]
  },
  {
   "cell_type": "code",
   "execution_count": 32,
   "metadata": {},
   "outputs": [
    {
     "name": "stderr",
     "output_type": "stream",
     "text": [
      "┌ Info: Recompiling stale cache file /home/etienne/.julia/compiled/v1.2/Plots/ld3vC.ji for Plots [91a5bcdd-55d7-5caf-9e0b-520d859cae80]\n",
      "└ @ Base loading.jl:1240\n",
      "WARNING: using Plots.coords in module Main conflicts with an existing identifier.\n"
     ]
    }
   ],
   "source": [
    "using(Plots)"
   ]
  },
  {
   "cell_type": "code",
   "execution_count": null,
   "metadata": {},
   "outputs": [],
   "source": []
  }
 ],
 "metadata": {
  "kernelspec": {
   "display_name": "Julia 1.2.0",
   "language": "julia",
   "name": "julia-1.2"
  },
  "language_info": {
   "file_extension": ".jl",
   "mimetype": "application/julia",
   "name": "julia",
   "version": "1.2.0"
  }
 },
 "nbformat": 4,
 "nbformat_minor": 2
}
