{
 "cells": [
  {
   "cell_type": "markdown",
   "metadata": {},
   "source": [
    "## quadtree\n",
    "\n",
    "https://www.cs.princeton.edu/courses/archive/fall03/cs126/assignments/barnes-hut.html  \n",
    "http://www-inf.telecom-sudparis.eu/COURS/CSC5001/new_site/Supports/Projet/NBody/barnes_86.pdf  \n",
    "https://en.wikipedia.org/wiki/Barnes%E2%80%93Hut_simulation\n",
    "\n",
    "https://github.com/rdeits/RegionTrees.jl\n",
    "\n",
    "https://github.com/JuliaArrays/StaticArrays.jl"
   ]
  },
  {
   "cell_type": "code",
   "execution_count": 1,
   "metadata": {},
   "outputs": [],
   "source": [
    "using BenchmarkTools"
   ]
  },
  {
   "cell_type": "code",
   "execution_count": 3,
   "metadata": {},
   "outputs": [],
   "source": [
    "mutable struct Cell\n",
    "    x ::Float64\n",
    "    y ::Float64\n",
    "    w ::Float64\n",
    "    h ::Float64\n",
    "    nbr_of_points ::Int64\n",
    "    sum_of_points_x ::Union{Nothing, Float64}\n",
    "    sum_of_points_y ::Union{Nothing, Float64}\n",
    "    childrens ::Union{Nothing, Tuple{Cell, Cell, Cell, Cell}}\n",
    "end;"
   ]
  },
  {
   "cell_type": "markdown",
   "metadata": {},
   "source": [
    "\n",
    "1. If node x does not contain a body, put the new body b here.\n",
    "2. If node x is an internal node, update the center-of-mass and total mass of x. Recursively insert the body b in the appropriate quadrant.\n",
    "3. If node x is an external node, say containing a body named c, then there are two bodies b and c in the same region. Subdivide the region further by creating four children. Then, recursively insert both b and c into the appropriate quadrant(s). Since b and c may still end up in the same quadrant, there may be several subdivisions during a single insertion. Finally, update the center-of-mass and total mass of x. "
   ]
  },
  {
   "cell_type": "code",
   "execution_count": 4,
   "metadata": {},
   "outputs": [],
   "source": [
    "function insert!(cell, point_x, point_y)\n",
    "    # check if node in cell? ... no\n",
    "    \n",
    "    # if the cell is empty\n",
    "    if cell.nbr_of_points == 0\n",
    "        cell.nbr_of_points = 1\n",
    "        cell.sum_of_points_x = point_x\n",
    "        cell.sum_of_points_y = point_y\n",
    "        \n",
    "    # if one point only\n",
    "    elseif cell.nbr_of_points == 1\n",
    "        split!(cell)\n",
    "        cell.nbr_of_points = 2\n",
    "        previous_point_x = cell.sum_of_points_x\n",
    "        previous_point_y = cell.sum_of_points_y\n",
    "        cell.sum_of_points_x = point_x + previous_point_x\n",
    "        cell.sum_of_points_y = point_y + previous_point_y\n",
    "        \n",
    "        # continue insertion of the point\n",
    "        quadrant = which_quadrant(point_x, point_y, cell.x, cell.y, cell.w, cell.h)\n",
    "        insert!(cell.childrens[quadrant], point_x, point_y)\n",
    "\n",
    "        # insert the old point too\n",
    "        previousquadrant = which_quadrant(previous_point_x, previous_point_y,\n",
    "                                          cell.x, cell.y, cell.w, cell.h)\n",
    "        insert!(cell.childrens[previousquadrant], previous_point_x, previous_point_y)\n",
    "\n",
    "    else\n",
    "        cell.sum_of_points_x += point_x\n",
    "        cell.sum_of_points_y += point_y\n",
    "        cell.nbr_of_points += 1\n",
    "        \n",
    "        quadrant = which_quadrant(point_x, point_y, cell.x, cell.y, cell.w, cell.h)\n",
    "        insert!(cell.childrens[quadrant], point_x, point_y)\n",
    "    end\n",
    "            \n",
    "    end;"
   ]
  },
  {
   "cell_type": "code",
   "execution_count": 64,
   "metadata": {},
   "outputs": [
    {
     "name": "stdout",
     "output_type": "stream",
     "text": [
      "3\n",
      "4\n",
      "1\n",
      "2\n"
     ]
    }
   ],
   "source": [
    "function which_quadrant(x, y, cell_x, cell_y, width, height)\n",
    "    quadrant = 1\n",
    "    if x > cell_x + width/2\n",
    "        quadrant += 1\n",
    "        end;\n",
    "    if y < cell_y + height/2\n",
    "        quadrant += 2\n",
    "        end;\n",
    "    return quadrant\n",
    "    end;\n",
    "    \n",
    "# Numbering:\n",
    "#   1 | 2\n",
    "#  -------\n",
    "#   3 | 4\n",
    "# cell corner (x, y) is bottom left\n",
    "\n",
    "# test\n",
    "println( which_quadrant(.1, .1, 0, 0, 1, 1) )\n",
    "println( which_quadrant(.7, .1, 0, 0, 1, 1) )\n",
    "println( which_quadrant(.1, .7, 0, 0, 1, 1) )\n",
    "println( which_quadrant(.8, .8, 0, 0, 1, 1) )"
   ]
  },
  {
   "cell_type": "code",
   "execution_count": 65,
   "metadata": {},
   "outputs": [],
   "source": [
    "function split!(cell)\n",
    "    half_h = cell.h/2\n",
    "    half_w = cell.w/2\n",
    "    cell.childrens = (\n",
    "        Cell(cell.x, cell.y + half_h, half_w, half_h, 0, nothing, nothing, nothing),\n",
    "        Cell(cell.x + half_w, cell.y + half_h, half_w, half_h, 0, nothing, nothing, nothing),\n",
    "        Cell(cell.x, cell.y, half_w, half_h, 0, nothing, nothing, nothing),\n",
    "        Cell(cell.x + half_w, cell.y, half_w, half_h, 0, nothing, nothing, nothing)\n",
    "    )\n",
    "    end;"
   ]
  },
  {
   "cell_type": "code",
   "execution_count": 68,
   "metadata": {},
   "outputs": [
    {
     "data": {
      "text/plain": [
       "Cell(0.0, 0.0, 1.0, 1.0, 4, 1.62, 1.74, (Cell(0.0, 0.5, 0.5, 0.5, 1, 0.1, 0.7, nothing), Cell(0.5, 0.5, 0.5, 0.5, 0, nothing, nothing, nothing), Cell(0.0, 0.0, 0.5, 0.5, 2, 0.72, 0.64, (Cell(0.0, 0.25, 0.25, 0.25, 0, nothing, nothing, nothing), Cell(0.25, 0.25, 0.25, 0.25, 2, 0.72, 0.64, (Cell(0.25, 0.375, 0.125, 0.125, 0, nothing, nothing, nothing), Cell(0.375, 0.375, 0.125, 0.125, 0, nothing, nothing, nothing), Cell(0.25, 0.25, 0.125, 0.125, 1, 0.3, 0.3, nothing), Cell(0.375, 0.25, 0.125, 0.125, 1, 0.42, 0.34, nothing))), Cell(0.0, 0.0, 0.25, 0.25, 0, nothing, nothing, nothing), Cell(0.25, 0.0, 0.25, 0.25, 0, nothing, nothing, nothing))), Cell(0.5, 0.0, 0.5, 0.5, 1, 0.8, 0.4, nothing)))"
      ]
     },
     "execution_count": 68,
     "metadata": {},
     "output_type": "execute_result"
    }
   ],
   "source": [
    "# test\n",
    "root = Cell(0.0, 0.0, 1.0, 1.0, 0, nothing, nothing, nothing)\n",
    "insert!(root, .3, .3)\n",
    "\n",
    "insert!(root, .8, .4)\n",
    "\n",
    "root.sum_of_points_x, root.sum_of_points_y\n",
    "\n",
    "insert!(root, .1, .7)\n",
    "\n",
    "insert!(root, .42, .34)\n",
    "\n",
    "root"
   ]
  },
  {
   "cell_type": "code",
   "execution_count": 114,
   "metadata": {},
   "outputs": [],
   "source": [
    "function build_the_tree(points)\n",
    "    root = Cell(0.0, 0.0, 1.0, 1.0, 0, nothing, nothing, nothing)\n",
    "    for (x, y) in eachcol(points)\n",
    "        insert!(root, x, y)\n",
    "        end;\n",
    "    return root\n",
    "    end;"
   ]
  },
  {
   "cell_type": "code",
   "execution_count": 137,
   "metadata": {},
   "outputs": [
    {
     "data": {
      "text/plain": [
       "count_cells (generic function with 1 method)"
      ]
     },
     "execution_count": 137,
     "metadata": {},
     "output_type": "execute_result"
    }
   ],
   "source": [
    "function count_cells(root)\n",
    "    count = 1\n",
    "    if ~isnothing(root.childrens)\n",
    "        for quadrant in root.childrens\n",
    "            count += count_cells(quadrant)\n",
    "        end\n",
    "    end\n",
    "\n",
    "    return count\n",
    "end\n"
   ]
  },
  {
   "cell_type": "code",
   "execution_count": 147,
   "metadata": {},
   "outputs": [
    {
     "data": {
      "text/plain": [
       "2×1000 Array{Float64,2}:\n",
       " 0.920556  0.662317  0.760101  0.806568  …  0.509504   0.340977  0.0693272\n",
       " 0.962773  0.237162  0.891387  0.721662     0.0450243  0.249516  0.823172 "
      ]
     },
     "execution_count": 147,
     "metadata": {},
     "output_type": "execute_result"
    }
   ],
   "source": [
    "# Random points\n",
    "N = 1000\n",
    "points = rand(2, N)"
   ]
  },
  {
   "cell_type": "code",
   "execution_count": 148,
   "metadata": {},
   "outputs": [],
   "source": [
    "root = build_the_tree(points);"
   ]
  },
  {
   "cell_type": "code",
   "execution_count": 149,
   "metadata": {},
   "outputs": [
    {
     "data": {
      "text/plain": [
       "2885"
      ]
     },
     "execution_count": 149,
     "metadata": {},
     "output_type": "execute_result"
    }
   ],
   "source": [
    "count_cells(root)"
   ]
  },
  {
   "cell_type": "code",
   "execution_count": 152,
   "metadata": {},
   "outputs": [
    {
     "data": {
      "text/plain": [
       "BenchmarkTools.Trial: \n",
       "  memory estimate:  304.31 KiB\n",
       "  allocs estimate:  3607\n",
       "  --------------\n",
       "  minimum time:     144.848 μs (0.00% GC)\n",
       "  median time:      150.066 μs (0.00% GC)\n",
       "  mean time:        197.173 μs (18.78% GC)\n",
       "  maximum time:     73.211 ms (99.76% GC)\n",
       "  --------------\n",
       "  samples:          10000\n",
       "  evals/sample:     1"
      ]
     },
     "execution_count": 152,
     "metadata": {},
     "output_type": "execute_result"
    }
   ],
   "source": [
    "@benchmark build_the_tree(points)"
   ]
  },
  {
   "cell_type": "code",
   "execution_count": 153,
   "metadata": {},
   "outputs": [],
   "source": [
    "\n",
    "get_distance(x, y, u, v) = sqrt( (x - u)^2 + (y - v)^2 );\n",
    "\n",
    "# evaluate cell, x, y, theta=.5\n",
    "# Returns list of points (effective) with their mass\n",
    "function evaluate(cell, x, y, theta=.5)\n",
    "    \n",
    "    if cell.nbr_of_points == 0\n",
    "        return []\n",
    "    end\n",
    "    \n",
    "    center_of_mass_x = cell.sum_of_points_x / cell.nbr_of_points\n",
    "    center_of_mass_y = cell.sum_of_points_y / cell.nbr_of_points\n",
    "\n",
    "    distance = get_distance(x, y, center_of_mass_x, center_of_mass_y)\n",
    "    angle = (cell.w + cell.h)/(2*distance)\n",
    "    \n",
    "    if angle < theta || cell.nbr_of_points == 1\n",
    "        return [(center_of_mass_x, center_of_mass_y, cell.nbr_of_points), ]\n",
    "    else\n",
    "        return [p for quad in cell.childrens for p in evaluate(quad, x, y, theta)]\n",
    "        end;\n",
    "    \n",
    "    end;\n",
    "\n"
   ]
  },
  {
   "cell_type": "code",
   "execution_count": 154,
   "metadata": {},
   "outputs": [
    {
     "name": "stdout",
     "output_type": "stream",
     "text": [
      "97 / 1000\n"
     ]
    }
   ],
   "source": [
    "eff_points = evaluate(root, .3, .3);\n",
    "println(length(eff_points), \" / \",root.nbr_of_points)"
   ]
  },
  {
   "cell_type": "code",
   "execution_count": 303,
   "metadata": {},
   "outputs": [
    {
     "data": {
      "text/plain": [
       "2×100 Array{Float32,2}:\n",
       " 0.515165  0.565085  0.744498  0.387714  …  0.0540564  0.627997  0.232603\n",
       " 0.494269  0.561801  0.729106  0.367046     0.491442   0.505463  0.328011"
      ]
     },
     "execution_count": 303,
     "metadata": {},
     "output_type": "execute_result"
    }
   ],
   "source": [
    "points = rand(Float32, 2, N)"
   ]
  },
  {
   "cell_type": "code",
   "execution_count": 19,
   "metadata": {},
   "outputs": [],
   "source": []
  },
  {
   "cell_type": "code",
   "execution_count": 22,
   "metadata": {},
   "outputs": [
    {
     "data": {
      "text/plain": [
       "BenchmarkTools.Trial: \n",
       "  memory estimate:  310.64 KiB\n",
       "  allocs estimate:  3682\n",
       "  --------------\n",
       "  minimum time:     145.442 μs (0.00% GC)\n",
       "  median time:      155.739 μs (0.00% GC)\n",
       "  mean time:        196.484 μs (16.51% GC)\n",
       "  maximum time:     58.943 ms (99.69% GC)\n",
       "  --------------\n",
       "  samples:          10000\n",
       "  evals/sample:     1"
      ]
     },
     "execution_count": 22,
     "metadata": {},
     "output_type": "execute_result"
    }
   ],
   "source": [
    "@benchmark build_the_tree(points)\n",
    "# N 12       median time:      51.217 μs (0.00% GC)\n",
    "# N 123      median time:      815.989 μs (0.00% GC)\n",
    "# N 1234     median time:      11.633 ms (0.00% GC)\n",
    "# N 12345    median time:      163.042 ms (0.00% GC)\n",
    "\n",
    "# on HP\n",
    "# N 12     mean time:        1.291 μs (23.89% GC)\n",
    "# N 1000  median time:      155.739 μs (0.00% GC)"
   ]
  },
  {
   "cell_type": "code",
   "execution_count": 140,
   "metadata": {},
   "outputs": [
    {
     "data": {
      "text/plain": [
       "12"
      ]
     },
     "execution_count": 140,
     "metadata": {},
     "output_type": "execute_result"
    }
   ],
   "source": [
    "root.nbr_of_points"
   ]
  },
  {
   "cell_type": "code",
   "execution_count": 105,
   "metadata": {},
   "outputs": [],
   "source": [
    "# Profile.print()"
   ]
  },
  {
   "cell_type": "code",
   "execution_count": 61,
   "metadata": {},
   "outputs": [],
   "source": [
    "const EPSILON = 1e-4\n",
    "\n",
    "function repulsive_gradient(u, v)\n",
    "    d = sqrt(u^2 + v^2 + EPSILON)^3\n",
    "    return (u/d, v/d)\n",
    "    end;\n"
   ]
  },
  {
   "cell_type": "code",
   "execution_count": 93,
   "metadata": {},
   "outputs": [
    {
     "data": {
      "text/plain": [
       "BenchmarkTools.Trial: \n",
       "  memory estimate:  0 bytes\n",
       "  allocs estimate:  0\n",
       "  --------------\n",
       "  minimum time:     14.140 ns (0.00% GC)\n",
       "  median time:      15.045 ns (0.00% GC)\n",
       "  mean time:        15.262 ns (0.00% GC)\n",
       "  maximum time:     44.132 ns (0.00% GC)\n",
       "  --------------\n",
       "  samples:          10000\n",
       "  evals/sample:     998"
      ]
     },
     "execution_count": 93,
     "metadata": {},
     "output_type": "execute_result"
    }
   ],
   "source": [
    "@benchmark repulsive_gradient(242.2, $rand())"
   ]
  },
  {
   "cell_type": "code",
   "execution_count": 110,
   "metadata": {},
   "outputs": [],
   "source": [
    "# brute force\n",
    "function brute_force_gradient!(G, points)\n",
    "    fill!(G, 0.f0)\n",
    "    for (i, (x1, y1)) in enumerate( eachcol(points) )\n",
    "        for (j, (x2, y2)) in enumerate( eachcol(points[:, i+1:end]) )\n",
    "            j += i\n",
    "            u = x2 - x1\n",
    "            v = y2 - y1\n",
    "            grad_x, grad_y = repulsive_gradient(u, v)\n",
    "            G[1, i] += grad_x\n",
    "            G[2, i] += grad_y\n",
    "            G[1, j] -= grad_x\n",
    "            G[2, j] -= grad_y\n",
    "            end;\n",
    "        end;\n",
    "    end;"
   ]
  },
  {
   "cell_type": "code",
   "execution_count": 111,
   "metadata": {},
   "outputs": [],
   "source": [
    "# Barnes Hut\n",
    "function barnes_hut_gradient!(G, points, theta=.5)\n",
    "    fill!(G, 0.f0)\n",
    "    root = build_the_tree(points)\n",
    "    for (i, (x1, y1)) in enumerate( eachcol(points) )\n",
    "        effective_points = evaluate(root, x1, y1, theta)\n",
    "        for (x2, y2, n) in effective_points\n",
    "            u = x2 - x1\n",
    "            v = y2 - y1\n",
    "            grad_x, grad_y = repulsive_gradient(u, v)\n",
    "            G[1, i] += n*grad_x\n",
    "            G[2, i] += n*grad_y\n",
    "            end;\n",
    "        end;\n",
    "    end;"
   ]
  },
  {
   "cell_type": "code",
   "execution_count": 112,
   "metadata": {},
   "outputs": [],
   "source": [
    "points = [[0.0 1.0]; [0.0 0.0]]\n",
    "G = zeros(size(points));"
   ]
  },
  {
   "cell_type": "code",
   "execution_count": 113,
   "metadata": {},
   "outputs": [
    {
     "data": {
      "text/plain": [
       "2×2 Array{Float64,2}:\n",
       " 0.0  1.0\n",
       " 0.0  0.0"
      ]
     },
     "execution_count": 113,
     "metadata": {},
     "output_type": "execute_result"
    }
   ],
   "source": [
    "points"
   ]
  },
  {
   "cell_type": "code",
   "execution_count": 42,
   "metadata": {},
   "outputs": [
    {
     "data": {
      "text/plain": [
       "2×2 Array{Float64,2}:\n",
       " 0.99985  -0.99985\n",
       " 0.0       0.0    "
      ]
     },
     "execution_count": 42,
     "metadata": {},
     "output_type": "execute_result"
    }
   ],
   "source": [
    "brute_force_gradient!(G, points)\n",
    "G"
   ]
  },
  {
   "cell_type": "code",
   "execution_count": 47,
   "metadata": {},
   "outputs": [
    {
     "data": {
      "text/plain": [
       "2×1000 Array{Float64,2}:\n",
       " 0.0  0.0  0.0  0.0  0.0  0.0  0.0  0.0  …  0.0  0.0  0.0  0.0  0.0  0.0  0.0\n",
       " 0.0  0.0  0.0  0.0  0.0  0.0  0.0  0.0     0.0  0.0  0.0  0.0  0.0  0.0  0.0"
      ]
     },
     "execution_count": 47,
     "metadata": {},
     "output_type": "execute_result"
    }
   ],
   "source": [
<<<<<<< HEAD
    "# Random points\n",
    "N = 1000\n",
    "points = rand(Float64, 2, N)\n",
=======
    "c\n",
>>>>>>> origin/old_python_version
    "G = zeros(Float64, 2, N)"
   ]
  },
  {
   "cell_type": "code",
   "execution_count": 48,
   "metadata": {},
   "outputs": [
    {
     "data": {
      "text/plain": [
       "2×1000 Array{Float64,2}:\n",
       " -2712.6   -4969.8    -4333.43  -1790.98  …  -3299.38   1713.41  -3651.36\n",
       " -2414.94   -983.577  -2934.65  -5434.05      3397.43  -3048.26   1619.91"
      ]
     },
     "execution_count": 48,
     "metadata": {},
     "output_type": "execute_result"
    }
   ],
   "source": [
    "barnes_hut_gradient!(G, points, 0.5)\n",
    "G"
   ]
  },
  {
   "cell_type": "code",
   "execution_count": 49,
   "metadata": {},
   "outputs": [
    {
     "data": {
      "text/plain": [
       "2×1000 Array{Float64,2}:\n",
       " -2785.15  -5024.94   -4465.93  -1850.04  …  -3382.15   1763.31  -3663.6 \n",
       " -2357.01   -981.208  -2918.93  -5474.37      3314.06  -3100.87   1636.61"
      ]
     },
     "execution_count": 49,
     "metadata": {},
     "output_type": "execute_result"
    }
   ],
   "source": [
    "brute_force_gradient!(G, points)\n",
    "G"
   ]
  },
  {
   "cell_type": "code",
   "execution_count": 50,
   "metadata": {},
   "outputs": [
    {
     "data": {
      "text/plain": [
       "BenchmarkTools.Trial: \n",
       "  memory estimate:  7.81 MiB\n",
       "  allocs estimate:  2000\n",
       "  --------------\n",
       "  minimum time:     9.508 ms (0.00% GC)\n",
       "  median time:      10.614 ms (0.00% GC)\n",
       "  mean time:        10.916 ms (5.20% GC)\n",
       "  maximum time:     79.129 ms (86.17% GC)\n",
       "  --------------\n",
       "  samples:          458\n",
       "  evals/sample:     1"
      ]
     },
     "execution_count": 50,
     "metadata": {},
     "output_type": "execute_result"
    }
   ],
   "source": [
    "@benchmark brute_force_gradient!(G, points)\n",
    "#   median time:      193.477 μs (0.00% GC)  with Marray\n",
    "#   median time:      155.845 μs (0.00% GC)  with Array Float64"
   ]
  },
  {
   "cell_type": "code",
   "execution_count": 374,
   "metadata": {},
   "outputs": [
    {
     "data": {
      "text/plain": [
       "BenchmarkTools.Trial: \n",
       "  memory estimate:  6.59 MiB\n",
       "  allocs estimate:  257289\n",
       "  --------------\n",
       "  minimum time:     27.994 ms (0.00% GC)\n",
       "  median time:      33.146 ms (0.00% GC)\n",
       "  mean time:        36.588 ms (6.29% GC)\n",
       "  maximum time:     64.889 ms (29.63% GC)\n",
       "  --------------\n",
       "  samples:          137\n",
       "  evals/sample:     1"
      ]
     },
     "execution_count": 374,
     "metadata": {},
     "output_type": "execute_result"
    }
   ],
   "source": [
    "@benchmark barnes_hut_gradient!(G, points, 0.5)"
   ]
  },
  {
   "cell_type": "code",
   "execution_count": 381,
   "metadata": {},
   "outputs": [
    {
     "data": {
      "text/plain": [
       "BenchmarkTools.Trial: \n",
       "  memory estimate:  1.18 MiB\n",
       "  allocs estimate:  68142\n",
       "  --------------\n",
       "  minimum time:     2.538 ms (0.00% GC)\n",
       "  median time:      2.615 ms (0.00% GC)\n",
       "  mean time:        2.913 ms (7.99% GC)\n",
       "  maximum time:     12.434 ms (76.43% GC)\n",
       "  --------------\n",
       "  samples:          1712\n",
       "  evals/sample:     1"
      ]
     },
     "execution_count": 381,
     "metadata": {},
     "output_type": "execute_result"
    }
   ],
   "source": [
    "@benchmark barnes_hut_gradient2!(G, points, 0.5)"
   ]
  },
  {
   "cell_type": "code",
   "execution_count": 351,
   "metadata": {},
   "outputs": [],
   "source": [
    "# evaluate cell, x, y, theta=.5\n",
    "# Returns list of points (effective) with their mass\n",
    "function evaluate2(cell, x, y, fun, theta=.5)\n",
    "    \n",
    "    if cell.nbr_of_points != 0\n",
    "        \n",
    "        center_of_mass_x = cell.sum_of_points_x / cell.nbr_of_points\n",
    "        center_of_mass_y = cell.sum_of_points_y / cell.nbr_of_points\n",
    "\n",
    "        distance = get_distance(x, y, center_of_mass_x, center_of_mass_y)\n",
    "        angle = (cell.w + cell.h)/2/distance\n",
    "\n",
    "        if angle < theta || cell.nbr_of_points == 1\n",
    "            fun(center_of_mass_x, center_of_mass_y, cell.nbr_of_points)\n",
    "        else\n",
    "            for quad in cell.childrens\n",
    "                evaluate2(quad, x, y, fun, theta)\n",
    "                end;\n",
    "        \n",
    "            end;\n",
    "                    \n",
    "    \n",
    "        end;\n",
    "    end;\n",
    "\n",
    "# brute force\n",
    "function barnes_hut_gradient2!(G, points, theta=.5)\n",
    "    fill!(G, 0.f0)\n",
    "    root = build_the_tree(points)\n",
    "    for (i, (x1, y1)) in enumerate( eachcol(points) )\n",
    "        \n",
    "        function fun(x2, y2, n)\n",
    "            u = x2 - x1\n",
    "            v = y2 - y1\n",
    "            grad_x, grad_y = repulsive_gradient(u, v)\n",
    "            G[1, i] += n*grad_x\n",
    "            G[2, i] += n*grad_y\n",
    "            end;\n",
    "        evaluate2(root, x1, y1, fun, theta)\n",
    "        end;\n",
    "    end;\n",
    "\n",
    "\n",
    "# Barnes Hut 3\n",
    "        \n",
    "\n",
    "\n",
    "function accumulate_gradient!(G, i, x1, y1, x2, y2, n)\n",
    "    u = x2 - x1\n",
    "    v = y2 - y1\n",
    "    grad_x, grad_y = repulsive_gradient(u, v)\n",
    "    G[1, i] += n*grad_x\n",
    "    G[2, i] += n*grad_y\n",
    "    end;\n",
    "\n",
    "function barnes_hut_gradient3!(G, points, theta=.5)\n",
    "    fill!(G, 0.f0)\n",
    "    root = build_the_tree(points)\n",
    "    for (i, (x1, y1)) in enumerate( eachcol(points) )\n",
    "        evaluate3!(G, root, i, x1, y1, theta)\n",
    "        end;\n",
    "    end;\n",
    "\n",
    "function evaluate3!(G, cell, i, x1, y1, theta=.5)\n",
    "    \n",
    "    if cell.nbr_of_points != 0\n",
    "        \n",
    "        center_of_mass_x = cell.sum_of_points_x / cell.nbr_of_points\n",
    "        center_of_mass_y = cell.sum_of_points_y / cell.nbr_of_points\n",
    "\n",
    "        distance = get_distance(x1, y1, center_of_mass_x, center_of_mass_y)\n",
    "        angle = (cell.w + cell.h)/2/distance\n",
    "\n",
    "        if angle < theta || cell.nbr_of_points == 1\n",
    "            #accumulate_gradient!(G, i, x1, y1, center_of_mass_x, center_of_mass_y, cell.nbr_of_points)\n",
    "            n = cell.nbr_of_points\n",
    "            u = center_of_mass_x - x1\n",
    "            v = center_of_mass_y - y1\n",
    "            grad_x, grad_y = repulsive_gradient(u, v)\n",
    "            G[1, i] += n*grad_x\n",
    "            G[2, i] += n*grad_y\n",
    "        else\n",
    "            for quad in cell.childrens \n",
    "                evaluate3!(G, quad, i, x1, y1, theta)\n",
    "                end;\n",
    "        \n",
    "            end;\n",
    "                    \n",
    "    \n",
    "        end;\n",
    "    end;"
   ]
  },
  {
   "cell_type": "code",
   "execution_count": 352,
   "metadata": {},
   "outputs": [
    {
     "data": {
      "text/plain": [
       "2×1000 Array{Float32,2}:\n",
       " 2722.28  5075.01  -2374.55  -2576.62  …  -3940.12  -6806.39   -961.307\n",
       " 3712.06   315.58  -3314.14  -5254.99     -1286.82  -1155.95  -4612.31 "
      ]
     },
     "execution_count": 352,
     "metadata": {},
     "output_type": "execute_result"
    }
   ],
   "source": [
    "barnes_hut_gradient2!(G, points, .5)\n",
    "G"
   ]
  },
  {
   "cell_type": "code",
   "execution_count": 344,
   "metadata": {},
   "outputs": [
    {
     "data": {
      "text/plain": [
       "2×1000 Array{Float32,2}:\n",
       " 2713.85  5158.2    -2379.62  -2594.59  …  -3959.17  -6870.55   -932.363\n",
       " 3749.46   365.158  -3371.21  -5307.76     -1231.82  -1145.16  -4678.95 "
      ]
     },
     "execution_count": 344,
     "metadata": {},
     "output_type": "execute_result"
    }
   ],
   "source": [
    "brute_force_gradient!(G, points)\n",
    "G"
   ]
  },
  {
   "cell_type": "code",
   "execution_count": 345,
   "metadata": {},
   "outputs": [
    {
     "data": {
      "text/plain": [
       "2×1000 Array{Float32,2}:\n",
       " 2722.28  5075.01  -2374.55  -2576.62  …  -3940.12  -6806.39   -961.307\n",
       " 3712.06   315.58  -3314.14  -5254.99     -1286.82  -1155.95  -4612.31 "
      ]
     },
     "execution_count": 345,
     "metadata": {},
     "output_type": "execute_result"
    }
   ],
   "source": [
    "barnes_hut_gradient3!(G, points)\n",
    "G"
   ]
  },
  {
   "cell_type": "code",
   "execution_count": 353,
   "metadata": {},
   "outputs": [
    {
     "data": {
      "text/plain": [
       "BenchmarkTools.Trial: \n",
       "  memory estimate:  9.49 MiB\n",
       "  allocs estimate:  557419\n",
       "  --------------\n",
       "  minimum time:     29.388 ms (0.00% GC)\n",
       "  median time:      29.773 ms (0.00% GC)\n",
       "  mean time:        31.945 ms (5.63% GC)\n",
       "  maximum time:     42.292 ms (20.49% GC)\n",
       "  --------------\n",
       "  samples:          157\n",
       "  evals/sample:     1"
      ]
     },
     "execution_count": 353,
     "metadata": {},
     "output_type": "execute_result"
    }
   ],
   "source": [
    "@benchmark barnes_hut_gradient2!(G, points, 1.)\n",
    "#   median time:      29.461 ms (0.00% GC)\n",
    "#  median time:      31.904 ms (0.00% GC)  with checking children"
   ]
  },
  {
   "cell_type": "code",
   "execution_count": 346,
   "metadata": {},
   "outputs": [
    {
     "data": {
      "text/plain": [
       "BenchmarkTools.Trial: \n",
       "  memory estimate:  16.88 MiB\n",
       "  allocs estimate:  1010453\n",
       "  --------------\n",
       "  minimum time:     48.850 ms (0.00% GC)\n",
       "  median time:      49.490 ms (0.00% GC)\n",
       "  mean time:        52.836 ms (5.71% GC)\n",
       "  maximum time:     62.961 ms (12.65% GC)\n",
       "  --------------\n",
       "  samples:          95\n",
       "  evals/sample:     1"
      ]
     },
     "execution_count": 346,
     "metadata": {},
     "output_type": "execute_result"
    }
   ],
   "source": [
    "@benchmark barnes_hut_gradient3!(G, points, 1.)"
   ]
  },
  {
   "cell_type": "code",
   "execution_count": 341,
   "metadata": {},
   "outputs": [
    {
     "data": {
      "text/plain": [
       "BenchmarkTools.Trial: \n",
       "  memory estimate:  4.00 MiB\n",
       "  allocs estimate:  2000\n",
       "  --------------\n",
       "  minimum time:     16.129 ms (0.00% GC)\n",
       "  median time:      16.258 ms (0.00% GC)\n",
       "  mean time:        16.633 ms (2.03% GC)\n",
       "  maximum time:     20.311 ms (18.36% GC)\n",
       "  --------------\n",
       "  samples:          301\n",
       "  evals/sample:     1"
      ]
     },
     "execution_count": 341,
     "metadata": {},
     "output_type": "execute_result"
    }
   ],
   "source": [
    "@benchmark brute_force_gradient!(G, points)"
   ]
  },
  {
   "cell_type": "code",
   "execution_count": 319,
   "metadata": {},
   "outputs": [
    {
     "data": {
      "text/plain": [
       "BenchmarkTools.Trial: \n",
       "  memory estimate:  1.22 MiB\n",
       "  allocs estimate:  66590\n",
       "  --------------\n",
       "  minimum time:     9.173 ms (0.00% GC)\n",
       "  median time:      9.323 ms (0.00% GC)\n",
       "  mean time:        9.669 ms (2.28% GC)\n",
       "  maximum time:     19.198 ms (47.96% GC)\n",
       "  --------------\n",
       "  samples:          517\n",
       "  evals/sample:     1"
      ]
     },
     "execution_count": 319,
     "metadata": {},
     "output_type": "execute_result"
    }
   ],
   "source": [
    "@benchmark build_the_tree(points)"
   ]
  },
  {
   "cell_type": "code",
   "execution_count": 388,
   "metadata": {},
   "outputs": [
    {
     "data": {
      "text/plain": [
       "2×10000 Array{Float32,2}:\n",
       " 0.692833  0.812582   0.483143  0.629875  …  0.940152  0.875751  0.527805\n",
       " 0.487994  0.0752831  0.858594  0.487042     0.100747  0.552562  0.591484"
      ]
     },
     "execution_count": 388,
     "metadata": {},
     "output_type": "execute_result"
    }
   ],
   "source": [
    "# Random points\n",
    "N = 10000\n",
    "points = rand(Float32, 2, N)"
   ]
  },
  {
   "cell_type": "code",
   "execution_count": 403,
   "metadata": {},
   "outputs": [
    {
     "data": {
      "text/plain": [
       "BenchmarkTools.Trial: \n",
       "  memory estimate:  224 bytes\n",
       "  allocs estimate:  3\n",
       "  --------------\n",
       "  minimum time:     126.405 ns (0.00% GC)\n",
       "  median time:      134.332 ns (0.00% GC)\n",
       "  mean time:        183.348 ns (24.03% GC)\n",
       "  maximum time:     11.125 μs (98.59% GC)\n",
       "  --------------\n",
       "  samples:          10000\n",
       "  evals/sample:     911"
      ]
     },
     "execution_count": 403,
     "metadata": {},
     "output_type": "execute_result"
    }
   ],
   "source": [
    "@benchmark xy = points[[1, 2], 633]\n",
    "#   median time:      134.383 ns (0.00% GC)\n",
    "#   median time:      294.783 ns (0.00% GC)\n",
    "#   median time:      391.080 ns (0.00% GC)  individual access\n",
    "#   median time:      678.156 ns (0.00% GC)    points = rand(Float32, 2, N)\n",
    "#   median time:      1.102 μs (0.00% GC)  points = rand(Float32, N, 2)"
   ]
  },
  {
   "cell_type": "code",
   "execution_count": 399,
   "metadata": {},
   "outputs": [
    {
     "data": {
      "text/plain": [
       "2-element Array{Float32,1}:\n",
       " 0.013183832\n",
       " 0.4978845  "
      ]
     },
     "execution_count": 399,
     "metadata": {},
     "output_type": "execute_result"
    }
   ],
   "source": [
    "xy = points[[1, 2], 6363]"
   ]
  },
  {
   "cell_type": "code",
   "execution_count": 397,
   "metadata": {},
   "outputs": [
    {
     "data": {
      "text/plain": [
       "2-element Array{Float32,1}:\n",
       " 0.013183832\n",
       " 0.4978845  "
      ]
     },
     "execution_count": 397,
     "metadata": {},
     "output_type": "execute_result"
    }
   ],
   "source": [
    "xy"
   ]
  },
  {
   "cell_type": "code",
   "execution_count": null,
   "metadata": {},
   "outputs": [],
   "source": []
  }
 ],
 "metadata": {
  "kernelspec": {
   "display_name": "Julia 1.2.0",
   "language": "julia",
   "name": "julia-1.2"
  },
  "language_info": {
   "file_extension": ".jl",
   "mimetype": "application/julia",
   "name": "julia",
   "version": "1.2.0"
  }
 },
 "nbformat": 4,
 "nbformat_minor": 2
}
