{
 "cells": [
  {
   "cell_type": "markdown",
   "metadata": {},
   "source": [
    "## Export to geojson"
   ]
  },
  {
   "cell_type": "code",
   "execution_count": 21,
   "metadata": {},
   "outputs": [],
   "source": [
    "import glob\n",
    "import json, geojson"
   ]
  },
  {
   "cell_type": "code",
   "execution_count": 22,
   "metadata": {},
   "outputs": [
    {
     "name": "stdout",
     "output_type": "stream",
     "text": [
      "['./data/028295730_294_coords.json', './data/028295730_129_coords.json']\n"
     ]
    }
   ],
   "source": [
    "filelist = glob.glob(\"./data/*coords.json\")\n",
    "print(filelist)"
   ]
  },
  {
   "cell_type": "code",
   "execution_count": 34,
   "metadata": {},
   "outputs": [
    {
     "name": "stdout",
     "output_type": "stream",
     "text": [
      "./data/028295730_294_coords.json\n",
      "37 chains\n",
      "293 coords\n",
      "294 thesis\n"
     ]
    }
   ],
   "source": [
    "# Loads files\n",
    "coords_file = filelist[0]\n",
    "print(coords_file)\n",
    "graph_file = coords_file.replace(\"_coords.json\", \"_chains.json\")\n",
    "thesis_file = coords_file.replace(\"_coords.json\", \"_thesis.json\")\n",
    "chaininfo_file = coords_file.replace(\"_coords.json\", \"_chaininfo.json\")\n",
    "\n",
    "\n",
    "with open(graph_file) as f:\n",
    "    chains = json.load(f)\n",
    "\n",
    "with open(chaininfo_file) as f:\n",
    "    chaininfo = json.load(f)\n",
    "    \n",
    "print(len(chains), 'chains')\n",
    "\n",
    "with open(coords_file) as f:\n",
    "    coords = json.load(f)\n",
    "    \n",
    "print(len(coords), 'coords')\n",
    "\n",
    "with open(thesis_file) as f:\n",
    "    thesis = json.load(f)\n",
    "    \n",
    "print(len(thesis), 'thesis')"
   ]
  },
  {
   "cell_type": "code",
   "execution_count": 35,
   "metadata": {},
   "outputs": [],
   "source": [
    "# Unit conversion\n",
    "x_min, x_max = min(x[0] for x in coords.values()), max(x[0] for x in coords.values())\n",
    "y_min, y_max = min(x[1] for x in coords.values()), max(x[1] for x in coords.values())\n",
    "\n",
    "lat_zero, lon_zero = 10, 10\n",
    "lat_range, lon_range = 40, 40\n",
    "\n",
    "x_range = x_max - x_min\n",
    "y_range = y_max - y_min\n",
    "\n",
    "def to_angles(x, y):\n",
    "    lat = (x - x_min)/x_range * lat_range + lat_zero\n",
    "    lon = (y - y_min)/y_range * lon_range + lon_zero\n",
    "    return lat, lon"
   ]
  },
  {
   "cell_type": "code",
   "execution_count": 36,
   "metadata": {},
   "outputs": [],
   "source": [
    "chain_lines = []\n",
    "for chain in chains:\n",
    "    points = [geojson.Point(to_angles(*coords[node])) for node in chain]\n",
    "    ls = geojson.LineString(points)\n",
    "    feat = geojson.Feature(geometry=ls, properties=chaininfo[chain[0]] ) \n",
    "    chain_lines.append(feat)\n",
    "\n",
    "line_collect = geojson.FeatureCollection(chain_lines)\n",
    "\n",
    "dump = geojson.dumps(line_collect)\n",
    "\n",
    "with open('./geojson/lines.geojson', 'w') as f:\n",
    "    f.write(dump)"
   ]
  },
  {
   "cell_type": "markdown",
   "metadata": {},
   "source": [
    "Feature Collections:\n",
    "\n",
    "- lines: color, length\n",
    "- thesis: nbr of thesis (i.e. director or not), searched?\n",
    "\n",
    "Larger scale:\n",
    "- city\n",
    "- doctoral school"
   ]
  },
  {
   "cell_type": "code",
   "execution_count": 38,
   "metadata": {},
   "outputs": [
    {
     "name": "stdout",
     "output_type": "stream",
     "text": [
      "key error for  DG_0_124040101\n"
     ]
    }
   ],
   "source": [
    "th_features = []\n",
    "for th_id, info in thesis.items():\n",
    "    if th_id not in coords:\n",
    "        print(\"key error for \", th_id)\n",
    "        continue\n",
    "    point = geojson.Point(to_angles(*coords[th_id]))\n",
    "    feat = geojson.Feature(geometry=point, properties=info)\n",
    "    th_features.append(feat)\n",
    "                           \n",
    "th_features = geojson.FeatureCollection(th_features)\n",
    "\n",
    "dump = geojson.dumps(th_features)\n",
    "\n",
    "with open('./geojson/thesis.geojson', 'w') as f:\n",
    "    f.write(dump)"
   ]
  },
  {
   "cell_type": "code",
   "execution_count": 39,
   "metadata": {},
   "outputs": [
    {
     "data": {
      "text/plain": [
       "{'author': ['Domenico Gallipoli', 'http://www.theses.fr/124040101/id'],\n",
       " 'year': 0,\n",
       " 'id': None,\n",
       " 'directors': [],\n",
       " 'short_id': 'DG_0_124040101'}"
      ]
     },
     "execution_count": 39,
     "metadata": {},
     "output_type": "execute_result"
    }
   ],
   "source": [
    "thesis['DG_0_124040101']"
   ]
  },
  {
   "cell_type": "code",
   "execution_count": null,
   "metadata": {},
   "outputs": [],
   "source": []
  }
 ],
 "metadata": {
  "kernelspec": {
   "display_name": "py3-projects",
   "language": "python",
   "name": "py3-projects"
  },
  "language_info": {
   "codemirror_mode": {
    "name": "ipython",
    "version": 3
   },
   "file_extension": ".py",
   "mimetype": "text/x-python",
   "name": "python",
   "nbconvert_exporter": "python",
   "pygments_lexer": "ipython3",
   "version": "3.7.5"
  }
 },
 "nbformat": 4,
 "nbformat_minor": 2
}
