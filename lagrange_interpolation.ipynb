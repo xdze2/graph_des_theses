{
 "cells": [
  {
   "cell_type": "markdown",
   "metadata": {},
   "source": [
    "# Interpolation de polynomial de Lagrange\n",
    "https://en.wikipedia.org/wiki/Lagrange_polynomial"
   ]
  },
  {
   "cell_type": "code",
   "execution_count": 105,
   "metadata": {},
   "outputs": [],
   "source": [
    "using(Plots)"
   ]
  },
  {
   "cell_type": "code",
   "execution_count": 106,
   "metadata": {},
   "outputs": [
    {
     "data": {
      "text/plain": [
       "4-element Array{Tuple{Int64,Array{Float64,1}},1}:\n",
       " (4, [5.0, 1.0])\n",
       " (5, [1.0, 3.0])\n",
       " (9, [6.0, 7.0])\n",
       " (1, [8.0, 8.0])"
      ]
     },
     "execution_count": 106,
     "metadata": {},
     "output_type": "execute_result"
    }
   ],
   "source": [
    "knots = [(4, [5., 1.]), (5, [1., 3.]), (9, [6., 7.]), (1, [8., 8.])]"
   ]
  },
  {
   "cell_type": "code",
   "execution_count": 107,
   "metadata": {},
   "outputs": [
    {
     "data": {
      "text/plain": [
       "L (generic function with 1 method)"
      ]
     },
     "execution_count": 107,
     "metadata": {},
     "output_type": "execute_result"
    }
   ],
   "source": [
    "el(j, x) = prod(m -> if (j != m); (x - knots[m][1])/(knots[j][1] - knots[m][1]) else 1 end, 1:length(knots))\n",
    "L(x) = sum(j -> knots[j][2].*el(j, x), 1:length(knots))"
   ]
  },
  {
   "cell_type": "code",
   "execution_count": 112,
   "metadata": {},
   "outputs": [],
   "source": [
    "u = range(0, 10, step=.1)\n",
    "line = L.(u);"
   ]
  },
  {
   "cell_type": "code",
   "execution_count": 113,
   "metadata": {},
   "outputs": [
    {
     "data": {
      "image/svg+xml": [
       "<?xml version=\"1.0\" encoding=\"utf-8\"?>\n",
       "<svg xmlns=\"http://www.w3.org/2000/svg\" xmlns:xlink=\"http://www.w3.org/1999/xlink\" width=\"600\" height=\"400\" viewBox=\"0 0 2400 1600\">\n",
       "<defs>\n",
       "  <clipPath id=\"clip9700\">\n",
       "    <rect x=\"0\" y=\"0\" width=\"2400\" height=\"1600\"/>\n",
       "  </clipPath>\n",
       "</defs>\n",
       "<path clip-path=\"url(#clip9700)\" d=\"\n",
       "M0 1600 L2400 1600 L2400 0 L0 0  Z\n",
       "  \" fill=\"#ffffff\" fill-rule=\"evenodd\" fill-opacity=\"1\"/>\n",
       "<defs>\n",
       "  <clipPath id=\"clip9701\">\n",
       "    <rect x=\"480\" y=\"0\" width=\"1681\" height=\"1600\"/>\n",
       "  </clipPath>\n",
       "</defs>\n",
       "<path clip-path=\"url(#clip9700)\" d=\"\n",
       "M140.517 1487.47 L2352.76 1487.47 L2352.76 47.2441 L140.517 47.2441  Z\n",
       "  \" fill=\"#ffffff\" fill-rule=\"evenodd\" fill-opacity=\"1\"/>\n",
       "<defs>\n",
       "  <clipPath id=\"clip9702\">\n",
       "    <rect x=\"140\" y=\"47\" width=\"2213\" height=\"1441\"/>\n",
       "  </clipPath>\n",
       "</defs>\n",
       "<polyline clip-path=\"url(#clip9702)\" style=\"stroke:#000000; stroke-width:2; stroke-opacity:0.1; fill:none\" points=\"\n",
       "  239.509,1487.47 239.509,47.2441 \n",
       "  \"/>\n",
       "<polyline clip-path=\"url(#clip9702)\" style=\"stroke:#000000; stroke-width:2; stroke-opacity:0.1; fill:none\" points=\"\n",
       "  629.384,1487.47 629.384,47.2441 \n",
       "  \"/>\n",
       "<polyline clip-path=\"url(#clip9702)\" style=\"stroke:#000000; stroke-width:2; stroke-opacity:0.1; fill:none\" points=\"\n",
       "  1019.26,1487.47 1019.26,47.2441 \n",
       "  \"/>\n",
       "<polyline clip-path=\"url(#clip9702)\" style=\"stroke:#000000; stroke-width:2; stroke-opacity:0.1; fill:none\" points=\"\n",
       "  1409.14,1487.47 1409.14,47.2441 \n",
       "  \"/>\n",
       "<polyline clip-path=\"url(#clip9702)\" style=\"stroke:#000000; stroke-width:2; stroke-opacity:0.1; fill:none\" points=\"\n",
       "  1799.01,1487.47 1799.01,47.2441 \n",
       "  \"/>\n",
       "<polyline clip-path=\"url(#clip9702)\" style=\"stroke:#000000; stroke-width:2; stroke-opacity:0.1; fill:none\" points=\"\n",
       "  2188.89,1487.47 2188.89,47.2441 \n",
       "  \"/>\n",
       "<polyline clip-path=\"url(#clip9702)\" style=\"stroke:#000000; stroke-width:2; stroke-opacity:0.1; fill:none\" points=\"\n",
       "  140.517,1481.81 2352.76,1481.81 \n",
       "  \"/>\n",
       "<polyline clip-path=\"url(#clip9702)\" style=\"stroke:#000000; stroke-width:2; stroke-opacity:0.1; fill:none\" points=\"\n",
       "  140.517,1091.93 2352.76,1091.93 \n",
       "  \"/>\n",
       "<polyline clip-path=\"url(#clip9702)\" style=\"stroke:#000000; stroke-width:2; stroke-opacity:0.1; fill:none\" points=\"\n",
       "  140.517,702.059 2352.76,702.059 \n",
       "  \"/>\n",
       "<polyline clip-path=\"url(#clip9702)\" style=\"stroke:#000000; stroke-width:2; stroke-opacity:0.1; fill:none\" points=\"\n",
       "  140.517,312.184 2352.76,312.184 \n",
       "  \"/>\n",
       "<polyline clip-path=\"url(#clip9700)\" style=\"stroke:#000000; stroke-width:4; stroke-opacity:1; fill:none\" points=\"\n",
       "  140.517,1487.47 2352.76,1487.47 \n",
       "  \"/>\n",
       "<polyline clip-path=\"url(#clip9700)\" style=\"stroke:#000000; stroke-width:4; stroke-opacity:1; fill:none\" points=\"\n",
       "  140.517,1487.47 140.517,47.2441 \n",
       "  \"/>\n",
       "<polyline clip-path=\"url(#clip9700)\" style=\"stroke:#000000; stroke-width:4; stroke-opacity:1; fill:none\" points=\"\n",
       "  239.509,1487.47 239.509,1465.87 \n",
       "  \"/>\n",
       "<polyline clip-path=\"url(#clip9700)\" style=\"stroke:#000000; stroke-width:4; stroke-opacity:1; fill:none\" points=\"\n",
       "  629.384,1487.47 629.384,1465.87 \n",
       "  \"/>\n",
       "<polyline clip-path=\"url(#clip9700)\" style=\"stroke:#000000; stroke-width:4; stroke-opacity:1; fill:none\" points=\"\n",
       "  1019.26,1487.47 1019.26,1465.87 \n",
       "  \"/>\n",
       "<polyline clip-path=\"url(#clip9700)\" style=\"stroke:#000000; stroke-width:4; stroke-opacity:1; fill:none\" points=\"\n",
       "  1409.14,1487.47 1409.14,1465.87 \n",
       "  \"/>\n",
       "<polyline clip-path=\"url(#clip9700)\" style=\"stroke:#000000; stroke-width:4; stroke-opacity:1; fill:none\" points=\"\n",
       "  1799.01,1487.47 1799.01,1465.87 \n",
       "  \"/>\n",
       "<polyline clip-path=\"url(#clip9700)\" style=\"stroke:#000000; stroke-width:4; stroke-opacity:1; fill:none\" points=\"\n",
       "  2188.89,1487.47 2188.89,1465.87 \n",
       "  \"/>\n",
       "<polyline clip-path=\"url(#clip9700)\" style=\"stroke:#000000; stroke-width:4; stroke-opacity:1; fill:none\" points=\"\n",
       "  140.517,1481.81 173.7,1481.81 \n",
       "  \"/>\n",
       "<polyline clip-path=\"url(#clip9700)\" style=\"stroke:#000000; stroke-width:4; stroke-opacity:1; fill:none\" points=\"\n",
       "  140.517,1091.93 173.7,1091.93 \n",
       "  \"/>\n",
       "<polyline clip-path=\"url(#clip9700)\" style=\"stroke:#000000; stroke-width:4; stroke-opacity:1; fill:none\" points=\"\n",
       "  140.517,702.059 173.7,702.059 \n",
       "  \"/>\n",
       "<polyline clip-path=\"url(#clip9700)\" style=\"stroke:#000000; stroke-width:4; stroke-opacity:1; fill:none\" points=\"\n",
       "  140.517,312.184 173.7,312.184 \n",
       "  \"/>\n",
       "<g clip-path=\"url(#clip9700)\">\n",
       "<text style=\"fill:#000000; fill-opacity:1; font-family:Arial,Helvetica Neue,Helvetica,sans-serif; font-size:48px; text-anchor:middle;\" transform=\"rotate(0, 239.509, 1541.47)\" x=\"239.509\" y=\"1541.47\">-5</text>\n",
       "</g>\n",
       "<g clip-path=\"url(#clip9700)\">\n",
       "<text style=\"fill:#000000; fill-opacity:1; font-family:Arial,Helvetica Neue,Helvetica,sans-serif; font-size:48px; text-anchor:middle;\" transform=\"rotate(0, 629.384, 1541.47)\" x=\"629.384\" y=\"1541.47\">0</text>\n",
       "</g>\n",
       "<g clip-path=\"url(#clip9700)\">\n",
       "<text style=\"fill:#000000; fill-opacity:1; font-family:Arial,Helvetica Neue,Helvetica,sans-serif; font-size:48px; text-anchor:middle;\" transform=\"rotate(0, 1019.26, 1541.47)\" x=\"1019.26\" y=\"1541.47\">5</text>\n",
       "</g>\n",
       "<g clip-path=\"url(#clip9700)\">\n",
       "<text style=\"fill:#000000; fill-opacity:1; font-family:Arial,Helvetica Neue,Helvetica,sans-serif; font-size:48px; text-anchor:middle;\" transform=\"rotate(0, 1409.14, 1541.47)\" x=\"1409.14\" y=\"1541.47\">10</text>\n",
       "</g>\n",
       "<g clip-path=\"url(#clip9700)\">\n",
       "<text style=\"fill:#000000; fill-opacity:1; font-family:Arial,Helvetica Neue,Helvetica,sans-serif; font-size:48px; text-anchor:middle;\" transform=\"rotate(0, 1799.01, 1541.47)\" x=\"1799.01\" y=\"1541.47\">15</text>\n",
       "</g>\n",
       "<g clip-path=\"url(#clip9700)\">\n",
       "<text style=\"fill:#000000; fill-opacity:1; font-family:Arial,Helvetica Neue,Helvetica,sans-serif; font-size:48px; text-anchor:middle;\" transform=\"rotate(0, 2188.89, 1541.47)\" x=\"2188.89\" y=\"1541.47\">20</text>\n",
       "</g>\n",
       "<g clip-path=\"url(#clip9700)\">\n",
       "<text style=\"fill:#000000; fill-opacity:1; font-family:Arial,Helvetica Neue,Helvetica,sans-serif; font-size:48px; text-anchor:end;\" transform=\"rotate(0, 116.517, 1499.31)\" x=\"116.517\" y=\"1499.31\">0</text>\n",
       "</g>\n",
       "<g clip-path=\"url(#clip9700)\">\n",
       "<text style=\"fill:#000000; fill-opacity:1; font-family:Arial,Helvetica Neue,Helvetica,sans-serif; font-size:48px; text-anchor:end;\" transform=\"rotate(0, 116.517, 1109.43)\" x=\"116.517\" y=\"1109.43\">5</text>\n",
       "</g>\n",
       "<g clip-path=\"url(#clip9700)\">\n",
       "<text style=\"fill:#000000; fill-opacity:1; font-family:Arial,Helvetica Neue,Helvetica,sans-serif; font-size:48px; text-anchor:end;\" transform=\"rotate(0, 116.517, 719.559)\" x=\"116.517\" y=\"719.559\">10</text>\n",
       "</g>\n",
       "<g clip-path=\"url(#clip9700)\">\n",
       "<text style=\"fill:#000000; fill-opacity:1; font-family:Arial,Helvetica Neue,Helvetica,sans-serif; font-size:48px; text-anchor:end;\" transform=\"rotate(0, 116.517, 329.684)\" x=\"116.517\" y=\"329.684\">15</text>\n",
       "</g>\n",
       "<polyline clip-path=\"url(#clip9702)\" style=\"stroke:#009af9; stroke-width:12; stroke-opacity:1; fill:none\" points=\"\n",
       "  746.347,88.0053 816.347,182.628 881.774,273.134 942.733,359.599 999.329,442.098 1051.67,520.706 1099.86,595.499 1143.99,666.55 1184.19,733.936 1220.55,797.73 \n",
       "  1253.19,858.01 1282.19,914.848 1307.67,968.321 1329.74,1018.5 1348.5,1065.47 1364.06,1109.3 1376.51,1150.06 1385.97,1187.83 1392.54,1222.68 1396.33,1254.7 \n",
       "  1397.44,1283.95 1395.98,1310.51 1392.04,1334.45 1385.75,1355.86 1377.2,1374.8 1366.49,1391.35 1353.74,1405.58 1339.05,1417.58 1322.52,1427.41 1304.26,1435.15 \n",
       "  1284.38,1440.87 1262.97,1444.66 1240.15,1446.58 1216.02,1446.71 1190.68,1445.13 1164.24,1441.91 1136.82,1437.12 1108.5,1430.85 1079.39,1423.16 1049.61,1414.13 \n",
       "  1019.26,1403.84 988.438,1392.35 957.254,1379.76 925.813,1366.12 894.219,1351.52 862.579,1336.03 830.997,1319.73 799.579,1302.69 768.43,1284.99 737.655,1266.69 \n",
       "  707.359,1247.89 677.649,1228.64 648.629,1209.03 620.404,1189.13 593.079,1169.02 566.761,1148.77 541.553,1128.46 517.562,1108.16 494.893,1087.94 473.65,1067.89 \n",
       "  453.94,1048.07 435.868,1028.57 419.538,1009.45 405.056,990.798 392.527,972.68 382.057,955.174 373.751,938.355 367.713,922.299 364.051,907.079 362.867,892.772 \n",
       "  364.269,879.453 368.361,867.196 375.248,856.076 385.036,846.169 397.829,837.549 413.734,830.292 432.856,824.473 455.299,820.166 481.169,817.447 510.572,816.391 \n",
       "  543.612,817.073 580.395,819.567 621.025,823.95 665.61,830.296 714.252,838.68 767.059,849.177 824.135,861.862 885.585,876.81 951.515,894.097 1022.03,913.796 \n",
       "  1097.24,935.985 1177.24,960.736 1262.14,988.127 1352.04,1018.23 1447.06,1051.12 1547.3,1086.88 1652.85,1125.57 1763.84,1167.28 1880.35,1212.08 2002.51,1260.04 \n",
       "  2130.41,1311.24 \n",
       "  \"/>\n",
       "<circle clip-path=\"url(#clip9702)\" style=\"fill:#000000; stroke:none; fill-opacity:1\" cx=\"1019.26\" cy=\"1403.84\" r=\"18\"/>\n",
       "<circle clip-path=\"url(#clip9702)\" style=\"fill:#e26f46; stroke:none; fill-opacity:1\" cx=\"1019.26\" cy=\"1403.84\" r=\"14\"/>\n",
       "<circle clip-path=\"url(#clip9702)\" style=\"fill:#000000; stroke:none; fill-opacity:1\" cx=\"707.359\" cy=\"1247.89\" r=\"18\"/>\n",
       "<circle clip-path=\"url(#clip9702)\" style=\"fill:#e26f46; stroke:none; fill-opacity:1\" cx=\"707.359\" cy=\"1247.89\" r=\"14\"/>\n",
       "<circle clip-path=\"url(#clip9702)\" style=\"fill:#000000; stroke:none; fill-opacity:1\" cx=\"1097.24\" cy=\"935.985\" r=\"18\"/>\n",
       "<circle clip-path=\"url(#clip9702)\" style=\"fill:#e26f46; stroke:none; fill-opacity:1\" cx=\"1097.24\" cy=\"935.985\" r=\"14\"/>\n",
       "<circle clip-path=\"url(#clip9702)\" style=\"fill:#000000; stroke:none; fill-opacity:1\" cx=\"1253.19\" cy=\"858.01\" r=\"18\"/>\n",
       "<circle clip-path=\"url(#clip9702)\" style=\"fill:#e26f46; stroke:none; fill-opacity:1\" cx=\"1253.19\" cy=\"858.01\" r=\"14\"/>\n",
       "</svg>\n"
      ]
     },
     "execution_count": 113,
     "metadata": {},
     "output_type": "execute_result"
    }
   ],
   "source": [
    "fig = plot(legend=false, aspect_ratio=:equal)\n",
    "plot!(getindex.(line, 1), getindex.(line, 2), linewidth=3)\n",
    "scatter!(map(k->k[2][1], knots), map(k->k[2][2], knots))"
   ]
  },
  {
   "cell_type": "code",
   "execution_count": null,
   "metadata": {},
   "outputs": [],
   "source": []
  }
 ],
 "metadata": {
  "kernelspec": {
   "display_name": "Julia 1.2.0",
   "language": "julia",
   "name": "julia-1.2"
  },
  "language_info": {
   "file_extension": ".jl",
   "mimetype": "application/julia",
   "name": "julia",
   "version": "1.2.0"
  }
 },
 "nbformat": 4,
 "nbformat_minor": 2
}
