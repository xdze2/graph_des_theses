{
 "cells": [
  {
   "cell_type": "markdown",
   "metadata": {},
   "source": [
    "## quadtree\n",
    "\n",
    "https://www.cs.princeton.edu/courses/archive/fall03/cs126/assignments/barnes-hut.html\n",
    "http://www-inf.telecom-sudparis.eu/COURS/CSC5001/new_site/Supports/Projet/NBody/barnes_86.pdf  \n",
    "https://en.wikipedia.org/wiki/Barnes%E2%80%93Hut_simulation\n",
    "\n",
    "https://github.com/rdeits/RegionTrees.jl\n",
    "\n",
    "https://github.com/JuliaArrays/StaticArrays.jl"
   ]
  },
  {
   "cell_type": "code",
   "execution_count": 74,
   "metadata": {},
   "outputs": [
    {
     "name": "stderr",
     "output_type": "stream",
     "text": [
      "┌ Info: Precompiling BenchmarkTools [6e4b80f9-dd63-53aa-95a3-0cdb28fa8baf]\n",
      "└ @ Base loading.jl:1273\n"
     ]
    }
   ],
   "source": [
    "using BenchmarkTools"
   ]
  },
  {
   "cell_type": "code",
   "execution_count": 1,
   "metadata": {},
   "outputs": [],
   "source": [
    "mutable struct Cell\n",
    "    x ::AbstractFloat\n",
    "    y ::AbstractFloat\n",
    "    w ::AbstractFloat\n",
    "    h ::AbstractFloat\n",
    "    nbr_of_points ::Int\n",
    "    sum_of_points_x ::Union{Nothing, AbstractFloat}\n",
    "    sum_of_points_y ::Union{Nothing, AbstractFloat}\n",
    "    childrens ::Union{Nothing, Tuple{Cell, Cell, Cell, Cell}}\n",
    "end;"
   ]
  },
  {
   "cell_type": "markdown",
   "metadata": {},
   "source": [
    "\n",
    "1. If node x does not contain a body, put the new body b here.\n",
    "2. If node x is an internal node, update the center-of-mass and total mass of x. Recursively insert the body b in the appropriate quadrant.\n",
    "3. If node x is an external node, say containing a body named c, then there are two bodies b and c in the same region. Subdivide the region further by creating four children. Then, recursively insert both b and c into the appropriate quadrant(s). Since b and c may still end up in the same quadrant, there may be several subdivisions during a single insertion. Finally, update the center-of-mass and total mass of x. "
   ]
  },
  {
   "cell_type": "code",
   "execution_count": 2,
   "metadata": {},
   "outputs": [],
   "source": [
    "function insert!(cell, point_x, point_y)\n",
    "    # check if node in cell? ... no\n",
    "    \n",
    "    # if empty\n",
    "    if cell.nbr_of_points == 0\n",
    "        cell.nbr_of_points = 1\n",
    "        cell.sum_of_points_x = point_x\n",
    "        cell.sum_of_points_y = point_y\n",
    "        \n",
    "    # if one point only\n",
    "    elseif cell.nbr_of_points == 1\n",
    "        split!(cell)\n",
    "        cell.nbr_of_points = 2\n",
    "        previous_point_x = cell.sum_of_points_x\n",
    "        previous_point_y = cell.sum_of_points_y\n",
    "        cell.sum_of_points_x = point_x + previous_point_x\n",
    "        cell.sum_of_points_y = point_y + previous_point_y\n",
    "        \n",
    "        # continue insertion of the point\n",
    "        quadrant = which_quadrant(point_x, point_y, cell.x, cell.y, cell.w, cell.h)\n",
    "        insert!(cell.childrens[quadrant], point_x, point_y)\n",
    "\n",
    "        # insert the old point too\n",
    "        previousquadrant = which_quadrant(previous_point_x, previous_point_y,\n",
    "                                          cell.x, cell.y, cell.w, cell.h)\n",
    "        insert!(cell.childrens[previousquadrant], previous_point_x, previous_point_y)\n",
    "\n",
    "    else\n",
    "        cell.sum_of_points_x += point_x\n",
    "        cell.sum_of_points_y += point_y\n",
    "        cell.nbr_of_points += 1\n",
    "        \n",
    "        quadrant = which_quadrant(point_x, point_y, cell.x, cell.y, cell.w, cell.h)\n",
    "        insert!(cell.childrens[quadrant], point_x, point_y)\n",
    "    end\n",
    "            \n",
    "    end;"
   ]
  },
  {
   "cell_type": "code",
   "execution_count": 3,
   "metadata": {},
   "outputs": [],
   "source": [
    "function which_quadrant(x, y, cell_x, cell_y, width, height)\n",
    "    quadrant = 1\n",
    "    if x > cell_x + width/2\n",
    "        quadrant += 1\n",
    "        end;\n",
    "    if y < cell_y + height/2\n",
    "        quadrant += 2\n",
    "        end;\n",
    "    return quadrant\n",
    "    end;\n",
    "    \n",
    "# Numbering:\n",
    "#   1 | 2\n",
    "#  -------\n",
    "#   3 | 4\n",
    "# cell corner (x, y) is bottom left"
   ]
  },
  {
   "cell_type": "code",
   "execution_count": 4,
   "metadata": {},
   "outputs": [
    {
     "name": "stdout",
     "output_type": "stream",
     "text": [
      "3\n",
      "4\n",
      "1\n",
      "2\n"
     ]
    }
   ],
   "source": [
    "println( which_quadrant(.1, .1, 0, 0, 1, 1) )\n",
    "println( which_quadrant(.7, .1, 0, 0, 1, 1) )\n",
    "println( which_quadrant(.1, .7, 0, 0, 1, 1) )\n",
    "println( which_quadrant(.8, .8, 0, 0, 1, 1) )"
   ]
  },
  {
   "cell_type": "code",
   "execution_count": 5,
   "metadata": {},
   "outputs": [
    {
     "name": "stdout",
     "output_type": "stream",
     "text": [
      "3\n"
     ]
    }
   ],
   "source": [
    "println( which_quadrant([.4 .4]..., 0, 0, 1, 1) )"
   ]
  },
  {
   "cell_type": "code",
   "execution_count": 7,
   "metadata": {},
   "outputs": [],
   "source": [
    "function split!(cell)\n",
    "    half_h = cell.h/2\n",
    "    half_w = cell.w/2\n",
    "    cell.childrens = (\n",
    "        Cell(cell.x, cell.y + half_h, half_w, half_h, 0, nothing, nothing, nothing),\n",
    "        Cell(cell.x + half_w, cell.y + half_h, half_w, half_h, 0, nothing, nothing, nothing),\n",
    "        Cell(cell.x, cell.y, half_w, half_h, 0, nothing, nothing, nothing),\n",
    "        Cell(cell.x + half_w, cell.y, half_w, half_h, 0, nothing, nothing, nothing)\n",
    "    )\n",
    "    end;"
   ]
  },
  {
   "cell_type": "code",
   "execution_count": 8,
   "metadata": {},
   "outputs": [
    {
     "data": {
      "text/plain": [
       "Cell(0.0, 0.0, 1.0, 1.0, 0, nothing, nothing, nothing)"
      ]
     },
     "execution_count": 8,
     "metadata": {},
     "output_type": "execute_result"
    }
   ],
   "source": [
    "root = Cell(0.0, 0.0, 1.0, 1.0, 0, nothing, nothing, nothing)"
   ]
  },
  {
   "cell_type": "code",
   "execution_count": 9,
   "metadata": {},
   "outputs": [
    {
     "data": {
      "text/plain": [
       "0.3"
      ]
     },
     "execution_count": 9,
     "metadata": {},
     "output_type": "execute_result"
    }
   ],
   "source": [
    "insert!(root, .3, .3)"
   ]
  },
  {
   "cell_type": "code",
   "execution_count": 10,
   "metadata": {},
   "outputs": [
    {
     "data": {
      "text/plain": [
       "Cell(0.0, 0.0, 1.0, 1.0, 1, 0.3, 0.3, nothing)"
      ]
     },
     "execution_count": 10,
     "metadata": {},
     "output_type": "execute_result"
    }
   ],
   "source": [
    "root"
   ]
  },
  {
   "cell_type": "code",
   "execution_count": 11,
   "metadata": {},
   "outputs": [
    {
     "data": {
      "text/plain": [
       "0.3"
      ]
     },
     "execution_count": 11,
     "metadata": {},
     "output_type": "execute_result"
    }
   ],
   "source": [
    "insert!(root, .8, .4)"
   ]
  },
  {
   "cell_type": "code",
   "execution_count": 12,
   "metadata": {},
   "outputs": [
    {
     "data": {
      "text/plain": [
       "(1.1, 0.7)"
      ]
     },
     "execution_count": 12,
     "metadata": {},
     "output_type": "execute_result"
    }
   ],
   "source": [
    "root.sum_of_points_x, root.sum_of_points_y"
   ]
  },
  {
   "cell_type": "code",
   "execution_count": 13,
   "metadata": {},
   "outputs": [
    {
     "data": {
      "text/plain": [
       "0.7"
      ]
     },
     "execution_count": 13,
     "metadata": {},
     "output_type": "execute_result"
    }
   ],
   "source": [
    "insert!(root, .1, .7)"
   ]
  },
  {
   "cell_type": "code",
   "execution_count": 14,
   "metadata": {},
   "outputs": [
    {
     "data": {
      "text/plain": [
       "0.34"
      ]
     },
     "execution_count": 14,
     "metadata": {},
     "output_type": "execute_result"
    }
   ],
   "source": [
    "insert!(root, .42, .34)"
   ]
  },
  {
   "cell_type": "code",
   "execution_count": 15,
   "metadata": {},
   "outputs": [
    {
     "data": {
      "text/plain": [
       "Cell(0.0, 0.0, 1.0, 1.0, 4, 1.62, 1.74, (Cell(0.0, 0.5, 0.5, 0.5, 1, 0.1, 0.7, nothing), Cell(0.5, 0.5, 0.5, 0.5, 0, nothing, nothing, nothing), Cell(0.0, 0.0, 0.5, 0.5, 2, 0.72, 0.64, (Cell(0.0, 0.25, 0.25, 0.25, 0, nothing, nothing, nothing), Cell(0.25, 0.25, 0.25, 0.25, 2, 0.72, 0.64, (Cell(0.25, 0.375, 0.125, 0.125, 0, nothing, nothing, nothing), Cell(0.375, 0.375, 0.125, 0.125, 0, nothing, nothing, nothing), Cell(0.25, 0.25, 0.125, 0.125, 1, 0.3, 0.3, nothing), Cell(0.375, 0.25, 0.125, 0.125, 1, 0.42, 0.34, nothing))), Cell(0.0, 0.0, 0.25, 0.25, 0, nothing, nothing, nothing), Cell(0.25, 0.0, 0.25, 0.25, 0, nothing, nothing, nothing))), Cell(0.5, 0.0, 0.5, 0.5, 1, 0.8, 0.4, nothing)))"
      ]
     },
     "execution_count": 15,
     "metadata": {},
     "output_type": "execute_result"
    }
   ],
   "source": [
    "root"
   ]
  },
  {
   "cell_type": "code",
   "execution_count": 89,
   "metadata": {},
   "outputs": [],
   "source": [
    "get_distance(x, y, u, v) = sqrt( (x - u)^2 + (y - v)^2 );"
   ]
  },
  {
   "cell_type": "code",
   "execution_count": 90,
   "metadata": {},
   "outputs": [],
   "source": [
    "# evaluate cell, x, y, theta=.5\n",
    "# Returns list of points (effective) with their mass\n",
    "function evaluate(cell, x, y, theta=.5)\n",
    "    \n",
    "    if cell.nbr_of_points == 0\n",
    "        return []\n",
    "    end\n",
    "    \n",
    "    center_of_mass_x = cell.sum_of_points_x / cell.nbr_of_points\n",
    "    center_of_mass_y = cell.sum_of_points_y / cell.nbr_of_points\n",
    "\n",
    "    distance = get_distance(x, y, center_of_mass_x, center_of_mass_y)\n",
    "    angle = (cell.w + cell.h)/2/distance\n",
    "    \n",
    "    if angle < theta || cell.nbr_of_points == 1\n",
    "        return [(center_of_mass_x, center_of_mass_y, cell.nbr_of_points), ]\n",
    "    else\n",
    "        return [p for quad in cell.childrens for p in evaluate(quad, x, y, theta)]\n",
    "        end;\n",
    "    \n",
    "    end;\n",
    "\n"
   ]
  },
  {
   "cell_type": "code",
   "execution_count": 91,
   "metadata": {},
   "outputs": [
    {
     "name": "stdout",
     "output_type": "stream",
     "text": [
      "95 / 604\n"
     ]
    }
   ],
   "source": [
    "eff_points = evaluate(root, .3, .3);\n",
    "println(length(eff_points), \" / \",root.nbr_of_points)"
   ]
  },
  {
   "cell_type": "code",
   "execution_count": 70,
   "metadata": {},
   "outputs": [],
   "source": [
    "for _ in 1:100\n",
    "    x, y = rand(2)\n",
    "    insert!(root, x, y)\n",
    "    end;"
   ]
  },
  {
   "cell_type": "code",
   "execution_count": 65,
   "metadata": {},
   "outputs": [
    {
     "data": {
      "text/plain": [
       "304"
      ]
     },
     "execution_count": 65,
     "metadata": {},
     "output_type": "execute_result"
    }
   ],
   "source": [
    "root.nbr_of_points"
   ]
  },
  {
   "cell_type": "code",
   "execution_count": 92,
   "metadata": {},
   "outputs": [
    {
     "data": {
      "text/plain": [
       "BenchmarkTools.Trial: \n",
       "  memory estimate:  129.53 KiB\n",
       "  allocs estimate:  3523\n",
       "  --------------\n",
       "  minimum time:     357.226 μs (0.00% GC)\n",
       "  median time:      369.987 μs (0.00% GC)\n",
       "  mean time:        410.575 μs (8.03% GC)\n",
       "  maximum time:     12.716 ms (95.28% GC)\n",
       "  --------------\n",
       "  samples:          10000\n",
       "  evals/sample:     1"
      ]
     },
     "execution_count": 92,
     "metadata": {},
     "output_type": "execute_result"
    }
   ],
   "source": [
    "@benchmark evaluate(root, .3, .3)"
   ]
  },
  {
   "cell_type": "code",
   "execution_count": null,
   "metadata": {},
   "outputs": [],
   "source": []
  },
  {
   "cell_type": "code",
   "execution_count": null,
   "metadata": {},
   "outputs": [],
   "source": []
  }
 ],
 "metadata": {
  "kernelspec": {
   "display_name": "Julia 1.3.0",
   "language": "julia",
   "name": "julia-1.3"
  },
  "language_info": {
   "file_extension": ".jl",
   "mimetype": "application/julia",
   "name": "julia",
   "version": "1.3.0"
  }
 },
 "nbformat": 4,
 "nbformat_minor": 2
}
