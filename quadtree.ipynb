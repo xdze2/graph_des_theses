{
 "cells": [
  {
   "cell_type": "markdown",
   "metadata": {},
   "source": [
    "## quadtree\n",
    "\n",
    "https://www.cs.princeton.edu/courses/archive/fall03/cs126/assignments/barnes-hut.html\n",
    "http://www-inf.telecom-sudparis.eu/COURS/CSC5001/new_site/Supports/Projet/NBody/barnes_86.pdf  \n",
    "https://en.wikipedia.org/wiki/Barnes%E2%80%93Hut_simulation\n",
    "\n",
    "https://github.com/rdeits/RegionTrees.jl\n",
    "\n",
    "https://github.com/JuliaArrays/StaticArrays.jl"
   ]
  },
  {
   "cell_type": "code",
   "execution_count": 1,
   "metadata": {},
   "outputs": [],
   "source": [
    "mutable struct Cell\n",
    "    corner\n",
    "    size\n",
    "    childrens\n",
    "    mass\n",
    "    center_of_mass\n",
    "end;"
   ]
  },
  {
   "cell_type": "markdown",
   "metadata": {},
   "source": [
    "\n",
    "1. If node x does not contain a body, put the new body b here.\n",
    "2. If node x is an internal node, update the center-of-mass and total mass of x. Recursively insert the body b in the appropriate quadrant.\n",
    "3. If node x is an external node, say containing a body named c, then there are two bodies b and c in the same region. Subdivide the region further by creating four children. Then, recursively insert both b and c into the appropriate quadrant(s). Since b and c may still end up in the same quadrant, there may be several subdivisions during a single insertion. Finally, update the center-of-mass and total mass of x. "
   ]
  },
  {
   "cell_type": "code",
   "execution_count": 33,
   "metadata": {},
   "outputs": [],
   "source": [
    "function insert!(cell, point)\n",
    "    # check if node in cell?\n",
    "    \n",
    "    # if empty\n",
    "    if cell.mass == 0\n",
    "        cell.mass = 1\n",
    "        cell.center_of_mass = point\n",
    "    # if one point only\n",
    "    elseif cell.mass == 1\n",
    "        split!(cell)\n",
    "        cell.mass = 2\n",
    "        previous_point = cell.center_of_mass\n",
    "        cell.center_of_mass = (point .+ previous_point)./2\n",
    "        \n",
    "        quadrant = which_quadrant(point..., cell.corner..., cell.size...)\n",
    "        insert!(cell.childrens[quadrant], point)\n",
    "\n",
    "        previousquadrant = which_quadrant(previous_point..., cell.corner..., cell.size...)\n",
    "        insert!(cell.childrens[previousquadrant], previous_point)\n",
    "\n",
    "    else\n",
    "        cell.center_of_mass = (cell.center_of_mass.*cell.mass .+ 1)./(cell.mass + 1)\n",
    "        cell.mass += 1\n",
    "        \n",
    "        quadrant = which_quadrant(point..., cell.corner..., cell.size...)\n",
    "        insert!(cell.childrens[quadrant], point)\n",
    "    end\n",
    "            \n",
    "    end;"
   ]
  },
  {
   "cell_type": "code",
   "execution_count": 34,
   "metadata": {},
   "outputs": [],
   "source": [
    "function which_quadrant(x, y, cell_x, cell_y, width, height)\n",
    "    quadrant = 1\n",
    "    if x > cell_x + width/2\n",
    "        quadrant += 1\n",
    "        end;\n",
    "    if y < cell_y + height/2\n",
    "        quadrant += 2\n",
    "        end;\n",
    "    return quadrant\n",
    "    end;\n",
    "    "
   ]
  },
  {
   "cell_type": "code",
   "execution_count": 14,
   "metadata": {},
   "outputs": [
    {
     "name": "stdout",
     "output_type": "stream",
     "text": [
      "3\n",
      "4\n",
      "1\n",
      "2\n"
     ]
    }
   ],
   "source": [
    "println( which_quadrant(.1, .1, 0, 0, 1, 1) )\n",
    "println( which_quadrant(.7, .1, 0, 0, 1, 1) )\n",
    "println( which_quadrant(.1, .7, 0, 0, 1, 1) )\n",
    "println( which_quadrant(.8, .8, 0, 0, 1, 1) )"
   ]
  },
  {
   "cell_type": "code",
   "execution_count": 15,
   "metadata": {},
   "outputs": [
    {
     "name": "stdout",
     "output_type": "stream",
     "text": [
      "3\n"
     ]
    }
   ],
   "source": [
    "println( which_quadrant([.4 .4]..., 0, 0, 1, 1) )"
   ]
  },
  {
   "cell_type": "code",
   "execution_count": 24,
   "metadata": {},
   "outputs": [],
   "source": [
    "function split!(cell)\n",
    "    half_h = cell.size[2]/2\n",
    "    half_w = cell.size[1]/2\n",
    "    cell.childrens = (\n",
    "        Cell(cell.corner .+ [0 half_h], cell.size./2, nothing, 0, nothing),\n",
    "        Cell(cell.corner .+ [half_w half_h], cell.size./2, nothing, 0, nothing),\n",
    "        Cell(cell.corner, cell.size./2, nothing, 0, nothing),\n",
    "        Cell(cell.corner .+ [half_w 0], cell.size./2, nothing, 0, nothing),\n",
    "    )\n",
    "    end;"
   ]
  },
  {
   "cell_type": "code",
   "execution_count": 35,
   "metadata": {},
   "outputs": [
    {
     "data": {
      "text/plain": [
       "Cell([0, 0], [1, 1], nothing, 0, nothing)"
      ]
     },
     "execution_count": 35,
     "metadata": {},
     "output_type": "execute_result"
    }
   ],
   "source": [
    "root = Cell([0, 0], [1, 1], nothing, 0, nothing)"
   ]
  },
  {
   "cell_type": "code",
   "execution_count": 36,
   "metadata": {},
   "outputs": [
    {
     "data": {
      "text/plain": [
       "1×2 Array{Float64,2}:\n",
       " 0.3  0.3"
      ]
     },
     "execution_count": 36,
     "metadata": {},
     "output_type": "execute_result"
    }
   ],
   "source": [
    "insert!(root, [.3 .3])"
   ]
  },
  {
   "cell_type": "code",
   "execution_count": 37,
   "metadata": {},
   "outputs": [
    {
     "data": {
      "text/plain": [
       "Cell([0, 0], [1, 1], nothing, 1, [0.3 0.3])"
      ]
     },
     "execution_count": 37,
     "metadata": {},
     "output_type": "execute_result"
    }
   ],
   "source": [
    "root"
   ]
  },
  {
   "cell_type": "code",
   "execution_count": 38,
   "metadata": {},
   "outputs": [
    {
     "data": {
      "text/plain": [
       "1×2 Array{Float64,2}:\n",
       " 0.3  0.3"
      ]
     },
     "execution_count": 38,
     "metadata": {},
     "output_type": "execute_result"
    }
   ],
   "source": [
    "insert!(root, [.8 .4])"
   ]
  },
  {
   "cell_type": "code",
   "execution_count": 41,
   "metadata": {},
   "outputs": [
    {
     "data": {
      "text/plain": [
       "1×2 Array{Float64,2}:\n",
       " 0.7  0.566667"
      ]
     },
     "execution_count": 41,
     "metadata": {},
     "output_type": "execute_result"
    }
   ],
   "source": [
    "root.center_of_mass"
   ]
  },
  {
   "cell_type": "code",
   "execution_count": 40,
   "metadata": {},
   "outputs": [
    {
     "data": {
      "text/plain": [
       "1×2 Array{Float64,2}:\n",
       " 0.1  0.7"
      ]
     },
     "execution_count": 40,
     "metadata": {},
     "output_type": "execute_result"
    }
   ],
   "source": [
    "insert!(root, [.1 .7])"
   ]
  },
  {
   "cell_type": "code",
   "execution_count": null,
   "metadata": {},
   "outputs": [],
   "source": []
  }
 ],
 "metadata": {
  "kernelspec": {
   "display_name": "Julia 1.2.0",
   "language": "julia",
   "name": "julia-1.2"
  },
  "language_info": {
   "file_extension": ".jl",
   "mimetype": "application/julia",
   "name": "julia",
   "version": "1.2.0"
  }
 },
 "nbformat": 4,
 "nbformat_minor": 2
}
