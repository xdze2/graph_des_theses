{
 "cells": [
  {
   "cell_type": "code",
   "execution_count": 1,
   "metadata": {},
   "outputs": [],
   "source": [
    "import requests\n",
    "from bs4 import BeautifulSoup\n",
    "# pip install lxml\n",
    "import pickle\n",
    "import random\n",
    "import igraph as ig\n",
    "from collections import defaultdict"
   ]
  },
  {
   "cell_type": "markdown",
   "metadata": {},
   "source": [
    "## Graph des directeurs de thèses --> thésards\n",
    "\n",
    "Avec les données du site theses.fr, et l'api:\n",
    "http://documentation.abes.fr/aidethesesfr/accueil/index.html#RecupererDonneesPagePersonne\n",
    "\n",
    "Les info sur les thèses sont récupérées avec des requètes sur une personne, puis sur les personnes connexes. \n"
   ]
  },
  {
   "cell_type": "code",
   "execution_count": 2,
   "metadata": {},
   "outputs": [],
   "source": [
    "def parse_foaf(tag):\n",
    "    try:\n",
    "        name = tag.text\n",
    "        person_id = tag.findChild().attrs['rdf:about']\n",
    "    except KeyError:\n",
    "        # print(tag)\n",
    "        name, person_id = (tag.text, None)\n",
    "    return (name, person_id)\n",
    "\n",
    "\n",
    "def query_someone(person_id):\n",
    "    url = person_id.replace('/id', '.xml')\n",
    "\n",
    "    r = requests.get(url)\n",
    "    \n",
    "    soup = BeautifulSoup(r.text, 'lxml-xml')\n",
    "    \n",
    "    # own thesis\n",
    "    agent = soup.find('foaf:Agent')\n",
    "    person_id = agent.attrs['rdf:about']\n",
    "    name = agent.find('name').text\n",
    "    person = (name, person_id)\n",
    "    \n",
    "    # other thesis\n",
    "    linked_thesis = []\n",
    "    for th in soup.find_all('Thesis'):\n",
    "        info = dict()\n",
    "        info['title'] = th.find('title').text\n",
    "        info['author'] = parse_foaf( th.find('aut') )\n",
    "        info['id'] = th.attrs['rdf:about']\n",
    "        info['url'] = th.find('identifier').text if th.find('identifier') else ''\n",
    "        try:\n",
    "            info['year'] = int(th.find('date').text)\n",
    "        except ValueError:\n",
    "            info['year'] = 0\n",
    "        info['directors'] = [parse_foaf(ths) for ths in th.find_all('ths')]\n",
    "        info['doctoral_school'] = parse_foaf(th.find('contributor')) if th.find('contributor') else ()\n",
    "        info['univ'] = parse_foaf(th.find('dgg'))\n",
    "\n",
    "        linked_thesis.append(info)\n",
    "\n",
    "    return person, linked_thesis"
   ]
  },
  {
   "cell_type": "code",
   "execution_count": 3,
   "metadata": {},
   "outputs": [],
   "source": [
    "def is_valid_id(foaf_id):\n",
    "    return foaf_id.endswith('/id') and not foaf_id.endswith('//id')"
   ]
  },
  {
   "cell_type": "code",
   "execution_count": 25,
   "metadata": {},
   "outputs": [],
   "source": [
    "# Objet qui stocke les données explorées\n",
    "# et les requetes suivante à faire\n",
    "class Blob():\n",
    "    def __init__(self, seed_id):\n",
    "        self.already_asked = set()\n",
    "        self.to_search = set([seed_id, ])\n",
    "        self.thesis = dict()\n",
    "        self.seed = seed_id\n",
    "        self.chains = dict()\n",
    "        self.nbr_gen = 0\n",
    "        self.name = seed_id.split('/')[-2]\n",
    "        \n",
    "    def grow(self):\n",
    "        person_id = self.to_search.pop()\n",
    "       \n",
    "        full_id, results = query_someone(person_id)\n",
    "        print(full_id[0], '(%i theses)'%len(results))\n",
    "        self.already_asked.add(person_id)\n",
    "        self.nbr_gen += 1\n",
    "        \n",
    "        a_dirige = []\n",
    "        related = []\n",
    "        own_thesis = {'author':full_id,\n",
    "                      'year':0,\n",
    "                      'id':None,\n",
    "                      'directors':[]} # default value\n",
    "        for th in results:\n",
    "            if full_id == th['author']:\n",
    "                own_thesis = th\n",
    "            elif full_id in (d for d in th['directors']):\n",
    "                a_dirige.append(th)\n",
    "            else:\n",
    "                related.append(th)\n",
    "\n",
    "        a_dirige.sort(key=lambda x:x['year'])\n",
    "\n",
    "        #print(len(results), len(a_dirige), len(related))\n",
    "        co_directors = {d for th in a_dirige+[own_thesis, ]\n",
    "                          for d in th['directors'] if d!=full_id}\n",
    "        students = {th['author'] for th in a_dirige}\n",
    "\n",
    "        new_person = [p[1] for p in co_directors | students\n",
    "                      if is_valid_id(p[1]) and p[1] not in self.already_asked]\n",
    "\n",
    "        self.to_search.update(new_person)\n",
    "        self.thesis.update({th['id']:th for th in a_dirige})\n",
    "        if len(a_dirige)>0:\n",
    "            chain = [(th['author'], th['year']) for th in a_dirige]\n",
    "            self.chains[full_id] = [(full_id, own_thesis['year']), ] + chain\n",
    "            \n",
    "        \n",
    "    def save(self, name='blob.p'):\n",
    "        pickle.dump(self, open( name, \"wb\" ))\n",
    "        print(\"saved\")\n",
    "        \n",
    "    def print_info(self):\n",
    "        print('nbr thesis:', len(blob.thesis))\n",
    "        print('nbr to search:', len(blob.to_search))\n",
    "        print(self.seed, '+', self.nbr_gen, 'generations')"
   ]
  },
  {
   "cell_type": "code",
   "execution_count": 26,
   "metadata": {},
   "outputs": [
    {
     "name": "stdout",
     "output_type": "stream",
     "text": [
      "seedlist loaded: 51 seeds\n",
      "http://www.theses.fr/073011649/id\n"
     ]
    }
   ],
   "source": [
    "# Get a random seed\n",
    "seedlist_file = \"data/seedlist.pick\"\n",
    "try:\n",
    "    seedlist = pickle.load( open( seedlist_file, \"rb\" ) )\n",
    "    print('seedlist loaded:', len(seedlist), \"seeds\")\n",
    "except FileNotFoundError:\n",
    "    seedlist = ['http://www.theses.fr/197626394/id', ]\n",
    "    pickle.dump(seedlist, open( seedlist_file, \"wb\" ))\n",
    "    \n",
    "seed_id = random.choice(seedlist)\n",
    "print(seed_id)\n",
    "\n",
    "# New graph\n",
    "blob = Blob(seed_id)"
   ]
  },
  {
   "cell_type": "code",
   "execution_count": 27,
   "metadata": {},
   "outputs": [
    {
     "name": "stdout",
     "output_type": "stream",
     "text": [
      "Yannick Rondelez (5 theses)\n"
     ]
    }
   ],
   "source": [
    "blob.grow()"
   ]
  },
  {
   "cell_type": "code",
   "execution_count": 29,
   "metadata": {},
   "outputs": [
    {
     "name": "stdout",
     "output_type": "stream",
     "text": [
      "Gaël De Leener (1 theses)\n",
      "Ivan Jabin (6 theses)\n",
      "Andrea Brugnara (1 theses)\n",
      "Michel Maumy (2 theses)\n",
      "Olivier Seneque (8 theses)\n",
      "Benoît Colasson (8 theses)\n",
      "Claudine Garapon (2 theses)\n",
      "Luigi R. Nassimbeni (1 theses)\n",
      "Éric Da Silva (1 theses)\n",
      "Yannick Tauran (1 theses)\n",
      "\n",
      "nbr thesis: 30\n",
      "nbr to search: 14\n",
      "http://www.theses.fr/073011649/id + 21 generations\n"
     ]
    }
   ],
   "source": [
    "# Grow\n",
    "for _ in range(10):\n",
    "    blob.grow()\n",
    "\n",
    "print('')\n",
    "blob.print_info()"
   ]
  },
  {
   "cell_type": "code",
   "execution_count": 30,
   "metadata": {},
   "outputs": [
    {
     "data": {
      "text/plain": [
       "10"
      ]
     },
     "execution_count": 30,
     "metadata": {},
     "output_type": "execute_result"
    }
   ],
   "source": [
    "# Chains\n",
    "chs = sorted(blob.chains.values(), key=len, reverse=True)\n",
    "len(chs)"
   ]
  },
  {
   "cell_type": "code",
   "execution_count": null,
   "metadata": {},
   "outputs": [],
   "source": [
    "# Save\n",
    "blobname = 'data/grosblob6.p'\n",
    "blob.save(blobname)"
   ]
  },
  {
   "cell_type": "markdown",
   "metadata": {},
   "source": [
    "## Subway map"
   ]
  },
  {
   "cell_type": "code",
   "execution_count": 31,
   "metadata": {},
   "outputs": [
    {
     "name": "stdout",
     "output_type": "stream",
     "text": [
      "37\n"
     ]
    }
   ],
   "source": [
    "# Build graph\n",
    "links = []\n",
    "for chain in blob.chains.values():\n",
    "    source = chain[0][0]\n",
    "    for target, year in chain[1:]:\n",
    "        links.append((source, target))\n",
    "        source = target\n",
    "        \n",
    "print(len(links))"
   ]
  },
  {
   "cell_type": "code",
   "execution_count": 32,
   "metadata": {},
   "outputs": [],
   "source": [
    "links = list(set(links))\n",
    "nodes = list(set(u[0] for ch in blob.chains.values() for u in ch))"
   ]
  },
  {
   "cell_type": "code",
   "execution_count": 33,
   "metadata": {},
   "outputs": [
    {
     "name": "stdout",
     "output_type": "stream",
     "text": [
      "37 37\n"
     ]
    }
   ],
   "source": [
    "print(len(links), len(nodes))"
   ]
  },
  {
   "cell_type": "code",
   "execution_count": 34,
   "metadata": {},
   "outputs": [
    {
     "name": "stdout",
     "output_type": "stream",
     "text": [
      "37\n"
     ]
    }
   ],
   "source": [
    "# Build graph\n",
    "# graph\n",
    "g = ig.Graph(directed=True)\n",
    "g.add_vertices(nodes)\n",
    "for chain in blob.chains.values():\n",
    "    chain_id = chain[0][0]\n",
    "    source = chain[0][0]\n",
    "    for target, year in chain[1:]:\n",
    "        link = (nodes.index(source), nodes.index(target))\n",
    "        g.add_edge(*link, color=nodes.index(chain_id)%4)\n",
    "        source = target\n",
    "        \n",
    "print(len(links))"
   ]
  },
  {
   "cell_type": "code",
   "execution_count": 38,
   "metadata": {},
   "outputs": [
    {
     "data": {
      "image/svg+xml": [
       "<?xml version=\"1.0\" encoding=\"UTF-8\"?>\n",
       "<svg xmlns=\"http://www.w3.org/2000/svg\" xmlns:xlink=\"http://www.w3.org/1999/xlink\" width=\"600pt\" height=\"600pt\" viewBox=\"0 0 600 600\" version=\"1.1\">\n",
       "<g id=\"surface20\">\n",
       "<rect x=\"0\" y=\"0\" width=\"600\" height=\"600\" style=\"fill:rgb(100%,100%,100%);fill-opacity:1;stroke:none;\"/>\n",
       "<path style=\"fill:none;stroke-width:1;stroke-linecap:butt;stroke-linejoin:miter;stroke:rgb(0.392157%,0.392157%,0.392157%);stroke-opacity:1;stroke-miterlimit:10;\" d=\"M 317.699219 401.34375 L 276.273438 385.851562 \"/>\n",
       "<path style=\" stroke:none;fill-rule:nonzero;fill:rgb(0.392157%,0.392157%,0.392157%);fill-opacity:1;\" d=\"M 262.910156 380.855469 L 277.898438 381.511719 L 274.648438 390.195312 L 262.910156 380.855469 \"/>\n",
       "<path style=\"fill:none;stroke-width:1;stroke-linecap:butt;stroke-linejoin:miter;stroke:rgb(0.392157%,0.392157%,0.392157%);stroke-opacity:1;stroke-miterlimit:10;\" d=\"M 186.546875 580 L 190.042969 563.355469 \"/>\n",
       "<path style=\" stroke:none;fill-rule:nonzero;fill:rgb(0.392157%,0.392157%,0.392157%);fill-opacity:1;\" d=\"M 192.972656 549.394531 L 194.578125 564.304688 L 185.503906 562.402344 L 192.972656 549.394531 \"/>\n",
       "<path style=\"fill:none;stroke-width:1;stroke-linecap:butt;stroke-linejoin:miter;stroke:rgb(0.392157%,0.392157%,0.392157%);stroke-opacity:1;stroke-miterlimit:10;\" d=\"M 193.382812 547.433594 L 197.121094 530.636719 \"/>\n",
       "<path style=\" stroke:none;fill-rule:nonzero;fill:rgb(0.392157%,0.392157%,0.392157%);fill-opacity:1;\" d=\"M 200.21875 516.710938 L 201.644531 531.640625 L 192.597656 529.628906 L 200.21875 516.710938 \"/>\n",
       "<path style=\"fill:none;stroke-width:1;stroke-linecap:butt;stroke-linejoin:miter;stroke:rgb(0.392157%,0.392157%,0.392157%);stroke-opacity:1;stroke-miterlimit:10;\" d=\"M 200.65625 514.757812 L 205.265625 497.621094 \"/>\n",
       "<path style=\" stroke:none;fill-rule:nonzero;fill:rgb(0.392157%,0.392157%,0.392157%);fill-opacity:1;\" d=\"M 208.976562 483.84375 L 209.742188 498.824219 L 200.792969 496.414062 L 208.976562 483.84375 \"/>\n",
       "<path style=\"fill:none;stroke-width:1;stroke-linecap:butt;stroke-linejoin:miter;stroke:rgb(0.392157%,0.392157%,0.392157%);stroke-opacity:1;stroke-miterlimit:10;\" d=\"M 209.496094 481.914062 L 215.4375 464.222656 \"/>\n",
       "<path style=\" stroke:none;fill-rule:nonzero;fill:rgb(0.392157%,0.392157%,0.392157%);fill-opacity:1;\" d=\"M 219.980469 450.699219 L 219.832031 465.699219 L 211.042969 462.746094 L 219.980469 450.699219 \"/>\n",
       "<path style=\"fill:none;stroke-width:1;stroke-linecap:butt;stroke-linejoin:miter;stroke:rgb(0.392157%,0.392157%,0.392157%);stroke-opacity:1;stroke-miterlimit:10;\" d=\"M 220.617188 448.804688 L 231.136719 429.6875 \"/>\n",
       "<path style=\" stroke:none;fill-rule:nonzero;fill:rgb(0.392157%,0.392157%,0.392157%);fill-opacity:1;\" d=\"M 238.011719 417.191406 L 235.195312 431.921875 L 227.074219 427.453125 L 238.011719 417.191406 \"/>\n",
       "<path style=\"fill:none;stroke-width:1;stroke-linecap:butt;stroke-linejoin:miter;stroke:rgb(0.392157%,0.392157%,0.392157%);stroke-opacity:1;stroke-miterlimit:10;\" d=\"M 238.976562 415.4375 L 252.414062 393.945312 \"/>\n",
       "<path style=\" stroke:none;fill-rule:nonzero;fill:rgb(0.392157%,0.392157%,0.392157%);fill-opacity:1;\" d=\"M 259.976562 381.851562 L 256.34375 396.402344 L 248.484375 391.488281 L 259.976562 381.851562 \"/>\n",
       "<path style=\"fill:none;stroke-width:1;stroke-linecap:butt;stroke-linejoin:miter;stroke:rgb(0.392157%,0.392157%,0.392157%);stroke-opacity:1;stroke-miterlimit:10;\" d=\"M 261.039062 380.15625 L 283.613281 357.058594 \"/>\n",
       "<path style=\" stroke:none;fill-rule:nonzero;fill:rgb(0.392157%,0.392157%,0.392157%);fill-opacity:1;\" d=\"M 293.585938 346.859375 L 286.929688 360.300781 L 280.300781 353.820312 L 293.585938 346.859375 \"/>\n",
       "<path style=\"fill:none;stroke-width:1;stroke-linecap:butt;stroke-linejoin:miter;stroke:rgb(0.392157%,0.392157%,0.392157%);stroke-opacity:1;stroke-miterlimit:10;\" d=\"M 294.984375 345.429688 L 278.566406 321.769531 \"/>\n",
       "<path style=\" stroke:none;fill-rule:nonzero;fill:rgb(0.392157%,0.392157%,0.392157%);fill-opacity:1;\" d=\"M 270.433594 310.050781 L 282.375 319.125 L 274.757812 324.414062 L 270.433594 310.050781 \"/>\n",
       "<path style=\"fill:none;stroke-width:1;stroke-linecap:butt;stroke-linejoin:miter;stroke:rgb(0.392157%,0.392157%,0.392157%);stroke-opacity:1;stroke-miterlimit:10;\" d=\"M 269.292969 308.40625 L 267.839844 284.597656 \"/>\n",
       "<path style=\" stroke:none;fill-rule:nonzero;fill:rgb(0.392157%,0.392157%,0.392157%);fill-opacity:1;\" d=\"M 266.972656 270.359375 L 272.46875 284.316406 L 263.214844 284.878906 L 266.972656 270.359375 \"/>\n",
       "<path style=\"fill:none;stroke-width:1;stroke-linecap:butt;stroke-linejoin:miter;stroke:rgb(0.392157%,0.392157%,0.392157%);stroke-opacity:1;stroke-miterlimit:10;\" d=\"M 266.851562 268.363281 L 311.535156 260.480469 \"/>\n",
       "<path style=\" stroke:none;fill-rule:nonzero;fill:rgb(0.392157%,0.392157%,0.392157%);fill-opacity:1;\" d=\"M 325.585938 258.003906 L 312.339844 265.046875 L 310.730469 255.917969 L 325.585938 258.003906 \"/>\n",
       "<path style=\"fill:none;stroke-width:1;stroke-linecap:butt;stroke-linejoin:miter;stroke:rgb(0.784314%,0.784314%,0.784314%);stroke-opacity:1;stroke-miterlimit:10;\" d=\"M 94.785156 234.808594 L 150.46875 233.515625 \"/>\n",
       "<path style=\" stroke:none;fill-rule:nonzero;fill:rgb(0.784314%,0.784314%,0.784314%);fill-opacity:1;\" d=\"M 164.730469 233.183594 L 150.574219 238.148438 L 150.359375 228.878906 L 164.730469 233.183594 \"/>\n",
       "<path style=\"fill:none;stroke-width:1;stroke-linecap:butt;stroke-linejoin:miter;stroke:rgb(0.784314%,0.784314%,0.784314%);stroke-opacity:1;stroke-miterlimit:10;\" d=\"M 166.730469 233.136719 L 223.359375 230.8125 \"/>\n",
       "<path style=\" stroke:none;fill-rule:nonzero;fill:rgb(0.784314%,0.784314%,0.784314%);fill-opacity:1;\" d=\"M 237.613281 230.230469 L 223.550781 235.445312 L 223.171875 226.183594 L 237.613281 230.230469 \"/>\n",
       "<path style=\"fill:none;stroke-width:1;stroke-linecap:butt;stroke-linejoin:miter;stroke:rgb(0.784314%,0.784314%,0.784314%);stroke-opacity:1;stroke-miterlimit:10;\" d=\"M 239.613281 230.148438 L 257.316406 203.949219 \"/>\n",
       "<path style=\" stroke:none;fill-rule:nonzero;fill:rgb(0.784314%,0.784314%,0.784314%);fill-opacity:1;\" d=\"M 265.300781 192.125 L 261.15625 206.542969 L 253.472656 201.351562 L 265.300781 192.125 \"/>\n",
       "<path style=\"fill:none;stroke-width:1;stroke-linecap:butt;stroke-linejoin:miter;stroke:rgb(0.784314%,0.784314%,0.784314%);stroke-opacity:1;stroke-miterlimit:10;\" d=\"M 266.421875 190.46875 L 315.597656 174.695312 \"/>\n",
       "<path style=\" stroke:none;fill-rule:nonzero;fill:rgb(0.784314%,0.784314%,0.784314%);fill-opacity:1;\" d=\"M 329.179688 170.339844 L 317.011719 179.109375 L 314.179688 170.28125 L 329.179688 170.339844 \"/>\n",
       "<path style=\"fill:none;stroke-width:1;stroke-linecap:butt;stroke-linejoin:miter;stroke:rgb(0.784314%,0.784314%,0.784314%);stroke-opacity:1;stroke-miterlimit:10;\" d=\"M 331.085938 169.726562 L 374.785156 153.304688 \"/>\n",
       "<path style=\" stroke:none;fill-rule:nonzero;fill:rgb(0.784314%,0.784314%,0.784314%);fill-opacity:1;\" d=\"M 388.140625 148.285156 L 376.417969 157.644531 L 373.15625 148.964844 L 388.140625 148.285156 \"/>\n",
       "<path style=\"fill:none;stroke-width:1;stroke-linecap:butt;stroke-linejoin:miter;stroke:rgb(0.784314%,0.784314%,0.784314%);stroke-opacity:1;stroke-miterlimit:10;\" d=\"M 390.011719 147.582031 L 437.679688 132.878906 \"/>\n",
       "<path style=\" stroke:none;fill-rule:nonzero;fill:rgb(0.784314%,0.784314%,0.784314%);fill-opacity:1;\" d=\"M 451.3125 128.675781 L 439.046875 137.308594 L 436.3125 128.449219 L 451.3125 128.675781 \"/>\n",
       "<path style=\"fill:none;stroke-width:1;stroke-linecap:butt;stroke-linejoin:miter;stroke:rgb(0.784314%,0.784314%,0.784314%);stroke-opacity:1;stroke-miterlimit:10;\" d=\"M 453.222656 128.085938 L 507.851562 128.984375 \"/>\n",
       "<path style=\" stroke:none;fill-rule:nonzero;fill:rgb(0.784314%,0.784314%,0.784314%);fill-opacity:1;\" d=\"M 522.117188 129.21875 L 507.777344 133.617188 L 507.929688 124.347656 L 522.117188 129.21875 \"/>\n",
       "<path style=\"fill:none;stroke-width:1;stroke-linecap:butt;stroke-linejoin:miter;stroke:rgb(0.784314%,0.784314%,0.784314%);stroke-opacity:1;stroke-miterlimit:10;\" d=\"M 524.117188 129.25 L 564.601562 115.480469 \"/>\n",
       "<path style=\" stroke:none;fill-rule:nonzero;fill:rgb(0.784314%,0.784314%,0.784314%);fill-opacity:1;\" d=\"M 578.105469 110.886719 L 566.09375 119.867188 L 563.109375 111.09375 L 578.105469 110.886719 \"/>\n",
       "<path style=\"fill:none;stroke-width:1;stroke-linecap:butt;stroke-linejoin:miter;stroke:rgb(0.784314%,0.784314%,0.784314%);stroke-opacity:1;stroke-miterlimit:10;\" d=\"M 580 110.242188 L 555.605469 92.855469 \"/>\n",
       "<path style=\" stroke:none;fill-rule:nonzero;fill:rgb(0.784314%,0.784314%,0.784314%);fill-opacity:1;\" d=\"M 543.984375 84.578125 L 558.292969 89.082031 L 552.914062 96.632812 L 543.984375 84.578125 \"/>\n",
       "<path style=\"fill:none;stroke-width:1;stroke-linecap:butt;stroke-linejoin:miter;stroke:rgb(0.784314%,0.784314%,0.784314%);stroke-opacity:1;stroke-miterlimit:10;\" d=\"M 192.441406 380.746094 L 244.773438 380.296875 \"/>\n",
       "<path style=\" stroke:none;fill-rule:nonzero;fill:rgb(0.784314%,0.784314%,0.784314%);fill-opacity:1;\" d=\"M 259.039062 380.171875 L 244.8125 384.929688 L 244.734375 375.660156 L 259.039062 380.171875 \"/>\n",
       "<path style=\"fill:none;stroke-width:1;stroke-linecap:butt;stroke-linejoin:miter;stroke:rgb(1.176471%,1.176471%,1.176471%);stroke-opacity:1;stroke-miterlimit:10;\" d=\"M 34.710938 216.59375 L 79.21875 230.085938 \"/>\n",
       "<path style=\" stroke:none;fill-rule:nonzero;fill:rgb(1.176471%,1.176471%,1.176471%);fill-opacity:1;\" d=\"M 92.871094 234.226562 L 77.871094 234.523438 L 80.5625 225.652344 L 92.871094 234.226562 \"/>\n",
       "<path style=\"fill:none;stroke-width:1;stroke-linecap:butt;stroke-linejoin:miter;stroke:rgb(1.176471%,1.176471%,1.176471%);stroke-opacity:1;stroke-miterlimit:10;\" d=\"M 94.785156 234.808594 L 52.027344 249.148438 \"/>\n",
       "<path style=\" stroke:none;fill-rule:nonzero;fill:rgb(1.176471%,1.176471%,1.176471%);fill-opacity:1;\" d=\"M 38.5 253.683594 L 50.550781 244.753906 L 53.5 253.542969 L 38.5 253.683594 \"/>\n",
       "<path style=\"fill:none;stroke-width:1;stroke-linecap:butt;stroke-linejoin:miter;stroke:rgb(0%,0%,0%);stroke-opacity:1;stroke-miterlimit:10;\" d=\"M 239.613281 230.148438 L 257.410156 255.117188 \"/>\n",
       "<path style=\" stroke:none;fill-rule:nonzero;fill:rgb(0%,0%,0%);fill-opacity:1;\" d=\"M 265.691406 266.734375 L 253.636719 257.808594 L 261.1875 252.425781 L 265.691406 266.734375 \"/>\n",
       "<path style=\"fill:none;stroke-width:1;stroke-linecap:butt;stroke-linejoin:miter;stroke:rgb(0%,0%,0%);stroke-opacity:1;stroke-miterlimit:10;\" d=\"M 266.851562 268.363281 L 311.03125 275.457031 \"/>\n",
       "<path style=\" stroke:none;fill-rule:nonzero;fill:rgb(0%,0%,0%);fill-opacity:1;\" d=\"M 325.117188 277.722656 L 310.296875 280.035156 L 311.765625 270.882812 L 325.117188 277.722656 \"/>\n",
       "<path style=\"fill:none;stroke-width:1;stroke-linecap:butt;stroke-linejoin:miter;stroke:rgb(1.176471%,1.176471%,1.176471%);stroke-opacity:1;stroke-miterlimit:10;\" d=\"M 266.421875 190.46875 L 230.589844 169.910156 \"/>\n",
       "<path style=\" stroke:none;fill-rule:nonzero;fill:rgb(1.176471%,1.176471%,1.176471%);fill-opacity:1;\" d=\"M 218.21875 162.808594 L 232.898438 165.890625 L 228.285156 173.929688 L 218.21875 162.808594 \"/>\n",
       "<path style=\"fill:none;stroke-width:1;stroke-linecap:butt;stroke-linejoin:miter;stroke:rgb(1.176471%,1.176471%,1.176471%);stroke-opacity:1;stroke-miterlimit:10;\" d=\"M 216.484375 161.8125 L 181.578125 142.292969 \"/>\n",
       "<path style=\" stroke:none;fill-rule:nonzero;fill:rgb(1.176471%,1.176471%,1.176471%);fill-opacity:1;\" d=\"M 169.128906 135.328125 L 183.84375 138.246094 L 179.316406 146.339844 L 169.128906 135.328125 \"/>\n",
       "<path style=\"fill:none;stroke-width:1;stroke-linecap:butt;stroke-linejoin:miter;stroke:rgb(1.176471%,1.176471%,1.176471%);stroke-opacity:1;stroke-miterlimit:10;\" d=\"M 167.382812 134.351562 L 132.441406 116.351562 \"/>\n",
       "<path style=\" stroke:none;fill-rule:nonzero;fill:rgb(1.176471%,1.176471%,1.176471%);fill-opacity:1;\" d=\"M 119.761719 109.820312 L 134.566406 112.230469 L 130.320312 120.472656 L 119.761719 109.820312 \"/>\n",
       "<path style=\"fill:none;stroke-width:1;stroke-linecap:butt;stroke-linejoin:miter;stroke:rgb(1.176471%,1.176471%,1.176471%);stroke-opacity:1;stroke-miterlimit:10;\" d=\"M 117.980469 108.902344 L 83.398438 92.167969 \"/>\n",
       "<path style=\" stroke:none;fill-rule:nonzero;fill:rgb(1.176471%,1.176471%,1.176471%);fill-opacity:1;\" d=\"M 70.554688 85.953125 L 85.417969 87.996094 L 81.378906 96.339844 L 70.554688 85.953125 \"/>\n",
       "<path style=\"fill:none;stroke-width:1;stroke-linecap:butt;stroke-linejoin:miter;stroke:rgb(1.176471%,1.176471%,1.176471%);stroke-opacity:1;stroke-miterlimit:10;\" d=\"M 68.753906 85.082031 L 34.761719 69.339844 \"/>\n",
       "<path style=\" stroke:none;fill-rule:nonzero;fill:rgb(1.176471%,1.176471%,1.176471%);fill-opacity:1;\" d=\"M 21.816406 63.34375 L 36.707031 65.132812 L 32.8125 73.546875 L 21.816406 63.34375 \"/>\n",
       "<path style=\"fill:none;stroke-width:1;stroke-linecap:butt;stroke-linejoin:miter;stroke:rgb(1.176471%,1.176471%,1.176471%);stroke-opacity:1;stroke-miterlimit:10;\" d=\"M 498.390625 155.761719 L 467.09375 136.582031 \"/>\n",
       "<path style=\" stroke:none;fill-rule:nonzero;fill:rgb(1.176471%,1.176471%,1.176471%);fill-opacity:1;\" d=\"M 454.925781 129.128906 L 469.511719 132.628906 L 464.671875 140.535156 L 454.925781 129.128906 \"/>\n",
       "<path style=\"fill:none;stroke-width:1;stroke-linecap:butt;stroke-linejoin:miter;stroke:rgb(1.176471%,1.176471%,1.176471%);stroke-opacity:1;stroke-miterlimit:10;\" d=\"M 453.222656 128.085938 L 463.707031 105.175781 \"/>\n",
       "<path style=\" stroke:none;fill-rule:nonzero;fill:rgb(1.176471%,1.176471%,1.176471%);fill-opacity:1;\" d=\"M 469.644531 92.203125 L 467.921875 107.105469 L 459.492188 103.246094 L 469.644531 92.203125 \"/>\n",
       "<path style=\"fill:none;stroke-width:1;stroke-linecap:butt;stroke-linejoin:miter;stroke:rgb(0.392157%,0.392157%,0.392157%);stroke-opacity:1;stroke-miterlimit:10;\" d=\"M 434.398438 367.996094 L 384.773438 357.636719 \"/>\n",
       "<path style=\" stroke:none;fill-rule:nonzero;fill:rgb(0.392157%,0.392157%,0.392157%);fill-opacity:1;\" d=\"M 370.808594 354.722656 L 385.722656 353.101562 L 383.828125 362.175781 L 370.808594 354.722656 \"/>\n",
       "<path style=\"fill:none;stroke-width:1;stroke-linecap:butt;stroke-linejoin:miter;stroke:rgb(0.392157%,0.392157%,0.392157%);stroke-opacity:1;stroke-miterlimit:10;\" d=\"M 368.851562 354.316406 L 311.132812 347.371094 \"/>\n",
       "<path style=\" stroke:none;fill-rule:nonzero;fill:rgb(0.392157%,0.392157%,0.392157%);fill-opacity:1;\" d=\"M 296.96875 345.667969 L 311.6875 342.769531 L 310.582031 351.972656 L 296.96875 345.667969 \"/>\n",
       "<path style=\"fill:none;stroke-width:1;stroke-linecap:butt;stroke-linejoin:miter;stroke:rgb(1.176471%,1.176471%,1.176471%);stroke-opacity:1;stroke-miterlimit:10;\" d=\"M 478.429688 20 L 469.246094 39.3125 \"/>\n",
       "<path style=\" stroke:none;fill-rule:nonzero;fill:rgb(1.176471%,1.176471%,1.176471%);fill-opacity:1;\" d=\"M 463.117188 52.195312 L 465.058594 37.324219 L 473.429688 41.304688 L 463.117188 52.195312 \"/>\n",
       "<path style=\"fill:none;stroke-width:1;stroke-linecap:butt;stroke-linejoin:miter;stroke:rgb(1.176471%,1.176471%,1.176471%);stroke-opacity:1;stroke-miterlimit:10;\" d=\"M 462.257812 54.003906 L 466.890625 74.519531 \"/>\n",
       "<path style=\" stroke:none;fill-rule:nonzero;fill:rgb(1.176471%,1.176471%,1.176471%);fill-opacity:1;\" d=\"M 470.035156 88.433594 L 462.371094 75.539062 L 471.414062 73.5 L 470.035156 88.433594 \"/>\n",
       "<path style=\"fill:none;stroke-width:1;stroke-linecap:butt;stroke-linejoin:miter;stroke:rgb(1.176471%,1.176471%,1.176471%);stroke-opacity:1;stroke-miterlimit:10;\" d=\"M 470.476562 90.386719 L 526.167969 84.988281 \"/>\n",
       "<path style=\" stroke:none;fill-rule:nonzero;fill:rgb(1.176471%,1.176471%,1.176471%);fill-opacity:1;\" d=\"M 540.367188 83.609375 L 526.613281 89.601562 L 525.71875 80.371094 L 540.367188 83.609375 \"/>\n",
       "<path style=\"fill-rule:nonzero;fill:rgb(100%,0%,0%);fill-opacity:1;stroke-width:1;stroke-linecap:butt;stroke-linejoin:miter;stroke:rgb(0%,0%,0%);stroke-opacity:1;stroke-miterlimit:10;\" d=\"M 202.65625 514.757812 C 202.65625 517.425781 198.65625 517.425781 198.65625 514.757812 C 198.65625 512.089844 202.65625 512.089844 202.65625 514.757812 \"/>\n",
       "<path style=\"fill-rule:nonzero;fill:rgb(100%,0%,0%);fill-opacity:1;stroke-width:1;stroke-linecap:butt;stroke-linejoin:miter;stroke:rgb(0%,0%,0%);stroke-opacity:1;stroke-miterlimit:10;\" d=\"M 582 110.242188 C 582 112.910156 578 112.910156 578 110.242188 C 578 107.574219 582 107.574219 582 110.242188 \"/>\n",
       "<path style=\"fill-rule:nonzero;fill:rgb(100%,0%,0%);fill-opacity:1;stroke-width:1;stroke-linecap:butt;stroke-linejoin:miter;stroke:rgb(0%,0%,0%);stroke-opacity:1;stroke-miterlimit:10;\" d=\"M 240.976562 415.4375 C 240.976562 418.105469 236.976562 418.105469 236.976562 415.4375 C 236.976562 412.769531 240.976562 412.769531 240.976562 415.4375 \"/>\n",
       "<path style=\"fill-rule:nonzero;fill:rgb(100%,0%,0%);fill-opacity:1;stroke-width:1;stroke-linecap:butt;stroke-linejoin:miter;stroke:rgb(0%,0%,0%);stroke-opacity:1;stroke-miterlimit:10;\" d=\"M 169.382812 134.351562 C 169.382812 137.019531 165.382812 137.019531 165.382812 134.351562 C 165.382812 131.6875 169.382812 131.6875 169.382812 134.351562 \"/>\n",
       "<path style=\"fill-rule:nonzero;fill:rgb(100%,0%,0%);fill-opacity:1;stroke-width:1;stroke-linecap:butt;stroke-linejoin:miter;stroke:rgb(0%,0%,0%);stroke-opacity:1;stroke-miterlimit:10;\" d=\"M 472.476562 90.386719 C 472.476562 93.050781 468.476562 93.050781 468.476562 90.386719 C 468.476562 87.71875 472.476562 87.71875 472.476562 90.386719 \"/>\n",
       "<path style=\"fill-rule:nonzero;fill:rgb(100%,0%,0%);fill-opacity:1;stroke-width:1;stroke-linecap:butt;stroke-linejoin:miter;stroke:rgb(0%,0%,0%);stroke-opacity:1;stroke-miterlimit:10;\" d=\"M 436.398438 367.996094 C 436.398438 370.664062 432.398438 370.664062 432.398438 367.996094 C 432.398438 365.332031 436.398438 365.332031 436.398438 367.996094 \"/>\n",
       "<path style=\"fill-rule:nonzero;fill:rgb(100%,0%,0%);fill-opacity:1;stroke-width:1;stroke-linecap:butt;stroke-linejoin:miter;stroke:rgb(0%,0%,0%);stroke-opacity:1;stroke-miterlimit:10;\" d=\"M 195.382812 547.433594 C 195.382812 550.101562 191.382812 550.101562 191.382812 547.433594 C 191.382812 544.769531 195.382812 544.769531 195.382812 547.433594 \"/>\n",
       "<path style=\"fill-rule:nonzero;fill:rgb(100%,0%,0%);fill-opacity:1;stroke-width:1;stroke-linecap:butt;stroke-linejoin:miter;stroke:rgb(0%,0%,0%);stroke-opacity:1;stroke-miterlimit:10;\" d=\"M 218.484375 161.8125 C 218.484375 164.480469 214.484375 164.480469 214.484375 161.8125 C 214.484375 159.148438 218.484375 159.148438 218.484375 161.8125 \"/>\n",
       "<path style=\"fill-rule:nonzero;fill:rgb(100%,0%,0%);fill-opacity:1;stroke-width:1;stroke-linecap:butt;stroke-linejoin:miter;stroke:rgb(0%,0%,0%);stroke-opacity:1;stroke-miterlimit:10;\" d=\"M 211.496094 481.914062 C 211.496094 484.578125 207.496094 484.578125 207.496094 481.914062 C 207.496094 479.246094 211.496094 479.246094 211.496094 481.914062 \"/>\n",
       "<path style=\"fill-rule:nonzero;fill:rgb(100%,0%,0%);fill-opacity:1;stroke-width:1;stroke-linecap:butt;stroke-linejoin:miter;stroke:rgb(0%,0%,0%);stroke-opacity:1;stroke-miterlimit:10;\" d=\"M 464.257812 54.003906 C 464.257812 56.667969 460.257812 56.667969 460.257812 54.003906 C 460.257812 51.335938 464.257812 51.335938 464.257812 54.003906 \"/>\n",
       "<path style=\"fill-rule:nonzero;fill:rgb(100%,0%,0%);fill-opacity:1;stroke-width:1;stroke-linecap:butt;stroke-linejoin:miter;stroke:rgb(0%,0%,0%);stroke-opacity:1;stroke-miterlimit:10;\" d=\"M 194.441406 380.746094 C 194.441406 383.414062 190.441406 383.414062 190.441406 380.746094 C 190.441406 378.082031 194.441406 378.082031 194.441406 380.746094 \"/>\n",
       "<path style=\"fill-rule:nonzero;fill:rgb(100%,0%,0%);fill-opacity:1;stroke-width:1;stroke-linecap:butt;stroke-linejoin:miter;stroke:rgb(0%,0%,0%);stroke-opacity:1;stroke-miterlimit:10;\" d=\"M 500.390625 155.761719 C 500.390625 158.425781 496.390625 158.425781 496.390625 155.761719 C 496.390625 153.09375 500.390625 153.09375 500.390625 155.761719 \"/>\n",
       "<path style=\"fill-rule:nonzero;fill:rgb(100%,0%,0%);fill-opacity:1;stroke-width:1;stroke-linecap:butt;stroke-linejoin:miter;stroke:rgb(0%,0%,0%);stroke-opacity:1;stroke-miterlimit:10;\" d=\"M 222.617188 448.804688 C 222.617188 451.472656 218.617188 451.472656 218.617188 448.804688 C 218.617188 446.136719 222.617188 446.136719 222.617188 448.804688 \"/>\n",
       "<path style=\"fill-rule:nonzero;fill:rgb(100%,0%,0%);fill-opacity:1;stroke-width:1;stroke-linecap:butt;stroke-linejoin:miter;stroke:rgb(0%,0%,0%);stroke-opacity:1;stroke-miterlimit:10;\" d=\"M 319.699219 401.34375 C 319.699219 404.011719 315.699219 404.011719 315.699219 401.34375 C 315.699219 398.675781 319.699219 398.675781 319.699219 401.34375 \"/>\n",
       "<path style=\"fill-rule:nonzero;fill:rgb(100%,0%,0%);fill-opacity:1;stroke-width:1;stroke-linecap:butt;stroke-linejoin:miter;stroke:rgb(0%,0%,0%);stroke-opacity:1;stroke-miterlimit:10;\" d=\"M 271.292969 308.40625 C 271.292969 311.074219 267.292969 311.074219 267.292969 308.40625 C 267.292969 305.738281 271.292969 305.738281 271.292969 308.40625 \"/>\n",
       "<path style=\"fill-rule:nonzero;fill:rgb(100%,0%,0%);fill-opacity:1;stroke-width:1;stroke-linecap:butt;stroke-linejoin:miter;stroke:rgb(0%,0%,0%);stroke-opacity:1;stroke-miterlimit:10;\" d=\"M 263.039062 380.15625 C 263.039062 382.820312 259.039062 382.820312 259.039062 380.15625 C 259.039062 377.488281 263.039062 377.488281 263.039062 380.15625 \"/>\n",
       "<path style=\"fill-rule:nonzero;fill:rgb(100%,0%,0%);fill-opacity:1;stroke-width:1;stroke-linecap:butt;stroke-linejoin:miter;stroke:rgb(0%,0%,0%);stroke-opacity:1;stroke-miterlimit:10;\" d=\"M 296.984375 345.429688 C 296.984375 348.09375 292.984375 348.09375 292.984375 345.429688 C 292.984375 342.761719 296.984375 342.761719 296.984375 345.429688 \"/>\n",
       "<path style=\"fill-rule:nonzero;fill:rgb(100%,0%,0%);fill-opacity:1;stroke-width:1;stroke-linecap:butt;stroke-linejoin:miter;stroke:rgb(0%,0%,0%);stroke-opacity:1;stroke-miterlimit:10;\" d=\"M 268.851562 268.363281 C 268.851562 271.027344 264.851562 271.027344 264.851562 268.363281 C 264.851562 265.695312 268.851562 265.695312 268.851562 268.363281 \"/>\n",
       "<path style=\"fill-rule:nonzero;fill:rgb(100%,0%,0%);fill-opacity:1;stroke-width:1;stroke-linecap:butt;stroke-linejoin:miter;stroke:rgb(0%,0%,0%);stroke-opacity:1;stroke-miterlimit:10;\" d=\"M 329.089844 278.039062 C 329.089844 280.707031 325.089844 280.707031 325.089844 278.039062 C 325.089844 275.371094 329.089844 275.371094 329.089844 278.039062 \"/>\n",
       "<path style=\"fill-rule:nonzero;fill:rgb(100%,0%,0%);fill-opacity:1;stroke-width:1;stroke-linecap:butt;stroke-linejoin:miter;stroke:rgb(0%,0%,0%);stroke-opacity:1;stroke-miterlimit:10;\" d=\"M 70.753906 85.082031 C 70.753906 87.75 66.753906 87.75 66.753906 85.082031 C 66.753906 82.417969 70.753906 82.417969 70.753906 85.082031 \"/>\n",
       "<path style=\"fill-rule:nonzero;fill:rgb(100%,0%,0%);fill-opacity:1;stroke-width:1;stroke-linecap:butt;stroke-linejoin:miter;stroke:rgb(0%,0%,0%);stroke-opacity:1;stroke-miterlimit:10;\" d=\"M 241.613281 230.148438 C 241.613281 232.8125 237.613281 232.8125 237.613281 230.148438 C 237.613281 227.480469 241.613281 227.480469 241.613281 230.148438 \"/>\n",
       "<path style=\"fill-rule:nonzero;fill:rgb(100%,0%,0%);fill-opacity:1;stroke-width:1;stroke-linecap:butt;stroke-linejoin:miter;stroke:rgb(0%,0%,0%);stroke-opacity:1;stroke-miterlimit:10;\" d=\"M 370.851562 354.316406 C 370.851562 356.980469 366.851562 356.980469 366.851562 354.316406 C 366.851562 351.648438 370.851562 351.648438 370.851562 354.316406 \"/>\n",
       "<path style=\"fill-rule:nonzero;fill:rgb(100%,0%,0%);fill-opacity:1;stroke-width:1;stroke-linecap:butt;stroke-linejoin:miter;stroke:rgb(0%,0%,0%);stroke-opacity:1;stroke-miterlimit:10;\" d=\"M 38.605469 254.320312 C 38.605469 256.988281 34.605469 256.988281 34.605469 254.320312 C 34.605469 251.652344 38.605469 251.652344 38.605469 254.320312 \"/>\n",
       "<path style=\"fill-rule:nonzero;fill:rgb(100%,0%,0%);fill-opacity:1;stroke-width:1;stroke-linecap:butt;stroke-linejoin:miter;stroke:rgb(0%,0%,0%);stroke-opacity:1;stroke-miterlimit:10;\" d=\"M 119.980469 108.902344 C 119.980469 111.570312 115.980469 111.570312 115.980469 108.902344 C 115.980469 106.238281 119.980469 106.238281 119.980469 108.902344 \"/>\n",
       "<path style=\"fill-rule:nonzero;fill:rgb(100%,0%,0%);fill-opacity:1;stroke-width:1;stroke-linecap:butt;stroke-linejoin:miter;stroke:rgb(0%,0%,0%);stroke-opacity:1;stroke-miterlimit:10;\" d=\"M 168.730469 233.136719 C 168.730469 235.804688 164.730469 235.804688 164.730469 233.136719 C 164.730469 230.46875 168.730469 230.46875 168.730469 233.136719 \"/>\n",
       "<path style=\"fill-rule:nonzero;fill:rgb(100%,0%,0%);fill-opacity:1;stroke-width:1;stroke-linecap:butt;stroke-linejoin:miter;stroke:rgb(0%,0%,0%);stroke-opacity:1;stroke-miterlimit:10;\" d=\"M 544.355469 83.417969 C 544.355469 86.082031 540.355469 86.082031 540.355469 83.417969 C 540.355469 80.75 544.355469 80.75 544.355469 83.417969 \"/>\n",
       "<path style=\"fill-rule:nonzero;fill:rgb(100%,0%,0%);fill-opacity:1;stroke-width:1;stroke-linecap:butt;stroke-linejoin:miter;stroke:rgb(0%,0%,0%);stroke-opacity:1;stroke-miterlimit:10;\" d=\"M 22 62.503906 C 22 65.171875 18 65.171875 18 62.503906 C 18 59.835938 22 59.835938 22 62.503906 \"/>\n",
       "<path style=\"fill-rule:nonzero;fill:rgb(100%,0%,0%);fill-opacity:1;stroke-width:1;stroke-linecap:butt;stroke-linejoin:miter;stroke:rgb(0%,0%,0%);stroke-opacity:1;stroke-miterlimit:10;\" d=\"M 480.429688 20 C 480.429688 22.667969 476.429688 22.667969 476.429688 20 C 476.429688 17.332031 480.429688 17.332031 480.429688 20 \"/>\n",
       "<path style=\"fill-rule:nonzero;fill:rgb(100%,0%,0%);fill-opacity:1;stroke-width:1;stroke-linecap:butt;stroke-linejoin:miter;stroke:rgb(0%,0%,0%);stroke-opacity:1;stroke-miterlimit:10;\" d=\"M 333.085938 169.726562 C 333.085938 172.394531 329.085938 172.394531 329.085938 169.726562 C 329.085938 167.0625 333.085938 167.0625 333.085938 169.726562 \"/>\n",
       "<path style=\"fill-rule:nonzero;fill:rgb(100%,0%,0%);fill-opacity:1;stroke-width:1;stroke-linecap:butt;stroke-linejoin:miter;stroke:rgb(0%,0%,0%);stroke-opacity:1;stroke-miterlimit:10;\" d=\"M 329.554688 257.65625 C 329.554688 260.324219 325.554688 260.324219 325.554688 257.65625 C 325.554688 254.988281 329.554688 254.988281 329.554688 257.65625 \"/>\n",
       "<path style=\"fill-rule:nonzero;fill:rgb(100%,0%,0%);fill-opacity:1;stroke-width:1;stroke-linecap:butt;stroke-linejoin:miter;stroke:rgb(0%,0%,0%);stroke-opacity:1;stroke-miterlimit:10;\" d=\"M 96.785156 234.808594 C 96.785156 237.472656 92.785156 237.472656 92.785156 234.808594 C 92.785156 232.140625 96.785156 232.140625 96.785156 234.808594 \"/>\n",
       "<path style=\"fill-rule:nonzero;fill:rgb(100%,0%,0%);fill-opacity:1;stroke-width:1;stroke-linecap:butt;stroke-linejoin:miter;stroke:rgb(0%,0%,0%);stroke-opacity:1;stroke-miterlimit:10;\" d=\"M 36.710938 216.59375 C 36.710938 219.257812 32.710938 219.257812 32.710938 216.59375 C 32.710938 213.925781 36.710938 213.925781 36.710938 216.59375 \"/>\n",
       "<path style=\"fill-rule:nonzero;fill:rgb(100%,0%,0%);fill-opacity:1;stroke-width:1;stroke-linecap:butt;stroke-linejoin:miter;stroke:rgb(0%,0%,0%);stroke-opacity:1;stroke-miterlimit:10;\" d=\"M 392.011719 147.582031 C 392.011719 150.25 388.011719 150.25 388.011719 147.582031 C 388.011719 144.914062 392.011719 144.914062 392.011719 147.582031 \"/>\n",
       "<path style=\"fill-rule:nonzero;fill:rgb(100%,0%,0%);fill-opacity:1;stroke-width:1;stroke-linecap:butt;stroke-linejoin:miter;stroke:rgb(0%,0%,0%);stroke-opacity:1;stroke-miterlimit:10;\" d=\"M 188.546875 580 C 188.546875 582.667969 184.546875 582.667969 184.546875 580 C 184.546875 577.332031 188.546875 577.332031 188.546875 580 \"/>\n",
       "<path style=\"fill-rule:nonzero;fill:rgb(100%,0%,0%);fill-opacity:1;stroke-width:1;stroke-linecap:butt;stroke-linejoin:miter;stroke:rgb(0%,0%,0%);stroke-opacity:1;stroke-miterlimit:10;\" d=\"M 455.222656 128.085938 C 455.222656 130.75 451.222656 130.75 451.222656 128.085938 C 451.222656 125.417969 455.222656 125.417969 455.222656 128.085938 \"/>\n",
       "<path style=\"fill-rule:nonzero;fill:rgb(100%,0%,0%);fill-opacity:1;stroke-width:1;stroke-linecap:butt;stroke-linejoin:miter;stroke:rgb(0%,0%,0%);stroke-opacity:1;stroke-miterlimit:10;\" d=\"M 268.421875 190.46875 C 268.421875 193.136719 264.421875 193.136719 264.421875 190.46875 C 264.421875 187.804688 268.421875 187.804688 268.421875 190.46875 \"/>\n",
       "<path style=\"fill-rule:nonzero;fill:rgb(100%,0%,0%);fill-opacity:1;stroke-width:1;stroke-linecap:butt;stroke-linejoin:miter;stroke:rgb(0%,0%,0%);stroke-opacity:1;stroke-miterlimit:10;\" d=\"M 526.117188 129.25 C 526.117188 131.917969 522.117188 131.917969 522.117188 129.25 C 522.117188 126.585938 526.117188 126.585938 526.117188 129.25 \"/>\n",
       "</g>\n",
       "</svg>\n"
      ],
      "text/plain": [
       "<igraph.drawing.Plot at 0x7f0af802c978>"
      ]
     },
     "execution_count": 38,
     "metadata": {
      "image/svg+xml": {
       "isolated": true
      }
     },
     "output_type": "execute_result"
    }
   ],
   "source": [
    "layout = g.layout_kamada_kawai()\n",
    "ig.plot(g, vertex_size=4, layout=layout)\n",
    "# https://igraph.org/python/doc/tutorial/tutorial.html"
   ]
  },
  {
   "cell_type": "code",
   "execution_count": null,
   "metadata": {},
   "outputs": [],
   "source": [
    "# Export\n",
    "g.write('subway.gml')"
   ]
  },
  {
   "cell_type": "markdown",
   "metadata": {},
   "source": [
    "## Simple Graph"
   ]
  },
  {
   "cell_type": "code",
   "execution_count": null,
   "metadata": {},
   "outputs": [],
   "source": [
    "# load\n",
    "blob = pickle.load( open(blobname, \"rb\") )"
   ]
  },
  {
   "cell_type": "code",
   "execution_count": 41,
   "metadata": {},
   "outputs": [
    {
     "name": "stdout",
     "output_type": "stream",
     "text": [
      "30\n",
      "edges: 40\n",
      "nodes: 39\n"
     ]
    }
   ],
   "source": [
    "thesis = list(blob.thesis.values())\n",
    "print(len(thesis))\n",
    "\n",
    "edges = set()\n",
    "nodes = set()\n",
    "for th in thesis:\n",
    "    nodes.add(th['author'])\n",
    "    for adviser in th['directors']:\n",
    "        edges.add((th['author'], adviser))\n",
    "        nodes.add(adviser)\n",
    "        #break # only one adviser...\n",
    "        \n",
    "edges = list(edges)\n",
    "nodes = list(nodes)\n",
    "print('edges:', len(edges))\n",
    "print('nodes:', len(nodes))"
   ]
  },
  {
   "cell_type": "code",
   "execution_count": 42,
   "metadata": {},
   "outputs": [
    {
     "name": "stdout",
     "output_type": "stream",
     "text": [
      "vertex: 39\n"
     ]
    }
   ],
   "source": [
    "edges_by_idx = [(nodes.index(u), nodes.index(v))\n",
    "                for u, v in edges]\n",
    "\n",
    "# graph\n",
    "g = ig.Graph(directed=False)\n",
    "g.add_vertices(nodes)\n",
    "g.add_edges(edges_by_idx)\n",
    "\n",
    "print('vertex:', len(g.vs))"
   ]
  },
  {
   "cell_type": "markdown",
   "metadata": {},
   "source": [
    "https://schneide.blog/tag/fruchterman-reingold/"
   ]
  },
  {
   "cell_type": "code",
   "execution_count": 45,
   "metadata": {},
   "outputs": [
    {
     "data": {
      "image/svg+xml": [
       "<?xml version=\"1.0\" encoding=\"UTF-8\"?>\n",
       "<svg xmlns=\"http://www.w3.org/2000/svg\" xmlns:xlink=\"http://www.w3.org/1999/xlink\" width=\"600pt\" height=\"600pt\" viewBox=\"0 0 600 600\" version=\"1.1\">\n",
       "<g id=\"surface38\">\n",
       "<rect x=\"0\" y=\"0\" width=\"600\" height=\"600\" style=\"fill:rgb(100%,100%,100%);fill-opacity:1;stroke:none;\"/>\n",
       "<path style=\"fill:none;stroke-width:1;stroke-linecap:butt;stroke-linejoin:miter;stroke:rgb(26.666667%,26.666667%,26.666667%);stroke-opacity:1;stroke-miterlimit:10;\" d=\"M 249.667969 66.578125 L 416.597656 118.785156 \"/>\n",
       "<path style=\"fill:none;stroke-width:1;stroke-linecap:butt;stroke-linejoin:miter;stroke:rgb(26.666667%,26.666667%,26.666667%);stroke-opacity:1;stroke-miterlimit:10;\" d=\"M 295.488281 392.992188 L 336.207031 332.078125 \"/>\n",
       "<path style=\"fill:none;stroke-width:1;stroke-linecap:butt;stroke-linejoin:miter;stroke:rgb(26.666667%,26.666667%,26.666667%);stroke-opacity:1;stroke-miterlimit:10;\" d=\"M 339.066406 416.953125 L 336.207031 332.078125 \"/>\n",
       "<path style=\"fill:none;stroke-width:1;stroke-linecap:butt;stroke-linejoin:miter;stroke:rgb(26.666667%,26.666667%,26.666667%);stroke-opacity:1;stroke-miterlimit:10;\" d=\"M 356 255.847656 L 341.261719 177.230469 \"/>\n",
       "<path style=\"fill:none;stroke-width:1;stroke-linecap:butt;stroke-linejoin:miter;stroke:rgb(26.666667%,26.666667%,26.666667%);stroke-opacity:1;stroke-miterlimit:10;\" d=\"M 356 255.847656 L 411.273438 242.777344 \"/>\n",
       "<path style=\"fill:none;stroke-width:1;stroke-linecap:butt;stroke-linejoin:miter;stroke:rgb(26.666667%,26.666667%,26.666667%);stroke-opacity:1;stroke-miterlimit:10;\" d=\"M 76 255.472656 L 20 255.398438 \"/>\n",
       "<path style=\"fill:none;stroke-width:1;stroke-linecap:butt;stroke-linejoin:miter;stroke:rgb(26.666667%,26.666667%,26.666667%);stroke-opacity:1;stroke-miterlimit:10;\" d=\"M 336.207031 332.078125 L 356 255.847656 \"/>\n",
       "<path style=\"fill:none;stroke-width:1;stroke-linecap:butt;stroke-linejoin:miter;stroke:rgb(26.666667%,26.666667%,26.666667%);stroke-opacity:1;stroke-miterlimit:10;\" d=\"M 326.523438 98.617188 L 311.785156 20 \"/>\n",
       "<path style=\"fill:none;stroke-width:1;stroke-linecap:butt;stroke-linejoin:miter;stroke:rgb(26.666667%,26.666667%,26.666667%);stroke-opacity:1;stroke-miterlimit:10;\" d=\"M 100.117188 421.273438 L 174.683594 447.246094 \"/>\n",
       "<path style=\"fill:none;stroke-width:1;stroke-linecap:butt;stroke-linejoin:miter;stroke:rgb(26.666667%,26.666667%,26.666667%);stroke-opacity:1;stroke-miterlimit:10;\" d=\"M 300.0625 251.980469 L 356 255.847656 \"/>\n",
       "<path style=\"fill:none;stroke-width:1;stroke-linecap:butt;stroke-linejoin:miter;stroke:rgb(26.666667%,26.666667%,26.666667%);stroke-opacity:1;stroke-miterlimit:10;\" d=\"M 285.113281 129.667969 L 249.667969 66.578125 \"/>\n",
       "<path style=\"fill:none;stroke-width:1;stroke-linecap:butt;stroke-linejoin:miter;stroke:rgb(26.666667%,26.666667%,26.666667%);stroke-opacity:1;stroke-miterlimit:10;\" d=\"M 76 255.472656 L 132 255.546875 \"/>\n",
       "<path style=\"fill:none;stroke-width:1;stroke-linecap:butt;stroke-linejoin:miter;stroke:rgb(26.666667%,26.666667%,26.666667%);stroke-opacity:1;stroke-miterlimit:10;\" d=\"M 425.140625 565.886719 L 330.601562 497.503906 \"/>\n",
       "<path style=\"fill:none;stroke-width:1;stroke-linecap:butt;stroke-linejoin:miter;stroke:rgb(26.666667%,26.666667%,26.666667%);stroke-opacity:1;stroke-miterlimit:10;\" d=\"M 316.605469 313.765625 L 356 255.847656 \"/>\n",
       "<path style=\"fill:none;stroke-width:1;stroke-linecap:butt;stroke-linejoin:miter;stroke:rgb(26.666667%,26.666667%,26.666667%);stroke-opacity:1;stroke-miterlimit:10;\" d=\"M 332.476562 580 L 330.601562 497.503906 \"/>\n",
       "<path style=\"fill:none;stroke-width:1;stroke-linecap:butt;stroke-linejoin:miter;stroke:rgb(26.666667%,26.666667%,26.666667%);stroke-opacity:1;stroke-miterlimit:10;\" d=\"M 356 255.847656 L 305.984375 219.199219 \"/>\n",
       "<path style=\"fill:none;stroke-width:1;stroke-linecap:butt;stroke-linejoin:miter;stroke:rgb(26.666667%,26.666667%,26.666667%);stroke-opacity:1;stroke-miterlimit:10;\" d=\"M 326.523438 98.617188 L 364.515625 175.308594 \"/>\n",
       "<path style=\"fill:none;stroke-width:1;stroke-linecap:butt;stroke-linejoin:miter;stroke:rgb(26.666667%,26.666667%,26.666667%);stroke-opacity:1;stroke-miterlimit:10;\" d=\"M 190.199219 295.285156 L 251.640625 315.015625 \"/>\n",
       "<path style=\"fill:none;stroke-width:1;stroke-linecap:butt;stroke-linejoin:miter;stroke:rgb(26.666667%,26.666667%,26.666667%);stroke-opacity:1;stroke-miterlimit:10;\" d=\"M 151.460938 122.960938 L 330.601562 497.503906 \"/>\n",
       "<path style=\"fill:none;stroke-width:1;stroke-linecap:butt;stroke-linejoin:miter;stroke:rgb(26.666667%,26.666667%,26.666667%);stroke-opacity:1;stroke-miterlimit:10;\" d=\"M 356 255.847656 L 364.515625 175.308594 \"/>\n",
       "<path style=\"fill:none;stroke-width:1;stroke-linecap:butt;stroke-linejoin:miter;stroke:rgb(26.666667%,26.666667%,26.666667%);stroke-opacity:1;stroke-miterlimit:10;\" d=\"M 174.683594 447.246094 L 330.601562 497.503906 \"/>\n",
       "<path style=\"fill:none;stroke-width:1;stroke-linecap:butt;stroke-linejoin:miter;stroke:rgb(26.666667%,26.666667%,26.666667%);stroke-opacity:1;stroke-miterlimit:10;\" d=\"M 449.675781 166.515625 L 364.515625 175.308594 \"/>\n",
       "<path style=\"fill:none;stroke-width:1;stroke-linecap:butt;stroke-linejoin:miter;stroke:rgb(26.666667%,26.666667%,26.666667%);stroke-opacity:1;stroke-miterlimit:10;\" d=\"M 416.597656 118.785156 L 364.515625 175.308594 \"/>\n",
       "<path style=\"fill:none;stroke-width:1;stroke-linecap:butt;stroke-linejoin:miter;stroke:rgb(26.666667%,26.666667%,26.666667%);stroke-opacity:1;stroke-miterlimit:10;\" d=\"M 505.84375 498.132812 L 330.601562 497.503906 \"/>\n",
       "<path style=\"fill:none;stroke-width:1;stroke-linecap:butt;stroke-linejoin:miter;stroke:rgb(26.666667%,26.666667%,26.666667%);stroke-opacity:1;stroke-miterlimit:10;\" d=\"M 580 255.847656 L 330.601562 497.503906 \"/>\n",
       "<path style=\"fill:none;stroke-width:1;stroke-linecap:butt;stroke-linejoin:miter;stroke:rgb(26.666667%,26.666667%,26.666667%);stroke-opacity:1;stroke-miterlimit:10;\" d=\"M 466.550781 229.703125 L 411.273438 242.777344 \"/>\n",
       "<path style=\"fill:none;stroke-width:1;stroke-linecap:butt;stroke-linejoin:miter;stroke:rgb(26.666667%,26.666667%,26.666667%);stroke-opacity:1;stroke-miterlimit:10;\" d=\"M 168.503906 558.453125 L 174.683594 447.246094 \"/>\n",
       "<path style=\"fill:none;stroke-width:1;stroke-linecap:butt;stroke-linejoin:miter;stroke:rgb(26.666667%,26.666667%,26.666667%);stroke-opacity:1;stroke-miterlimit:10;\" d=\"M 285.113281 129.667969 L 364.515625 175.308594 \"/>\n",
       "<path style=\"fill:none;stroke-width:1;stroke-linecap:butt;stroke-linejoin:miter;stroke:rgb(26.666667%,26.666667%,26.666667%);stroke-opacity:1;stroke-miterlimit:10;\" d=\"M 359.230469 337.199219 L 356 255.847656 \"/>\n",
       "<path style=\"fill:none;stroke-width:1;stroke-linecap:butt;stroke-linejoin:miter;stroke:rgb(26.666667%,26.666667%,26.666667%);stroke-opacity:1;stroke-miterlimit:10;\" d=\"M 132 255.546875 L 330.601562 497.503906 \"/>\n",
       "<path style=\"fill:none;stroke-width:1;stroke-linecap:butt;stroke-linejoin:miter;stroke:rgb(26.666667%,26.666667%,26.666667%);stroke-opacity:1;stroke-miterlimit:10;\" d=\"M 255.964844 182.550781 L 305.984375 219.199219 \"/>\n",
       "<path style=\"fill:none;stroke-width:1;stroke-linecap:butt;stroke-linejoin:miter;stroke:rgb(26.666667%,26.666667%,26.666667%);stroke-opacity:1;stroke-miterlimit:10;\" d=\"M 373.035156 94.765625 L 364.515625 175.308594 \"/>\n",
       "<path style=\"fill:none;stroke-width:1;stroke-linecap:butt;stroke-linejoin:miter;stroke:rgb(26.666667%,26.666667%,26.666667%);stroke-opacity:1;stroke-miterlimit:10;\" d=\"M 303.820312 285.429688 L 251.640625 315.015625 \"/>\n",
       "<path style=\"fill:none;stroke-width:1;stroke-linecap:butt;stroke-linejoin:miter;stroke:rgb(26.666667%,26.666667%,26.666667%);stroke-opacity:1;stroke-miterlimit:10;\" d=\"M 303.820312 285.429688 L 356 255.847656 \"/>\n",
       "<path style=\"fill:none;stroke-width:1;stroke-linecap:butt;stroke-linejoin:miter;stroke:rgb(26.666667%,26.666667%,26.666667%);stroke-opacity:1;stroke-miterlimit:10;\" d=\"M 243.882812 538.03125 L 330.601562 497.503906 \"/>\n",
       "<path style=\"fill:none;stroke-width:1;stroke-linecap:butt;stroke-linejoin:miter;stroke:rgb(26.666667%,26.666667%,26.666667%);stroke-opacity:1;stroke-miterlimit:10;\" d=\"M 215.570312 390.03125 L 251.640625 315.015625 \"/>\n",
       "<path style=\"fill:none;stroke-width:1;stroke-linecap:butt;stroke-linejoin:miter;stroke:rgb(26.666667%,26.666667%,26.666667%);stroke-opacity:1;stroke-miterlimit:10;\" d=\"M 339.066406 416.953125 L 330.601562 497.503906 \"/>\n",
       "<path style=\"fill:none;stroke-width:1;stroke-linecap:butt;stroke-linejoin:miter;stroke:rgb(26.666667%,26.666667%,26.666667%);stroke-opacity:1;stroke-miterlimit:10;\" d=\"M 560.621094 388.460938 L 330.601562 497.503906 \"/>\n",
       "<path style=\"fill:none;stroke-width:1;stroke-linecap:butt;stroke-linejoin:miter;stroke:rgb(26.666667%,26.666667%,26.666667%);stroke-opacity:1;stroke-miterlimit:10;\" d=\"M 215.570312 390.03125 L 466.550781 229.703125 \"/>\n",
       "<path style=\"fill:none;stroke-width:1;stroke-linecap:butt;stroke-linejoin:miter;stroke:rgb(26.666667%,26.666667%,26.666667%);stroke-opacity:1;stroke-miterlimit:10;\" d=\"M 356 255.847656 L 320.554688 192.757812 \"/>\n",
       "<path style=\"fill-rule:nonzero;fill:rgb(100%,0%,0%);fill-opacity:1;stroke-width:1;stroke-linecap:butt;stroke-linejoin:miter;stroke:rgb(0%,0%,0%);stroke-opacity:1;stroke-miterlimit:10;\" d=\"M 582 255.847656 C 582 258.515625 578 258.515625 578 255.847656 C 578 253.179688 582 253.179688 582 255.847656 \"/>\n",
       "<path style=\"fill-rule:nonzero;fill:rgb(100%,0%,0%);fill-opacity:1;stroke-width:1;stroke-linecap:butt;stroke-linejoin:miter;stroke:rgb(0%,0%,0%);stroke-opacity:1;stroke-miterlimit:10;\" d=\"M 361.230469 337.199219 C 361.230469 339.867188 357.230469 339.867188 357.230469 337.199219 C 357.230469 334.535156 361.230469 334.535156 361.230469 337.199219 \"/>\n",
       "<path style=\"fill-rule:nonzero;fill:rgb(100%,0%,0%);fill-opacity:1;stroke-width:1;stroke-linecap:butt;stroke-linejoin:miter;stroke:rgb(0%,0%,0%);stroke-opacity:1;stroke-miterlimit:10;\" d=\"M 562.621094 388.460938 C 562.621094 391.128906 558.621094 391.128906 558.621094 388.460938 C 558.621094 385.796875 562.621094 385.796875 562.621094 388.460938 \"/>\n",
       "<path style=\"fill-rule:nonzero;fill:rgb(100%,0%,0%);fill-opacity:1;stroke-width:1;stroke-linecap:butt;stroke-linejoin:miter;stroke:rgb(0%,0%,0%);stroke-opacity:1;stroke-miterlimit:10;\" d=\"M 287.113281 129.667969 C 287.113281 132.335938 283.113281 132.335938 283.113281 129.667969 C 283.113281 127 287.113281 127 287.113281 129.667969 \"/>\n",
       "<path style=\"fill-rule:nonzero;fill:rgb(100%,0%,0%);fill-opacity:1;stroke-width:1;stroke-linecap:butt;stroke-linejoin:miter;stroke:rgb(0%,0%,0%);stroke-opacity:1;stroke-miterlimit:10;\" d=\"M 217.570312 390.03125 C 217.570312 392.699219 213.570312 392.699219 213.570312 390.03125 C 213.570312 387.363281 217.570312 387.363281 217.570312 390.03125 \"/>\n",
       "<path style=\"fill-rule:nonzero;fill:rgb(100%,0%,0%);fill-opacity:1;stroke-width:1;stroke-linecap:butt;stroke-linejoin:miter;stroke:rgb(0%,0%,0%);stroke-opacity:1;stroke-miterlimit:10;\" d=\"M 78 255.472656 C 78 258.140625 74 258.140625 74 255.472656 C 74 252.808594 78 252.808594 78 255.472656 \"/>\n",
       "<path style=\"fill-rule:nonzero;fill:rgb(100%,0%,0%);fill-opacity:1;stroke-width:1;stroke-linecap:butt;stroke-linejoin:miter;stroke:rgb(0%,0%,0%);stroke-opacity:1;stroke-miterlimit:10;\" d=\"M 507.84375 498.132812 C 507.84375 500.800781 503.84375 500.800781 503.84375 498.132812 C 503.84375 495.464844 507.84375 495.464844 507.84375 498.132812 \"/>\n",
       "<path style=\"fill-rule:nonzero;fill:rgb(100%,0%,0%);fill-opacity:1;stroke-width:1;stroke-linecap:butt;stroke-linejoin:miter;stroke:rgb(0%,0%,0%);stroke-opacity:1;stroke-miterlimit:10;\" d=\"M 328.523438 98.617188 C 328.523438 101.28125 324.523438 101.28125 324.523438 98.617188 C 324.523438 95.949219 328.523438 95.949219 328.523438 98.617188 \"/>\n",
       "<path style=\"fill-rule:nonzero;fill:rgb(100%,0%,0%);fill-opacity:1;stroke-width:1;stroke-linecap:butt;stroke-linejoin:miter;stroke:rgb(0%,0%,0%);stroke-opacity:1;stroke-miterlimit:10;\" d=\"M 427.140625 565.886719 C 427.140625 568.550781 423.140625 568.550781 423.140625 565.886719 C 423.140625 563.21875 427.140625 563.21875 427.140625 565.886719 \"/>\n",
       "<path style=\"fill-rule:nonzero;fill:rgb(100%,0%,0%);fill-opacity:1;stroke-width:1;stroke-linecap:butt;stroke-linejoin:miter;stroke:rgb(0%,0%,0%);stroke-opacity:1;stroke-miterlimit:10;\" d=\"M 192.199219 295.285156 C 192.199219 297.953125 188.199219 297.953125 188.199219 295.285156 C 188.199219 292.617188 192.199219 292.617188 192.199219 295.285156 \"/>\n",
       "<path style=\"fill-rule:nonzero;fill:rgb(100%,0%,0%);fill-opacity:1;stroke-width:1;stroke-linecap:butt;stroke-linejoin:miter;stroke:rgb(0%,0%,0%);stroke-opacity:1;stroke-miterlimit:10;\" d=\"M 170.503906 558.453125 C 170.503906 561.121094 166.503906 561.121094 166.503906 558.453125 C 166.503906 555.785156 170.503906 555.785156 170.503906 558.453125 \"/>\n",
       "<path style=\"fill-rule:nonzero;fill:rgb(100%,0%,0%);fill-opacity:1;stroke-width:1;stroke-linecap:butt;stroke-linejoin:miter;stroke:rgb(0%,0%,0%);stroke-opacity:1;stroke-miterlimit:10;\" d=\"M 468.550781 229.703125 C 468.550781 232.371094 464.550781 232.371094 464.550781 229.703125 C 464.550781 227.039062 468.550781 227.039062 468.550781 229.703125 \"/>\n",
       "<path style=\"fill-rule:nonzero;fill:rgb(100%,0%,0%);fill-opacity:1;stroke-width:1;stroke-linecap:butt;stroke-linejoin:miter;stroke:rgb(0%,0%,0%);stroke-opacity:1;stroke-miterlimit:10;\" d=\"M 334.476562 580 C 334.476562 582.667969 330.476562 582.667969 330.476562 580 C 330.476562 577.332031 334.476562 577.332031 334.476562 580 \"/>\n",
       "<path style=\"fill-rule:nonzero;fill:rgb(100%,0%,0%);fill-opacity:1;stroke-width:1;stroke-linecap:butt;stroke-linejoin:miter;stroke:rgb(0%,0%,0%);stroke-opacity:1;stroke-miterlimit:10;\" d=\"M 102.117188 421.273438 C 102.117188 423.941406 98.117188 423.941406 98.117188 421.273438 C 98.117188 418.605469 102.117188 418.605469 102.117188 421.273438 \"/>\n",
       "<path style=\"fill-rule:nonzero;fill:rgb(100%,0%,0%);fill-opacity:1;stroke-width:1;stroke-linecap:butt;stroke-linejoin:miter;stroke:rgb(0%,0%,0%);stroke-opacity:1;stroke-miterlimit:10;\" d=\"M 245.882812 538.03125 C 245.882812 540.699219 241.882812 540.699219 241.882812 538.03125 C 241.882812 535.367188 245.882812 535.367188 245.882812 538.03125 \"/>\n",
       "<path style=\"fill-rule:nonzero;fill:rgb(100%,0%,0%);fill-opacity:1;stroke-width:1;stroke-linecap:butt;stroke-linejoin:miter;stroke:rgb(0%,0%,0%);stroke-opacity:1;stroke-miterlimit:10;\" d=\"M 313.785156 20 C 313.785156 22.667969 309.785156 22.667969 309.785156 20 C 309.785156 17.332031 313.785156 17.332031 313.785156 20 \"/>\n",
       "<path style=\"fill-rule:nonzero;fill:rgb(100%,0%,0%);fill-opacity:1;stroke-width:1;stroke-linecap:butt;stroke-linejoin:miter;stroke:rgb(0%,0%,0%);stroke-opacity:1;stroke-miterlimit:10;\" d=\"M 176.683594 447.246094 C 176.683594 449.910156 172.683594 449.910156 172.683594 447.246094 C 172.683594 444.578125 176.683594 444.578125 176.683594 447.246094 \"/>\n",
       "<path style=\"fill-rule:nonzero;fill:rgb(100%,0%,0%);fill-opacity:1;stroke-width:1;stroke-linecap:butt;stroke-linejoin:miter;stroke:rgb(0%,0%,0%);stroke-opacity:1;stroke-miterlimit:10;\" d=\"M 134 255.546875 C 134 258.214844 130 258.214844 130 255.546875 C 130 252.882812 134 252.882812 134 255.546875 \"/>\n",
       "<path style=\"fill-rule:nonzero;fill:rgb(100%,0%,0%);fill-opacity:1;stroke-width:1;stroke-linecap:butt;stroke-linejoin:miter;stroke:rgb(0%,0%,0%);stroke-opacity:1;stroke-miterlimit:10;\" d=\"M 341.066406 416.953125 C 341.066406 419.617188 337.066406 419.617188 337.066406 416.953125 C 337.066406 414.285156 341.066406 414.285156 341.066406 416.953125 \"/>\n",
       "<path style=\"fill-rule:nonzero;fill:rgb(100%,0%,0%);fill-opacity:1;stroke-width:1;stroke-linecap:butt;stroke-linejoin:miter;stroke:rgb(0%,0%,0%);stroke-opacity:1;stroke-miterlimit:10;\" d=\"M 297.488281 392.992188 C 297.488281 395.65625 293.488281 395.65625 293.488281 392.992188 C 293.488281 390.324219 297.488281 390.324219 297.488281 392.992188 \"/>\n",
       "<path style=\"fill-rule:nonzero;fill:rgb(100%,0%,0%);fill-opacity:1;stroke-width:1;stroke-linecap:butt;stroke-linejoin:miter;stroke:rgb(0%,0%,0%);stroke-opacity:1;stroke-miterlimit:10;\" d=\"M 251.667969 66.578125 C 251.667969 69.246094 247.667969 69.246094 247.667969 66.578125 C 247.667969 63.910156 251.667969 63.910156 251.667969 66.578125 \"/>\n",
       "<path style=\"fill-rule:nonzero;fill:rgb(100%,0%,0%);fill-opacity:1;stroke-width:1;stroke-linecap:butt;stroke-linejoin:miter;stroke:rgb(0%,0%,0%);stroke-opacity:1;stroke-miterlimit:10;\" d=\"M 375.035156 94.765625 C 375.035156 97.433594 371.035156 97.433594 371.035156 94.765625 C 371.035156 92.101562 375.035156 92.101562 375.035156 94.765625 \"/>\n",
       "<path style=\"fill-rule:nonzero;fill:rgb(100%,0%,0%);fill-opacity:1;stroke-width:1;stroke-linecap:butt;stroke-linejoin:miter;stroke:rgb(0%,0%,0%);stroke-opacity:1;stroke-miterlimit:10;\" d=\"M 338.207031 332.078125 C 338.207031 334.742188 334.207031 334.742188 334.207031 332.078125 C 334.207031 329.410156 338.207031 329.410156 338.207031 332.078125 \"/>\n",
       "<path style=\"fill-rule:nonzero;fill:rgb(100%,0%,0%);fill-opacity:1;stroke-width:1;stroke-linecap:butt;stroke-linejoin:miter;stroke:rgb(0%,0%,0%);stroke-opacity:1;stroke-miterlimit:10;\" d=\"M 22 255.398438 C 22 258.066406 18 258.066406 18 255.398438 C 18 252.730469 22 252.730469 22 255.398438 \"/>\n",
       "<path style=\"fill-rule:nonzero;fill:rgb(100%,0%,0%);fill-opacity:1;stroke-width:1;stroke-linecap:butt;stroke-linejoin:miter;stroke:rgb(0%,0%,0%);stroke-opacity:1;stroke-miterlimit:10;\" d=\"M 257.964844 182.550781 C 257.964844 185.214844 253.964844 185.214844 253.964844 182.550781 C 253.964844 179.882812 257.964844 179.882812 257.964844 182.550781 \"/>\n",
       "<path style=\"fill-rule:nonzero;fill:rgb(100%,0%,0%);fill-opacity:1;stroke-width:1;stroke-linecap:butt;stroke-linejoin:miter;stroke:rgb(0%,0%,0%);stroke-opacity:1;stroke-miterlimit:10;\" d=\"M 418.597656 118.785156 C 418.597656 121.453125 414.597656 121.453125 414.597656 118.785156 C 414.597656 116.117188 418.597656 116.117188 418.597656 118.785156 \"/>\n",
       "<path style=\"fill-rule:nonzero;fill:rgb(100%,0%,0%);fill-opacity:1;stroke-width:1;stroke-linecap:butt;stroke-linejoin:miter;stroke:rgb(0%,0%,0%);stroke-opacity:1;stroke-miterlimit:10;\" d=\"M 318.605469 313.765625 C 318.605469 316.429688 314.605469 316.429688 314.605469 313.765625 C 314.605469 311.097656 318.605469 311.097656 318.605469 313.765625 \"/>\n",
       "<path style=\"fill-rule:nonzero;fill:rgb(100%,0%,0%);fill-opacity:1;stroke-width:1;stroke-linecap:butt;stroke-linejoin:miter;stroke:rgb(0%,0%,0%);stroke-opacity:1;stroke-miterlimit:10;\" d=\"M 305.820312 285.429688 C 305.820312 288.097656 301.820312 288.097656 301.820312 285.429688 C 301.820312 282.765625 305.820312 282.765625 305.820312 285.429688 \"/>\n",
       "<path style=\"fill-rule:nonzero;fill:rgb(100%,0%,0%);fill-opacity:1;stroke-width:1;stroke-linecap:butt;stroke-linejoin:miter;stroke:rgb(0%,0%,0%);stroke-opacity:1;stroke-miterlimit:10;\" d=\"M 451.675781 166.515625 C 451.675781 169.183594 447.675781 169.183594 447.675781 166.515625 C 447.675781 163.851562 451.675781 163.851562 451.675781 166.515625 \"/>\n",
       "<path style=\"fill-rule:nonzero;fill:rgb(100%,0%,0%);fill-opacity:1;stroke-width:1;stroke-linecap:butt;stroke-linejoin:miter;stroke:rgb(0%,0%,0%);stroke-opacity:1;stroke-miterlimit:10;\" d=\"M 253.640625 315.015625 C 253.640625 317.679688 249.640625 317.679688 249.640625 315.015625 C 249.640625 312.347656 253.640625 312.347656 253.640625 315.015625 \"/>\n",
       "<path style=\"fill-rule:nonzero;fill:rgb(100%,0%,0%);fill-opacity:1;stroke-width:1;stroke-linecap:butt;stroke-linejoin:miter;stroke:rgb(0%,0%,0%);stroke-opacity:1;stroke-miterlimit:10;\" d=\"M 302.0625 251.980469 C 302.0625 254.648438 298.0625 254.648438 298.0625 251.980469 C 298.0625 249.3125 302.0625 249.3125 302.0625 251.980469 \"/>\n",
       "<path style=\"fill-rule:nonzero;fill:rgb(100%,0%,0%);fill-opacity:1;stroke-width:1;stroke-linecap:butt;stroke-linejoin:miter;stroke:rgb(0%,0%,0%);stroke-opacity:1;stroke-miterlimit:10;\" d=\"M 153.460938 122.960938 C 153.460938 125.625 149.460938 125.625 149.460938 122.960938 C 149.460938 120.292969 153.460938 120.292969 153.460938 122.960938 \"/>\n",
       "<path style=\"fill-rule:nonzero;fill:rgb(100%,0%,0%);fill-opacity:1;stroke-width:1;stroke-linecap:butt;stroke-linejoin:miter;stroke:rgb(0%,0%,0%);stroke-opacity:1;stroke-miterlimit:10;\" d=\"M 358 255.847656 C 358 258.515625 354 258.515625 354 255.847656 C 354 253.179688 358 253.179688 358 255.847656 \"/>\n",
       "<path style=\"fill-rule:nonzero;fill:rgb(100%,0%,0%);fill-opacity:1;stroke-width:1;stroke-linecap:butt;stroke-linejoin:miter;stroke:rgb(0%,0%,0%);stroke-opacity:1;stroke-miterlimit:10;\" d=\"M 307.984375 219.199219 C 307.984375 221.867188 303.984375 221.867188 303.984375 219.199219 C 303.984375 216.53125 307.984375 216.53125 307.984375 219.199219 \"/>\n",
       "<path style=\"fill-rule:nonzero;fill:rgb(100%,0%,0%);fill-opacity:1;stroke-width:1;stroke-linecap:butt;stroke-linejoin:miter;stroke:rgb(0%,0%,0%);stroke-opacity:1;stroke-miterlimit:10;\" d=\"M 322.554688 192.757812 C 322.554688 195.425781 318.554688 195.425781 318.554688 192.757812 C 318.554688 190.089844 322.554688 190.089844 322.554688 192.757812 \"/>\n",
       "<path style=\"fill-rule:nonzero;fill:rgb(100%,0%,0%);fill-opacity:1;stroke-width:1;stroke-linecap:butt;stroke-linejoin:miter;stroke:rgb(0%,0%,0%);stroke-opacity:1;stroke-miterlimit:10;\" d=\"M 332.601562 497.503906 C 332.601562 500.171875 328.601562 500.171875 328.601562 497.503906 C 328.601562 494.835938 332.601562 494.835938 332.601562 497.503906 \"/>\n",
       "<path style=\"fill-rule:nonzero;fill:rgb(100%,0%,0%);fill-opacity:1;stroke-width:1;stroke-linecap:butt;stroke-linejoin:miter;stroke:rgb(0%,0%,0%);stroke-opacity:1;stroke-miterlimit:10;\" d=\"M 343.261719 177.230469 C 343.261719 179.898438 339.261719 179.898438 339.261719 177.230469 C 339.261719 174.566406 343.261719 174.566406 343.261719 177.230469 \"/>\n",
       "<path style=\"fill-rule:nonzero;fill:rgb(100%,0%,0%);fill-opacity:1;stroke-width:1;stroke-linecap:butt;stroke-linejoin:miter;stroke:rgb(0%,0%,0%);stroke-opacity:1;stroke-miterlimit:10;\" d=\"M 366.515625 175.308594 C 366.515625 177.972656 362.515625 177.972656 362.515625 175.308594 C 362.515625 172.640625 366.515625 172.640625 366.515625 175.308594 \"/>\n",
       "<path style=\"fill-rule:nonzero;fill:rgb(100%,0%,0%);fill-opacity:1;stroke-width:1;stroke-linecap:butt;stroke-linejoin:miter;stroke:rgb(0%,0%,0%);stroke-opacity:1;stroke-miterlimit:10;\" d=\"M 413.273438 242.777344 C 413.273438 245.441406 409.273438 245.441406 409.273438 242.777344 C 409.273438 240.109375 413.273438 240.109375 413.273438 242.777344 \"/>\n",
       "</g>\n",
       "</svg>\n"
      ],
      "text/plain": [
       "<igraph.drawing.Plot at 0x7f0acd5e94a8>"
      ]
     },
     "execution_count": 45,
     "metadata": {
      "image/svg+xml": {
       "isolated": true
      }
     },
     "output_type": "execute_result"
    }
   ],
   "source": [
    "layout = g.layout_reingold_tilford_circular()\n",
    "#layout = g.layout_kamada_kawai()\n",
    "ig.plot(g, vertex_size=4, layout=layout)\n",
    "# https://igraph.org/python/doc/tutorial/tutorial.html"
   ]
  }
 ],
 "metadata": {
  "kernelspec": {
   "display_name": "global-py3",
   "language": "python",
   "name": "global-py3"
  },
  "language_info": {
   "codemirror_mode": {
    "name": "ipython",
    "version": 3
   },
   "file_extension": ".py",
   "mimetype": "text/x-python",
   "name": "python",
   "nbconvert_exporter": "python",
   "pygments_lexer": "ipython3",
   "version": "3.5.2"
  }
 },
 "nbformat": 4,
 "nbformat_minor": 2
}
