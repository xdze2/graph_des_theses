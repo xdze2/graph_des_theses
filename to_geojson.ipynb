{
 "cells": [
  {
   "cell_type": "code",
   "execution_count": 99,
   "metadata": {},
   "outputs": [],
   "source": [
    "import glob\n",
    "import json, geojson"
   ]
  },
  {
   "cell_type": "code",
   "execution_count": 102,
   "metadata": {},
   "outputs": [
    {
     "name": "stdout",
     "output_type": "stream",
     "text": [
      "['./json/225352079_95_coords.json', './json/241579996_126_coords.json']\n"
     ]
    }
   ],
   "source": [
    "filelist = glob.glob(\"./json/*coords.json\")\n",
    "print(filelist)"
   ]
  },
  {
   "cell_type": "code",
   "execution_count": 105,
   "metadata": {},
   "outputs": [
    {
     "name": "stdout",
     "output_type": "stream",
     "text": [
      "./json/241579996_126_coords.json\n",
      "27 chains\n",
      "126 thesis\n"
     ]
    }
   ],
   "source": [
    "# Loads files\n",
    "coords_file = filelist[1]\n",
    "print(coords_file)\n",
    "graph_file = coords_file.replace(\"_coords.json\", \"_chains.json\")\n",
    "thesis_file = coords_file.replace(\"_coords.json\", \"_thesis.json\")\n",
    "chaininfo_file = coords_file.replace(\"_coords.json\", \"_chaininfo.json\")\n",
    "\n",
    "\n",
    "with open(graph_file) as f:\n",
    "    chains = json.load(f)\n",
    "\n",
    "with open(chaininfo_file) as f:\n",
    "    chaininfo = json.load(f)\n",
    "    \n",
    "print(len(chains), 'chains')\n",
    "\n",
    "with open(coords_file) as f:\n",
    "    coords = json.load(f)\n",
    "    \n",
    "with open(thesis_file) as f:\n",
    "    thesis = json.load(f)\n",
    "    \n",
    "print(len(thesis), 'thesis')"
   ]
  },
  {
   "cell_type": "code",
   "execution_count": 107,
   "metadata": {},
   "outputs": [],
   "source": [
    "# Unit conversion\n",
    "x_min, x_max = min(x[0] for x in coords.values()), max(x[0] for x in coords.values())\n",
    "y_min, y_max = min(x[1] for x in coords.values()), max(x[1] for x in coords.values())\n",
    "\n",
    "lat_zero, lon_zero = 10, 10\n",
    "lat_range, lon_range = 40, 40\n",
    "\n",
    "x_range = x_max - x_min\n",
    "y_range = y_max - y_min\n",
    "\n",
    "def to_angles(x, y):\n",
    "    lat = (x - x_min)/x_range * lat_range + lat_zero\n",
    "    lon = (y - y_min)/y_range * lon_range + lon_zero\n",
    "    return lat, lon"
   ]
  },
  {
   "cell_type": "code",
   "execution_count": 108,
   "metadata": {},
   "outputs": [],
   "source": [
    "chain_lines = []\n",
    "for chain in chains:\n",
    "    points = [geojson.Point(to_angles(*coords[node])) for node in chain]\n",
    "    ls = geojson.LineString(points)\n",
    "    feat = geojson.Feature(geometry=ls, properties=chaininfo[chain[0]] ) \n",
    "    chain_lines.append(feat)\n",
    "\n",
    "line_collect = geojson.FeatureCollection(chain_lines)\n",
    "\n",
    "dump = geojson.dumps(line_collect)\n",
    "\n",
    "with open('lines.geojson', 'w') as f:\n",
    "    f.write(dump)"
   ]
  },
  {
   "cell_type": "markdown",
   "metadata": {},
   "source": [
    "Feature Collections:\n",
    "\n",
    "- lines: color, length\n",
    "- thesis: nbr of thesis (i.e. director or not), searched?\n",
    "\n",
    "Larger scale:\n",
    "- city\n",
    "- doctoral school"
   ]
  },
  {
   "cell_type": "code",
   "execution_count": 94,
   "metadata": {},
   "outputs": [],
   "source": [
    "th_features = []\n",
    "for th_id, info in thesis.items():\n",
    "    point = geojson.Point(to_angles(*coords[th_id]))\n",
    "    feat = geojson.Feature(geometry=point, properties=info)\n",
    "    th_features.append(feat)\n",
    "                           \n",
    "th_features = geojson.FeatureCollection(th_features)\n",
    "\n",
    "dump = geojson.dumps(th_features)\n",
    "\n",
    "with open('thesis.geojson', 'w') as f:\n",
    "    f.write(dump)"
   ]
  },
  {
   "cell_type": "code",
   "execution_count": 35,
   "metadata": {},
   "outputs": [
    {
     "data": {
      "text/plain": [
       "{\"geometry\": {\"coordinates\": [43.24, -1.532], \"type\": \"Point\"}, \"properties\": {\"country\": \"Spain\"}, \"type\": \"Feature\"}"
      ]
     },
     "execution_count": 35,
     "metadata": {},
     "output_type": "execute_result"
    }
   ],
   "source": [
    "geojson.Feature(geometry=my_point, properties={\"country\": \"Spain\"})  # doctest: +ELLIPSIS\n"
   ]
  },
  {
   "cell_type": "code",
   "execution_count": 32,
   "metadata": {},
   "outputs": [],
   "source": [
    "my_point = geojson.Feature?"
   ]
  },
  {
   "cell_type": "code",
   "execution_count": null,
   "metadata": {},
   "outputs": [],
   "source": [
    "my_point = geojson.Feature"
   ]
  },
  {
   "cell_type": "code",
   "execution_count": 30,
   "metadata": {},
   "outputs": [
    {
     "data": {
      "text/plain": [
       "{\"coordinates\": [43.24, -1.532], \"type\": \"Point\"}"
      ]
     },
     "execution_count": 30,
     "metadata": {},
     "output_type": "execute_result"
    }
   ],
   "source": [
    "my_point"
   ]
  },
  {
   "cell_type": "code",
   "execution_count": 43,
   "metadata": {},
   "outputs": [
    {
     "data": {
      "text/plain": [
       "-21.627344235174682"
      ]
     },
     "execution_count": 43,
     "metadata": {},
     "output_type": "execute_result"
    }
   ],
   "source": [
    "min(x[0] for x in coords.values())"
   ]
  },
  {
   "cell_type": "code",
   "execution_count": 46,
   "metadata": {},
   "outputs": [
    {
     "data": {
      "text/plain": [
       "(49.407422039761016, 34.808936156707944)"
      ]
     },
     "execution_count": 46,
     "metadata": {},
     "output_type": "execute_result"
    }
   ],
   "source": [
    "to_angles(23, 4)"
   ]
  },
  {
   "cell_type": "code",
   "execution_count": null,
   "metadata": {},
   "outputs": [],
   "source": []
  }
 ],
 "metadata": {
  "kernelspec": {
   "display_name": "py3-projects",
   "language": "python",
   "name": "py3-projects"
  },
  "language_info": {
   "codemirror_mode": {
    "name": "ipython",
    "version": 3
   },
   "file_extension": ".py",
   "mimetype": "text/x-python",
   "name": "python",
   "nbconvert_exporter": "python",
   "pygments_lexer": "ipython3",
   "version": "3.7.5"
  }
 },
 "nbformat": 4,
 "nbformat_minor": 2
}
